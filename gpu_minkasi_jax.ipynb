{
 "cells": [
  {
   "cell_type": "code",
   "execution_count": null,
   "id": "9b55ddf9",
   "metadata": {},
   "outputs": [],
   "source": [
    "import os\n",
    "import sys\n",
    "import time\n",
    "import glob\n",
    "import shutil\n",
    "import argparse as argp\n",
    "from functools import partial\n",
    "import yaml\n",
    "import numpy as np\n",
    "import minkasi\n",
    "#from jack_minkasi import minkasi\n",
    "from astropy.coordinates import Angle\n",
    "from astropy import units as u\n",
    "import minkasi_jax.presets_by_source as pbs\n",
    "from minkasi_jax.utils import *\n",
    "from minkasi_jax import helper\n",
    "from minkasi_jax.core import model\n",
    "\n",
    "import pickle as pk\n",
    "\n",
    "from matplotlib import pyplot as plt\n",
    "\n",
    "%load_ext autoreload\n",
    "%autoreload 2"
   ]
  },
  {
   "cell_type": "code",
   "execution_count": 15,
   "id": "5277d855",
   "metadata": {},
   "outputs": [],
   "source": [
    "from functools import partial\n",
    "import jax\n",
    "import jax.numpy as jnp\n",
    "from minkasi_jax.utils import fft_conv\n",
    "from minkasi_jax.structure import (\n",
    "    isobeta,\n",
    "    gnfw,\n",
    "    gaussian,\n",
    "    add_uniform,\n",
    "    add_exponential,\n",
    "    add_powerlaw,\n",
    "    add_powerlaw_cos,\n",
    ")\n",
    "\n",
    "import jax.lax as lax\n",
    "\n",
    "N_PAR_ISOBETA = 9\n",
    "N_PAR_GNFW = 14\n",
    "N_PAR_GAUSSIAN = 9\n",
    "N_PAR_UNIFORM = 8\n",
    "N_PAR_EXPONENTIAL = 14\n",
    "N_PAR_POWERLAW = 11\n",
    "\n",
    "ARGNUM_SHIFT = 11\n",
    "\n",
    "@partial(\n",
    "    jax.jit,\n",
    "    static_argnums=(1, 2, 3, 4, 5, 6, 7, 8),\n",
    ")\n",
    "def model(\n",
    "    xyz,\n",
    "    n_isobeta,\n",
    "    n_gnfw,\n",
    "    n_gaussian,\n",
    "    n_uniform,\n",
    "    n_exponential,\n",
    "    n_powerlaw,\n",
    "    n_powerlaw_cos,\n",
    "    dx,\n",
    "    beam,\n",
    "    idx,\n",
    "    idy,\n",
    "    *params\n",
    "):\n",
    "    \"\"\"\n",
    "    Generically create models with substructure.\n",
    "\n",
    "    Arguments:\n",
    "\n",
    "        xyz: Coordinate grid to compute profile on.\n",
    "\n",
    "        n_isobeta: Number of isobeta profiles to add.\n",
    "\n",
    "        n_gnfw: Number of gnfw profiles to add.\n",
    "\n",
    "        n_gaussian: Number of gaussians to add.\n",
    "\n",
    "        n_uniform: Number of uniform ellipsoids to add.\n",
    "\n",
    "        n_exponential: Number of exponential ellipsoids to add.\n",
    "\n",
    "        n_powerlaw: Number of power law ellipsoids to add.\n",
    "\n",
    "        n_powerlaw_cos: Number of radial power law ellipsoids with angulas cos term to add.\n",
    "\n",
    "        dx: Factor to scale by while integrating.\n",
    "            Since it is a global factor it can contain unit conversions.\n",
    "            Historically equal to y2K_RJ * dr * da * XMpc / me.\n",
    "\n",
    "        beam: Beam to convolve by, should be a 2d array.\n",
    "\n",
    "        idx: RA TOD in units of pixels.\n",
    "             Should have Dec stretch applied.\n",
    "\n",
    "        idy: Dec TOD in units of pixels.\n",
    "\n",
    "        params: 1D array of model parameters.\n",
    "\n",
    "    Returns:\n",
    "\n",
    "        model: The model with the specified substructure.\n",
    "    \"\"\"\n",
    "    params = jnp.array(params)\n",
    "    params = jnp.ravel(params)\n",
    "    isobetas = jnp.zeros((1, 1), dtype=float)\n",
    "    gnfws = jnp.zeros((1, 1), dtype=float)\n",
    "    gaussians = jnp.zeros((1, 1), dtype=float)\n",
    "    uniforms = jnp.zeros((1, 1), dtype=float)\n",
    "    exponentials = jnp.zeros((1, 1), dtype=float)\n",
    "    powerlaws = jnp.zeros((1, 1), dtype=float)\n",
    "\n",
    "    start = 0\n",
    "    if n_isobeta:\n",
    "        delta = n_isobeta * N_PAR_ISOBETA\n",
    "        #isobetas = lax.slice(params, (1, start), (1, start + delta)).reshape((n_isobeta, N_PAR_ISOBETA))\n",
    "        isobetas = params[start : start + delta].reshape((n_isobeta, N_PAR_ISOBETA))\n",
    "        start += delta\n",
    "    if n_gnfw:\n",
    "        delta = n_gnfw * N_PAR_GNFW\n",
    "        gnfws = params[start : start + delta].reshape((n_gnfw, N_PAR_GNFW))\n",
    "        start += delta\n",
    "    if n_gaussian:\n",
    "        delta = n_gaussian * N_PAR_GAUSSIAN\n",
    "        gaussians = params[start : start + delta].reshape((n_gaussian, N_PAR_GAUSSIAN))\n",
    "        start += delta\n",
    "    if n_uniform:\n",
    "        delta = n_uniform * N_PAR_UNIFORM\n",
    "        uniforms = params[start : start + delta].reshape((n_uniform, N_PAR_UNIFORM))\n",
    "        start += delta\n",
    "    if n_exponential:\n",
    "        delta = n_exponential * N_PAR_EXPONENTIAL\n",
    "        exponentials = params[start : start + delta].reshape(\n",
    "            (n_exponential, N_PAR_EXPONENTIAL)\n",
    "        )\n",
    "        start += delta\n",
    "    if n_powerlaw:\n",
    "        delta = n_powerlaw * N_PAR_POWERLAW\n",
    "        powerlaws = params[start : start + delta].reshape((n_powerlaw, N_PAR_POWERLAW))\n",
    "        start += delta\n",
    "    if n_powerlaw_cos:\n",
    "        delta = n_powerlaw_cos * N_PAR_POWERLAW\n",
    "        powerlaw_coses = params[start : start + delta].reshape(\n",
    "            (n_powerlaw_cos, N_PAR_POWERLAW)\n",
    "        )\n",
    "        start += delta\n",
    "\n",
    "    pressure = jnp.zeros((xyz[0].shape[1], xyz[1].shape[0], xyz[2].shape[2]))\n",
    "    for i in range(n_isobeta):\n",
    "        pressure = jnp.add(pressure, isobeta(*isobetas[i], xyz))\n",
    "\n",
    "    for i in range(n_gnfw):\n",
    "        pressure = jnp.add(pressure, gnfw(*gnfws[i], xyz))\n",
    "\n",
    "    for i in range(n_gaussian):\n",
    "        pressure = jnp.add(pressure, gaussian(*gaussians[i], xyz))\n",
    "\n",
    "    for i in range(n_uniform):\n",
    "        pressure = add_uniform(pressure, xyz, *uniforms[i])\n",
    "\n",
    "    for i in range(n_exponential):\n",
    "        pressure = add_exponential(pressure, xyz, *exponentials[i])\n",
    "\n",
    "    for i in range(n_powerlaw):\n",
    "        pressure = add_powerlaw(pressure, xyz, *powerlaws[i])\n",
    "\n",
    "    for i in range(n_powerlaw_cos):\n",
    "        pressure = add_powerlaw_cos(pressure, xyz, *powerlaw_coses[i])\n",
    "\n",
    "    # Integrate along line of site\n",
    "    ip = jnp.trapz(pressure, dx=dx, axis=-1)\n",
    "\n",
    "    bound0, bound1 = int((ip.shape[0] - beam.shape[0]) / 2), int(\n",
    "        (ip.shape[1] - beam.shape[1]) / 2\n",
    "    )\n",
    "    beam = jnp.pad(\n",
    "        beam,\n",
    "        (\n",
    "            (bound0, ip.shape[0] - beam.shape[0] - bound0),\n",
    "            (bound1, ip.shape[1] - beam.shape[1] - bound1),\n",
    "        ),\n",
    "    )\n",
    "\n",
    "    ip = fft_conv(ip, beam)\n",
    "\n",
    "    # return jsp.ndimage.map_coordinates(ip, (idy, idx), order=0)\n",
    "    return ip[idy.ravel(), idx.ravel()].reshape(idx.shape)"
   ]
  },
  {
   "cell_type": "code",
   "execution_count": null,
   "id": "ab291510",
   "metadata": {},
   "outputs": [],
   "source": [
    "def print_once(*args):\n",
    "    \"\"\"\n",
    "    Helper function to print only once when running with MPI.\n",
    "    Only the rank 0 process will print.\n",
    "\n",
    "    Arguments:\n",
    "\n",
    "        *args: Arguments to pass to print.\n",
    "    \"\"\"\n",
    "    if minkasi.myrank == 0:\n",
    "        print(*args)\n",
    "        sys.stdout.flush()\n"
   ]
  },
  {
   "cell_type": "code",
   "execution_count": null,
   "id": "c6095a4d-5707-4148-a021-95530eaa9964",
   "metadata": {},
   "outputs": [],
   "source": [
    "def my_make_grid(r_map, dr):\n",
    "    \"\"\"\n",
    "    Make coordinate grids to build models in.\n",
    "    All grids are sparse and are int(r_map / dr) in x and y and 2xint(r_map / dr) in z.\n",
    "\n",
    "    Arguments:\n",
    "\n",
    "        r_map: Size of grid radially.\n",
    "\n",
    "        dr: Grid resolution, should be in same units as r_map.\n",
    "\n",
    "    Returns:\n",
    "\n",
    "        x: Grid of x coordinates in same units as r_map.\n",
    "\n",
    "        y: Grid of y coordinates in same units as r_map\n",
    "\n",
    "        z: Grid of z coordinates in same units as r_map\n",
    "    \"\"\"\n",
    "    # Make grid with resolution dr and size r_map\n",
    "    x = jnp.linspace(-1 * r_map, r_map, int(r_map / dr))\n",
    "    y = jnp.linspace(-1 * r_map, r_map, int(r_map / dr))\n",
    "    z = jnp.linspace(-1 * r_map, r_map, 2 * int(r_map / dr))\n",
    "\n",
    "    return jnp.meshgrid(x, y, z, sparse=True, indexing=\"xy\")"
   ]
  },
  {
   "cell_type": "code",
   "execution_count": null,
   "id": "beb02d93",
   "metadata": {},
   "outputs": [],
   "source": [
    "with open('/home/r/rbond/jorlo/dev/minkasi_jax/configs/ms0735_noSub.yaml', \"r\") as file:\n",
    "    cfg = yaml.safe_load(file)\n",
    "#with open('/home/r/rbond/jorlo/dev/minkasi_jax/configs/ms0735/ms0735.yaml', \"r\") as file:\n",
    "#    cfg = yaml.safe_load(file)\n",
    "fit = True\n",
    "\n",
    "# Setup coordindate stuff\n",
    "z = eval(str(cfg[\"coords\"][\"z\"]))\n",
    "da = get_da(z)\n",
    "r_map = eval(str(cfg[\"coords\"][\"r_map\"]))\n",
    "dr = eval(str(cfg[\"coords\"][\"dr\"]))\n",
    "xyz = my_make_grid(r_map, dr)\n",
    "coord_conv = eval(str(cfg[\"coords\"][\"conv_factor\"]))\n",
    "x0 = eval(str(cfg[\"coords\"][\"x0\"]))\n",
    "y0 = eval(str(cfg[\"coords\"][\"y0\"]))\n",
    "\n",
    "# Load TODs\n",
    "tod_names = glob.glob(os.path.join(cfg[\"paths\"][\"tods\"], cfg[\"paths\"][\"glob\"]))\n",
    "bad_tod, addtag = pbs.get_bad_tods(\n",
    "    cfg[\"cluster\"][\"name\"], ndo=cfg[\"paths\"][\"ndo\"], odo=cfg[\"paths\"][\"odo\"]\n",
    ")\n",
    "tod_names = minkasi.cut_blacklist(tod_names, bad_tod)\n",
    "tod_names.sort()\n",
    "tod_names = tod_names[minkasi.myrank :: minkasi.nproc]\n",
    "print('tod #: ', len(tod_names))\n",
    "minkasi.barrier()  # Is this needed?\n"
   ]
  },
  {
   "cell_type": "code",
   "execution_count": 18,
   "id": "8d7c1aa7",
   "metadata": {},
   "outputs": [
    {
     "name": "stdout",
     "output_type": "stream",
     "text": [
      "WARNING - calinfo information not found in fits file header - to track JytoK etc you may need to reprocess the fits files using mustangidl > revision 932\n",
      "nsamp and ndet are  182 24707.0 4496674  on  /scratch/r/rbond/jorlo/MS0735/TS_EaCMS0f0_51_5_Oct_2021/Signal_TOD-AGBT19A_092_01-s12.fits with lims  115.13548797090777 115.79331715025005 74.15935947949289 74.334082548651\n",
      "truncating from  24707  to  24697\n",
      "WARNING - calinfo information not found in fits file header - to track JytoK etc you may need to reprocess the fits files using mustangidl > revision 932\n",
      "nsamp and ndet are  179 24708.0 4422732  on  /scratch/r/rbond/jorlo/MS0735/TS_EaCMS0f0_51_5_Oct_2021/Signal_TOD-AGBT19A_092_01-s13.fits with lims  115.13373944248026 115.79094024441889 74.15967366819471 74.33531881289076\n",
      "truncating from  24708  to  24697\n",
      "WARNING - calinfo information not found in fits file header - to track JytoK etc you may need to reprocess the fits files using mustangidl > revision 932\n",
      "nsamp and ndet are  184 24708.0 4546272  on  /scratch/r/rbond/jorlo/MS0735/TS_EaCMS0f0_51_5_Oct_2021/Signal_TOD-AGBT19A_092_01-s14.fits with lims  115.1330017820499 115.7887955650195 74.15989906443733 74.33552371856587\n",
      "truncating from  24708  to  24697\n",
      "WARNING - calinfo information not found in fits file header - to track JytoK etc you may need to reprocess the fits files using mustangidl > revision 932\n",
      "nsamp and ndet are  180 24708.0 4447440  on  /scratch/r/rbond/jorlo/MS0735/TS_EaCMS0f0_51_5_Oct_2021/Signal_TOD-AGBT19A_092_01-s15.fits with lims  115.13408095193876 115.79137737652576 74.15940046062792 74.3356056808359\n",
      "truncating from  24708  to  24697\n",
      "WARNING - calinfo information not found in fits file header - to track JytoK etc you may need to reprocess the fits files using mustangidl > revision 932\n",
      "nsamp and ndet are  177 24708.0 4373316  on  /scratch/r/rbond/jorlo/MS0735/TS_EaCMS0f0_51_5_Oct_2021/Signal_TOD-AGBT19A_092_01-s17.fits with lims  115.13873914095271 115.78339971557519 74.15887453606183 74.33706051112911\n",
      "truncating from  24708  to  24697\n",
      "WARNING - calinfo information not found in fits file header - to track JytoK etc you may need to reprocess the fits files using mustangidl > revision 932\n",
      "nsamp and ndet are  182 24707.0 4496674  on  /scratch/r/rbond/jorlo/MS0735/TS_EaCMS0f0_51_5_Oct_2021/Signal_TOD-AGBT19A_092_01-s12.fits with lims  115.13548797090777 115.79331715025005 74.15935947949289 74.334082548651\n",
      "truncating from  24707  to  24697\n",
      "truncating from  2469  to  2465\n",
      "WARNING - calinfo information not found in fits file header - to track JytoK etc you may need to reprocess the fits files using mustangidl > revision 932\n",
      "nsamp and ndet are  179 24708.0 4422732  on  /scratch/r/rbond/jorlo/MS0735/TS_EaCMS0f0_51_5_Oct_2021/Signal_TOD-AGBT19A_092_01-s13.fits with lims  115.13373944248026 115.79094024441889 74.15967366819471 74.33531881289076\n",
      "truncating from  24708  to  24697\n",
      "truncating from  2469  to  2465\n",
      "WARNING - calinfo information not found in fits file header - to track JytoK etc you may need to reprocess the fits files using mustangidl > revision 932\n",
      "nsamp and ndet are  184 24708.0 4546272  on  /scratch/r/rbond/jorlo/MS0735/TS_EaCMS0f0_51_5_Oct_2021/Signal_TOD-AGBT19A_092_01-s14.fits with lims  115.1330017820499 115.7887955650195 74.15989906443733 74.33552371856587\n",
      "truncating from  24708  to  24697\n",
      "truncating from  2469  to  2465\n",
      "WARNING - calinfo information not found in fits file header - to track JytoK etc you may need to reprocess the fits files using mustangidl > revision 932\n",
      "nsamp and ndet are  180 24708.0 4447440  on  /scratch/r/rbond/jorlo/MS0735/TS_EaCMS0f0_51_5_Oct_2021/Signal_TOD-AGBT19A_092_01-s15.fits with lims  115.13408095193876 115.79137737652576 74.15940046062792 74.3356056808359\n",
      "truncating from  24708  to  24697\n",
      "truncating from  2469  to  2465\n",
      "WARNING - calinfo information not found in fits file header - to track JytoK etc you may need to reprocess the fits files using mustangidl > revision 932\n",
      "nsamp and ndet are  177 24708.0 4373316  on  /scratch/r/rbond/jorlo/MS0735/TS_EaCMS0f0_51_5_Oct_2021/Signal_TOD-AGBT19A_092_01-s17.fits with lims  115.13873914095271 115.78339971557519 74.15887453606183 74.33706051112911\n",
      "truncating from  24708  to  24697\n",
      "truncating from  2469  to  2465\n"
     ]
    }
   ],
   "source": [
    "todvec = minkasi.TodVec()\n",
    "n_tod = 10\n",
    "for i, fname in enumerate(tod_names):\n",
    "    if i >= n_tod: break\n",
    "    dat = minkasi.read_tod_from_fits(fname)\n",
    "    minkasi.truncate_tod(dat)\n",
    "\n",
    "    \n",
    "    # figure out a guess at common mode and (assumed) linear detector drifts/offset\n",
    "    # drifts/offsets are removed, which is important for mode finding.  CM is *not* removed.\n",
    "    dd, pred2, cm = minkasi.fit_cm_plus_poly(dat[\"dat_calib\"], cm_ord=3, full_out=True)\n",
    "    dat[\"dat_calib\"] = dd\n",
    "    dat[\"pred2\"] = pred2\n",
    "    dat[\"cm\"] = cm\n",
    "\n",
    "    # Make pixelized RA/Dec TODs\n",
    "    idx, idy = tod_to_index(dat[\"dx\"], dat[\"dy\"], x0, y0, r_map, dr, coord_conv)\n",
    "    idu, id_inv = np.unique(\n",
    "        np.vstack((idx.ravel(), idy.ravel())), axis=1, return_inverse=True\n",
    "    )\n",
    "    dat[\"idx\"] = idu[0]\n",
    "    dat[\"idy\"] = idu[1]\n",
    "    dat[\"id_inv\"] = id_inv\n",
    "    dat[\"model_idx\"] = idx\n",
    "    dat[\"model_idy\"] = idy\n",
    "\n",
    "    tod = minkasi.Tod(dat)\n",
    "    todvec.add_tod(tod)\n",
    "\n",
    "todvec_downsamp = minkasi.TodVec()\n",
    "for i, fname in enumerate(tod_names):\n",
    "    if i >= n_tod: break\n",
    "    dat = minkasi.read_tod_from_fits(fname)\n",
    "    minkasi.truncate_tod(dat)\n",
    "\n",
    "    minkasi.downsample_tod(dat)\n",
    "    minkasi.truncate_tod(dat)\n",
    "    \n",
    "    # figure out a guess at common mode and (assumed) linear detector drifts/offset\n",
    "    # drifts/offsets are removed, which is important for mode finding.  CM is *not* removed.\n",
    "    dd, pred2, cm = minkasi.fit_cm_plus_poly(dat[\"dat_calib\"], cm_ord=3, full_out=True)\n",
    "    dat[\"dat_calib\"] = dd\n",
    "    dat[\"pred2\"] = pred2\n",
    "    dat[\"cm\"] = cm\n",
    "\n",
    "    # Make pixelized RA/Dec TODs\n",
    "    idx, idy = tod_to_index(dat[\"dx\"], dat[\"dy\"], x0, y0, r_map, dr, coord_conv)\n",
    "    idu, id_inv = np.unique(\n",
    "        np.vstack((idx.ravel(), idy.ravel())), axis=1, return_inverse=True\n",
    "    )\n",
    "    dat[\"idx\"] = idu[0]\n",
    "    dat[\"idy\"] = idu[1]\n",
    "    dat[\"id_inv\"] = id_inv\n",
    "    dat[\"model_idx\"] = idx\n",
    "    dat[\"model_idy\"] = idy\n",
    "\n",
    "    tod = minkasi.Tod(dat)\n",
    "    todvec_downsamp.add_tod(tod)\n",
    "\n"
   ]
  },
  {
   "cell_type": "code",
   "execution_count": 19,
   "id": "17bba0c1",
   "metadata": {},
   "outputs": [],
   "source": [
    "lims = todvec.lims()\n",
    "pixsize = 2.0 / 3600 * np.pi / 180\n",
    "skymap = minkasi.SkyMap(lims, pixsize)\n",
    "\n",
    "Te = eval(str(cfg[\"cluster\"][\"Te\"]))\n",
    "freq = eval(str(cfg[\"cluster\"][\"freq\"]))\n",
    "beam = beam_double_gauss(\n",
    "    dr,\n",
    "    eval(str(cfg[\"beam\"][\"fwhm1\"])),\n",
    "    eval(str(cfg[\"beam\"][\"amp1\"])),\n",
    "    eval(str(cfg[\"beam\"][\"fwhm2\"])),\n",
    "    eval(str(cfg[\"beam\"][\"amp2\"])),\n",
    ")\n",
    "\n",
    "funs = []\n",
    "npars = []\n",
    "labels = []\n",
    "params = []\n",
    "to_fit = []\n",
    "priors = []\n",
    "prior_vals = []\n",
    "re_eval = []\n",
    "par_idx = {}\n",
    "for cur_model in cfg[\"models\"].values():\n",
    "    npars.append(len(cur_model[\"parameters\"]))\n",
    "    for name, par in cur_model[\"parameters\"].items():\n",
    "        labels.append(name)\n",
    "        par_idx[name] = len(params)\n",
    "        params.append(eval(str(par[\"value\"])))\n",
    "        to_fit.append(eval(str(par[\"to_fit\"])))\n",
    "        if \"priors\" in par:\n",
    "            priors.append(par[\"priors\"][\"type\"])\n",
    "            prior_vals.append(eval(str(par[\"priors\"][\"value\"])))\n",
    "        else:\n",
    "            priors.append(None)\n",
    "            prior_vals.append(None)\n",
    "        if \"re_eval\" in par and par[\"re_eval\"]:\n",
    "            re_eval.append(str(par[\"value\"]))\n",
    "        else:\n",
    "            re_eval.append(False)\n",
    "        2.627 * da, funs.append(eval(str(cur_model[\"func\"])))\n",
    "\n",
    "npars = np.array(npars)\n",
    "labels = np.array(labels)\n",
    "params = np.array(params)\n",
    "to_fit = np.array(to_fit, dtype=bool)\n",
    "priors = np.array(priors)\n",
    "\n",
    "noise_class = eval(str(cfg[\"minkasi\"][\"noise\"][\"class\"]))\n",
    "noise_args = eval(str(cfg[\"minkasi\"][\"noise\"][\"args\"]))\n",
    "noise_kwargs = eval(str(cfg[\"minkasi\"][\"noise\"][\"kwargs\"]))"
   ]
  },
  {
   "cell_type": "code",
   "execution_count": null,
   "id": "1e7635ce",
   "metadata": {},
   "outputs": [
    {
     "name": "stdout",
     "output_type": "stream",
     "text": [
      "got svd\n",
      "got svd\n",
      "got svd\n",
      "got svd\n"
     ]
    }
   ],
   "source": [
    "#TODO: Implement tsBowl here \n",
    "if \"bowling\" in cfg:\n",
    "    sub_poly = cfg[\"bowling\"][\"sub_poly\"]\n",
    "\n",
    "sim = False #This script is for simming, the option to turn off is here only for debugging\n",
    "#TODO: Write this to use minkasi_jax.core.model\n",
    "for i, tod in enumerate(todvec.tods):\n",
    "        \n",
    "    ipix = skymap.get_pix(tod)\n",
    "    tod.info[\"ipix\"] = ipix\n",
    "    tod.set_noise(noise_class, *noise_args, **noise_kwargs)\n"
   ]
  },
  {
   "cell_type": "code",
   "execution_count": null,
   "id": "cbb8f357-e7b8-44e8-ac26-1120274cf91e",
   "metadata": {},
   "outputs": [],
   "source": [
    "for i, tod in enumerate(todvec_downsamp.tods):\n",
    "    \n",
    "    temp_tod = tod.copy()\n",
    "    ipix = skymap.get_pix(tod)\n",
    "    tod.info[\"ipix\"] = ipix\n",
    "    tod.set_noise(noise_class, *noise_args, **noise_kwargs)\n"
   ]
  },
  {
   "cell_type": "code",
   "execution_count": 9,
   "id": "0ff79579",
   "metadata": {},
   "outputs": [
    {
     "name": "stdout",
     "output_type": "stream",
     "text": [
      "Outputs can be found in /scratch/r/rbond/jorlo/Reductions/MS0735/double_isobeta_shock_bubbles-gauss/r1=r3/amp_1-amp_2-shock_val-b_ne_sup-b_sw_sup-sigma-amp\n"
     ]
    }
   ],
   "source": [
    "# Figure out output\n",
    "outdir = os.path.join(\n",
    "    cfg[\"paths\"][\"outroot\"],\n",
    "    cfg[\"cluster\"][\"name\"],\n",
    "    \"-\".join(mn for mn in cfg[\"models\"].keys()),\n",
    ")\n",
    "if \"subdir\" in cfg[\"paths\"]:\n",
    "    outdir = os.path.join(outdir, cfg[\"paths\"][\"subdir\"])\n",
    "if fit:\n",
    "    outdir = os.path.join(outdir, \"-\".join(l for l in labels[to_fit]))\n",
    "else:\n",
    "    outdir = os.path.join(outdir, \"not_fit\")\n",
    "if sub_poly:\n",
    "    outdir += \"-\" + method + \"_\" + str(degree)\n",
    "if sim:\n",
    "    outdir += \"-\" + \"sim\"\n",
    "print_once(\"Outputs can be found in\", outdir)"
   ]
  },
  {
   "cell_type": "markdown",
   "id": "955a6203",
   "metadata": {},
   "source": [
    "# Timing getchis"
   ]
  },
  {
   "cell_type": "code",
   "execution_count": 21,
   "id": "cfff7c1a",
   "metadata": {},
   "outputs": [],
   "source": [
    "from minkasi import mkfftw\n",
    "import jax.scipy as jsp\n",
    "import scipy as sp\n",
    "\n",
    "\n",
    "def prep_data(dat, pred, v, weight):\n",
    "    resid = dat - pred\n",
    "    pred = pred.at[:,0].set((0.5*pred)[:,0])\n",
    "    pred = pred.at[:,-1].set((0.5*pred)[:,-1])\n",
    "    pred_rot = jnp.dot(v,pred)\n",
    "\n",
    "    return pred_rot\n",
    "\n",
    "jprep = jax.jit(prep_data)\n",
    "\n",
    "def calc_chi_from_ft(predft, weight):\n",
    "    nn=predft.shape[1]\n",
    "    chisq = jnp.sum(weight[:,:nn]*predft**2)\n",
    "    return chisq\n",
    "\n",
    "jcalc_chi_from_ft = jax.jit(calc_chi_from_ft)\n",
    "\n",
    "def get_chis(dat, pred, v, weight):\n",
    "    resid = dat - pred\n",
    "    resid = resid.at[:,0].set((jnp.sqrt(0.5)*resid)[:,0])\n",
    "    resid = resid.at[:,-1].set((jnp.sqrt(0.5)*resid)[:,-1])\n",
    "    resid_rot = jnp.dot(v,resid)\n",
    "    tmp=jnp.hstack([resid_rot,jnp.fliplr(resid_rot[:,1:-1])]) #mirror pred so we can do dct of first kind\n",
    "    predft=jnp.real(jnp.fft.rfft(tmp,axis=1))\n",
    "    nn=predft.shape[1]\n",
    "    chisq = jnp.sum(weight[:,:nn]*predft**2)    \n",
    "    return chisq\n",
    "\n",
    "def vget_chis(dat, pred, weight):\n",
    "    print(dat.shape, pred.shape, v.shape, weight.shape)\n",
    "    resid = dat - pred\n",
    "    pred = pred.at[0].set((0.5*pred)[0])\n",
    "    pred = pred.at[-1].set((0.5*pred)[-1])\n",
    "    pred_rot = jnp.dot(v,pred)\n",
    "    predft = jnp.fft.rfft(pred_rot)\n",
    "    nn=predft.shape[1]\n",
    "    chisq = jnp.sum(weight[:,:nn]*predft**2)\n",
    "    return chisq\n",
    "\n",
    "jget_chis = jax.jit(get_chis)\n",
    "\n"
   ]
  },
  {
   "cell_type": "code",
   "execution_count": 11,
   "id": "f41fadb8",
   "metadata": {},
   "outputs": [],
   "source": [
    "new_pars = jnp.array([0.0,0.0,0.0,.341,.249,.341,np.deg2rad(97),0.98,1e-5,\n",
    "                      0.0,0.0,0.0,.167,.122,.167,np.deg2rad(97),8.93,1e-5])    "
   ]
  },
  {
   "cell_type": "code",
   "execution_count": 12,
   "id": "04e5a03a",
   "metadata": {},
   "outputs": [],
   "source": [
    "weight = tod.noise.mywt\n",
    "v = tod.noise.v\n",
    "idx, idy = tod.info[\"model_idx\"], tod.info[\"model_idy\"]\n",
    "pred = model(xyz, 2, 0, 0, 0, 0, 0, 0, float(y2K_RJ(freq, Te)*dr*XMpc/me), beam, idx, idy, new_pars)\n",
    "dat = tod.info[\"dat_calib\"]"
   ]
  },
  {
   "cell_type": "code",
   "execution_count": 13,
   "id": "5c5a094e",
   "metadata": {
    "scrolled": true
   },
   "outputs": [
    {
     "data": {
      "text/plain": [
       "DeviceArray(2.17863338e-06, dtype=float64)"
      ]
     },
     "execution_count": 13,
     "metadata": {},
     "output_type": "execute_result"
    }
   ],
   "source": [
    "get_chis(dat, pred, v, weight)"
   ]
  },
  {
   "cell_type": "code",
   "execution_count": 14,
   "id": "1dafbc56",
   "metadata": {},
   "outputs": [
    {
     "name": "stdout",
     "output_type": "stream",
     "text": [
      "scipy execution time [ms]:\t 79.1698169708252\n",
      "mkfftw execution time [ms]:\t 4.795582294464111\n",
      "jdcnt execution time [ms]:\t 3.7903666496276855\n",
      "jax_r2r execution time [ms]:\t 3.6864352226257324\n"
     ]
    }
   ],
   "source": [
    "data = np.random.rand(10000)\n",
    "import scipy\n",
    "\n",
    "R = 100\n",
    "\n",
    "ts = time.time()\n",
    "for i in range(R):\n",
    "    scipy.fft.dct(dat, type=1)\n",
    "print('scipy execution time [ms]:\\t', (time.time()-ts)/R * 1000)\n",
    "\n",
    "R = 100\n",
    "\n",
    "ts = time.time()\n",
    "for i in range(R):\n",
    "    mkfftw.fft_r2r(dat)\n",
    "print('mkfftw execution time [ms]:\\t', (time.time()-ts)/R * 1000)\n",
    "\n",
    "jdcnt = jax.jit(jsp.fft.dct)\n",
    "jdcnt(dat)\n",
    "\n",
    "ts = time.time()\n",
    "for i in range(R):\n",
    "    jdcnt(dat)\n",
    "print('jdcnt execution time [ms]:\\t', (time.time()-ts)/R * 1000)\n",
    "\n",
    "\n",
    "def jax_r2r(dat):\n",
    "    tmp=jnp.hstack([dat,jnp.fliplr(dat[:,1:-1])]) #mirror pred so we can do dct of second kind\n",
    "    predft=jnp.real(jnp.fft.rfft(tmp,axis=1))\n",
    "    return predft\n",
    "\n",
    "jjax_r2r = jax.jit(jax_r2r)\n",
    "jjax_r2r(dat)\n",
    "\n",
    "ts = time.time()\n",
    "for i in range(R):\n",
    "    jjax_r2r(dat)\n",
    "\n",
    "print('jax_r2r execution time [ms]:\\t', (time.time()-ts)/R * 1000)\n",
    "\n"
   ]
  },
  {
   "cell_type": "code",
   "execution_count": 15,
   "id": "de31f020",
   "metadata": {},
   "outputs": [
    {
     "name": "stdout",
     "output_type": "stream",
     "text": [
      "jget_chis execution time [ms]:\t 18.26725482940674\n"
     ]
    }
   ],
   "source": [
    "R = 100\n",
    "\n",
    "ts = time.time()\n",
    "for i in range(R):\n",
    "    #pred_rot = jprep(dat, pred, v, weight)\n",
    "    #predft = sp.fft.dct(np.array(pred_rot), type=1)\n",
    "    #chisq = jcalc_chi_from_ft(predft, weight)\n",
    "    get_chis(dat, pred, v, weight)\n",
    "print('jget_chis execution time [ms]:\\t', (time.time()-ts)/R * 1000)\n"
   ]
  },
  {
   "cell_type": "code",
   "execution_count": 16,
   "id": "716cd7b6",
   "metadata": {},
   "outputs": [
    {
     "data": {
      "text/plain": [
       "DeviceArray(2.17863338e-06, dtype=float64)"
      ]
     },
     "execution_count": 16,
     "metadata": {},
     "output_type": "execute_result"
    }
   ],
   "source": [
    "jget_chis = jax.jit(get_chis)\n",
    "jget_chis(dat, pred, v, weight)"
   ]
  },
  {
   "cell_type": "code",
   "execution_count": 17,
   "id": "b10c99a3",
   "metadata": {},
   "outputs": [
    {
     "name": "stdout",
     "output_type": "stream",
     "text": [
      "jget_chis execution time [ms]:\t 6.942274570465088\n"
     ]
    }
   ],
   "source": [
    "R = 100\n",
    "\n",
    "ts = time.time()\n",
    "for i in range(R):\n",
    "    jget_chis(dat, pred, v, weight).block_until_ready()\n",
    "print('jget_chis execution time [ms]:\\t', (time.time()-ts)/R * 1000)\n"
   ]
  },
  {
   "cell_type": "code",
   "execution_count": 18,
   "id": "2541b521",
   "metadata": {},
   "outputs": [
    {
     "ename": "NameError",
     "evalue": "name 'sample' is not defined",
     "output_type": "error",
     "traceback": [
      "\u001b[0;31m---------------------------------------------------------------------------\u001b[0m",
      "\u001b[0;31mNameError\u001b[0m                                 Traceback (most recent call last)",
      "Cell \u001b[0;32mIn[18], line 1\u001b[0m\n\u001b[0;32m----> 1\u001b[0m jsample \u001b[38;5;241m=\u001b[39m jax\u001b[38;5;241m.\u001b[39mjit(\u001b[43msample\u001b[49m)\n\u001b[1;32m      3\u001b[0m tods \u001b[38;5;241m=\u001b[39m []\n\u001b[1;32m      5\u001b[0m \u001b[38;5;28;01mfor\u001b[39;00m tod \u001b[38;5;129;01min\u001b[39;00m todvec\u001b[38;5;241m.\u001b[39mtods:\n",
      "\u001b[0;31mNameError\u001b[0m: name 'sample' is not defined"
     ]
    }
   ],
   "source": [
    "jsample = jax.jit(sample)\n",
    "\n",
    "tods = []\n",
    "\n",
    "for tod in todvec.tods:\n",
    "    tods.append([tod.info[\"model_idx\"], tod.info[\"model_idy\"], tod.info[\"dat_calib\"], tod.noise.v, tod.noise.mywt])\n",
    "    \n",
    "\n",
    "sample(tods)"
   ]
  },
  {
   "cell_type": "code",
   "execution_count": null,
   "id": "f4cd045a",
   "metadata": {},
   "outputs": [],
   "source": [
    "times = np.zeros(20);\n",
    "\n",
    "for i in range(len(times)):\n",
    "    \n",
    "    R = 100\n",
    "    \n",
    "    ts = time.time()\n",
    "    for j in range(R):\n",
    "        jsample(tods[:i]).block_until_ready()\n",
    "    times[i] = (time.time()-ts)/R * 1000\n"
   ]
  },
  {
   "cell_type": "code",
   "execution_count": null,
   "id": "c442a2ff",
   "metadata": {},
   "outputs": [],
   "source": [
    "plt.plot(times)"
   ]
  },
  {
   "cell_type": "code",
   "execution_count": null,
   "id": "a649d2f6",
   "metadata": {},
   "outputs": [],
   "source": []
  },
  {
   "cell_type": "code",
   "execution_count": null,
   "id": "25796d18",
   "metadata": {},
   "outputs": [],
   "source": []
  },
  {
   "cell_type": "code",
   "execution_count": null,
   "id": "3fa8398b",
   "metadata": {},
   "outputs": [],
   "source": [
    "temp_tod = np.array(tod.info[\"dat_calib\"])\n",
    "idx, idy = tod.info[\"model_idx\"], tod.info[\"model_idy\"]\n",
    "#pred = model(xyz, 2, 0, 0, 0, 0, 0, 0, float(y2K_RJ(freq, Te)*dr*XMpc/me), beam, idx, idy, new_pars)\n",
    "jfft = jax.jit(jnp.fft.rfft)\n",
    " \n",
    "def just_fft(tod, pred):\n",
    "    resid = tod - pred\n",
    "    _ = jfft(resid)\n",
    "vfft = jax.vmap(just_fft)\n",
    "jvfft = jax.jit(vfft)\n",
    "jjust_fft = jax.jit(just_fft)"
   ]
  },
  {
   "cell_type": "code",
   "execution_count": null,
   "id": "7ccd3f99",
   "metadata": {},
   "outputs": [],
   "source": [
    "fake_tod = np.random.rand(150, 10000)\n",
    "fake_pred = np.random.rand(150, 10000)\n"
   ]
  },
  {
   "cell_type": "code",
   "execution_count": null,
   "id": "4451da24",
   "metadata": {},
   "outputs": [],
   "source": [
    "#No vmap speed up for fft\n",
    "\n",
    "R = 100\n",
    "\n",
    "ts = time.time()\n",
    "for i in range(R):\n",
    "    jvfft(fake_tod, fake_pred)\n",
    "print('vmap fft execution time [ms]:\\t', (time.time()-ts)/R * 1000)\n",
    "\n",
    "ts = time.time()\n",
    "for i in range(R):\n",
    "    jjust_fft(fake_tod, fake_pred)\n",
    "print('vmap fft execution time [ms]:\\t', (time.time()-ts)/R * 1000)"
   ]
  },
  {
   "cell_type": "code",
   "execution_count": null,
   "id": "c4e34a8a",
   "metadata": {},
   "outputs": [],
   "source": [
    "\n",
    "                      #0.0,0.0,0.0,.320,.320,.320,np.deg2rad(97),0.26])\n",
    "\n",
    "idx, idy = np.array([]), np.array([])\n",
    "\n",
    "for tod in todvec.tods:\n",
    "    idx = np.append(idx, tod.info['model_idx'])\n",
    "    idy = np.append(idy, tod.info['model_idy'])\n",
    "\n",
    "print(idx.shape)"
   ]
  },
  {
   "cell_type": "code",
   "execution_count": null,
   "id": "4b7b0994",
   "metadata": {},
   "outputs": [],
   "source": [
    "id_inv = tod.info[\"id_inv\"]\n",
    "shape = tod.info[\"dx\"].shape\n",
    "#pred = pred[id_inv].reshape(shape)\n"
   ]
  },
  {
   "cell_type": "code",
   "execution_count": null,
   "id": "5abd32ea",
   "metadata": {},
   "outputs": [],
   "source": [
    "starttime = time.time()\n",
    "model(xyz, 2, 0, 0, 0, 0, 0, 0, float(y2K_RJ(freq, Te)*dr*XMpc/me), beam, tod.info[\"model_idx\"], tod.info[\"model_idy\"], new_pars).block_until_ready()\n",
    "endtime = time.time()\n",
    "    \n",
    "print(endtime-starttime)"
   ]
  },
  {
   "cell_type": "code",
   "execution_count": null,
   "id": "628708ee",
   "metadata": {},
   "outputs": [],
   "source": [
    "import time\n",
    "import numpy as np\n",
    "\n",
    "import jax\n",
    "from jax import numpy as jnp\n",
    "\n",
    "from minkasi import mkfftw\n",
    "\n",
    "residuals = tod.info[\"dat_calib\"] - model(xyz, 2, 0, 0, 0, 0, 0, 0, float(y2K_RJ(freq, Te)*dr*XMpc/me), beam, idx, idy, params)\n",
    "\n",
    "jfft = jax.jit(jnp.fft.rfft)\n",
    "\n",
    "R = 100\n",
    "\n",
    "ts = time.time()\n",
    "for i in range(R):\n",
    "    _ = jfft(residuals).block_until_ready()\n",
    "print('jax fft execution time [ms]:\\t', (time.time()-ts)/R * 1000)"
   ]
  },
  {
   "cell_type": "code",
   "execution_count": null,
   "id": "e99ead66",
   "metadata": {},
   "outputs": [],
   "source": [
    "fftw_res = np.array(residuals)\n",
    "\n",
    "R = 100\n",
    "\n",
    "ts = time.time()\n",
    "for i in range(R):\n",
    "    _ = mkfftw.fft_r2r(fftw_res)\n",
    "print('mkfftw fft execution time [ms]:\\t', (time.time()-ts)/R * 1000)\n",
    "\n"
   ]
  },
  {
   "cell_type": "code",
   "execution_count": null,
   "id": "30c11c35",
   "metadata": {
    "scrolled": true
   },
   "outputs": [],
   "source": []
  },
  {
   "cell_type": "markdown",
   "id": "b6f7895d",
   "metadata": {},
   "source": [
    "# Only do model once"
   ]
  },
  {
   "cell_type": "code",
   "execution_count": 11,
   "id": "2db1614a",
   "metadata": {},
   "outputs": [],
   "source": [
    "#Set up big arrays of all idxs that we need\n",
    "\n",
    "idxs = np.array([])\n",
    "idys = np.array([])\n",
    "\n",
    "dxs = np.array([])\n",
    "dys = np.array([])\n",
    "\n",
    "lens = np.array([])\n",
    "\n",
    "for tod in todvec.tods:\n",
    "    idxs = np.append(idxs, tod.info[\"idx\"])\n",
    "    idys = np.append(idys, tod.info[\"idy\"])\n",
    "    lens = np.append(lens, len(tod.info[\"dx\"].ravel()))\n",
    "    dxs = np.append(dxs, tod.info[\"model_idx\"])\n",
    "    dys = np.append(dys, tod.info[\"model_idy\"])\n",
    "\n",
    "lens = np.array(lens, dtype=int)"
   ]
  },
  {
   "cell_type": "code",
   "execution_count": 12,
   "id": "c7694694",
   "metadata": {},
   "outputs": [],
   "source": [
    "new_pars = jnp.array([0.0,0.0,0.0,.341,.249,.341,np.deg2rad(97),0.98,1e-6,\n",
    "                      0.0,0.0,0.0,.167,.122,.167,np.deg2rad(97),8.93,1e-5])  \n",
    "\n"
   ]
  },
  {
   "cell_type": "code",
   "execution_count": 13,
   "id": "07f78d41",
   "metadata": {},
   "outputs": [],
   "source": [
    "idu, id_inv = np.unique(\n",
    "    np.vstack((dxs.ravel(), dys.ravel())), axis=1, return_inverse=True\n",
    ")\n",
    "\n",
    "idx_test, idy_test = np.array(idu[0], dtype=int), np.array(idu[1], dtype=int)\n"
   ]
  },
  {
   "cell_type": "code",
   "execution_count": null,
   "id": "482399d8",
   "metadata": {},
   "outputs": [],
   "source": [
    "pred = model(xyz, 2, 0, 0, 0, 0, 0, 0, float(y2K_RJ(freq, Te)*dr*XMpc/me), beam, idx_test, idy_test, new_pars)"
   ]
  },
  {
   "cell_type": "code",
   "execution_count": null,
   "id": "7757d240",
   "metadata": {
    "scrolled": true
   },
   "outputs": [],
   "source": [
    "shape = tod.info[\"dx\"].shape\n",
    "pred = pred[id_inv]#.reshape(shape)\n",
    "\n",
    "for i, tod in enumerate(todvec.tods):\n",
    "    print(i)\n",
    "    shape = tod.info[\"dx\"].shape\n",
    "    start = sum(lens[:i])\n",
    "    cur_id_inv = id_inv[start : start + lens[i]]\n",
    "    print(pred[cur_id_inv].reshape(shape).shape)\n",
    "    print(tod.info[\"dat_calib\"].shape)"
   ]
  },
  {
   "cell_type": "markdown",
   "id": "81ff2de5-eb45-4c6e-8e68-981c8500f2e4",
   "metadata": {},
   "source": [
    "# Time Model"
   ]
  },
  {
   "cell_type": "code",
   "execution_count": 17,
   "id": "012a7031-3fd6-43dc-b0fa-de3db9d2cb32",
   "metadata": {},
   "outputs": [],
   "source": [
    "dx_tod, idy_tod, dat, v, weight, id_inv = tods[0]\n",
    "\n",
    "pred = model(xyz, 2, 0, 0, 3, 0, 0, 0, -2.4995998836322247e-05, beam, idx_model, idy_model, params[:42])"
   ]
  },
  {
   "cell_type": "code",
   "execution_count": 37,
   "id": "15b6d6d7-3c05-4e3b-9078-841c9c72df13",
   "metadata": {},
   "outputs": [],
   "source": [
    "r_map = eval(str(cfg[\"coords\"][\"r_map\"]))/2\n",
    "dr = eval(str(cfg[\"coords\"][\"dr\"]))*2\n",
    "small_xyz = make_grid(r_map, dr)"
   ]
  },
  {
   "cell_type": "code",
   "execution_count": 24,
   "id": "c93a5129-e156-434e-b1e2-64b312fbedaa",
   "metadata": {},
   "outputs": [
    {
     "name": "stdout",
     "output_type": "stream",
     "text": [
      "15.8 ms ± 6.4 µs per loop (mean ± std. dev. of 7 runs, 100 loops each)\n",
      "74.1 ms ± 293 µs per loop (mean ± std. dev. of 7 runs, 1 loop each)\n"
     ]
    }
   ],
   "source": [
    "#2 isobeta, 3 bubble\n",
    "model(xyz, 2, 0, 0, 3, 0, 0, 0, -2.4995998836322247e-05, beam, idx_model, idy_model, params[:42]).block_until_ready()\n",
    "%timeit model(xyz, 2, 0, 0, 3, 0, 0, 0, -2.4995998836322247e-05, beam, idx_model, idy_model, params[:42]).block_until_ready()\n",
    "%timeit model(large_xyz, 2, 0, 0, 3, 0, 0, 0, -2.4995998836322247e-05, beam, idx_model, idy_model, params[:42]).block_until_ready()"
   ]
  },
  {
   "cell_type": "code",
   "execution_count": 25,
   "id": "991c960b-24c9-49ce-bed4-519e220298f1",
   "metadata": {},
   "outputs": [
    {
     "name": "stdout",
     "output_type": "stream",
     "text": [
      "6.54 ms ± 42.4 µs per loop (mean ± std. dev. of 7 runs, 100 loops each)\n",
      "20 ms ± 267 µs per loop (mean ± std. dev. of 7 runs, 1 loop each)\n"
     ]
    }
   ],
   "source": [
    "#1 isobeta\n",
    "model(xyz, 1, 0, 0, 0, 0, 0, 0, -2.4995998836322247e-05, beam, idx_model, idy_model, params[:27]).block_until_ready()\n",
    "%timeit model(xyz, 1, 0, 0, 0, 0, 0, 0, -2.4995998836322247e-05, beam, idx_model, idy_model, params[:27]).block_until_ready()\n",
    "%timeit model(large_xyz, 1, 0, 0, 0, 0, 0, 0, -2.4995998836322247e-05, beam, idx_model, idy_model, params[:27]).block_until_ready()"
   ]
  },
  {
   "cell_type": "code",
   "execution_count": 48,
   "id": "1438ed7a-a14f-43d9-8de4-004e03a9ad2c",
   "metadata": {},
   "outputs": [
    {
     "name": "stdout",
     "output_type": "stream",
     "text": [
      "18.1 ms ± 3.94 µs per loop (mean ± std. dev. of 7 runs, 100 loops each)\n",
      "70.8 ms ± 32.4 µs per loop (mean ± std. dev. of 7 runs, 1 loop each)\n"
     ]
    }
   ],
   "source": [
    "#2 isobeta, 3 gauss\n",
    "\n",
    "gauss_params = np.concatenate((params[:18]  , np.random.rand(9), np.random.rand(9), np.random.rand(9)))\n",
    "model(xyz, 2, 0, 3, 0, 0, 0, 0, -2.4995998836322247e-05, beam, idx_model, idy_model, gauss_params).block_until_ready()\n",
    "%timeit model(xyz, 2, 0, 3, 0, 0, 0, 0, -2.4995998836322247e-05, beam, idx_model, idy_model, gauss_params).block_until_ready()\n",
    "%timeit model(large_xyz, 2, 0, 3, 0, 0, 0, 0, -2.4995998836322247e-05, beam, idx_model, idy_model, gauss_params).block_until_ready()\n"
   ]
  },
  {
   "cell_type": "code",
   "execution_count": 22,
   "id": "b80e9fbd-f65a-414a-a3a7-eebd3f1c8116",
   "metadata": {},
   "outputs": [
    {
     "name": "stdout",
     "output_type": "stream",
     "text": [
      "31.8 ms ± 40.9 µs per loop (mean ± std. dev. of 7 runs, 10 loops each)\n"
     ]
    }
   ],
   "source": [
    "#3 isobeta, 6 gauss\n",
    "gauss_params = np.concatenate((params[:27], np.random.rand(9), np.random.rand(9), np.random.rand(9), \n",
    "                                             np.random.rand(9), np.random.rand(9) ,np.random.rand(9)))\n",
    "model(xyz, 3, 0, 6, 0, 0, 0, 0, -2.4995998836322247e-05, beam, idx_model, idy_model, gauss_params).block_until_ready()\n",
    "%timeit model(xyz, 3, 0, 6, 0, 0, 0, 0, -2.4995998836322247e-05, beam, idx_model, idy_model, gauss_params).block_until_ready()"
   ]
  },
  {
   "cell_type": "code",
   "execution_count": 36,
   "id": "7de4966b-b8ff-4f83-af84-34275e942d19",
   "metadata": {},
   "outputs": [
    {
     "data": {
      "text/plain": [
       "(1, 718, 1)"
      ]
     },
     "execution_count": 36,
     "metadata": {},
     "output_type": "execute_result"
    }
   ],
   "source": [
    "np.array(large_xyz[0]).shape"
   ]
  },
  {
   "cell_type": "code",
   "execution_count": 45,
   "id": "0dbaf224-f428-4f30-8db9-78f6f964bbd1",
   "metadata": {},
   "outputs": [],
   "source": [
    "pred = model(xyz, 2, 0, 0, 3, 0, 0, 0, -2.4995998836322247e-05, beam, idx_model, idy_model, params[:42])\n",
    "small_pred = model(small_xyz, 2, 0, 0, 3, 0, 0, 0, -2.4995998836322247e-05/2, beam, idx_model, idy_model, params[:42])"
   ]
  },
  {
   "cell_type": "code",
   "execution_count": 46,
   "id": "114b0299-3ac5-40a9-acfd-531d4464ad0f",
   "metadata": {},
   "outputs": [
    {
     "data": {
      "text/plain": [
       "DeviceArray([0.90398592, 0.90295477, 0.90191855, ..., 0.44694848,\n",
       "             0.44483799, 0.44270557], dtype=float64)"
      ]
     },
     "execution_count": 46,
     "metadata": {},
     "output_type": "execute_result"
    }
   ],
   "source": [
    "(pred-small_pred)/pred"
   ]
  },
  {
   "cell_type": "code",
   "execution_count": null,
   "id": "85b9b30d-f0c8-4f29-b30b-d3dae9773f7a",
   "metadata": {},
   "outputs": [],
   "source": []
  },
  {
   "cell_type": "code",
   "execution_count": null,
   "id": "64b75648-e1ea-44f8-b4f9-2be765630a4b",
   "metadata": {},
   "outputs": [],
   "source": []
  },
  {
   "cell_type": "markdown",
   "id": "42dfc502",
   "metadata": {},
   "source": [
    "# Put it together"
   ]
  },
  {
   "cell_type": "code",
   "execution_count": 10,
   "id": "a22961f7",
   "metadata": {},
   "outputs": [],
   "source": [
    "def sample_no_idx(tods, idx_model, idy_model, lens, id_inv, shapes, params, xyz):\n",
    "    chi2 = 0\n",
    "    #params += 1.01*params\n",
    "    for i, tod in enumerate(tods):\n",
    "        idx_tod, idy_tod, dat, v, weight, id_inv = tod\n",
    "\n",
    "        pred = model(xyz, 2, 0, 0, 3, 0, 0, 0, -2.4995998836322247e-05, beam, idx_model, idy_model, params[:42])\n",
    "        pred = pred[id_inv].reshape(dat.shape)\n",
    "        chi2 += jget_chis(dat, pred, v, weight)\n",
    "\n",
    "    return chi2\n",
    "\n",
    "def sample(tods, idx_model, idy_model, lens, id_inv, shapes):\n",
    "    chi2 = 0\n",
    "    toc = time.time()\n",
    "    pred = model(xyz, 2, 0, 0, 3, 0, 0, 0, -2.4995998836322247e-05, beam, idx_model, idy_model, params[:42])\n",
    "    tic = time.time()\n",
    "    print('model: ', (tic-toc)*1000)\n",
    "\n",
    "    time_reshape = 0\n",
    "    time_chi = 0\n",
    "    time_model = 0\n",
    "\n",
    "    for i, tod in enumerate(tods):\n",
    "        #TODO: this doesn't jit cause the slicing pred based off the individual indicies doesn't work.\n",
    "        #Could try; make np.zeros arrays for dat and pred which have shape (max_det, max_samp), where \n",
    "        #max_det and max_samp are taken over all tods. Then assign pad_dat[:] = dat, pad_pred[:] = pred although\n",
    "        #that won't exactly work\n",
    "        #toc = time.time()\n",
    "        idx_tod, idy_tod, dat, v, weight = tod\n",
    "        shape = shapes[i]\n",
    "        start = sum(lens[:i])\n",
    "        #end = start + lens[i]\n",
    "        cur_id_inv = id_inv[start : start + lens[i]]\n",
    "\n",
    "        #toc = time.time()\n",
    "        cur_pred = pred[cur_id_inv].reshape(shape)\n",
    "        #cur_pred = get_pred(pred, shape, start, start + lens[i])\n",
    "        #tic = time.time()\n",
    "\n",
    "\n",
    "        #time_reshape += (tic-toc)\n",
    "        #toc = time.time()\n",
    "        chi2 += jget_chis(dat, cur_pred, v, weight) #TODO, is it faster to not ravel here and to instead reshape cur_pred?\n",
    "        #tic = time.time()\n",
    "        #print('chis2: ', (tic-toc)*1000)\n",
    "        #time_chi += tic-toc\n",
    "    #print('reshape: ', time_reshape*1000)\n",
    "    #print('chi2 :', time_chi*1000)\n",
    "\n",
    "    return chi2\n",
    "\n",
    "\n",
    "def get_pred(pred, shape, start, stop):\n",
    "    cur_id_inv = lax.slice(id_inv, (start,), (stop,))#id_inv[start : stop]\n",
    "    cur_pred = pred[cur_id_inv].reshape(shape)\n",
    "    return cur_pred\n",
    "\n",
    "jget_pred = jax.jit(get_pred)\n",
    "\n",
    "def sample_wrapper(todvec):\n",
    "    idxs = np.array([])\n",
    "    idys = np.array([])\n",
    "    \n",
    "    dxs = np.array([])\n",
    "    dys = np.array([])\n",
    "    \n",
    "    lens = np.array([])\n",
    "\n",
    "    shapes = np.array([])\n",
    "    \n",
    "    for tod in todvec.tods:\n",
    "        idxs = np.append(idxs, tod.info[\"idx\"])\n",
    "        idys = np.append(idys, tod.info[\"idy\"])\n",
    "        lens = np.append(lens, len(tod.info[\"dx\"].ravel()))\n",
    "        dxs = np.append(dxs, tod.info[\"model_idx\"])\n",
    "        dys = np.append(dys, tod.info[\"model_idy\"])\n",
    "        shapes = np.append(shapes, tod.info[\"dx\"].shape, dtype=int)\n",
    "    \n",
    "    lens = np.array(lens, dtype=int)\n",
    "\n",
    "    idu, id_inv = np.unique(\n",
    "        np.vstack((dxs.ravel(), dys.ravel())), axis=1, return_inverse=True\n",
    "    )\n",
    "    \n",
    "    idx_model, idy_model = np.array(idu[0], dtype=int), np.array(idu[1], dtype=int)\n",
    "\n",
    "    #un wrap stuff cause jit doesn't like having tod objects\n",
    "    tods = []\n",
    "\n",
    "    for tod in todvec.tods:\n",
    "        tods.append([tod.info[\"model_idx\"], tod.info[\"model_idy\"], tod.info[\"dat_calib\"], tod.noise.v, tod.noise.mywt])\n",
    "        #tods.append([jnp.array(tod.info[\"model_idx\"]), jnp.array(tod.info[\"model_idy\"]),\n",
    "        #             jnp.array(tod.info[\"dat_calib\"]), jnp.array(tod.noise.v), tod.noise.mywt])\n",
    "\n",
    "def get_chis(dat, pred, v, weight):\n",
    "    resid = dat - pred\n",
    "    pred = pred.at[:,0].set((jnp.sqrt(0.5)*pred)[:,0])\n",
    "    pred = pred.at[:,-1].set((jnp.sqrt(0.5)*pred)[:,-1])\n",
    "    pred_rot = jnp.dot(v,pred)\n",
    "    tmp=jnp.hstack([pred_rot,jnp.fliplr(pred_rot[:,1:-1])]) #mirror pred so we can do dct of second kind\n",
    "    predft=jnp.real(jnp.fft.rfft(tmp,axis=1))\n",
    "    nn=predft.shape[1]\n",
    "    chisq = jnp.sum(weight[:,:nn]*predft**2)    \n",
    "    return chisq\n",
    "\n",
    "jget_chis = jax.jit(get_chis)\n",
    "\n",
    "new_pars = jnp.array([0.0,0.0,0.0,.341,.249,.341,np.deg2rad(97),0.98,1e-6,\n",
    "                      0.0,0.0,0.0,.167,.122,.167,np.deg2rad(97),8.93,1e-5]) \n",
    "\n",
    "params[8], params[17] = -1e-5, -1e-5"
   ]
  },
  {
   "cell_type": "code",
   "execution_count": null,
   "id": "4a36c601",
   "metadata": {},
   "outputs": [],
   "source": [
    "def make_tod_stuff(todvec):\n",
    "    idxs = np.array([])\n",
    "    idys = np.array([])\n",
    "    \n",
    "    dxs = np.array([])\n",
    "    dys = np.array([])\n",
    "    \n",
    "    lens = np.array([])\n",
    "    \n",
    "    shapes = np.zeros((len(todvec.tods),2), dtype=int)\n",
    "    \n",
    "    tods = []\n",
    "    \n",
    "    for i,tod in enumerate(todvec.tods):\n",
    "        idxs = np.append(idxs, tod.info[\"idx\"])\n",
    "        idys = np.append(idys, tod.info[\"idy\"])\n",
    "        lens = np.append(lens, len(tod.info[\"dx\"].ravel()))\n",
    "        dxs = np.append(dxs, tod.info[\"model_idx\"])\n",
    "        dys = np.append(dys, tod.info[\"model_idy\"])\n",
    "        shapes[i] = np.array(tod.info[\"dx\"].shape, dtype=int)\n",
    "        \n",
    "        #un wrap stuff cause jit doesn't like having tod objects\n",
    "        #tods.append([jnp.array(tod.info[\"idx\"]), jnp.array(tod.info[\"idy\"]), \n",
    "        #            jnp.array(tod.info[\"dat_calib\"]), jnp.array(tod.noise.v), jnp.array(tod.noise.mywt)])\n",
    "        tods.append([jnp.array(tod.info[\"idx\"]), jnp.array(tod.info[\"idy\"]), \n",
    "                     jnp.array(tod.info[\"dat_calib\"]), jnp.array(tod.noise.v), \n",
    "                     jnp.array(tod.noise.mywt), jnp.array(tod.info[\"id_inv\"])])\n",
    "    \n",
    "    lens = np.array(lens, dtype=int)\n",
    "    \n",
    "    idu, id_inv = np.unique(\n",
    "        np.vstack((dxs.ravel(), dys.ravel())), axis=1, return_inverse=True\n",
    "    )\n",
    "    \n",
    "    idx_model, idy_model = np.array(idu[0], dtype=int), np.array(idu[1], dtype=int)\n",
    "\n",
    "    return tods, idx_model, idy_model, lens, id_inv, shapes\n",
    "\n",
    "\n",
    "tods, idx_model, idy_model, lens, id_inv, shapes = make_tod_stuff(todvec)\n",
    "tods_downsamp, idx_model_downsamp, idy_model_downsamp, lens_downsamp, id_inv_downsamp, shapes_downsamp = make_tod_stuff(todvec_downsamp)"
   ]
  },
  {
   "cell_type": "code",
   "execution_count": 13,
   "id": "87a37690-63d0-46a8-aab1-b90796393baa",
   "metadata": {},
   "outputs": [],
   "source": [
    "r_map = eval(str(cfg[\"coords\"][\"r_map\"]))\n",
    "dr = eval(str(cfg[\"coords\"][\"dr\"]))\n",
    "xyz_large = my_make_grid(r_map, dr)"
   ]
  },
  {
   "cell_type": "code",
   "execution_count": 14,
   "id": "6258b389",
   "metadata": {},
   "outputs": [],
   "source": [
    "jsample_no_idx = jax.jit(sample_no_idx)"
   ]
  },
  {
   "cell_type": "code",
   "execution_count": 15,
   "id": "8d58deb0",
   "metadata": {},
   "outputs": [
    {
     "data": {
      "text/plain": [
       "DeviceArray(2.70914499e-05, dtype=float64)"
      ]
     },
     "execution_count": 15,
     "metadata": {},
     "output_type": "execute_result"
    }
   ],
   "source": [
    "jsample_no_idx(tods, idx_model, idy_model, lens, id_inv, shapes, params, xyz)\n"
   ]
  },
  {
   "cell_type": "code",
   "execution_count": null,
   "id": "ee06885f",
   "metadata": {},
   "outputs": [],
   "source": [
    "%timeit jsample_no_idx(tods, idx_model, idy_model, lens, id_inv, shapes, params, xyz).block_until_ready()"
   ]
  },
  {
   "cell_type": "code",
   "execution_count": null,
   "id": "2be2b875-1ef5-44fc-843d-53f828b66c58",
   "metadata": {},
   "outputs": [],
   "source": [
    "%timeit jsample_no_idx(tods_downsamp, idx_model_downsamp, idy_model_downsamp, lens_downsamp, id_inv_downsamp, shapes_downsamp, params, xyz).block_until_ready()"
   ]
  },
  {
   "cell_type": "code",
   "execution_count": null,
   "id": "3b95eceb-07ec-4318-bbf2-32b48d26b468",
   "metadata": {},
   "outputs": [],
   "source": []
  },
  {
   "cell_type": "code",
   "execution_count": 62,
   "id": "c1bf3fb7",
   "metadata": {},
   "outputs": [
    {
     "name": "stdout",
     "output_type": "stream",
     "text": [
      "sample execution time [ms]:\t 105.53010702133179\n"
     ]
    }
   ],
   "source": [
    "R = 100\n",
    "\n",
    "ts = time.time()\n",
    "for i in range(R):\n",
    "    sample(tods, idx_model, idy_model, lens, id_inv, shapes).block_until_ready()\n",
    "print('sample execution time [ms]:\\t', (time.time()-ts)/R * 1000)"
   ]
  },
  {
   "cell_type": "code",
   "execution_count": 58,
   "id": "3db490fe",
   "metadata": {},
   "outputs": [
    {
     "name": "stdout",
     "output_type": "stream",
     "text": [
      "122 ms ± 7.79 ms per loop (mean ± std. dev. of 7 runs, 1 loop each)\n"
     ]
    }
   ],
   "source": [
    "%timeit sample(tods, idx_model, idy_model, lens, id_inv, shapes).block_until_ready()"
   ]
  },
  {
   "cell_type": "code",
   "execution_count": 18,
   "id": "86373a20",
   "metadata": {},
   "outputs": [],
   "source": [
    "times = np.zeros(9);\n",
    "\n",
    "for i in range(len(times)):\n",
    "    \n",
    "    R = 100\n",
    "    \n",
    "    ts = time.time()\n",
    "    for j in range(R):\n",
    "        sample(tods[:i+1], idx_model, idy_model, lens, id_inv, shapes).block_until_ready()\n",
    "    times[i] = (time.time()-ts)/R * 1000"
   ]
  },
  {
   "cell_type": "code",
   "execution_count": null,
   "id": "b3a3e852",
   "metadata": {},
   "outputs": [],
   "source": []
  },
  {
   "cell_type": "code",
   "execution_count": 20,
   "id": "233161d3",
   "metadata": {},
   "outputs": [
    {
     "data": {
      "text/plain": [
       "[<matplotlib.lines.Line2D at 0x7ff65022e9a0>]"
      ]
     },
     "execution_count": 20,
     "metadata": {},
     "output_type": "execute_result"
    },
    {
     "data": {
      "image/png": "[encoded data removed]",
      "text/plain": [
       "<Figure size 640x480 with 1 Axes>"
      ]
     },
     "metadata": {},
     "output_type": "display_data"
    }
   ],
   "source": [
    "plt.plot(np.arange(1,10), times)"
   ]
  },
  {
   "cell_type": "markdown",
   "id": "1261bde1",
   "metadata": {},
   "source": [
    "# Reshape Time"
   ]
  },
  {
   "cell_type": "code",
   "execution_count": 67,
   "id": "7e19a971",
   "metadata": {},
   "outputs": [],
   "source": [
    "pred = model(xyz, 2, 0, 0, 0, 0, 0, 0, -2.4995998836322247e-05, beam, idx_model, idy_model, new_pars)"
   ]
  },
  {
   "cell_type": "code",
   "execution_count": 65,
   "id": "b80e3cc1",
   "metadata": {},
   "outputs": [
    {
     "ename": "IndexError",
     "evalue": "index 99 is out of bounds for axis 0 with size 10",
     "output_type": "error",
     "traceback": [
      "\u001b[0;31m---------------------------------------------------------------------------\u001b[0m",
      "\u001b[0;31mIndexError\u001b[0m                                Traceback (most recent call last)",
      "Cell \u001b[0;32mIn[65], line 4\u001b[0m\n\u001b[1;32m      1\u001b[0m tod \u001b[38;5;241m=\u001b[39m tods[\u001b[38;5;241m0\u001b[39m]\n\u001b[1;32m      2\u001b[0m idx_tod, idy_tod, dat, v, weight \u001b[38;5;241m=\u001b[39m tod\n\u001b[0;32m----> 4\u001b[0m shape \u001b[38;5;241m=\u001b[39m  np\u001b[38;5;241m.\u001b[39marray(\u001b[43mshapes\u001b[49m\u001b[43m[\u001b[49m\u001b[43mi\u001b[49m\u001b[43m]\u001b[49m)\n\u001b[1;32m      5\u001b[0m start \u001b[38;5;241m=\u001b[39m  np\u001b[38;5;241m.\u001b[39marray(\u001b[38;5;28msum\u001b[39m(lens[:i]))\n\u001b[1;32m      6\u001b[0m cur_id_inv \u001b[38;5;241m=\u001b[39m np\u001b[38;5;241m.\u001b[39marray(id_inv[start : start \u001b[38;5;241m+\u001b[39m lens[i]])\n",
      "\u001b[0;31mIndexError\u001b[0m: index 99 is out of bounds for axis 0 with size 10"
     ]
    }
   ],
   "source": [
    "tod = tods[0]\n",
    "idx_tod, idy_tod, dat, v, weight = tod\n",
    "\n",
    "shape =  np.array(shapes[i])\n",
    "start =  np.array(sum(lens[:i]))\n",
    "cur_id_inv = np.array(id_inv[start : start + lens[i]])\n",
    "y = np.array(pred)\n",
    "toc = time.time()\n",
    "cur_pred = y[cur_id_inv]#.reshape(shape)\n",
    "tic = time.time()\n",
    "\n",
    "print((tic-toc)*1000)"
   ]
  },
  {
   "cell_type": "code",
   "execution_count": 52,
   "id": "c4b213ae",
   "metadata": {},
   "outputs": [],
   "source": [
    "jcur_id_inv = jnp.array(cur_id_inv)"
   ]
  },
  {
   "cell_type": "code",
   "execution_count": 23,
   "id": "e38a3928",
   "metadata": {},
   "outputs": [],
   "source": [
    "#y = jax.device_put(pred, device=jax.devices(\"cpu\")[0])"
   ]
  },
  {
   "cell_type": "code",
   "execution_count": 68,
   "id": "5969566a",
   "metadata": {},
   "outputs": [
    {
     "data": {
      "text/plain": [
       "1213808"
      ]
     },
     "execution_count": 68,
     "metadata": {},
     "output_type": "execute_result"
    }
   ],
   "source": [
    "len(pred)"
   ]
  },
  {
   "cell_type": "code",
   "execution_count": 44,
   "id": "37718239",
   "metadata": {},
   "outputs": [],
   "source": [
    "test_pred = np.random.rand(len(pred))\n",
    "test_idx = np.random.randint(0, len(pred), len(cur_id_inv))\n",
    "\n",
    "jtest_pred = jnp.array(test_pred)\n",
    "jtest_idx = jnp.array(test_idx)"
   ]
  },
  {
   "cell_type": "code",
   "execution_count": 38,
   "id": "f816d9eb",
   "metadata": {},
   "outputs": [
    {
     "name": "stdout",
     "output_type": "stream",
     "text": [
      "16.0982608795166\n"
     ]
    }
   ],
   "source": [
    "toc = time.time()\n",
    "cur_pred = test_pred[test_idx]#.reshape(shape)\n",
    "tic = time.time()\n",
    "\n",
    "print((tic-toc)*1000)"
   ]
  },
  {
   "cell_type": "code",
   "execution_count": 40,
   "id": "6c1e3220",
   "metadata": {},
   "outputs": [],
   "source": [
    "shape = (10000, 200)\n",
    "nx = np.ones(shape)\n",
    "jx = jnp.ones(shape)"
   ]
  },
  {
   "cell_type": "code",
   "execution_count": 41,
   "id": "43809151",
   "metadata": {},
   "outputs": [
    {
     "name": "stdout",
     "output_type": "stream",
     "text": [
      "426 ns ± 4.67 ns per loop (mean ± std. dev. of 7 runs, 1,000,000 loops each)\n"
     ]
    }
   ],
   "source": [
    "%timeit nx[10:100,:]"
   ]
  },
  {
   "cell_type": "code",
   "execution_count": 42,
   "id": "c061b145",
   "metadata": {},
   "outputs": [
    {
     "name": "stdout",
     "output_type": "stream",
     "text": [
      "17.8 ms ± 2.05 ms per loop (mean ± std. dev. of 7 runs, 100 loops each)\n"
     ]
    }
   ],
   "source": [
    "%timeit test_pred[test_idx]"
   ]
  },
  {
   "cell_type": "code",
   "execution_count": 45,
   "id": "fea58884",
   "metadata": {},
   "outputs": [
    {
     "name": "stdout",
     "output_type": "stream",
     "text": [
      "1.74 ms ± 3.98 µs per loop (mean ± std. dev. of 7 runs, 1,000 loops each)\n"
     ]
    }
   ],
   "source": [
    "%timeit jtest_pred[jtest_idx]"
   ]
  },
  {
   "cell_type": "code",
   "execution_count": 47,
   "id": "df0bec02",
   "metadata": {},
   "outputs": [
    {
     "name": "stdout",
     "output_type": "stream",
     "text": [
      "9.28 ms ± 3.38 µs per loop (mean ± std. dev. of 7 runs, 100 loops each)\n"
     ]
    }
   ],
   "source": [
    "%timeit y[cur_id_inv]"
   ]
  },
  {
   "cell_type": "code",
   "execution_count": 53,
   "id": "3d32371e",
   "metadata": {},
   "outputs": [
    {
     "name": "stdout",
     "output_type": "stream",
     "text": [
      "1.75 ms ± 1.41 µs per loop (mean ± std. dev. of 7 runs, 1,000 loops each)\n"
     ]
    }
   ],
   "source": [
    "%timeit pred[jcur_id_inv]"
   ]
  },
  {
   "cell_type": "code",
   "execution_count": 55,
   "id": "c8f27c8a",
   "metadata": {},
   "outputs": [
    {
     "name": "stdout",
     "output_type": "stream",
     "text": [
      "208 ns ± 0.24 ns per loop (mean ± std. dev. of 7 runs, 1,000,000 loops each)\n"
     ]
    }
   ],
   "source": [
    "%timeit shapes[i]"
   ]
  },
  {
   "cell_type": "code",
   "execution_count": 56,
   "id": "0b5f7b8d",
   "metadata": {},
   "outputs": [
    {
     "data": {
      "text/plain": [
       "numpy.ndarray"
      ]
     },
     "execution_count": 56,
     "metadata": {},
     "output_type": "execute_result"
    }
   ],
   "source": [
    "type(shapes)"
   ]
  },
  {
   "cell_type": "code",
   "execution_count": null,
   "id": "9d6b5313",
   "metadata": {},
   "outputs": [],
   "source": []
  },
  {
   "cell_type": "code",
   "execution_count": null,
   "id": "bf7f3842",
   "metadata": {},
   "outputs": [],
   "source": []
  },
  {
   "cell_type": "code",
   "execution_count": null,
   "id": "a784af8c",
   "metadata": {},
   "outputs": [],
   "source": []
  },
  {
   "cell_type": "markdown",
   "id": "8ea8b642",
   "metadata": {},
   "source": [
    "# Visualize model -- Saianeesh Look Here"
   ]
  },
  {
   "cell_type": "code",
   "execution_count": 13,
   "id": "030042c7-7f82-4be5-96ff-ff180bdf9bb6",
   "metadata": {},
   "outputs": [],
   "source": [
    "import numpy as np\n",
    "\n",
    "import glob, os, yaml\n",
    "\n",
    "import minkasi\n",
    "\n",
    "import minkasi_jax.presets_by_source as pbs\n",
    "from minkasi_jax.utils import *\n",
    "from minkasi_jax.core import helper\n",
    "\n",
    "from astropy.coordinates import Angle\n",
    "from astropy import units as u\n",
    "\n",
    "import matplotlib.pyplot as plt"
   ]
  },
  {
   "cell_type": "code",
   "execution_count": 17,
   "id": "505cef5e-1172-429d-ac1d-b7c68cacc896",
   "metadata": {
    "jupyter": {
     "source_hidden": true
    }
   },
   "outputs": [],
   "source": [
    "from functools import partial\n",
    "import jax\n",
    "import jax.numpy as jnp\n",
    "from minkasi_jax.utils import fft_conv\n",
    "from minkasi_jax.structure import (\n",
    "    isobeta,\n",
    "    gnfw,\n",
    "    gaussian,\n",
    "    add_uniform,\n",
    "    add_exponential,\n",
    "    add_powerlaw,\n",
    "    add_powerlaw_cos,\n",
    ")\n",
    "\n",
    "import jax.lax as lax\n",
    "\n",
    "N_PAR_ISOBETA = 9\n",
    "N_PAR_GNFW = 14\n",
    "N_PAR_GAUSSIAN = 9\n",
    "N_PAR_UNIFORM = 8\n",
    "N_PAR_EXPONENTIAL = 14\n",
    "N_PAR_POWERLAW = 11\n",
    "\n",
    "ARGNUM_SHIFT = 11\n",
    "\n",
    "@partial(\n",
    "    jax.jit,\n",
    "    static_argnums=(1, 2, 3, 4, 5, 6, 7, 8),\n",
    ")\n",
    "def model(\n",
    "    xyz,\n",
    "    n_isobeta,\n",
    "    n_gnfw,\n",
    "    n_gaussian,\n",
    "    n_uniform,\n",
    "    n_exponential,\n",
    "    n_powerlaw,\n",
    "    n_powerlaw_cos,\n",
    "    dx,\n",
    "    beam,\n",
    "    idx,\n",
    "    idy,\n",
    "    *params\n",
    "):\n",
    "    \"\"\"\n",
    "    Generically create models with substructure.\n",
    "\n",
    "    Arguments:\n",
    "\n",
    "        xyz: Coordinate grid to compute profile on.\n",
    "\n",
    "        n_isobeta: Number of isobeta profiles to add.\n",
    "\n",
    "        n_gnfw: Number of gnfw profiles to add.\n",
    "\n",
    "        n_gaussian: Number of gaussians to add.\n",
    "\n",
    "        n_uniform: Number of uniform ellipsoids to add.\n",
    "\n",
    "        n_exponential: Number of exponential ellipsoids to add.\n",
    "\n",
    "        n_powerlaw: Number of power law ellipsoids to add.\n",
    "\n",
    "        n_powerlaw_cos: Number of radial power law ellipsoids with angulas cos term to add.\n",
    "\n",
    "        dx: Factor to scale by while integrating.\n",
    "            Since it is a global factor it can contain unit conversions.\n",
    "            Historically equal to y2K_RJ * dr * da * XMpc / me.\n",
    "\n",
    "        beam: Beam to convolve by, should be a 2d array.\n",
    "\n",
    "        idx: RA TOD in units of pixels.\n",
    "             Should have Dec stretch applied.\n",
    "\n",
    "        idy: Dec TOD in units of pixels.\n",
    "\n",
    "        params: 1D array of model parameters.\n",
    "\n",
    "    Returns:\n",
    "\n",
    "        model: The model with the specified substructure.\n",
    "    \"\"\"\n",
    "    params = jnp.array(params)\n",
    "    params = jnp.ravel(params)\n",
    "    isobetas = jnp.zeros((1, 1), dtype=float)\n",
    "    gnfws = jnp.zeros((1, 1), dtype=float)\n",
    "    gaussians = jnp.zeros((1, 1), dtype=float)\n",
    "    uniforms = jnp.zeros((1, 1), dtype=float)\n",
    "    exponentials = jnp.zeros((1, 1), dtype=float)\n",
    "    powerlaws = jnp.zeros((1, 1), dtype=float)\n",
    "\n",
    "    start = 0\n",
    "    if n_isobeta:\n",
    "        delta = n_isobeta * N_PAR_ISOBETA\n",
    "        #isobetas = lax.slice(params, (1, start), (1, start + delta)).reshape((n_isobeta, N_PAR_ISOBETA))\n",
    "        isobetas = params[start : start + delta].reshape((n_isobeta, N_PAR_ISOBETA))\n",
    "        start += delta\n",
    "    if n_gnfw:\n",
    "        delta = n_gnfw * N_PAR_GNFW\n",
    "        gnfws = params[start : start + delta].reshape((n_gnfw, N_PAR_GNFW))\n",
    "        start += delta\n",
    "    if n_gaussian:\n",
    "        delta = n_gaussian * N_PAR_GAUSSIAN\n",
    "        gaussians = params[start : start + delta].reshape((n_gaussian, N_PAR_GAUSSIAN))\n",
    "        start += delta\n",
    "    if n_uniform:\n",
    "        delta = n_uniform * N_PAR_UNIFORM\n",
    "        uniforms = params[start : start + delta].reshape((n_uniform, N_PAR_UNIFORM))\n",
    "        start += delta\n",
    "    if n_exponential:\n",
    "        delta = n_exponential * N_PAR_EXPONENTIAL\n",
    "        exponentials = params[start : start + delta].reshape(\n",
    "            (n_exponential, N_PAR_EXPONENTIAL)\n",
    "        )\n",
    "        start += delta\n",
    "    if n_powerlaw:\n",
    "        delta = n_powerlaw * N_PAR_POWERLAW\n",
    "        powerlaws = params[start : start + delta].reshape((n_powerlaw, N_PAR_POWERLAW))\n",
    "        start += delta\n",
    "    if n_powerlaw_cos:\n",
    "        delta = n_powerlaw_cos * N_PAR_POWERLAW\n",
    "        powerlaw_coses = params[start : start + delta].reshape(\n",
    "            (n_powerlaw_cos, N_PAR_POWERLAW)\n",
    "        )\n",
    "        start += delta\n",
    "\n",
    "    pressure = jnp.zeros((xyz[0].shape[1], xyz[1].shape[0], xyz[2].shape[2]))\n",
    "    for i in range(n_isobeta):\n",
    "        pressure = jnp.add(pressure, isobeta(*isobetas[i], xyz))\n",
    "\n",
    "    for i in range(n_gnfw):\n",
    "        pressure = jnp.add(pressure, gnfw(*gnfws[i], xyz))\n",
    "\n",
    "    for i in range(n_gaussian):\n",
    "        pressure = jnp.add(pressure, gaussian(*gaussians[i], xyz))\n",
    "\n",
    "    for i in range(n_uniform):\n",
    "        pressure = add_uniform(pressure, xyz, *uniforms[i])\n",
    "\n",
    "    for i in range(n_exponential):\n",
    "        pressure = add_exponential(pressure, xyz, *exponentials[i])\n",
    "\n",
    "    for i in range(n_powerlaw):\n",
    "        pressure = add_powerlaw(pressure, xyz, *powerlaws[i])\n",
    "\n",
    "    for i in range(n_powerlaw_cos):\n",
    "        pressure = add_powerlaw_cos(pressure, xyz, *powerlaw_coses[i])\n",
    "\n",
    "    # Integrate along line of site\n",
    "    ip = jnp.trapz(pressure, dx=dx, axis=-1)\n",
    "\n",
    "    bound0, bound1 = int((ip.shape[0] - beam.shape[0]) / 2), int(\n",
    "        (ip.shape[1] - beam.shape[1]) / 2\n",
    "    )\n",
    "    beam = jnp.pad(\n",
    "        beam,\n",
    "        (\n",
    "            (bound0, ip.shape[0] - beam.shape[0] - bound0),\n",
    "            (bound1, ip.shape[1] - beam.shape[1] - bound1),\n",
    "        ),\n",
    "    )\n",
    "\n",
    "    ip = fft_conv(ip, beam)\n",
    "\n",
    "    # return jsp.ndimage.map_coordinates(ip, (idy, idx), order=0)\n",
    "    return ip[idy.ravel(), idx.ravel()].reshape(idx.shape)"
   ]
  },
  {
   "cell_type": "code",
   "execution_count": 2,
   "id": "b3550ce2-beb9-45cb-ac1e-f155c7c5470c",
   "metadata": {},
   "outputs": [
    {
     "name": "stdout",
     "output_type": "stream",
     "text": [
      "tod #:  285\n"
     ]
    }
   ],
   "source": [
    "with open('/home/r/rbond/jorlo/dev/minkasi_jax/configs/ms0735_noSub.yaml', \"r\") as file:\n",
    "    cfg = yaml.safe_load(file)\n",
    "#with open('/home/r/rbond/jorlo/dev/minkasi_jax/configs/ms0735/ms0735.yaml', \"r\") as file:\n",
    "#    cfg = yaml.safe_load(file)\n",
    "fit = True\n",
    "\n",
    "# Setup coordindate stuff\n",
    "z = eval(str(cfg[\"coords\"][\"z\"]))\n",
    "da = get_da(z)\n",
    "r_map = eval(str(cfg[\"coords\"][\"r_map\"]))\n",
    "dr = eval(str(cfg[\"coords\"][\"dr\"]))\n",
    "xyz = make_grid(r_map, dr)\n",
    "coord_conv = eval(str(cfg[\"coords\"][\"conv_factor\"]))\n",
    "x0 = eval(str(cfg[\"coords\"][\"x0\"]))\n",
    "y0 = eval(str(cfg[\"coords\"][\"y0\"]))\n",
    "\n",
    "# Load TODs\n",
    "tod_names = glob.glob(os.path.join(cfg[\"paths\"][\"tods\"], cfg[\"paths\"][\"glob\"]))\n",
    "bad_tod, addtag = pbs.get_bad_tods(\n",
    "    cfg[\"cluster\"][\"name\"], ndo=cfg[\"paths\"][\"ndo\"], odo=cfg[\"paths\"][\"odo\"]\n",
    ")\n",
    "tod_names = minkasi.cut_blacklist(tod_names, bad_tod)\n",
    "tod_names.sort()\n",
    "tod_names = tod_names[minkasi.myrank :: minkasi.nproc]\n",
    "print('tod #: ', len(tod_names))\n",
    "minkasi.barrier()  # Is this needed?"
   ]
  },
  {
   "cell_type": "code",
   "execution_count": 3,
   "id": "982a16f8-081e-4798-9ee1-eee3dd60aa64",
   "metadata": {},
   "outputs": [
    {
     "name": "stdout",
     "output_type": "stream",
     "text": [
      "WARNING - calinfo information not found in fits file header - to track JytoK etc you may need to reprocess the fits files using mustangidl > revision 932\n",
      "nsamp and ndet are  182 24707.0 4496674  on  /scratch/r/rbond/jorlo/MS0735/TS_EaCMS0f0_51_5_Oct_2021/Signal_TOD-AGBT19A_092_01-s12.fits with lims  115.13548797090777 115.79331715025005 74.15935947949289 74.334082548651\n",
      "truncating from  24707  to  24697\n",
      "WARNING - calinfo information not found in fits file header - to track JytoK etc you may need to reprocess the fits files using mustangidl > revision 932\n",
      "nsamp and ndet are  179 24708.0 4422732  on  /scratch/r/rbond/jorlo/MS0735/TS_EaCMS0f0_51_5_Oct_2021/Signal_TOD-AGBT19A_092_01-s13.fits with lims  115.13373944248026 115.79094024441889 74.15967366819471 74.33531881289076\n",
      "truncating from  24708  to  24697\n"
     ]
    }
   ],
   "source": [
    "todvec = minkasi.TodVec()\n",
    "n_tod = 2\n",
    "for i, fname in enumerate(tod_names):\n",
    "    if i >= n_tod: break\n",
    "    dat = minkasi.read_tod_from_fits(fname)\n",
    "    minkasi.truncate_tod(dat)\n",
    "\n",
    "    \n",
    "    # figure out a guess at common mode and (assumed) linear detector drifts/offset\n",
    "    # drifts/offsets are removed, which is important for mode finding.  CM is *not* removed.\n",
    "    dd, pred2, cm = minkasi.fit_cm_plus_poly(dat[\"dat_calib\"], cm_ord=3, full_out=True)\n",
    "    dat[\"dat_calib\"] = dd\n",
    "    dat[\"pred2\"] = pred2\n",
    "    dat[\"cm\"] = cm\n",
    "\n",
    "    # Make pixelized RA/Dec TODs\n",
    "    idx, idy = tod_to_index(dat[\"dx\"], dat[\"dy\"], x0, y0, r_map, dr, coord_conv)\n",
    "    idu, id_inv = np.unique(\n",
    "        np.vstack((idx.ravel(), idy.ravel())), axis=1, return_inverse=True\n",
    "    )\n",
    "    dat[\"idx\"] = idu[0]\n",
    "    dat[\"idy\"] = idu[1]\n",
    "    dat[\"id_inv\"] = id_inv\n",
    "    dat[\"model_idx\"] = idx\n",
    "    dat[\"model_idy\"] = idy\n",
    "\n",
    "    tod = minkasi.Tod(dat)\n",
    "    todvec.add_tod(tod)"
   ]
  },
  {
   "cell_type": "code",
   "execution_count": 4,
   "id": "f1afb563-73df-4831-9ffe-2576582ea76d",
   "metadata": {},
   "outputs": [],
   "source": [
    "lims = todvec.lims()\n",
    "pixsize = 2.0 / 3600 * np.pi / 180\n",
    "skymap = minkasi.SkyMap(lims, pixsize)\n",
    "\n",
    "Te = eval(str(cfg[\"cluster\"][\"Te\"]))\n",
    "freq = eval(str(cfg[\"cluster\"][\"freq\"]))\n",
    "beam = beam_double_gauss(\n",
    "    dr,\n",
    "    eval(str(cfg[\"beam\"][\"fwhm1\"])),\n",
    "    eval(str(cfg[\"beam\"][\"amp1\"])),\n",
    "    eval(str(cfg[\"beam\"][\"fwhm2\"])),\n",
    "    eval(str(cfg[\"beam\"][\"amp2\"])),\n",
    ")\n",
    "\n",
    "funs = []\n",
    "npars = []\n",
    "labels = []\n",
    "params = []\n",
    "to_fit = []\n",
    "priors = []\n",
    "prior_vals = []\n",
    "re_eval = []\n",
    "par_idx = {}\n",
    "for cur_model in cfg[\"models\"].values():\n",
    "    npars.append(len(cur_model[\"parameters\"]))\n",
    "    for name, par in cur_model[\"parameters\"].items():\n",
    "        labels.append(name)\n",
    "        par_idx[name] = len(params)\n",
    "        params.append(eval(str(par[\"value\"])))\n",
    "        to_fit.append(eval(str(par[\"to_fit\"])))\n",
    "        if \"priors\" in par:\n",
    "            priors.append(par[\"priors\"][\"type\"])\n",
    "            prior_vals.append(eval(str(par[\"priors\"][\"value\"])))\n",
    "        else:\n",
    "            priors.append(None)\n",
    "            prior_vals.append(None)\n",
    "        if \"re_eval\" in par and par[\"re_eval\"]:\n",
    "            re_eval.append(str(par[\"value\"]))\n",
    "        else:\n",
    "            re_eval.append(False)\n",
    "        2.627 * da, funs.append(eval(str(cur_model[\"func\"])))\n",
    "\n",
    "npars = np.array(npars)\n",
    "labels = np.array(labels)\n",
    "params = np.array(params)\n",
    "to_fit = np.array(to_fit, dtype=bool)\n",
    "priors = np.array(priors)\n",
    "\n",
    "noise_class = eval(str(cfg[\"minkasi\"][\"noise\"][\"class\"]))\n",
    "noise_args = eval(str(cfg[\"minkasi\"][\"noise\"][\"args\"]))\n",
    "noise_kwargs = eval(str(cfg[\"minkasi\"][\"noise\"][\"kwargs\"]))"
   ]
  },
  {
   "cell_type": "code",
   "execution_count": 5,
   "id": "7e47aef7-7dc3-4084-b6bc-585e601c0275",
   "metadata": {},
   "outputs": [
    {
     "name": "stdout",
     "output_type": "stream",
     "text": [
      "got svd\n",
      "got svd\n"
     ]
    }
   ],
   "source": [
    "#TODO: Implement tsBowl here \n",
    "if \"bowling\" in cfg:\n",
    "    sub_poly = cfg[\"bowling\"][\"sub_poly\"]\n",
    "\n",
    "sim = False #This script is for simming, the option to turn off is here only for debugging\n",
    "#TODO: Write this to use minkasi_jax.core.model\n",
    "for i, tod in enumerate(todvec.tods):\n",
    "        \n",
    "    ipix = skymap.get_pix(tod)\n",
    "    tod.info[\"ipix\"] = ipix\n",
    "    tod.set_noise(noise_class, *noise_args, **noise_kwargs)"
   ]
  },
  {
   "cell_type": "code",
   "execution_count": 6,
   "id": "644180a7-f3b1-4077-ae77-42894fc751ac",
   "metadata": {},
   "outputs": [],
   "source": [
    "idxs = np.array([])\n",
    "idys = np.array([])\n",
    "\n",
    "dxs = np.array([])\n",
    "dys = np.array([])\n",
    "\n",
    "lens = np.array([])\n",
    "\n",
    "for tod in todvec.tods:\n",
    "    idxs = np.append(idxs, tod.info[\"idx\"])\n",
    "    idys = np.append(idys, tod.info[\"idy\"])\n",
    "    lens = np.append(lens, len(tod.info[\"dx\"].ravel()))\n",
    "    dxs = np.append(dxs, tod.info[\"model_idx\"])\n",
    "    dys = np.append(dys, tod.info[\"model_idy\"])\n",
    "\n",
    "lens = np.array(lens, dtype=int)\n",
    "\n",
    "vis_pars = params[:42]\n",
    "vis_pars[8], vis_pars[17] = -1e-5, -1e-5"
   ]
  },
  {
   "cell_type": "code",
   "execution_count": 7,
   "id": "ca0c2e25",
   "metadata": {},
   "outputs": [],
   "source": [
    "#idx_min, idx_max = max(np.min(idxs),0), min(np.max(idxs), 750)\n",
    "#idy_min, idy_max = max(np.min(idys),0), min(np.max(idys), 750)\n",
    "\n",
    "idx_min, idx_max = np.min(idxs), np.max(idxs)\n",
    "idy_min, idy_max = np.min(idys), np.max(idys)"
   ]
  },
  {
   "cell_type": "code",
   "execution_count": 8,
   "id": "56c904cb",
   "metadata": {},
   "outputs": [],
   "source": [
    "x = np.arange(idx_min, idx_max, dtype = int)\n",
    "y = np.arange(idy_min, idy_max, dtype = int)\n",
    "\n",
    "X, Y = np.meshgrid(x, y)"
   ]
  },
  {
   "cell_type": "code",
   "execution_count": 20,
   "id": "5e70c4c1-3423-48f2-84aa-9fd8601af033",
   "metadata": {},
   "outputs": [],
   "source": [
    "r_map = eval(str(cfg[\"coords\"][\"r_map\"]))\n",
    "dr = eval(str(cfg[\"coords\"][\"dr\"]))*2 #Things look wrong even without this but they look really wrong with it\n",
    "xyz = make_grid(r_map, dr)\n",
    "\n",
    "dx = float(y2K_RJ(freq, Te)*dr*XMpc/me)"
   ]
  },
  {
   "cell_type": "code",
   "execution_count": 21,
   "id": "3e2ba618",
   "metadata": {},
   "outputs": [
    {
     "data": {
      "text/plain": [
       "<matplotlib.colorbar.Colorbar at 0x7ff5646a2e80>"
      ]
     },
     "execution_count": 21,
     "metadata": {},
     "output_type": "execute_result"
    },
    {
     "data": {
      "image/png": "[encoded data removed]",
      "text/plain": [
       "<Figure size 640x480 with 2 Axes>"
      ]
     },
     "metadata": {},
     "output_type": "display_data"
    }
   ],
   "source": [
    "\n",
    "\n",
    "vis_model = model(xyz, 2, 0, 0, 3, 0, 0, 0, float(y2K_RJ(freq, Te)*dr*XMpc/me), beam, X, Y, vis_pars)\n",
    "\n",
    "plt.imshow(vis_model, extent = [np.min(X), np.max(X), np.min(Y), np.max(Y)], origin = 'lower')\n",
    "plt.colorbar()"
   ]
  },
  {
   "cell_type": "markdown",
   "id": "abe0c6bf-44c1-4104-b7fb-06ef299a2c30",
   "metadata": {},
   "source": [
    "# Ignore stuff below here"
   ]
  },
  {
   "cell_type": "code",
   "execution_count": null,
   "id": "66a6ec41-8211-4bf7-9b88-9e816ee30657",
   "metadata": {},
   "outputs": [],
   "source": []
  },
  {
   "cell_type": "code",
   "execution_count": null,
   "id": "dd0490b0-3835-4b76-97cf-5e9f0f94d0ee",
   "metadata": {},
   "outputs": [],
   "source": []
  },
  {
   "cell_type": "code",
   "execution_count": null,
   "id": "2defe387-4e27-412e-8850-140bb0b1700e",
   "metadata": {},
   "outputs": [],
   "source": []
  },
  {
   "cell_type": "code",
   "execution_count": 159,
   "id": "88fcd733-6ac4-412c-914d-33f5e195ff0c",
   "metadata": {},
   "outputs": [
    {
     "data": {
      "text/plain": [
       "DeviceArray(39.03466272, dtype=float64)"
      ]
     },
     "execution_count": 159,
     "metadata": {},
     "output_type": "execute_result"
    }
   ],
   "source": [
    "r_map*60"
   ]
  },
  {
   "cell_type": "code",
   "execution_count": 162,
   "id": "15e308ea-901c-4ba2-a673-8ae3355de1ff",
   "metadata": {},
   "outputs": [
    {
     "data": {
      "text/plain": [
       "<matplotlib.colorbar.Colorbar at 0x7ff37c033280>"
      ]
     },
     "execution_count": 162,
     "metadata": {},
     "output_type": "execute_result"
    },
    {
     "data": {
      "image/png": "[encoded data removed]",
      "text/plain": [
       "<Figure size 640x480 with 2 Axes>"
      ]
     },
     "metadata": {},
     "output_type": "display_data"
    }
   ],
   "source": [
    "plt.imshow(vis_model[300], vmin=-5e-6, vmax =0)\n",
    "plt.colorbar()"
   ]
  },
  {
   "cell_type": "code",
   "execution_count": 154,
   "id": "1e0e5272-03f5-40ca-997b-9caa21c10cd3",
   "metadata": {},
   "outputs": [
    {
     "data": {
      "image/png": "[encoded data removed]",
      "text/plain": [
       "<Figure size 640x480 with 1 Axes>"
      ]
     },
     "metadata": {},
     "output_type": "display_data"
    },
    {
     "name": "stderr",
     "output_type": "stream",
     "text": [
      "WARNING:matplotlib.animation:MovieWriter ffmpeg unavailable; using Pillow instead.\n"
     ]
    }
   ],
   "source": [
    "import matplotlib.animation as animation\n",
    "\n",
    "# Create the figure and axes objects\n",
    "fig, ax = plt.subplots()\n",
    "\n",
    "# Set the initial image\n",
    "im = ax.imshow(vis_model[0], animated=True, vmin=-5e-6, vmax =0)\n",
    "\n",
    "def update(i):\n",
    "    im.set_array(vis_model[i])\n",
    "    return im, \n",
    "\n",
    "# Create the animation object\n",
    "animation_fig = animation.FuncAnimation(fig, update, frames=len(vis_model), interval=10, blit=True,repeat_delay=10,)\n",
    "\n",
    "# Show the animation\n",
    "plt.show()\n",
    "\n",
    "animation_fig.save(\"ms0735.gif\")"
   ]
  },
  {
   "cell_type": "code",
   "execution_count": 133,
   "id": "09f24cd2-94ab-4cf2-9416-7c3ebbcb64dd",
   "metadata": {},
   "outputs": [
    {
     "data": {
      "text/plain": [
       "(718, 718, 718)"
      ]
     },
     "execution_count": 133,
     "metadata": {},
     "output_type": "execute_result"
    }
   ],
   "source": [
    "vis_model.shape"
   ]
  },
  {
   "cell_type": "code",
   "execution_count": 160,
   "id": "f36f221c-88eb-411a-958b-9978f5b6079f",
   "metadata": {},
   "outputs": [],
   "source": [
    "import scipy\n",
    "int_model = scipy.integrate.trapz(vis_model, dx=dx, axis=-1)"
   ]
  },
  {
   "cell_type": "code",
   "execution_count": 161,
   "id": "55449bc4-a648-4f1d-861f-61ef3fd0ee96",
   "metadata": {},
   "outputs": [
    {
     "data": {
      "text/plain": [
       "<matplotlib.colorbar.Colorbar at 0x7ff3bc06edc0>"
      ]
     },
     "execution_count": 161,
     "metadata": {},
     "output_type": "execute_result"
    },
    {
     "data": {
      "image/png": "[encoded data removed]",
      "text/plain": [
       "<Figure size 640x480 with 2 Axes>"
      ]
     },
     "metadata": {},
     "output_type": "display_data"
    }
   ],
   "source": [
    "plt.imshow(int_model)\n",
    "plt.colorbar()"
   ]
  },
  {
   "cell_type": "code",
   "execution_count": 116,
   "id": "fa58a599-8ce1-4319-ad00-12fed6860a9c",
   "metadata": {},
   "outputs": [
    {
     "data": {
      "text/plain": [
       "<matplotlib.colorbar.Colorbar at 0x7ff59c4cd670>"
      ]
     },
     "execution_count": 116,
     "metadata": {},
     "output_type": "execute_result"
    },
    {
     "data": {
      "image/png": "[encoded data removed]",
      "text/plain": [
       "<Figure size 640x480 with 2 Axes>"
      ]
     },
     "metadata": {},
     "output_type": "display_data"
    }
   ],
   "source": [
    "plt.imshow(test)\n",
    "plt.colorbar()"
   ]
  },
  {
   "cell_type": "code",
   "execution_count": 228,
   "id": "66f1ef8a",
   "metadata": {},
   "outputs": [],
   "source": [
    "with open('ms0735_beam.pk', 'wb') as f:\n",
    "    pk.dump(full_beam, f)"
   ]
  },
  {
   "cell_type": "code",
   "execution_count": 69,
   "id": "d76f22b3",
   "metadata": {},
   "outputs": [],
   "source": [
    "with open('ms0735.pk', 'rb') as f:\n",
    "    test = pk.load(f)"
   ]
  },
  {
   "cell_type": "code",
   "execution_count": 164,
   "id": "417791c7",
   "metadata": {},
   "outputs": [
    {
     "data": {
      "image/png": "[encoded data removed]",
      "text/plain": [
       "<Figure size 640x480 with 1 Axes>"
      ]
     },
     "metadata": {},
     "output_type": "display_data"
    }
   ],
   "source": [
    "plt.clf();plt.plot(int_model[:,750//5]);plt.show()"
   ]
  },
  {
   "cell_type": "code",
   "execution_count": 167,
   "id": "66f2cd1d-b717-499a-bc12-91c450fc9f79",
   "metadata": {},
   "outputs": [
    {
     "data": {
      "image/png": "[encoded data removed]",
      "text/plain": [
       "<Figure size 640x480 with 1 Axes>"
      ]
     },
     "metadata": {},
     "output_type": "display_data"
    }
   ],
   "source": [
    "plt.clf();plt.plot(vis_model[:,750//5]);plt.show()"
   ]
  },
  {
   "cell_type": "code",
   "execution_count": 220,
   "id": "60a559c5-68d9-4616-a50e-f851ffef23f5",
   "metadata": {},
   "outputs": [
    {
     "data": {
      "image/png": "[encoded data removed]",
      "text/plain": [
       "<Figure size 640x480 with 1 Axes>"
      ]
     },
     "metadata": {},
     "output_type": "display_data"
    }
   ],
   "source": [
    "\n",
    "plt.clf();plt.plot(((conv_img-conv_img2)/conv_img)[:,750//5]);plt.show()"
   ]
  },
  {
   "cell_type": "code",
   "execution_count": 168,
   "id": "a22b8b94-d2e1-4bb0-9d7c-4e861f837c9a",
   "metadata": {},
   "outputs": [
    {
     "data": {
      "image/png": "[encoded data removed]",
      "text/plain": [
       "<Figure size 640x480 with 1 Axes>"
      ]
     },
     "metadata": {},
     "output_type": "display_data"
    }
   ],
   "source": [
    "plt.clf();plt.plot(test[:,750//5]);plt.show()"
   ]
  },
  {
   "cell_type": "code",
   "execution_count": 61,
   "id": "c707ef81-55a8-4d01-b2d1-bcd99171d955",
   "metadata": {},
   "outputs": [],
   "source": [
    "jax_conv_model = model(xyz, 2, 0, 0, 3, 0, 0, 0, float(y2K_RJ(freq, Te)*dr*XMpc/me), beam, X, Y, params[:42])\n"
   ]
  },
  {
   "cell_type": "code",
   "execution_count": 62,
   "id": "6c003323-e97d-426f-963b-68037d3aab35",
   "metadata": {},
   "outputs": [
    {
     "data": {
      "image/png": "[encoded data removed]",
      "text/plain": [
       "<Figure size 640x480 with 1 Axes>"
      ]
     },
     "metadata": {},
     "output_type": "display_data"
    }
   ],
   "source": [
    "plt.clf();plt.plot(jax_conv_model[:,750//5]);plt.show()"
   ]
  },
  {
   "cell_type": "code",
   "execution_count": 56,
   "id": "0ff8d3d9-a9ec-490b-94b4-f7d61acda4f5",
   "metadata": {},
   "outputs": [
    {
     "ename": "NameError",
     "evalue": "name 'vis_model' is not defined",
     "output_type": "error",
     "traceback": [
      "\u001b[0;31m---------------------------------------------------------------------------\u001b[0m",
      "\u001b[0;31mNameError\u001b[0m                                 Traceback (most recent call last)",
      "Cell \u001b[0;32mIn[56], line 6\u001b[0m\n\u001b[1;32m      3\u001b[0m \u001b[38;5;66;03m#kernel = Gaussian2DKernel(x_stddev=15)\u001b[39;00m\n\u001b[1;32m      4\u001b[0m full_beam \u001b[38;5;241m=\u001b[39m model(xyz, \u001b[38;5;241m1\u001b[39m, \u001b[38;5;241m0\u001b[39m, \u001b[38;5;241m0\u001b[39m, \u001b[38;5;241m0\u001b[39m, \u001b[38;5;241m0\u001b[39m, \u001b[38;5;241m0\u001b[39m, \u001b[38;5;241m0\u001b[39m, \u001b[38;5;28mfloat\u001b[39m(y2K_RJ(freq, Te)\u001b[38;5;241m*\u001b[39mdr\u001b[38;5;241m*\u001b[39mXMpc\u001b[38;5;241m/\u001b[39mme), beam, X, Y, params[:\u001b[38;5;241m42\u001b[39m])\n\u001b[0;32m----> 6\u001b[0m conv_img \u001b[38;5;241m=\u001b[39m convolve_fft(\u001b[43mvis_model\u001b[49m, full_beam)\n\u001b[1;32m      7\u001b[0m conv_img2 \u001b[38;5;241m=\u001b[39m fft_conv(vis_model, full_beam)\n",
      "\u001b[0;31mNameError\u001b[0m: name 'vis_model' is not defined"
     ]
    }
   ],
   "source": [
    "from astropy.convolution import convolve_fft, Gaussian2DKernel\n",
    "\n",
    "#kernel = Gaussian2DKernel(x_stddev=15)\n",
    "full_beam = model(xyz, 1, 0, 0, 0, 0, 0, 0, float(y2K_RJ(freq, Te)*dr*XMpc/me), beam, X, Y, params[:42])\n",
    "\n",
    "conv_img = convolve_fft(vis_model, full_beam)\n",
    "conv_img2 = fft_conv(vis_model, full_beam)\n"
   ]
  },
  {
   "cell_type": "code",
   "execution_count": null,
   "id": "b63aacbf-08eb-4b26-88c4-aeb18713bff2",
   "metadata": {},
   "outputs": [],
   "source": [
    "plt.imshow(full_beam)"
   ]
  },
  {
   "cell_type": "code",
   "execution_count": 63,
   "id": "ff6367bc-61cf-4624-8995-988aa84fcd4e",
   "metadata": {},
   "outputs": [],
   "source": [
    "@jax.jit\n",
    "def fft_conv(image, kernel):\n",
    "    \"\"\"\n",
    "    Perform a convolution using FFTs for speed.\n",
    "\n",
    "    Arguments:\n",
    "\n",
    "        image: Data to be convolved\n",
    "\n",
    "        kernel: Convolution kernel\n",
    "\n",
    "    Returns:\n",
    "\n",
    "        convolved_map: Image convolved with kernel.\n",
    "    \"\"\"\n",
    "    Fmap = jnp.fft.rfft2(image)\n",
    "    Fkernel = jnp.fft.rfft2(kernel)\n",
    "    convolved_map = jnp.fft.fftshift(jnp.real(jnp.fft.irfft2(Fmap * Fkernel)))\n",
    "\n",
    "    return convolved_map"
   ]
  },
  {
   "cell_type": "code",
   "execution_count": 64,
   "id": "d07270f7",
   "metadata": {},
   "outputs": [],
   "source": [
    "import jax.scipy as jsp\n",
    "#from minkasi_jax.utils import fft_conv\n",
    "\n",
    "@partial(\n",
    "    jax.jit,\n",
    "    static_argnums=(1, 2, 3, 4, 5, 6, 7, 8),\n",
    ")\n",
    "def model(\n",
    "    xyz,\n",
    "    n_isobeta,\n",
    "    n_gnfw,\n",
    "    n_gaussian,\n",
    "    n_uniform,\n",
    "    n_exponential,\n",
    "    n_powerlaw,\n",
    "    n_powerlaw_cos,\n",
    "    dx,\n",
    "    beam,\n",
    "    idx,\n",
    "    idy,\n",
    "    *params\n",
    "):\n",
    "    \"\"\"\n",
    "    Generically create models with substructure.\n",
    "\n",
    "    Arguments:\n",
    "\n",
    "        xyz: Coordinate grid to compute profile on.\n",
    "\n",
    "        n_isobeta: Number of isobeta profiles to add.\n",
    "\n",
    "        n_gnfw: Number of gnfw profiles to add.\n",
    "\n",
    "        n_gaussian: Number of gaussians to add.\n",
    "\n",
    "        n_uniform: Number of uniform ellipsoids to add.\n",
    "\n",
    "        n_exponential: Number of exponential ellipsoids to add.\n",
    "\n",
    "        n_powerlaw: Number of power law ellipsoids to add.\n",
    "\n",
    "        n_powerlaw_cos: Number of radial power law ellipsoids with angulas cos term to add.\n",
    "\n",
    "        dx: Factor to scale by while integrating.\n",
    "            Since it is a global factor it can contain unit conversions.\n",
    "            Historically equal to y2K_RJ * dr * da * XMpc / me.\n",
    "\n",
    "        beam: Beam to convolve by, should be a 2d array.\n",
    "\n",
    "        idx: RA TOD in units of pixels.\n",
    "             Should have Dec stretch applied.\n",
    "\n",
    "        idy: Dec TOD in units of pixels.\n",
    "\n",
    "        params: 1D array of model parameters.\n",
    "\n",
    "    Returns:\n",
    "\n",
    "        model: The model with the specified substructure.\n",
    "    \"\"\"\n",
    "    params = jnp.array(params)\n",
    "    params = jnp.ravel(params)\n",
    "    isobetas = jnp.zeros((1, 1), dtype=float)\n",
    "    gnfws = jnp.zeros((1, 1), dtype=float)\n",
    "    gaussians = jnp.zeros((1, 1), dtype=float)\n",
    "    uniforms = jnp.zeros((1, 1), dtype=float)\n",
    "    exponentials = jnp.zeros((1, 1), dtype=float)\n",
    "    powerlaws = jnp.zeros((1, 1), dtype=float)\n",
    "\n",
    "    start = 0\n",
    "    if n_isobeta:\n",
    "        delta = n_isobeta * N_PAR_ISOBETA\n",
    "        #isobetas = lax.slice(params, (1, start), (1, start + delta)).reshape((n_isobeta, N_PAR_ISOBETA))\n",
    "        isobetas = params[start : start + delta].reshape((n_isobeta, N_PAR_ISOBETA))\n",
    "        start += delta\n",
    "    if n_gnfw:\n",
    "        delta = n_gnfw * N_PAR_GNFW\n",
    "        gnfws = params[start : start + delta].reshape((n_gnfw, N_PAR_GNFW))\n",
    "        start += delta\n",
    "    if n_gaussian:\n",
    "        delta = n_gaussian * N_PAR_GAUSSIAN\n",
    "        gaussians = params[start : start + delta].reshape((n_gaussian, N_PAR_GAUSSIAN))\n",
    "        start += delta\n",
    "    if n_uniform:\n",
    "        delta = n_uniform * N_PAR_UNIFORM\n",
    "        uniforms = params[start : start + delta].reshape((n_uniform, N_PAR_UNIFORM))\n",
    "        start += delta\n",
    "    if n_exponential:\n",
    "        delta = n_exponential * N_PAR_EXPONENTIAL\n",
    "        exponentials = params[start : start + delta].reshape(\n",
    "            (n_exponential, N_PAR_EXPONENTIAL)\n",
    "        )\n",
    "        start += delta\n",
    "    if n_powerlaw:\n",
    "        delta = n_powerlaw * N_PAR_POWERLAW\n",
    "        powerlaws = params[start : start + delta].reshape((n_powerlaw, N_PAR_POWERLAW))\n",
    "        start += delta\n",
    "    if n_powerlaw_cos:\n",
    "        delta = n_powerlaw_cos * N_PAR_POWERLAW\n",
    "        powerlaw_coses = params[start : start + delta].reshape(\n",
    "            (n_powerlaw_cos, N_PAR_POWERLAW)\n",
    "        )\n",
    "        start += delta\n",
    "\n",
    "    pressure = jnp.zeros((xyz[0].shape[1], xyz[1].shape[0], xyz[2].shape[2]))\n",
    "    for i in range(n_isobeta):\n",
    "        pressure = jnp.add(pressure, isobeta(*isobetas[i], xyz))\n",
    "\n",
    "    for i in range(n_gnfw):\n",
    "        pressure = jnp.add(pressure, gnfw(*gnfws[i], xyz))\n",
    "\n",
    "    for i in range(n_gaussian):\n",
    "        pressure = jnp.add(pressure, gaussian(*gaussians[i], xyz))\n",
    "\n",
    "    for i in range(n_uniform):\n",
    "        pressure = add_uniform(pressure, xyz, *uniforms[i])\n",
    "\n",
    "    for i in range(n_exponential):\n",
    "        pressure = add_exponential(pressure, xyz, *exponentials[i])\n",
    "\n",
    "    for i in range(n_powerlaw):\n",
    "        pressure = add_powerlaw(pressure, xyz, *powerlaws[i])\n",
    "\n",
    "    for i in range(n_powerlaw_cos):\n",
    "        pressure = add_powerlaw_cos(pressure, xyz, *powerlaw_coses[i])\n",
    "    #return pressure\n",
    "    # Integrate along line of site\n",
    "    ip = jnp.trapz(pressure, dx=dx, axis=-1)\n",
    "    #return ip\n",
    "    bound0, bound1 = int((ip.shape[0] - beam.shape[0]) / 2), int(\n",
    "        (ip.shape[1] - beam.shape[1]) / 2\n",
    "    )\n",
    "    beam = jnp.pad(\n",
    "        beam,\n",
    "        (\n",
    "            (bound0, ip.shape[0] - beam.shape[0] - bound0),\n",
    "            (bound1, ip.shape[1] - beam.shape[1] - bound1),\n",
    "        ),\n",
    "    )\n",
    "    #return beam\n",
    "    ip = fft_conv(ip, beam)\n",
    "    #ip = jax.scipy.signal.fftconvolve(ip, beam, mode='same')\n",
    "\n",
    "    # return jsp.ndimage.map_coordinates(ip, (idy, idx), order=0)\n",
    "    return ip[idy.ravel(), idx.ravel()].reshape(idx.shape)"
   ]
  },
  {
   "cell_type": "code",
   "execution_count": 79,
   "id": "872a06bb",
   "metadata": {},
   "outputs": [
    {
     "data": {
      "text/plain": [
       "150"
      ]
     },
     "execution_count": 79,
     "metadata": {},
     "output_type": "execute_result"
    }
   ],
   "source": [
    "750//5"
   ]
  },
  {
   "cell_type": "code",
   "execution_count": null,
   "id": "8745e431",
   "metadata": {},
   "outputs": [],
   "source": []
  },
  {
   "cell_type": "code",
   "execution_count": null,
   "id": "fa7cb48a",
   "metadata": {},
   "outputs": [],
   "source": []
  },
  {
   "cell_type": "code",
   "execution_count": null,
   "id": "57aec2f2",
   "metadata": {},
   "outputs": [],
   "source": [
    "pars_fit = params\n",
    "if fit:\n",
    "    t1 = time.time()\n",
    "    print_once(\"Started actual fitting\")\n",
    "    pars_fit, chisq, curve, errs = minkasi.fit_timestreams_with_derivs_manyfun(\n",
    "        funs,\n",
    "        params,\n",
    "        npars,\n",
    "        todvec,\n",
    "        to_fit,\n",
    "        maxiter=cfg[\"minkasi\"][\"maxiter\"],\n",
    "        priors=priors,\n",
    "        prior_vals=prior_vals,\n",
    "    )\n",
    "    minkasi.comm.barrier()\n",
    "    t2 = time.time()\n",
    "    print_once(\"Took\", t2 - t1, \"seconds to fit\")\n",
    "\n",
    "    for i, re in enumerate(re_eval):\n",
    "        if not re:\n",
    "            continue\n",
    "        pars_fit[i] = eval(re)\n",
    "\n",
    "    print_once(\"Fit parameters:\")\n",
    "    for l, pf, err in zip(labels, pars_fit, errs):\n",
    "        print_once(\"\\t\", l, \"=\", pf, \"+/-\", err)\n",
    "    print_once(\"chisq =\", chisq)\n",
    "\n",
    "    if minkasi.myrank == 0:\n",
    "        res_path = os.path.join(outdir, \"results\")\n",
    "        print_once(\"Saving results to\", res_path + \".npz\")\n",
    "        np.savez_compressed(\n",
    "            res_path, pars_fit=pars_fit, chisq=chisq, errs=errs, curve=curve\n",
    "        )"
   ]
  },
  {
   "cell_type": "code",
   "execution_count": null,
   "id": "51b40623",
   "metadata": {},
   "outputs": [],
   "source": []
  }
 ],
 "metadata": {
  "kernelspec": {
   "display_name": "gpu-jax",
   "language": "python",
   "name": "gpu-jax"
  },
  "language_info": {
   "codemirror_mode": {
    "name": "ipython",
    "version": 3
   },
   "file_extension": ".py",
   "mimetype": "text/x-python",
   "name": "python",
   "nbconvert_exporter": "python",
   "pygments_lexer": "ipython3",
   "version": "3.8.17"
  }
 },
 "nbformat": 4,
 "nbformat_minor": 5
}
