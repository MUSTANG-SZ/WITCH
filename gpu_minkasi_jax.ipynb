{
 "cells": [
  {
   "cell_type": "code",
   "execution_count": 1,
   "id": "e17c906c",
   "metadata": {},
   "outputs": [
    {
     "name": "stdout",
     "output_type": "stream",
     "text": [
      "importing mpi4py\n"
     ]
    }
   ],
   "source": [
    "import os\n",
    "import sys\n",
    "import time\n",
    "import glob\n",
    "import shutil\n",
    "import argparse as argp\n",
    "from functools import partial\n",
    "import yaml\n",
    "import numpy as np\n",
    "import minkasi\n",
    "#from jack_minkasi import minkasi\n",
    "from astropy.coordinates import Angle\n",
    "from astropy import units as u\n",
    "import minkasi_jax.presets_by_source as pbs\n",
    "from minkasi_jax.utils import *\n",
    "from minkasi_jax import helper\n",
    "from minkasi_jax.core import model\n",
    "\n",
    "from matplotlib import pyplot as plt\n",
    "\n",
    "%load_ext autoreload\n",
    "%autoreload 2"
   ]
  },
  {
   "cell_type": "code",
   "execution_count": 2,
   "id": "8feb9b48-d0d0-4aab-8fc1-e1f8aec4e672",
   "metadata": {},
   "outputs": [],
   "source": [
    "from functools import partial\n",
    "import jax\n",
    "import jax.numpy as jnp\n",
    "from minkasi_jax.utils import fft_conv\n",
    "from minkasi_jax.structure import (\n",
    "    isobeta,\n",
    "    gnfw,\n",
    "    gaussian,\n",
    "    add_uniform,\n",
    "    add_exponential,\n",
    "    add_powerlaw,\n",
    "    add_powerlaw_cos,\n",
    ")\n",
    "\n",
    "import jax.lax as lax\n",
    "\n",
    "N_PAR_ISOBETA = 9\n",
    "N_PAR_GNFW = 14\n",
    "N_PAR_GAUSSIAN = 9\n",
    "N_PAR_UNIFORM = 8\n",
    "N_PAR_EXPONENTIAL = 14\n",
    "N_PAR_POWERLAW = 11\n",
    "\n",
    "ARGNUM_SHIFT = 11\n",
    "\n",
    "@partial(\n",
    "    jax.jit,\n",
    "    static_argnums=(1, 2, 3, 4, 5, 6, 7, 8),\n",
    ")\n",
    "def model(\n",
    "    xyz,\n",
    "    n_isobeta,\n",
    "    n_gnfw,\n",
    "    n_gaussian,\n",
    "    n_uniform,\n",
    "    n_exponential,\n",
    "    n_powerlaw,\n",
    "    n_powerlaw_cos,\n",
    "    dx,\n",
    "    beam,\n",
    "    idx,\n",
    "    idy,\n",
    "    *params\n",
    "):\n",
    "    \"\"\"\n",
    "    Generically create models with substructure.\n",
    "\n",
    "    Arguments:\n",
    "\n",
    "        xyz: Coordinate grid to compute profile on.\n",
    "\n",
    "        n_isobeta: Number of isobeta profiles to add.\n",
    "\n",
    "        n_gnfw: Number of gnfw profiles to add.\n",
    "\n",
    "        n_gaussian: Number of gaussians to add.\n",
    "\n",
    "        n_uniform: Number of uniform ellipsoids to add.\n",
    "\n",
    "        n_exponential: Number of exponential ellipsoids to add.\n",
    "\n",
    "        n_powerlaw: Number of power law ellipsoids to add.\n",
    "\n",
    "        n_powerlaw_cos: Number of radial power law ellipsoids with angulas cos term to add.\n",
    "\n",
    "        dx: Factor to scale by while integrating.\n",
    "            Since it is a global factor it can contain unit conversions.\n",
    "            Historically equal to y2K_RJ * dr * da * XMpc / me.\n",
    "\n",
    "        beam: Beam to convolve by, should be a 2d array.\n",
    "\n",
    "        idx: RA TOD in units of pixels.\n",
    "             Should have Dec stretch applied.\n",
    "\n",
    "        idy: Dec TOD in units of pixels.\n",
    "\n",
    "        params: 1D array of model parameters.\n",
    "\n",
    "    Returns:\n",
    "\n",
    "        model: The model with the specified substructure.\n",
    "    \"\"\"\n",
    "    params = jnp.array(params)\n",
    "    params = jnp.ravel(params)\n",
    "    isobetas = jnp.zeros((1, 1), dtype=float)\n",
    "    gnfws = jnp.zeros((1, 1), dtype=float)\n",
    "    gaussians = jnp.zeros((1, 1), dtype=float)\n",
    "    uniforms = jnp.zeros((1, 1), dtype=float)\n",
    "    exponentials = jnp.zeros((1, 1), dtype=float)\n",
    "    powerlaws = jnp.zeros((1, 1), dtype=float)\n",
    "\n",
    "    start = 0\n",
    "    if n_isobeta:\n",
    "        delta = n_isobeta * N_PAR_ISOBETA\n",
    "        #isobetas = lax.slice(params, (1, start), (1, start + delta)).reshape((n_isobeta, N_PAR_ISOBETA))\n",
    "        isobetas = params[start : start + delta].reshape((n_isobeta, N_PAR_ISOBETA))\n",
    "        start += delta\n",
    "    if n_gnfw:\n",
    "        delta = n_gnfw * N_PAR_GNFW\n",
    "        gnfws = params[start : start + delta].reshape((n_gnfw, N_PAR_GNFW))\n",
    "        start += delta\n",
    "    if n_gaussian:\n",
    "        delta = n_gaussian * N_PAR_GAUSSIAN\n",
    "        gaussians = params[start : start + delta].reshape((n_gaussian, N_PAR_GAUSSIAN))\n",
    "        start += delta\n",
    "    if n_uniform:\n",
    "        delta = n_uniform * N_PAR_UNIFORM\n",
    "        uniforms = params[start : start + delta].reshape((n_uniform, N_PAR_UNIFORM))\n",
    "        start += delta\n",
    "    if n_exponential:\n",
    "        delta = n_exponential * N_PAR_EXPONENTIAL\n",
    "        exponentials = params[start : start + delta].reshape(\n",
    "            (n_exponential, N_PAR_EXPONENTIAL)\n",
    "        )\n",
    "        start += delta\n",
    "    if n_powerlaw:\n",
    "        delta = n_powerlaw * N_PAR_POWERLAW\n",
    "        powerlaws = params[start : start + delta].reshape((n_powerlaw, N_PAR_POWERLAW))\n",
    "        start += delta\n",
    "    if n_powerlaw_cos:\n",
    "        delta = n_powerlaw_cos * N_PAR_POWERLAW\n",
    "        powerlaw_coses = params[start : start + delta].reshape(\n",
    "            (n_powerlaw_cos, N_PAR_POWERLAW)\n",
    "        )\n",
    "        start += delta\n",
    "\n",
    "    pressure = jnp.zeros((xyz[0].shape[1], xyz[1].shape[0], xyz[2].shape[2]))\n",
    "    for i in range(n_isobeta):\n",
    "        pressure = jnp.add(pressure, isobeta(*isobetas[i], xyz))\n",
    "\n",
    "    for i in range(n_gnfw):\n",
    "        pressure = jnp.add(pressure, gnfw(*gnfws[i], xyz))\n",
    "\n",
    "    for i in range(n_gaussian):\n",
    "        pressure = jnp.add(pressure, gaussian(*gaussians[i], xyz))\n",
    "\n",
    "    for i in range(n_uniform):\n",
    "        pressure = add_uniform(pressure, xyz, *uniforms[i])\n",
    "\n",
    "    for i in range(n_exponential):\n",
    "        pressure = add_exponential(pressure, xyz, *exponentials[i])\n",
    "\n",
    "    for i in range(n_powerlaw):\n",
    "        pressure = add_powerlaw(pressure, xyz, *powerlaws[i])\n",
    "\n",
    "    for i in range(n_powerlaw_cos):\n",
    "        pressure = add_powerlaw_cos(pressure, xyz, *powerlaw_coses[i])\n",
    "\n",
    "    # Integrate along line of site\n",
    "    ip = jnp.trapz(pressure, dx=dx, axis=-1)\n",
    "\n",
    "    bound0, bound1 = int((ip.shape[0] - beam.shape[0]) / 2), int(\n",
    "        (ip.shape[1] - beam.shape[1]) / 2\n",
    "    )\n",
    "    beam = jnp.pad(\n",
    "        beam,\n",
    "        (\n",
    "            (bound0, ip.shape[0] - beam.shape[0] - bound0),\n",
    "            (bound1, ip.shape[1] - beam.shape[1] - bound1),\n",
    "        ),\n",
    "    )\n",
    "\n",
    "    print(idy.shape)\n",
    "\n",
    "    ip = fft_conv(ip, beam)\n",
    "\n",
    "    # return jsp.ndimage.map_coordinates(ip, (idy, idx), order=0)\n",
    "    return ip[idy.ravel(), idx.ravel()].reshape(idx.shape)"
   ]
  },
  {
   "cell_type": "code",
   "execution_count": 3,
   "id": "f117e7f5-8784-4bc8-9d16-194032ca0e3d",
   "metadata": {},
   "outputs": [],
   "source": [
    "def print_once(*args):\n",
    "    \"\"\"\n",
    "    Helper function to print only once when running with MPI.\n",
    "    Only the rank 0 process will print.\n",
    "\n",
    "    Arguments:\n",
    "\n",
    "        *args: Arguments to pass to print.\n",
    "    \"\"\"\n",
    "    if minkasi.myrank == 0:\n",
    "        print(*args)\n",
    "        sys.stdout.flush()\n"
   ]
  },
  {
   "cell_type": "code",
   "execution_count": 4,
   "id": "b0db7d24-6193-4f4d-a996-546c36a7a057",
   "metadata": {},
   "outputs": [],
   "source": [
    "import time\n",
    "\n",
    "def timer(f, *args):\n",
    "    starttime = time.time()\n",
    "    result = f(*args)\n",
    "    endtime = time.time()\n",
    "    return endtime - starttime"
   ]
  },
  {
   "cell_type": "code",
   "execution_count": 5,
   "id": "ea0bc172",
   "metadata": {},
   "outputs": [
    {
     "name": "stdout",
     "output_type": "stream",
     "text": [
      "tod #:  285\n"
     ]
    }
   ],
   "source": [
    "with open('/home/r/rbond/jorlo/dev/minkasi_jax/configs/ms0735_noSub.yaml', \"r\") as file:\n",
    "    cfg = yaml.safe_load(file)\n",
    "#with open('/home/r/rbond/jorlo/dev/minkasi_jax/configs/ms0735/ms0735.yaml', \"r\") as file:\n",
    "#    cfg = yaml.safe_load(file)\n",
    "fit = True\n",
    "\n",
    "# Setup coordindate stuff\n",
    "z = eval(str(cfg[\"coords\"][\"z\"]))\n",
    "da = get_da(z)\n",
    "r_map = eval(str(cfg[\"coords\"][\"r_map\"]))\n",
    "dr = eval(str(cfg[\"coords\"][\"dr\"]))\n",
    "xyz = make_grid(r_map, dr)\n",
    "coord_conv = eval(str(cfg[\"coords\"][\"conv_factor\"]))\n",
    "x0 = eval(str(cfg[\"coords\"][\"x0\"]))\n",
    "y0 = eval(str(cfg[\"coords\"][\"y0\"]))\n",
    "\n",
    "# Load TODs\n",
    "tod_names = glob.glob(os.path.join(cfg[\"paths\"][\"tods\"], cfg[\"paths\"][\"glob\"]))\n",
    "bad_tod, addtag = pbs.get_bad_tods(\n",
    "    cfg[\"cluster\"][\"name\"], ndo=cfg[\"paths\"][\"ndo\"], odo=cfg[\"paths\"][\"odo\"]\n",
    ")\n",
    "tod_names = minkasi.cut_blacklist(tod_names, bad_tod)\n",
    "tod_names.sort()\n",
    "tod_names = tod_names[minkasi.myrank :: minkasi.nproc]\n",
    "print('tod #: ', len(tod_names))\n",
    "minkasi.barrier()  # Is this needed?\n",
    "\n",
    "#idx = np.random.randint(-307, 1058, (899454,))\n",
    "#idy = np.random.randint(-307, 1058, (899454,))"
   ]
  },
  {
   "cell_type": "code",
   "execution_count": 6,
   "id": "2dbb6a99-86fd-4826-a1ff-22b3c16cc4ee",
   "metadata": {},
   "outputs": [
    {
     "name": "stdout",
     "output_type": "stream",
     "text": [
      "WARNING - calinfo information not found in fits file header - to track JytoK etc you may need to reprocess the fits files using mustangidl > revision 932\n",
      "nsamp and ndet are  182 24707.0 4496674  on  /scratch/r/rbond/jorlo/MS0735/TS_EaCMS0f0_51_5_Oct_2021/Signal_TOD-AGBT19A_092_01-s12.fits with lims  115.13548797090777 115.79331715025005 74.15935947949289 74.334082548651\n",
      "truncating from  24707  to  24697\n",
      "WARNING - calinfo information not found in fits file header - to track JytoK etc you may need to reprocess the fits files using mustangidl > revision 932\n",
      "nsamp and ndet are  179 24708.0 4422732  on  /scratch/r/rbond/jorlo/MS0735/TS_EaCMS0f0_51_5_Oct_2021/Signal_TOD-AGBT19A_092_01-s13.fits with lims  115.13373944248026 115.79094024441889 74.15967366819471 74.33531881289076\n",
      "truncating from  24708  to  24697\n",
      "WARNING - calinfo information not found in fits file header - to track JytoK etc you may need to reprocess the fits files using mustangidl > revision 932\n",
      "nsamp and ndet are  184 24708.0 4546272  on  /scratch/r/rbond/jorlo/MS0735/TS_EaCMS0f0_51_5_Oct_2021/Signal_TOD-AGBT19A_092_01-s14.fits with lims  115.1330017820499 115.7887955650195 74.15989906443733 74.33552371856587\n",
      "truncating from  24708  to  24697\n",
      "WARNING - calinfo information not found in fits file header - to track JytoK etc you may need to reprocess the fits files using mustangidl > revision 932\n",
      "nsamp and ndet are  180 24708.0 4447440  on  /scratch/r/rbond/jorlo/MS0735/TS_EaCMS0f0_51_5_Oct_2021/Signal_TOD-AGBT19A_092_01-s15.fits with lims  115.13408095193876 115.79137737652576 74.15940046062792 74.3356056808359\n",
      "truncating from  24708  to  24697\n",
      "WARNING - calinfo information not found in fits file header - to track JytoK etc you may need to reprocess the fits files using mustangidl > revision 932\n",
      "nsamp and ndet are  177 24708.0 4373316  on  /scratch/r/rbond/jorlo/MS0735/TS_EaCMS0f0_51_5_Oct_2021/Signal_TOD-AGBT19A_092_01-s17.fits with lims  115.13873914095271 115.78339971557519 74.15887453606183 74.33706051112911\n",
      "truncating from  24708  to  24697\n",
      "WARNING - calinfo information not found in fits file header - to track JytoK etc you may need to reprocess the fits files using mustangidl > revision 932\n",
      "nsamp and ndet are  180 24709.0 4447620  on  /scratch/r/rbond/jorlo/MS0735/TS_EaCMS0f0_51_5_Oct_2021/Signal_TOD-AGBT19A_092_01-s18.fits with lims  115.13685400874178 115.79201941430775 74.15823932846901 74.33725858661505\n",
      "truncating from  24709  to  24697\n",
      "WARNING - calinfo information not found in fits file header - to track JytoK etc you may need to reprocess the fits files using mustangidl > revision 932\n",
      "nsamp and ndet are  161 24709.0 3978149  on  /scratch/r/rbond/jorlo/MS0735/TS_EaCMS0f0_51_5_Oct_2021/Signal_TOD-AGBT19A_092_01-s19.fits with lims  115.13499619728753 115.77442484700579 74.15782951711881 74.3377025489111\n",
      "truncating from  24709  to  24697\n",
      "WARNING - calinfo information not found in fits file header - to track JytoK etc you may need to reprocess the fits files using mustangidl > revision 932\n",
      "nsamp and ndet are  164 24709.0 4052276  on  /scratch/r/rbond/jorlo/MS0735/TS_EaCMS0f0_51_5_Oct_2021/Signal_TOD-AGBT19A_092_01-s20.fits with lims  115.13141717816245 115.78635035729664 74.15830763036071 74.33723126585836\n",
      "truncating from  24709  to  24697\n",
      "WARNING - calinfo information not found in fits file header - to track JytoK etc you may need to reprocess the fits files using mustangidl > revision 932\n",
      "nsamp and ndet are  176 24708.0 4348608  on  /scratch/r/rbond/jorlo/MS0735/TS_EaCMS0f0_51_5_Oct_2021/Signal_TOD-AGBT19A_092_01-s22.fits with lims  115.12936812141145 115.79035284815026 74.15816419638814 74.33699903942659\n",
      "truncating from  24708  to  24697\n",
      "WARNING - calinfo information not found in fits file header - to track JytoK etc you may need to reprocess the fits files using mustangidl > revision 932\n",
      "nsamp and ndet are  164 24708.0 4052112  on  /scratch/r/rbond/jorlo/MS0735/TS_EaCMS0f0_51_5_Oct_2021/Signal_TOD-AGBT19A_092_01-s23.fits with lims  115.13154012156751 115.7921423577128 74.15820517752316 74.33675315261647\n",
      "truncating from  24708  to  24697\n"
     ]
    }
   ],
   "source": [
    "todvec = minkasi.TodVec()\n",
    "n_tod = 10\n",
    "for i, fname in enumerate(tod_names):\n",
    "    if i >= n_tod: break\n",
    "    dat = minkasi.read_tod_from_fits(fname)\n",
    "    minkasi.truncate_tod(dat)\n",
    "\n",
    "    # figure out a guess at common mode and (assumed) linear detector drifts/offset\n",
    "    # drifts/offsets are removed, which is important for mode finding.  CM is *not* removed.\n",
    "    dd, pred2, cm = minkasi.fit_cm_plus_poly(dat[\"dat_calib\"], cm_ord=3, full_out=True)\n",
    "    dat[\"dat_calib\"] = dd\n",
    "    dat[\"pred2\"] = pred2\n",
    "    dat[\"cm\"] = cm\n",
    "\n",
    "    # Make pixelized RA/Dec TODs\n",
    "    idx, idy = tod_to_index(dat[\"dx\"], dat[\"dy\"], x0, y0, r_map, dr, coord_conv)\n",
    "    idu, id_inv = np.unique(\n",
    "        np.vstack((idx.ravel(), idy.ravel())), axis=1, return_inverse=True\n",
    "    )\n",
    "    dat[\"idx\"] = idu[0]\n",
    "    dat[\"idy\"] = idu[1]\n",
    "    dat[\"id_inv\"] = id_inv\n",
    "    dat[\"model_idx\"] = idx\n",
    "    dat[\"model_idy\"] = idy\n",
    "\n",
    "    tod = minkasi.Tod(dat)\n",
    "    todvec.add_tod(tod)"
   ]
  },
  {
   "cell_type": "code",
   "execution_count": 7,
   "id": "b59fe3b3-d93e-4a10-8cd4-e4ed8aabfebd",
   "metadata": {},
   "outputs": [],
   "source": [
    "lims = todvec.lims()\n",
    "pixsize = 2.0 / 3600 * np.pi / 180\n",
    "skymap = minkasi.SkyMap(lims, pixsize)\n",
    "\n",
    "Te = eval(str(cfg[\"cluster\"][\"Te\"]))\n",
    "freq = eval(str(cfg[\"cluster\"][\"freq\"]))\n",
    "beam = beam_double_gauss(\n",
    "    dr,\n",
    "    eval(str(cfg[\"beam\"][\"fwhm1\"])),\n",
    "    eval(str(cfg[\"beam\"][\"amp1\"])),\n",
    "    eval(str(cfg[\"beam\"][\"fwhm2\"])),\n",
    "    eval(str(cfg[\"beam\"][\"amp2\"])),\n",
    ")\n",
    "\n",
    "funs = []\n",
    "npars = []\n",
    "labels = []\n",
    "params = []\n",
    "to_fit = []\n",
    "priors = []\n",
    "prior_vals = []\n",
    "re_eval = []\n",
    "par_idx = {}\n",
    "for cur_model in cfg[\"models\"].values():\n",
    "    npars.append(len(cur_model[\"parameters\"]))\n",
    "    for name, par in cur_model[\"parameters\"].items():\n",
    "        labels.append(name)\n",
    "        par_idx[name] = len(params)\n",
    "        params.append(eval(str(par[\"value\"])))\n",
    "        to_fit.append(eval(str(par[\"to_fit\"])))\n",
    "        if \"priors\" in par:\n",
    "            priors.append(par[\"priors\"][\"type\"])\n",
    "            prior_vals.append(eval(str(par[\"priors\"][\"value\"])))\n",
    "        else:\n",
    "            priors.append(None)\n",
    "            prior_vals.append(None)\n",
    "        if \"re_eval\" in par and par[\"re_eval\"]:\n",
    "            re_eval.append(str(par[\"value\"]))\n",
    "        else:\n",
    "            re_eval.append(False)\n",
    "        2.627 * da, funs.append(eval(str(cur_model[\"func\"])))\n",
    "\n",
    "npars = np.array(npars)\n",
    "labels = np.array(labels)\n",
    "params = np.array(params)\n",
    "to_fit = np.array(to_fit, dtype=bool)\n",
    "priors = np.array(priors)\n",
    "\n",
    "noise_class = eval(str(cfg[\"minkasi\"][\"noise\"][\"class\"]))\n",
    "noise_args = eval(str(cfg[\"minkasi\"][\"noise\"][\"args\"]))\n",
    "noise_kwargs = eval(str(cfg[\"minkasi\"][\"noise\"][\"kwargs\"]))"
   ]
  },
  {
   "cell_type": "code",
   "execution_count": 8,
   "id": "a9fba052-2b0e-4d9b-9caa-71cc9299c47a",
   "metadata": {},
   "outputs": [
    {
     "name": "stdout",
     "output_type": "stream",
     "text": [
      "got svd\n",
      "got svd\n",
      "got svd\n",
      "got svd\n",
      "got svd\n",
      "got svd\n",
      "got svd\n",
      "got svd\n",
      "got svd\n",
      "got svd\n"
     ]
    }
   ],
   "source": [
    "#TODO: Implement tsBowl here \n",
    "if \"bowling\" in cfg:\n",
    "    sub_poly = cfg[\"bowling\"][\"sub_poly\"]\n",
    "\n",
    "sim = False #This script is for simming, the option to turn off is here only for debugging\n",
    "from minkasi_jax.core import model\n",
    "#TODO: Write this to use minkasi_jax.core.model\n",
    "for i, tod in enumerate(todvec.tods):\n",
    "    \n",
    "    temp_tod = tod.copy()\n",
    "    if sim:\n",
    "        pred = model(\n",
    "            xyz,\n",
    "            1,\n",
    "            0,\n",
    "            0,\n",
    "            0,\n",
    "            0,\n",
    "            0,\n",
    "            0,\n",
    "            float(y2K_RJ(freq, Te)*dr*XMpc/me),\n",
    "            beam,\n",
    "            tod.info[\"idx\"],\n",
    "            tod.info[\"idy\"],\n",
    "            params\n",
    "        )  \n",
    "\n",
    "    if (sim) and (\"id_inv\" in tod.info):\n",
    "        id_inv = tod.info[\"id_inv\"]\n",
    "        shape = tod.info[\"dx\"].shape\n",
    "        pred = pred[id_inv].reshape(shape)\n",
    "        \n",
    "    ipix = skymap.get_pix(tod)\n",
    "    tod.info[\"ipix\"] = ipix\n",
    "    tod.set_noise(noise_class, *noise_args, **noise_kwargs)\n",
    "    if sim:\n",
    "        #Flip alternate TODs and add simulated profile on top\n",
    "        if (i % 2) == 0:\n",
    "            tod.info['dat_calib'] = -1*tod.info['dat_calib']\n",
    "        else:\n",
    "            tod.info['dat_calib'] = tod.info['dat_calib']\n",
    "\n",
    "        tod.info['dat_calib'] = tod.info['dat_calib'] + np.array(pred)"
   ]
  },
  {
   "cell_type": "code",
   "execution_count": 9,
   "id": "86636a26-78b2-4a32-bb8f-d5af9bdd0f00",
   "metadata": {},
   "outputs": [
    {
     "name": "stdout",
     "output_type": "stream",
     "text": [
      "Outputs can be found in /scratch/r/rbond/jorlo/Reductions/MS0735/double_isobeta_shock_bubbles-gauss/r1=r3/amp_1-amp_2-shock_val-b_ne_sup-b_sw_sup-sigma-amp\n"
     ]
    }
   ],
   "source": [
    "# Figure out output\n",
    "outdir = os.path.join(\n",
    "    cfg[\"paths\"][\"outroot\"],\n",
    "    cfg[\"cluster\"][\"name\"],\n",
    "    \"-\".join(mn for mn in cfg[\"models\"].keys()),\n",
    ")\n",
    "if \"subdir\" in cfg[\"paths\"]:\n",
    "    outdir = os.path.join(outdir, cfg[\"paths\"][\"subdir\"])\n",
    "if fit:\n",
    "    outdir = os.path.join(outdir, \"-\".join(l for l in labels[to_fit]))\n",
    "else:\n",
    "    outdir = os.path.join(outdir, \"not_fit\")\n",
    "if sub_poly:\n",
    "    outdir += \"-\" + method + \"_\" + str(degree)\n",
    "if sim:\n",
    "    outdir += \"-\" + \"sim\"\n",
    "print_once(\"Outputs can be found in\", outdir)"
   ]
  },
  {
   "cell_type": "markdown",
   "id": "9aabbd55-9974-4166-bd09-884f4b09ab50",
   "metadata": {},
   "source": [
    "# Timing getchis"
   ]
  },
  {
   "cell_type": "code",
   "execution_count": 11,
   "id": "973bb3ac-6c07-4ece-898d-13a65302d1d9",
   "metadata": {},
   "outputs": [],
   "source": [
    "from minkasi import mkfftw\n",
    "import jax.scipy as jsp\n",
    "import scipy as sp\n",
    "\n",
    "\n",
    "def prep_data(dat, pred, v, weight):\n",
    "    resid = dat - pred\n",
    "    pred = pred.at[:,0].set((0.5*pred)[:,0])\n",
    "    pred = pred.at[:,-1].set((0.5*pred)[:,-1])\n",
    "    pred_rot = jnp.dot(v,pred)\n",
    "\n",
    "    return pred_rot\n",
    "\n",
    "jprep = jax.jit(prep_data)\n",
    "\n",
    "def calc_chi_from_ft(predft, weight):\n",
    "    nn=predft.shape[1]\n",
    "    chisq = jnp.sum(weight[:,:nn]*predft**2)\n",
    "    return chisq\n",
    "\n",
    "jcalc_chi_from_ft = jax.jit(calc_chi_from_ft)\n",
    "\n",
    "def get_chis(dat, pred, v, weight):\n",
    "    resid = dat - pred\n",
    "    pred = pred.at[:,0].set((jnp.sqrt(0.5)*pred)[:,0])\n",
    "    pred = pred.at[:,-1].set((jnp.sqrt(0.5)*pred)[:,-1])\n",
    "    pred_rot = jnp.dot(v,pred)\n",
    "    tmp=jnp.hstack([pred_rot,jnp.fliplr(pred_rot[:,1:-1])]) #mirror pred so we can do dct of second kind\n",
    "    predft=jnp.real(jnp.fft.rfft(tmp,axis=1))\n",
    "    nn=predft.shape[1]\n",
    "    chisq = jnp.sum(weight[:,:nn]*predft**2)    \n",
    "    return chisq\n",
    "\n",
    "def vget_chis(dat, pred, weight):\n",
    "    print(dat.shape, pred.shape, v.shape, weight.shape)\n",
    "    resid = dat - pred\n",
    "    pred = pred.at[0].set((0.5*pred)[0])\n",
    "    pred = pred.at[-1].set((0.5*pred)[-1])\n",
    "    pred_rot = jnp.dot(v,pred)\n",
    "    predft = jnp.fft.rfft(pred_rot)\n",
    "    nn=predft.shape[1]\n",
    "    chisq = jnp.sum(weight[:,:nn]*predft**2)\n",
    "    return chisq\n",
    "\n",
    "jget_chis = jax.jit(get_chis)\n",
    "\n"
   ]
  },
  {
   "cell_type": "code",
   "execution_count": 12,
   "id": "9ac8fca1-08d5-442e-9b69-f807ba76c774",
   "metadata": {},
   "outputs": [],
   "source": [
    "new_pars = jnp.array([0.0,0.0,0.0,.341,.249,.341,np.deg2rad(97),0.98,1e-5,\n",
    "                      0.0,0.0,0.0,.167,.122,.167,np.deg2rad(97),8.93,1e-5])    "
   ]
  },
  {
   "cell_type": "code",
   "execution_count": 62,
   "id": "ca9aac84-9106-4d15-94d2-c6f012f88ebd",
   "metadata": {},
   "outputs": [],
   "source": [
    "weight = tod.noise.mywt\n",
    "v = tod.noise.v\n",
    "idx, idy = tod.info[\"model_idx\"], tod.info[\"model_idy\"]\n",
    "pred = model(xyz, 2, 0, 0, 0, 0, 0, 0, float(y2K_RJ(freq, Te)*dr*XMpc/me), beam, idx, idy, new_pars)\n",
    "dat = tod.info[\"dat_calib\"]"
   ]
  },
  {
   "cell_type": "code",
   "execution_count": 63,
   "id": "9c3f9735-2361-4bfc-b82b-119a532270bb",
   "metadata": {
    "scrolled": true
   },
   "outputs": [
    {
     "data": {
      "text/plain": [
       "DeviceArray(6.674461e-06, dtype=float64)"
      ]
     },
     "execution_count": 63,
     "metadata": {},
     "output_type": "execute_result"
    }
   ],
   "source": [
    "get_chis(dat, pred, v, weight)"
   ]
  },
  {
   "cell_type": "code",
   "execution_count": 71,
   "id": "ef7f8f91-05bc-4ad6-bf6c-d3ed2b40a8a7",
   "metadata": {},
   "outputs": [
    {
     "name": "stdout",
     "output_type": "stream",
     "text": [
      "scipy execution time [ms]:\t 79.74332809448242\n",
      "mkfftw execution time [ms]:\t 5.1248860359191895\n",
      "jdcnt execution time [ms]:\t 4.503383636474609\n",
      "jax_r2r execution time [ms]:\t 4.362087249755859\n"
     ]
    }
   ],
   "source": [
    "data = np.random.rand(10000)\n",
    "import scipy\n",
    "\n",
    "R = 100\n",
    "\n",
    "ts = time.time()\n",
    "for i in range(R):\n",
    "    scipy.fft.dct(dat, type=1)\n",
    "print('scipy execution time [ms]:\\t', (time.time()-ts)/R * 1000)\n",
    "\n",
    "R = 100\n",
    "\n",
    "ts = time.time()\n",
    "for i in range(R):\n",
    "    mkfftw.fft_r2r(dat)\n",
    "print('mkfftw execution time [ms]:\\t', (time.time()-ts)/R * 1000)\n",
    "\n",
    "jdcnt = jax.jit(jsp.fft.dct)\n",
    "jdcnt(dat)\n",
    "\n",
    "ts = time.time()\n",
    "for i in range(R):\n",
    "    jdcnt(dat)\n",
    "print('jdcnt execution time [ms]:\\t', (time.time()-ts)/R * 1000)\n",
    "\n",
    "\n",
    "def jax_r2r(dat):\n",
    "    tmp=jnp.hstack([dat,jnp.fliplr(dat[:,1:-1])]) #mirror pred so we can do dct of second kind\n",
    "    predft=jnp.real(jnp.fft.rfft(tmp,axis=1))\n",
    "    return predft\n",
    "\n",
    "jjax_r2r = jax.jit(jax_r2r)\n",
    "jjax_r2r(dat)\n",
    "\n",
    "ts = time.time()\n",
    "for i in range(R):\n",
    "    jjax_r2r(dat)\n",
    "\n",
    "print('jax_r2r execution time [ms]:\\t', (time.time()-ts)/R * 1000)\n",
    "\n"
   ]
  },
  {
   "cell_type": "code",
   "execution_count": 66,
   "id": "5291c66a-d8b1-4709-b8eb-edc9a44065b8",
   "metadata": {},
   "outputs": [
    {
     "name": "stdout",
     "output_type": "stream",
     "text": [
      "jget_chis execution time [ms]:\t 23.835997581481934\n"
     ]
    }
   ],
   "source": [
    "R = 100\n",
    "\n",
    "ts = time.time()\n",
    "for i in range(R):\n",
    "    #pred_rot = jprep(dat, pred, v, weight)\n",
    "    #predft = sp.fft.dct(np.array(pred_rot), type=1)\n",
    "    #chisq = jcalc_chi_from_ft(predft, weight)\n",
    "    get_chis(dat, pred, v, weight)\n",
    "print('jget_chis execution time [ms]:\\t', (time.time()-ts)/R * 1000)\n"
   ]
  },
  {
   "cell_type": "code",
   "execution_count": 67,
   "id": "44e870ed-88e8-4196-a6c1-bc2836928733",
   "metadata": {},
   "outputs": [
    {
     "data": {
      "text/plain": [
       "DeviceArray(6.674461e-06, dtype=float64)"
      ]
     },
     "execution_count": 67,
     "metadata": {},
     "output_type": "execute_result"
    }
   ],
   "source": [
    "jget_chis = jax.jit(get_chis)\n",
    "jget_chis(dat, pred, v, weight)"
   ]
  },
  {
   "cell_type": "code",
   "execution_count": 68,
   "id": "e3e98891-933c-4506-8dcb-5a21e489cbe0",
   "metadata": {},
   "outputs": [
    {
     "name": "stdout",
     "output_type": "stream",
     "text": [
      "jget_chis execution time [ms]:\t 6.867613792419434\n"
     ]
    }
   ],
   "source": [
    "R = 100\n",
    "\n",
    "ts = time.time()\n",
    "for i in range(R):\n",
    "    jget_chis(dat, pred, v, weight).block_until_ready()\n",
    "print('jget_chis execution time [ms]:\\t', (time.time()-ts)/R * 1000)\n"
   ]
  },
  {
   "cell_type": "code",
   "execution_count": 16,
   "id": "15083d99-e8fc-4004-9c08-1534e8479a82",
   "metadata": {},
   "outputs": [
    {
     "data": {
      "text/plain": [
       "DeviceArray(1.51319183e-05, dtype=float64)"
      ]
     },
     "execution_count": 16,
     "metadata": {},
     "output_type": "execute_result"
    }
   ],
   "source": [
    "jsample = jax.jit(sample)\n",
    "\n",
    "tods = []\n",
    "\n",
    "for tod in todvec.tods:\n",
    "    tods.append([tod.info[\"model_idx\"], tod.info[\"model_idy\"], tod.info[\"dat_calib\"], tod.noise.v, tod.noise.mywt])\n",
    "    \n",
    "\n",
    "sample(tods)"
   ]
  },
  {
   "cell_type": "code",
   "execution_count": null,
   "id": "0a1e5b82-d0dd-46ef-bcce-739e971ff1a0",
   "metadata": {},
   "outputs": [],
   "source": [
    "times = np.zeros(20);\n",
    "\n",
    "for i in range(len(times)):\n",
    "    \n",
    "    R = 100\n",
    "    \n",
    "    ts = time.time()\n",
    "    for j in range(R):\n",
    "        jsample(tods[:i]).block_until_ready()\n",
    "    times[i] = (time.time()-ts)/R * 1000\n"
   ]
  },
  {
   "cell_type": "code",
   "execution_count": null,
   "id": "0796b9d4-5814-4c72-a3a2-b1ad3abb20fe",
   "metadata": {},
   "outputs": [],
   "source": [
    "plt.plot(times)"
   ]
  },
  {
   "cell_type": "code",
   "execution_count": null,
   "id": "a255327c-0a89-4409-a238-95d0a3190101",
   "metadata": {},
   "outputs": [],
   "source": []
  },
  {
   "cell_type": "code",
   "execution_count": null,
   "id": "d9326047-579c-4928-ae8e-511245c3a903",
   "metadata": {},
   "outputs": [],
   "source": []
  },
  {
   "cell_type": "code",
   "execution_count": 26,
   "id": "6f9cac68-ecab-445a-a9f2-24c4d105c721",
   "metadata": {},
   "outputs": [],
   "source": [
    "temp_tod = np.array(tod.info[\"dat_calib\"])\n",
    "idx, idy = tod.info[\"model_idx\"], tod.info[\"model_idy\"]\n",
    "#pred = model(xyz, 2, 0, 0, 0, 0, 0, 0, float(y2K_RJ(freq, Te)*dr*XMpc/me), beam, idx, idy, new_pars)\n",
    "jfft = jax.jit(jnp.fft.rfft)\n",
    " \n",
    "def just_fft(tod, pred):\n",
    "    resid = tod - pred\n",
    "    _ = jfft(resid)\n",
    "vfft = jax.vmap(just_fft)\n",
    "jvfft = jax.jit(vfft)\n",
    "jjust_fft = jax.jit(just_fft)"
   ]
  },
  {
   "cell_type": "code",
   "execution_count": 27,
   "id": "87a10af5-40ea-4a97-b67a-f209c973185d",
   "metadata": {},
   "outputs": [],
   "source": [
    "fake_tod = np.random.rand(150, 10000)\n",
    "fake_pred = np.random.rand(150, 10000)\n"
   ]
  },
  {
   "cell_type": "code",
   "execution_count": 31,
   "id": "d8ba3a72-7252-4896-b89b-8e3f03d7ce25",
   "metadata": {},
   "outputs": [
    {
     "name": "stdout",
     "output_type": "stream",
     "text": [
      "vmap fft execution time [ms]:\t 1.1209344863891602\n",
      "vmap fft execution time [ms]:\t 1.1193156242370605\n"
     ]
    }
   ],
   "source": [
    "#No vmap speed up for fft\n",
    "\n",
    "R = 100\n",
    "\n",
    "ts = time.time()\n",
    "for i in range(R):\n",
    "    jvfft(fake_tod, fake_pred)\n",
    "print('vmap fft execution time [ms]:\\t', (time.time()-ts)/R * 1000)\n",
    "\n",
    "ts = time.time()\n",
    "for i in range(R):\n",
    "    jjust_fft(fake_tod, fake_pred)\n",
    "print('vmap fft execution time [ms]:\\t', (time.time()-ts)/R * 1000)"
   ]
  },
  {
   "cell_type": "code",
   "execution_count": 18,
   "id": "cd8641c3-a415-453f-943f-90afdb951b0d",
   "metadata": {},
   "outputs": [
    {
     "name": "stdout",
     "output_type": "stream",
     "text": [
      "(43145659,)\n"
     ]
    }
   ],
   "source": [
    "\n",
    "                      #0.0,0.0,0.0,.320,.320,.320,np.deg2rad(97),0.26])\n",
    "\n",
    "idx, idy = np.array([]), np.array([])\n",
    "\n",
    "for tod in todvec.tods:\n",
    "    idx = np.append(idx, tod.info['model_idx'])\n",
    "    idy = np.append(idy, tod.info['model_idy'])\n",
    "\n",
    "print(idx.shape)"
   ]
  },
  {
   "cell_type": "code",
   "execution_count": 22,
   "id": "b6accd43-c953-4c4a-99fe-7177b42574eb",
   "metadata": {},
   "outputs": [],
   "source": [
    "id_inv = tod.info[\"id_inv\"]\n",
    "shape = tod.info[\"dx\"].shape\n",
    "#pred = pred[id_inv].reshape(shape)\n"
   ]
  },
  {
   "cell_type": "code",
   "execution_count": 20,
   "id": "3c6fc48f-6b52-4b23-8fc0-90bff58d5838",
   "metadata": {},
   "outputs": [
    {
     "name": "stdout",
     "output_type": "stream",
     "text": [
      "0.04680347442626953\n"
     ]
    }
   ],
   "source": [
    "starttime = time.time()\n",
    "model(xyz, 2, 0, 0, 0, 0, 0, 0, float(y2K_RJ(freq, Te)*dr*XMpc/me), beam, tod.info[\"model_idx\"], tod.info[\"model_idy\"], new_pars).block_until_ready()\n",
    "endtime = time.time()\n",
    "    \n",
    "print(endtime-starttime)"
   ]
  },
  {
   "cell_type": "code",
   "execution_count": 52,
   "id": "5a17232a-2a9a-40dc-96cd-7d65902cc09b",
   "metadata": {},
   "outputs": [
    {
     "name": "stdout",
     "output_type": "stream",
     "text": [
      "jax fft execution time [ms]:\t 1.3693642616271973\n"
     ]
    }
   ],
   "source": [
    "import time\n",
    "import numpy as np\n",
    "\n",
    "import jax\n",
    "from jax import numpy as jnp\n",
    "\n",
    "from minkasi import mkfftw\n",
    "\n",
    "residuals = tod.info[\"dat_calib\"] - model(xyz, 2, 0, 0, 0, 0, 0, 0, float(y2K_RJ(freq, Te)*dr*XMpc/me), beam, idx, idy, params)\n",
    "\n",
    "jfft = jax.jit(jnp.fft.rfft)\n",
    "\n",
    "R = 100\n",
    "\n",
    "ts = time.time()\n",
    "for i in range(R):\n",
    "    _ = jfft(residuals).block_until_ready()\n",
    "print('jax fft execution time [ms]:\\t', (time.time()-ts)/R * 1000)"
   ]
  },
  {
   "cell_type": "code",
   "execution_count": 40,
   "id": "0f02c53f-b73a-4146-98e8-d070ed657349",
   "metadata": {},
   "outputs": [
    {
     "name": "stdout",
     "output_type": "stream",
     "text": [
      "mkfftw fft execution time [ms]:\t 4.868004322052002\n"
     ]
    }
   ],
   "source": [
    "fftw_res = np.array(residuals)\n",
    "\n",
    "R = 100\n",
    "\n",
    "ts = time.time()\n",
    "for i in range(R):\n",
    "    _ = mkfftw.fft_r2r(fftw_res)\n",
    "print('mkfftw fft execution time [ms]:\\t', (time.time()-ts)/R * 1000)\n",
    "\n"
   ]
  },
  {
   "cell_type": "code",
   "execution_count": null,
   "id": "07da7a06-a862-40da-bf0c-6c3c062c0ad3",
   "metadata": {
    "scrolled": true
   },
   "outputs": [],
   "source": []
  },
  {
   "cell_type": "markdown",
   "id": "0ea26cfa-ebc1-44c0-9736-2b9d51a76fc8",
   "metadata": {},
   "source": [
    "# Only do model once"
   ]
  },
  {
   "cell_type": "code",
   "execution_count": 75,
   "id": "8f10590c-d0f8-45db-b14f-0178f785b87c",
   "metadata": {},
   "outputs": [],
   "source": [
    "#Set up big arrays of all idxs that we need\n",
    "\n",
    "idxs = np.array([])\n",
    "idys = np.array([])\n",
    "\n",
    "dxs = np.array([])\n",
    "dys = np.array([])\n",
    "\n",
    "lens = np.array([])\n",
    "\n",
    "for tod in todvec.tods:\n",
    "    idxs = np.append(idxs, tod.info[\"idx\"])\n",
    "    idys = np.append(idys, tod.info[\"idy\"])\n",
    "    lens = np.append(lens, len(tod.info[\"dx\"].ravel()))\n",
    "    dxs = np.append(dxs, tod.info[\"model_idx\"])\n",
    "    dys = np.append(dys, tod.info[\"model_idy\"])\n",
    "\n",
    "lens = np.array(lens, dtype=int)"
   ]
  },
  {
   "cell_type": "code",
   "execution_count": 76,
   "id": "15c7ef97-f4bf-4bf0-9d03-ff48ffd20274",
   "metadata": {},
   "outputs": [],
   "source": [
    "new_pars = jnp.array([0.0,0.0,0.0,.341,.249,.341,np.deg2rad(97),0.98,1e-6,\n",
    "                      0.0,0.0,0.0,.167,.122,.167,np.deg2rad(97),8.93,1e-5])  \n",
    "\n"
   ]
  },
  {
   "cell_type": "code",
   "execution_count": 71,
   "id": "8507aeba-95a0-41d8-b75a-f441fbe74caa",
   "metadata": {},
   "outputs": [],
   "source": [
    "idu, id_inv = np.unique(\n",
    "    np.vstack((dxs.ravel(), dys.ravel())), axis=1, return_inverse=True\n",
    ")\n",
    "\n",
    "idx_test, idy_test = np.array(idu[0], dtype=int), np.array(idu[1], dtype=int)\n"
   ]
  },
  {
   "cell_type": "code",
   "execution_count": 82,
   "id": "ae10ecff-99d0-401f-9ca1-86c51b26c52f",
   "metadata": {},
   "outputs": [],
   "source": [
    "pred = model(xyz, 2, 0, 0, 0, 0, 0, 0, float(y2K_RJ(freq, Te)*dr*XMpc/me), beam, idx_test, idy_test, new_pars)"
   ]
  },
  {
   "cell_type": "code",
   "execution_count": null,
   "id": "b3968ff7-ff9d-49c5-b31d-8ccdb666c0c0",
   "metadata": {
    "scrolled": true
   },
   "outputs": [],
   "source": [
    "shape = tod.info[\"dx\"].shape\n",
    "pred = pred[id_inv]#.reshape(shape)\n",
    "\n",
    "for i, tod in enumerate(todvec.tods):\n",
    "    print(i)\n",
    "    shape = tod.info[\"dx\"].shape\n",
    "    start = sum(lens[:i])\n",
    "    cur_id_inv = id_inv[start : start + lens[i]]\n",
    "    print(pred[cur_id_inv].reshape(shape).shape)\n",
    "    print(tod.info[\"dat_calib\"].shape)"
   ]
  },
  {
   "cell_type": "markdown",
   "id": "642c7650-3471-4f1c-b4f1-72fd19ca9337",
   "metadata": {},
   "source": [
    "# Put it together"
   ]
  },
  {
   "cell_type": "code",
   "execution_count": 80,
   "id": "b762a2f4-20de-4d63-81a5-23e0daef4e12",
   "metadata": {},
   "outputs": [],
   "source": [
    "\n",
    "def sample(tods, idx_model, idy_model, lens, id_inv, shapes):\n",
    "    chi2 = 0\n",
    "    toc = time.time()\n",
    "    pred = model(xyz, 2, 0, 0, 0, 0, 0, 0, -2.4995998836322247e-05, beam, idx_model, idy_model, new_pars)\n",
    "    tic = time.time()\n",
    "    print('model: ', (tic-toc)*1000)\n",
    "\n",
    "    time_reshape = 0\n",
    "    time_chi = 0\n",
    "    time_model = 0\n",
    "\n",
    "    for i, tod in enumerate(tods):\n",
    "        #TODO: this doesn't jit cause the slicing pred based off the individual indicies doesn't work.\n",
    "        #Could try; make np.zeros arrays for dat and pred which have shape (max_det, max_samp), where \n",
    "        #max_det and max_samp are taken over all tods. Then assign pad_dat[:] = dat, pad_pred[:] = pred although\n",
    "        #that won't exactly work\n",
    "        idx_tod, idy_tod, dat, v, weight = tod\n",
    "        shape = shapes[i]\n",
    "        start = sum(lens[:i])\n",
    "        #end = start + lens[i]\n",
    "        cur_id_inv = id_inv[start : start + lens[i]]\n",
    "        cur_pred = pred[cur_id_inv].reshape(shape)\n",
    "        #cur_pred = get_pred(pred, shape, start, start + lens[i])\n",
    "\n",
    "\n",
    "        #Uncomment to get \n",
    "        #toc = time.time()\n",
    "        #_ = model(xyz, 2, 0, 0, 0, 0, 0, 0, -2.4995998836322247e-05, beam, idx_tod, idy_tod, new_pars)\n",
    "        #tic = time.time()\n",
    "        time_model += tic-toc\n",
    "\n",
    "        time_reshape += (tic-toc)\n",
    "        toc = time.time()\n",
    "        chi2 += jget_chis(dat, cur_pred, v, weight) #TODO, is it faster to not ravel here and to instead reshape cur_pred?\n",
    "        tic = time.time()\n",
    "        #print('chis2: ', (tic-toc)*1000)\n",
    "        time_chi += tic-toc\n",
    "    print('reshape: ', time_reshape*1000)\n",
    "    print('chi2 :', time_chi*1000)\n",
    "    print('model :', time_model*1000)\n",
    "\n",
    "    return chi2\n",
    "\n",
    "\n",
    "def get_pred(pred, shape, start, stop):\n",
    "    cur_id_inv = lax.slice(id_inv, (start,), (stop,))#id_inv[start : stop]\n",
    "    cur_pred = pred[cur_id_inv].reshape(shape)\n",
    "    return cur_pred\n",
    "\n",
    "jget_pred = jax.jit(get_pred)\n",
    "\n",
    "def sample_wrapper(todvec):\n",
    "    idxs = np.array([])\n",
    "    idys = np.array([])\n",
    "    \n",
    "    dxs = np.array([])\n",
    "    dys = np.array([])\n",
    "    \n",
    "    lens = np.array([])\n",
    "\n",
    "    shapes = np.array([])\n",
    "    \n",
    "    for tod in todvec.tods:\n",
    "        idxs = np.append(idxs, tod.info[\"idx\"])\n",
    "        idys = np.append(idys, tod.info[\"idy\"])\n",
    "        lens = np.append(lens, len(tod.info[\"dx\"].ravel()))\n",
    "        dxs = np.append(dxs, tod.info[\"model_idx\"])\n",
    "        dys = np.append(dys, tod.info[\"model_idy\"])\n",
    "        shapes = np.append(shapes, tod.info[\"dx\"].shape, dtype=int)\n",
    "    \n",
    "    lens = np.array(lens, dtype=int)\n",
    "\n",
    "    idu, id_inv = np.unique(\n",
    "        np.vstack((dxs.ravel(), dys.ravel())), axis=1, return_inverse=True\n",
    "    )\n",
    "    \n",
    "    idx_model, idy_model = np.array(idu[0], dtype=int), np.array(idu[1], dtype=int)\n",
    "\n",
    "    #un wrap stuff cause jit doesn't like having tod objects\n",
    "    tods = []\n",
    "\n",
    "    for tod in todvec.tods:\n",
    "        tods.append([tod.info[\"model_idx\"], tod.info[\"model_idy\"], tod.info[\"dat_calib\"], tod.noise.v, tod.noise.mywt])\n",
    "\n"
   ]
  },
  {
   "cell_type": "code",
   "execution_count": 75,
   "id": "86098f78-f89f-4b81-9e94-8ea28a69200c",
   "metadata": {},
   "outputs": [],
   "source": [
    "new_pars = jnp.array([0.0,0.0,0.0,.341,.249,.341,np.deg2rad(97),0.98,1e-6,\n",
    "                      0.0,0.0,0.0,.167,.122,.167,np.deg2rad(97),8.93,1e-5])  \n",
    "\n",
    "idxs = np.array([])\n",
    "idys = np.array([])\n",
    "\n",
    "dxs = np.array([])\n",
    "dys = np.array([])\n",
    "\n",
    "lens = np.array([])\n",
    "\n",
    "shapes = np.zeros((len(todvec.tods),2), dtype=int)\n",
    "\n",
    "for i,tod in enumerate(todvec.tods):\n",
    "    idxs = np.append(idxs, tod.info[\"idx\"])\n",
    "    idys = np.append(idys, tod.info[\"idy\"])\n",
    "    lens = np.append(lens, len(tod.info[\"dx\"].ravel()))\n",
    "    dxs = np.append(dxs, tod.info[\"model_idx\"])\n",
    "    dys = np.append(dys, tod.info[\"model_idy\"])\n",
    "    shapes[i] = np.array(tod.info[\"dx\"].shape, dtype=int)\n",
    "\n",
    "lens = np.array(lens, dtype=int)\n",
    "\n",
    "idu, id_inv = np.unique(\n",
    "    np.vstack((dxs.ravel(), dys.ravel())), axis=1, return_inverse=True\n",
    ")\n",
    "\n",
    "idx_model, idy_model = np.array(idu[0], dtype=int), np.array(idu[1], dtype=int)\n",
    "\n",
    "#un wrap stuff cause jit doesn't like having tod objects\n",
    "tods = []\n",
    "\n",
    "for tod in todvec.tods:\n",
    "    tods.append([tod.info[\"idx\"], tod.info[\"idy\"], tod.info[\"dat_calib\"], tod.noise.v, tod.noise.mywt])\n"
   ]
  },
  {
   "cell_type": "code",
   "execution_count": 82,
   "id": "bb18f5e5-720c-45d0-88a0-bfaf9690a48a",
   "metadata": {},
   "outputs": [
    {
     "name": "stdout",
     "output_type": "stream",
     "text": [
      "model:  1.50299072265625\n",
      "reshape:  53.76935005187988\n",
      "chi2 : 62.332868576049805\n"
     ]
    },
    {
     "data": {
      "text/plain": [
       "DeviceArray(2.4312628e-07, dtype=float64)"
      ]
     },
     "execution_count": 82,
     "metadata": {},
     "output_type": "execute_result"
    }
   ],
   "source": [
    "sample(tods, idx_model, idy_model, lens, id_inv, shapes)\n"
   ]
  },
  {
   "cell_type": "code",
   "execution_count": 83,
   "id": "86f748e4-305a-419e-86a5-45d0a602bd9d",
   "metadata": {},
   "outputs": [
    {
     "name": "stdout",
     "output_type": "stream",
     "text": [
      "model:  1.4553070068359375\n",
      "reshape:  43.24150085449219\n",
      "chi2 : 57.37185478210449\n",
      "model:  1.398324966430664\n",
      "reshape:  43.25580596923828\n",
      "chi2 : 57.50870704650879\n",
      "model:  1.3413429260253906\n",
      "reshape:  43.29037666320801\n",
      "chi2 : 57.419776916503906\n",
      "model:  1.3697147369384766\n",
      "reshape:  43.238162994384766\n",
      "chi2 : 57.270050048828125\n",
      "model:  1.3697147369384766\n",
      "reshape:  43.451786041259766\n",
      "chi2 : 57.4343204498291\n",
      "model:  1.3659000396728516\n",
      "reshape:  43.24483871459961\n",
      "chi2 : 57.219505310058594\n",
      "model:  1.3456344604492188\n",
      "reshape:  43.13540458679199\n",
      "chi2 : 57.570457458496094\n",
      "model:  1.3580322265625\n",
      "reshape:  43.22481155395508\n",
      "chi2 : 57.31368064880371\n",
      "model:  1.394510269165039\n",
      "reshape:  43.29824447631836\n",
      "chi2 : 57.2965145111084\n",
      "model:  1.38092041015625\n",
      "reshape:  43.26605796813965\n",
      "chi2 : 57.23690986633301\n",
      "model:  1.367807388305664\n",
      "reshape:  43.14470291137695\n",
      "chi2 : 57.22522735595703\n",
      "model:  1.3835430145263672\n",
      "reshape:  43.24793815612793\n",
      "chi2 : 57.268381118774414\n",
      "model:  1.3959407806396484\n",
      "reshape:  43.22385787963867\n",
      "chi2 : 57.47342109680176\n",
      "model:  1.3935565948486328\n",
      "reshape:  43.19477081298828\n",
      "chi2 : 57.40475654602051\n",
      "model:  1.3611316680908203\n",
      "reshape:  43.257951736450195\n",
      "chi2 : 57.2514533996582\n",
      "model:  1.3709068298339844\n",
      "reshape:  43.48587989807129\n",
      "chi2 : 57.74092674255371\n",
      "model:  1.4200210571289062\n",
      "reshape:  43.28417778015137\n",
      "chi2 : 57.2817325592041\n",
      "model:  1.3649463653564453\n",
      "reshape:  43.12729835510254\n",
      "chi2 : 57.420969009399414\n",
      "model:  1.3675689697265625\n",
      "reshape:  43.05315017700195\n",
      "chi2 : 57.40785598754883\n",
      "model:  1.3530254364013672\n",
      "reshape:  43.06769371032715\n",
      "chi2 : 57.199954986572266\n",
      "model:  1.3725757598876953\n",
      "reshape:  43.09868812561035\n",
      "chi2 : 57.478904724121094\n",
      "model:  1.3651847839355469\n",
      "reshape:  42.98663139343262\n",
      "chi2 : 57.14130401611328\n",
      "model:  1.3687610626220703\n",
      "reshape:  43.149709701538086\n",
      "chi2 : 57.23452568054199\n",
      "model:  1.3797283172607422\n",
      "reshape:  43.1666374206543\n",
      "chi2 : 57.35898017883301\n",
      "model:  1.3647079467773438\n",
      "reshape:  43.03240776062012\n",
      "chi2 : 57.61575698852539\n",
      "model:  1.3577938079833984\n",
      "reshape:  43.09225082397461\n",
      "chi2 : 57.38973617553711\n",
      "model:  1.377105712890625\n",
      "reshape:  43.08819770812988\n",
      "chi2 : 57.33370780944824\n",
      "model:  1.379251480102539\n",
      "reshape:  43.20406913757324\n",
      "chi2 : 57.41262435913086\n",
      "model:  1.3873577117919922\n",
      "reshape:  43.08629035949707\n",
      "chi2 : 62.619924545288086\n",
      "model:  1.4026165008544922\n",
      "reshape:  43.02668571472168\n",
      "chi2 : 64.21685218811035\n",
      "model:  1.3418197631835938\n",
      "reshape:  43.205976486206055\n",
      "chi2 : 51.45740509033203\n",
      "model:  1.361846923828125\n",
      "reshape:  43.17641258239746\n",
      "chi2 : 51.48911476135254\n",
      "model:  1.3935565948486328\n",
      "reshape:  43.10464859008789\n",
      "chi2 : 51.302433013916016\n",
      "model:  1.3816356658935547\n",
      "reshape:  43.23291778564453\n",
      "chi2 : 51.651716232299805\n",
      "model:  1.3470649719238281\n",
      "reshape:  43.21122169494629\n",
      "chi2 : 51.16748809814453\n",
      "model:  1.4078617095947266\n",
      "reshape:  44.27218437194824\n",
      "chi2 : 65.55962562561035\n",
      "model:  1.3756752014160156\n",
      "reshape:  43.1520938873291\n",
      "chi2 : 46.0050106048584\n",
      "model:  1.3494491577148438\n",
      "reshape:  43.18118095397949\n",
      "chi2 : 46.00858688354492\n",
      "model:  1.3611316680908203\n",
      "reshape:  44.306039810180664\n",
      "chi2 : 46.3104248046875\n",
      "model:  1.3380050659179688\n",
      "reshape:  43.24674606323242\n",
      "chi2 : 46.08583450317383\n",
      "model:  1.4369487762451172\n",
      "reshape:  43.36714744567871\n",
      "chi2 : 46.18334770202637\n",
      "model:  1.3840198516845703\n",
      "reshape:  43.67947578430176\n",
      "chi2 : 46.28396034240723\n",
      "model:  1.356363296508789\n",
      "reshape:  43.648719787597656\n",
      "chi2 : 46.82421684265137\n",
      "model:  1.4214515686035156\n",
      "reshape:  43.29061508178711\n",
      "chi2 : 46.488285064697266\n",
      "model:  1.3604164123535156\n",
      "reshape:  43.23577880859375\n",
      "chi2 : 46.07868194580078\n",
      "model:  1.3768672943115234\n",
      "reshape:  43.329715728759766\n",
      "chi2 : 46.05579376220703\n",
      "model:  1.3494491577148438\n",
      "reshape:  43.17069053649902\n",
      "chi2 : 46.21171951293945\n",
      "model:  1.4004707336425781\n",
      "reshape:  43.42961311340332\n",
      "chi2 : 46.20027542114258\n",
      "model:  1.3794898986816406\n",
      "reshape:  43.19357872009277\n",
      "chi2 : 46.22673988342285\n",
      "model:  1.3699531555175781\n",
      "reshape:  43.364524841308594\n",
      "chi2 : 46.38266563415527\n",
      "model:  1.363992691040039\n",
      "reshape:  43.2741641998291\n",
      "chi2 : 46.04506492614746\n",
      "model:  1.3895034790039062\n",
      "reshape:  43.23077201843262\n",
      "chi2 : 46.04148864746094\n",
      "model:  1.3799667358398438\n",
      "reshape:  43.17045211791992\n",
      "chi2 : 46.118974685668945\n",
      "model:  1.378774642944336\n",
      "reshape:  43.15829277038574\n",
      "chi2 : 47.17445373535156\n",
      "model:  1.386880874633789\n",
      "reshape:  43.15805435180664\n",
      "chi2 : 46.07558250427246\n",
      "model:  1.4004707336425781\n",
      "reshape:  43.3049201965332\n",
      "chi2 : 45.70651054382324\n",
      "model:  1.3887882232666016\n",
      "reshape:  43.33376884460449\n",
      "chi2 : 45.52125930786133\n",
      "model:  1.3356208801269531\n",
      "reshape:  43.142080307006836\n",
      "chi2 : 45.72343826293945\n",
      "model:  1.390218734741211\n",
      "reshape:  43.26629638671875\n",
      "chi2 : 45.78113555908203\n",
      "model:  1.3942718505859375\n",
      "reshape:  43.20859909057617\n",
      "chi2 : 45.708656311035156\n",
      "model:  1.3685226440429688\n",
      "reshape:  43.3809757232666\n",
      "chi2 : 45.66454887390137\n",
      "model:  1.4064311981201172\n",
      "reshape:  43.122053146362305\n",
      "chi2 : 45.82476615905762\n",
      "model:  1.399993896484375\n",
      "reshape:  43.137550354003906\n",
      "chi2 : 45.82953453063965\n",
      "model:  1.3496875762939453\n",
      "reshape:  43.31493377685547\n",
      "chi2 : 45.892953872680664\n",
      "model:  1.4066696166992188\n",
      "reshape:  43.16282272338867\n",
      "chi2 : 45.61924934387207\n",
      "model:  1.401662826538086\n",
      "reshape:  43.19930076599121\n",
      "chi2 : 45.80497741699219\n",
      "model:  1.3415813446044922\n",
      "reshape:  43.11180114746094\n",
      "chi2 : 45.380592346191406\n",
      "model:  1.3966560363769531\n",
      "reshape:  43.683528900146484\n",
      "chi2 : 45.63140869140625\n",
      "model:  1.3842582702636719\n",
      "reshape:  43.53618621826172\n",
      "chi2 : 46.56195640563965\n",
      "model:  1.361846923828125\n",
      "reshape:  43.21002960205078\n",
      "chi2 : 45.74108123779297\n",
      "model:  1.3649463653564453\n",
      "reshape:  43.34568977355957\n",
      "chi2 : 45.958518981933594\n",
      "model:  1.348257064819336\n",
      "reshape:  43.26152801513672\n",
      "chi2 : 45.775651931762695\n",
      "model:  1.371622085571289\n",
      "reshape:  43.27750205993652\n",
      "chi2 : 45.48978805541992\n",
      "model:  1.3363361358642578\n",
      "reshape:  43.114423751831055\n",
      "chi2 : 45.59135437011719\n",
      "model:  1.4116764068603516\n",
      "reshape:  43.257951736450195\n",
      "chi2 : 45.50886154174805\n",
      "model:  1.4145374298095703\n",
      "reshape:  43.16592216491699\n",
      "chi2 : 45.419931411743164\n",
      "model:  1.3442039489746094\n",
      "reshape:  43.288230895996094\n",
      "chi2 : 45.71533203125\n",
      "model:  1.3985633850097656\n",
      "reshape:  43.15376281738281\n",
      "chi2 : 45.500755310058594\n",
      "model:  1.3425350189208984\n",
      "reshape:  43.07866096496582\n",
      "chi2 : 45.615196228027344\n",
      "model:  1.3709068298339844\n",
      "reshape:  43.05744171142578\n",
      "chi2 : 45.44782638549805\n",
      "model:  1.402139663696289\n",
      "reshape:  43.181657791137695\n",
      "chi2 : 45.51386833190918\n",
      "model:  1.3899803161621094\n",
      "reshape:  43.31254959106445\n",
      "chi2 : 45.54939270019531\n",
      "model:  1.4002323150634766\n",
      "reshape:  43.210744857788086\n",
      "chi2 : 45.549869537353516\n",
      "model:  1.3782978057861328\n",
      "reshape:  43.22004318237305\n",
      "chi2 : 45.58157920837402\n",
      "model:  1.367807388305664\n",
      "reshape:  43.346405029296875\n",
      "chi2 : 45.59946060180664\n",
      "model:  1.3344287872314453\n",
      "reshape:  43.181657791137695\n",
      "chi2 : 45.46689987182617\n",
      "model:  1.4040470123291016\n",
      "reshape:  43.46632957458496\n",
      "chi2 : 46.42057418823242\n",
      "model:  1.4336109161376953\n",
      "reshape:  43.50757598876953\n",
      "chi2 : 46.54073715209961\n",
      "model:  1.4040470123291016\n",
      "reshape:  43.427467346191406\n",
      "chi2 : 46.25511169433594\n",
      "model:  1.3561248779296875\n",
      "reshape:  43.09487342834473\n",
      "chi2 : 45.61758041381836\n",
      "model:  1.3782978057861328\n",
      "reshape:  43.15924644470215\n",
      "chi2 : 49.12686347961426\n",
      "model:  1.3990402221679688\n",
      "reshape:  43.03407669067383\n",
      "chi2 : 45.46022415161133\n",
      "model:  1.3806819915771484\n",
      "reshape:  43.04218292236328\n",
      "chi2 : 45.51053047180176\n",
      "model:  1.39617919921875\n",
      "reshape:  43.044328689575195\n",
      "chi2 : 45.401811599731445\n",
      "model:  1.4047622680664062\n",
      "reshape:  43.49923133850098\n",
      "chi2 : 46.25511169433594\n",
      "model:  1.4252662658691406\n",
      "reshape:  43.283939361572266\n",
      "chi2 : 45.809030532836914\n",
      "model:  1.3692378997802734\n",
      "reshape:  43.182373046875\n",
      "chi2 : 45.53627967834473\n",
      "model:  1.3976097106933594\n",
      "reshape:  43.31159591674805\n",
      "chi2 : 45.7158088684082\n",
      "model:  1.3768672943115234\n",
      "reshape:  43.23697090148926\n",
      "chi2 : 45.70651054382324\n",
      "model:  1.359701156616211\n",
      "reshape:  43.17045211791992\n",
      "chi2 : 45.465946197509766\n",
      "sample execution time [ms]:\t 443.7935471534729\n"
     ]
    }
   ],
   "source": [
    "R = 100\n",
    "\n",
    "ts = time.time()\n",
    "for i in range(R):\n",
    "    sample(tods, idx_model, idy_model, lens, id_inv, shapes).block_until_ready()\n",
    "print('sample execution time [ms]:\\t', (time.time()-ts)/R * 1000)"
   ]
  },
  {
   "cell_type": "code",
   "execution_count": 18,
   "id": "37f14111-b73e-40a1-8753-d6a1c5521321",
   "metadata": {},
   "outputs": [],
   "source": [
    "times = np.zeros(9);\n",
    "\n",
    "for i in range(len(times)):\n",
    "    \n",
    "    R = 100\n",
    "    \n",
    "    ts = time.time()\n",
    "    for j in range(R):\n",
    "        sample(tods[:i+1], idx_model, idy_model, lens, id_inv, shapes).block_until_ready()\n",
    "    times[i] = (time.time()-ts)/R * 1000"
   ]
  },
  {
   "cell_type": "code",
   "execution_count": 20,
   "id": "e15ba24a-3860-4fb2-a88f-73330eac52e1",
   "metadata": {},
   "outputs": [
    {
     "data": {
      "text/plain": [
       "[<matplotlib.lines.Line2D at 0x7ff65022e9a0>]"
      ]
     },
     "execution_count": 20,
     "metadata": {},
     "output_type": "execute_result"
    },
    {
     "data": {
      "image/png": "[encoded data removed]",
      "text/plain": [
       "<Figure size 640x480 with 1 Axes>"
      ]
     },
     "metadata": {},
     "output_type": "display_data"
    }
   ],
   "source": [
    "plt.plot(np.arange(1,10), times)"
   ]
  },
  {
   "cell_type": "markdown",
   "id": "0b9199b5-d725-48f3-83ea-605f085ef9f0",
   "metadata": {},
   "source": [
    "# Visualize model"
   ]
  },
  {
   "cell_type": "code",
   "execution_count": 78,
   "id": "96adb0b7-0962-42e7-b3fc-2f93da763ce5",
   "metadata": {},
   "outputs": [],
   "source": [
    "idx_min, idx_max = np.min(idxs), np.max(idxs)\n",
    "idy_min, idy_max = np.min(idys), np.max(idys)"
   ]
  },
  {
   "cell_type": "code",
   "execution_count": 79,
   "id": "0f609c56-a0bd-415f-a342-f0e2f894de91",
   "metadata": {},
   "outputs": [],
   "source": [
    "x = np.arange(idx_min, idx_max, dtype = int)\n",
    "y = np.arange(idy_min, idy_max, dtype = int)\n",
    "\n",
    "X, Y = np.meshgrid(x, y)\n",
    "\n",
    "#X, Y = np.ravel(X), np.ravel(Y)"
   ]
  },
  {
   "cell_type": "code",
   "execution_count": 80,
   "id": "b039ad1a-78ba-4197-9cfa-db715a97356f",
   "metadata": {},
   "outputs": [
    {
     "data": {
      "text/plain": [
       "<matplotlib.image.AxesImage at 0x7ff58c0409a0>"
      ]
     },
     "execution_count": 80,
     "metadata": {},
     "output_type": "execute_result"
    },
    {
     "data": {
      "image/png": "[encoded data removed]",
      "text/plain": [
       "<Figure size 640x480 with 1 Axes>"
      ]
     },
     "metadata": {},
     "output_type": "display_data"
    }
   ],
   "source": [
    "vis_model = model(xyz, 2, 0, 0, 0, 0, 0, 0, float(y2K_RJ(freq, Te)*dr*XMpc/me), beam, X, Y, new_pars)\n",
    "\n",
    "plt.imshow(vis_model)"
   ]
  },
  {
   "cell_type": "code",
   "execution_count": null,
   "id": "be3f7917-4332-4643-a67c-fee22eaf4b43",
   "metadata": {},
   "outputs": [],
   "source": []
  },
  {
   "cell_type": "code",
   "execution_count": null,
   "id": "fc52300e-0e02-4ed4-ae3f-5fc1de633d5f",
   "metadata": {},
   "outputs": [],
   "source": []
  },
  {
   "cell_type": "code",
   "execution_count": null,
   "id": "061bd09a-d043-4b82-bd9a-e431b5575bb0",
   "metadata": {},
   "outputs": [],
   "source": []
  },
  {
   "cell_type": "code",
   "execution_count": null,
   "id": "c67721ea-89cc-4676-9ec1-5e25eb2c91be",
   "metadata": {},
   "outputs": [],
   "source": []
  },
  {
   "cell_type": "code",
   "execution_count": null,
   "id": "50b9bc9f-eb39-480a-aff8-953b90e5ca1e",
   "metadata": {},
   "outputs": [],
   "source": []
  },
  {
   "cell_type": "code",
   "execution_count": null,
   "id": "94ad2d7b-262b-4dde-8942-8c79ad1778f5",
   "metadata": {},
   "outputs": [],
   "source": []
  },
  {
   "cell_type": "code",
   "execution_count": null,
   "id": "db853229-06e9-4d3e-ae4c-961a3a02d589",
   "metadata": {},
   "outputs": [],
   "source": []
  },
  {
   "cell_type": "code",
   "execution_count": null,
   "id": "fa01d5c4-3f05-4ebd-8cf7-6d21abe4fec6",
   "metadata": {},
   "outputs": [],
   "source": [
    "pars_fit = params\n",
    "if fit:\n",
    "    t1 = time.time()\n",
    "    print_once(\"Started actual fitting\")\n",
    "    pars_fit, chisq, curve, errs = minkasi.fit_timestreams_with_derivs_manyfun(\n",
    "        funs,\n",
    "        params,\n",
    "        npars,\n",
    "        todvec,\n",
    "        to_fit,\n",
    "        maxiter=cfg[\"minkasi\"][\"maxiter\"],\n",
    "        priors=priors,\n",
    "        prior_vals=prior_vals,\n",
    "    )\n",
    "    minkasi.comm.barrier()\n",
    "    t2 = time.time()\n",
    "    print_once(\"Took\", t2 - t1, \"seconds to fit\")\n",
    "\n",
    "    for i, re in enumerate(re_eval):\n",
    "        if not re:\n",
    "            continue\n",
    "        pars_fit[i] = eval(re)\n",
    "\n",
    "    print_once(\"Fit parameters:\")\n",
    "    for l, pf, err in zip(labels, pars_fit, errs):\n",
    "        print_once(\"\\t\", l, \"=\", pf, \"+/-\", err)\n",
    "    print_once(\"chisq =\", chisq)\n",
    "\n",
    "    if minkasi.myrank == 0:\n",
    "        res_path = os.path.join(outdir, \"results\")\n",
    "        print_once(\"Saving results to\", res_path + \".npz\")\n",
    "        np.savez_compressed(\n",
    "            res_path, pars_fit=pars_fit, chisq=chisq, errs=errs, curve=curve\n",
    "        )"
   ]
  },
  {
   "cell_type": "code",
   "execution_count": null,
   "id": "2dd61beb-a839-4aa7-83ce-bf591542b56c",
   "metadata": {},
   "outputs": [],
   "source": []
  }
 ],
 "metadata": {
  "kernelspec": {
   "display_name": "gpu-jax",
   "language": "python",
   "name": "gpu-jax"
  },
  "language_info": {
   "codemirror_mode": {
    "name": "ipython",
    "version": 3
   },
   "file_extension": ".py",
   "mimetype": "text/x-python",
   "name": "python",
   "nbconvert_exporter": "python",
   "pygments_lexer": "ipython3",
   "version": "3.8.17"
  }
 },
 "nbformat": 4,
 "nbformat_minor": 5
}
