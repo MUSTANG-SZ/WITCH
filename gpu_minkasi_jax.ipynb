{
 "cells": [
  {
   "cell_type": "code",
   "execution_count": 1,
   "id": "e17c906c",
   "metadata": {},
   "outputs": [
    {
     "name": "stdout",
     "output_type": "stream",
     "text": [
      "importing mpi4py\n"
     ]
    }
   ],
   "source": [
    "import os\n",
    "import sys\n",
    "import time\n",
    "import glob\n",
    "import shutil\n",
    "import argparse as argp\n",
    "from functools import partial\n",
    "import yaml\n",
    "import numpy as np\n",
    "import minkasi\n",
    "#from jack_minkasi import minkasi\n",
    "from astropy.coordinates import Angle\n",
    "from astropy import units as u\n",
    "import minkasi_jax.presets_by_source as pbs\n",
    "from minkasi_jax.utils import *\n",
    "from minkasi_jax import helper\n",
    "from minkasi_jax.core import model\n",
    "\n",
    "%load_ext autoreload\n",
    "%autoreload 2"
   ]
  },
  {
   "cell_type": "code",
   "execution_count": 2,
   "id": "8feb9b48-d0d0-4aab-8fc1-e1f8aec4e672",
   "metadata": {},
   "outputs": [],
   "source": [
    "from functools import partial\n",
    "import jax\n",
    "import jax.numpy as jnp\n",
    "from minkasi_jax.utils import fft_conv\n",
    "from minkasi_jax.structure import (\n",
    "    isobeta,\n",
    "    gnfw,\n",
    "    gaussian,\n",
    "    add_uniform,\n",
    "    add_exponential,\n",
    "    add_powerlaw,\n",
    "    add_powerlaw_cos,\n",
    ")\n",
    "\n",
    "import jax.lax as lax\n",
    "\n",
    "N_PAR_ISOBETA = 9\n",
    "N_PAR_GNFW = 14\n",
    "N_PAR_GAUSSIAN = 9\n",
    "N_PAR_UNIFORM = 8\n",
    "N_PAR_EXPONENTIAL = 14\n",
    "N_PAR_POWERLAW = 11\n",
    "\n",
    "ARGNUM_SHIFT = 11\n",
    "\n",
    "@partial(\n",
    "    jax.jit,\n",
    "    static_argnums=(1, 2, 3, 4, 5, 6, 7, 8),\n",
    ")\n",
    "def model(\n",
    "    xyz,\n",
    "    n_isobeta,\n",
    "    n_gnfw,\n",
    "    n_gaussian,\n",
    "    n_uniform,\n",
    "    n_exponential,\n",
    "    n_powerlaw,\n",
    "    n_powerlaw_cos,\n",
    "    dx,\n",
    "    beam,\n",
    "    idx,\n",
    "    idy,\n",
    "    *params\n",
    "):\n",
    "    \"\"\"\n",
    "    Generically create models with substructure.\n",
    "\n",
    "    Arguments:\n",
    "\n",
    "        xyz: Coordinate grid to compute profile on.\n",
    "\n",
    "        n_isobeta: Number of isobeta profiles to add.\n",
    "\n",
    "        n_gnfw: Number of gnfw profiles to add.\n",
    "\n",
    "        n_gaussian: Number of gaussians to add.\n",
    "\n",
    "        n_uniform: Number of uniform ellipsoids to add.\n",
    "\n",
    "        n_exponential: Number of exponential ellipsoids to add.\n",
    "\n",
    "        n_powerlaw: Number of power law ellipsoids to add.\n",
    "\n",
    "        n_powerlaw_cos: Number of radial power law ellipsoids with angulas cos term to add.\n",
    "\n",
    "        dx: Factor to scale by while integrating.\n",
    "            Since it is a global factor it can contain unit conversions.\n",
    "            Historically equal to y2K_RJ * dr * da * XMpc / me.\n",
    "\n",
    "        beam: Beam to convolve by, should be a 2d array.\n",
    "\n",
    "        idx: RA TOD in units of pixels.\n",
    "             Should have Dec stretch applied.\n",
    "\n",
    "        idy: Dec TOD in units of pixels.\n",
    "\n",
    "        params: 1D array of model parameters.\n",
    "\n",
    "    Returns:\n",
    "\n",
    "        model: The model with the specified substructure.\n",
    "    \"\"\"\n",
    "    params = jnp.array(params)\n",
    "    params = jnp.ravel(params)\n",
    "    isobetas = jnp.zeros((1, 1), dtype=float)\n",
    "    gnfws = jnp.zeros((1, 1), dtype=float)\n",
    "    gaussians = jnp.zeros((1, 1), dtype=float)\n",
    "    uniforms = jnp.zeros((1, 1), dtype=float)\n",
    "    exponentials = jnp.zeros((1, 1), dtype=float)\n",
    "    powerlaws = jnp.zeros((1, 1), dtype=float)\n",
    "\n",
    "    start = 0\n",
    "    if n_isobeta:\n",
    "        delta = n_isobeta * N_PAR_ISOBETA\n",
    "        #isobetas = lax.slice(params, (1, start), (1, start + delta)).reshape((n_isobeta, N_PAR_ISOBETA))\n",
    "        isobetas = params[start : start + delta].reshape((n_isobeta, N_PAR_ISOBETA))\n",
    "        start += delta\n",
    "    if n_gnfw:\n",
    "        delta = n_gnfw * N_PAR_GNFW\n",
    "        gnfws = params[start : start + delta].reshape((n_gnfw, N_PAR_GNFW))\n",
    "        start += delta\n",
    "    if n_gaussian:\n",
    "        delta = n_gaussian * N_PAR_GAUSSIAN\n",
    "        gaussians = params[start : start + delta].reshape((n_gaussian, N_PAR_GAUSSIAN))\n",
    "        start += delta\n",
    "    if n_uniform:\n",
    "        delta = n_uniform * N_PAR_UNIFORM\n",
    "        uniforms = params[start : start + delta].reshape((n_uniform, N_PAR_UNIFORM))\n",
    "        start += delta\n",
    "    if n_exponential:\n",
    "        delta = n_exponential * N_PAR_EXPONENTIAL\n",
    "        exponentials = params[start : start + delta].reshape(\n",
    "            (n_exponential, N_PAR_EXPONENTIAL)\n",
    "        )\n",
    "        start += delta\n",
    "    if n_powerlaw:\n",
    "        delta = n_powerlaw * N_PAR_POWERLAW\n",
    "        powerlaws = params[start : start + delta].reshape((n_powerlaw, N_PAR_POWERLAW))\n",
    "        start += delta\n",
    "    if n_powerlaw_cos:\n",
    "        delta = n_powerlaw_cos * N_PAR_POWERLAW\n",
    "        powerlaw_coses = params[start : start + delta].reshape(\n",
    "            (n_powerlaw_cos, N_PAR_POWERLAW)\n",
    "        )\n",
    "        start += delta\n",
    "\n",
    "    pressure = jnp.zeros((xyz[0].shape[1], xyz[1].shape[0], xyz[2].shape[2]))\n",
    "    for i in range(n_isobeta):\n",
    "        pressure = jnp.add(pressure, isobeta(*isobetas[i], xyz))\n",
    "\n",
    "    for i in range(n_gnfw):\n",
    "        pressure = jnp.add(pressure, gnfw(*gnfws[i], xyz))\n",
    "\n",
    "    for i in range(n_gaussian):\n",
    "        pressure = jnp.add(pressure, gaussian(*gaussians[i], xyz))\n",
    "\n",
    "    for i in range(n_uniform):\n",
    "        pressure = add_uniform(pressure, xyz, *uniforms[i])\n",
    "\n",
    "    for i in range(n_exponential):\n",
    "        pressure = add_exponential(pressure, xyz, *exponentials[i])\n",
    "\n",
    "    for i in range(n_powerlaw):\n",
    "        pressure = add_powerlaw(pressure, xyz, *powerlaws[i])\n",
    "\n",
    "    for i in range(n_powerlaw_cos):\n",
    "        pressure = add_powerlaw_cos(pressure, xyz, *powerlaw_coses[i])\n",
    "\n",
    "    # Integrate along line of site\n",
    "    ip = jnp.trapz(pressure, dx=dx, axis=-1)\n",
    "\n",
    "    bound0, bound1 = int((ip.shape[0] - beam.shape[0]) / 2), int(\n",
    "        (ip.shape[1] - beam.shape[1]) / 2\n",
    "    )\n",
    "    beam = jnp.pad(\n",
    "        beam,\n",
    "        (\n",
    "            (bound0, ip.shape[0] - beam.shape[0] - bound0),\n",
    "            (bound1, ip.shape[1] - beam.shape[1] - bound1),\n",
    "        ),\n",
    "    )\n",
    "\n",
    "    ip = fft_conv(ip, beam)\n",
    "\n",
    "    # return jsp.ndimage.map_coordinates(ip, (idy, idx), order=0)\n",
    "    return ip[idy.ravel(), idx.ravel()].reshape(idx.shape)"
   ]
  },
  {
   "cell_type": "code",
   "execution_count": 3,
   "id": "f117e7f5-8784-4bc8-9d16-194032ca0e3d",
   "metadata": {},
   "outputs": [],
   "source": [
    "def print_once(*args):\n",
    "    \"\"\"\n",
    "    Helper function to print only once when running with MPI.\n",
    "    Only the rank 0 process will print.\n",
    "\n",
    "    Arguments:\n",
    "\n",
    "        *args: Arguments to pass to print.\n",
    "    \"\"\"\n",
    "    if minkasi.myrank == 0:\n",
    "        print(*args)\n",
    "        sys.stdout.flush()\n"
   ]
  },
  {
   "cell_type": "code",
   "execution_count": 4,
   "id": "b0db7d24-6193-4f4d-a996-546c36a7a057",
   "metadata": {},
   "outputs": [],
   "source": [
    "import time\n",
    "\n",
    "def timer(f, *args):\n",
    "    starttime = time.time()\n",
    "    result = f(*args)\n",
    "    endtime = time.time()\n",
    "    return endtime - starttime"
   ]
  },
  {
   "cell_type": "code",
   "execution_count": 5,
   "id": "ea0bc172",
   "metadata": {},
   "outputs": [
    {
     "name": "stdout",
     "output_type": "stream",
     "text": [
      "tod #:  285\n"
     ]
    }
   ],
   "source": [
    "with open('/home/r/rbond/jorlo/dev/minkasi_jax/configs/ms0735_noSub.yaml', \"r\") as file:\n",
    "    cfg = yaml.safe_load(file)\n",
    "#with open('/home/r/rbond/jorlo/dev/minkasi_jax/configs/ms0735/ms0735.yaml', \"r\") as file:\n",
    "#    cfg = yaml.safe_load(file)\n",
    "fit = True\n",
    "\n",
    "# Setup coordindate stuff\n",
    "z = eval(str(cfg[\"coords\"][\"z\"]))\n",
    "da = get_da(z)\n",
    "r_map = eval(str(cfg[\"coords\"][\"r_map\"]))\n",
    "dr = eval(str(cfg[\"coords\"][\"dr\"]))\n",
    "xyz = make_grid(r_map, dr)\n",
    "coord_conv = eval(str(cfg[\"coords\"][\"conv_factor\"]))\n",
    "x0 = eval(str(cfg[\"coords\"][\"x0\"]))\n",
    "y0 = eval(str(cfg[\"coords\"][\"y0\"]))\n",
    "\n",
    "# Load TODs\n",
    "tod_names = glob.glob(os.path.join(cfg[\"paths\"][\"tods\"], cfg[\"paths\"][\"glob\"]))\n",
    "bad_tod, addtag = pbs.get_bad_tods(\n",
    "    cfg[\"cluster\"][\"name\"], ndo=cfg[\"paths\"][\"ndo\"], odo=cfg[\"paths\"][\"odo\"]\n",
    ")\n",
    "tod_names = minkasi.cut_blacklist(tod_names, bad_tod)\n",
    "tod_names.sort()\n",
    "tod_names = tod_names[minkasi.myrank :: minkasi.nproc]\n",
    "print('tod #: ', len(tod_names))\n",
    "minkasi.barrier()  # Is this needed?\n",
    "\n",
    "#idx = np.random.randint(-307, 1058, (899454,))\n",
    "#idy = np.random.randint(-307, 1058, (899454,))"
   ]
  },
  {
   "cell_type": "code",
   "execution_count": 6,
   "id": "2dbb6a99-86fd-4826-a1ff-22b3c16cc4ee",
   "metadata": {},
   "outputs": [
    {
     "name": "stdout",
     "output_type": "stream",
     "text": [
      "WARNING - calinfo information not found in fits file header - to track JytoK etc you may need to reprocess the fits files using mustangidl > revision 932\n",
      "nsamp and ndet are  182 24707.0 4496674  on  /scratch/r/rbond/jorlo/MS0735/TS_EaCMS0f0_51_5_Oct_2021/Signal_TOD-AGBT19A_092_01-s12.fits with lims  115.13548797090777 115.79331715025005 74.15935947949289 74.334082548651\n",
      "truncating from  24707  to  24697\n",
      "WARNING - calinfo information not found in fits file header - to track JytoK etc you may need to reprocess the fits files using mustangidl > revision 932\n",
      "nsamp and ndet are  179 24708.0 4422732  on  /scratch/r/rbond/jorlo/MS0735/TS_EaCMS0f0_51_5_Oct_2021/Signal_TOD-AGBT19A_092_01-s13.fits with lims  115.13373944248026 115.79094024441889 74.15967366819471 74.33531881289076\n",
      "truncating from  24708  to  24697\n",
      "WARNING - calinfo information not found in fits file header - to track JytoK etc you may need to reprocess the fits files using mustangidl > revision 932\n",
      "nsamp and ndet are  184 24708.0 4546272  on  /scratch/r/rbond/jorlo/MS0735/TS_EaCMS0f0_51_5_Oct_2021/Signal_TOD-AGBT19A_092_01-s14.fits with lims  115.1330017820499 115.7887955650195 74.15989906443733 74.33552371856587\n",
      "truncating from  24708  to  24697\n",
      "WARNING - calinfo information not found in fits file header - to track JytoK etc you may need to reprocess the fits files using mustangidl > revision 932\n",
      "nsamp and ndet are  180 24708.0 4447440  on  /scratch/r/rbond/jorlo/MS0735/TS_EaCMS0f0_51_5_Oct_2021/Signal_TOD-AGBT19A_092_01-s15.fits with lims  115.13408095193876 115.79137737652576 74.15940046062792 74.3356056808359\n",
      "truncating from  24708  to  24697\n",
      "WARNING - calinfo information not found in fits file header - to track JytoK etc you may need to reprocess the fits files using mustangidl > revision 932\n",
      "nsamp and ndet are  177 24708.0 4373316  on  /scratch/r/rbond/jorlo/MS0735/TS_EaCMS0f0_51_5_Oct_2021/Signal_TOD-AGBT19A_092_01-s17.fits with lims  115.13873914095271 115.78339971557519 74.15887453606183 74.33706051112911\n",
      "truncating from  24708  to  24697\n",
      "WARNING - calinfo information not found in fits file header - to track JytoK etc you may need to reprocess the fits files using mustangidl > revision 932\n",
      "nsamp and ndet are  180 24709.0 4447620  on  /scratch/r/rbond/jorlo/MS0735/TS_EaCMS0f0_51_5_Oct_2021/Signal_TOD-AGBT19A_092_01-s18.fits with lims  115.13685400874178 115.79201941430775 74.15823932846901 74.33725858661505\n",
      "truncating from  24709  to  24697\n",
      "WARNING - calinfo information not found in fits file header - to track JytoK etc you may need to reprocess the fits files using mustangidl > revision 932\n",
      "nsamp and ndet are  161 24709.0 3978149  on  /scratch/r/rbond/jorlo/MS0735/TS_EaCMS0f0_51_5_Oct_2021/Signal_TOD-AGBT19A_092_01-s19.fits with lims  115.13499619728753 115.77442484700579 74.15782951711881 74.3377025489111\n",
      "truncating from  24709  to  24697\n",
      "WARNING - calinfo information not found in fits file header - to track JytoK etc you may need to reprocess the fits files using mustangidl > revision 932\n",
      "nsamp and ndet are  164 24709.0 4052276  on  /scratch/r/rbond/jorlo/MS0735/TS_EaCMS0f0_51_5_Oct_2021/Signal_TOD-AGBT19A_092_01-s20.fits with lims  115.13141717816245 115.78635035729664 74.15830763036071 74.33723126585836\n",
      "truncating from  24709  to  24697\n",
      "WARNING - calinfo information not found in fits file header - to track JytoK etc you may need to reprocess the fits files using mustangidl > revision 932\n",
      "nsamp and ndet are  176 24708.0 4348608  on  /scratch/r/rbond/jorlo/MS0735/TS_EaCMS0f0_51_5_Oct_2021/Signal_TOD-AGBT19A_092_01-s22.fits with lims  115.12936812141145 115.79035284815026 74.15816419638814 74.33699903942659\n",
      "truncating from  24708  to  24697\n",
      "WARNING - calinfo information not found in fits file header - to track JytoK etc you may need to reprocess the fits files using mustangidl > revision 932\n",
      "nsamp and ndet are  164 24708.0 4052112  on  /scratch/r/rbond/jorlo/MS0735/TS_EaCMS0f0_51_5_Oct_2021/Signal_TOD-AGBT19A_092_01-s23.fits with lims  115.13154012156751 115.7921423577128 74.15820517752316 74.33675315261647\n",
      "truncating from  24708  to  24697\n"
     ]
    }
   ],
   "source": [
    "todvec = minkasi.TodVec()\n",
    "n_tod = 10\n",
    "for i, fname in enumerate(tod_names):\n",
    "    if i >= n_tod: break\n",
    "    dat = minkasi.read_tod_from_fits(fname)\n",
    "    minkasi.truncate_tod(dat)\n",
    "\n",
    "    # figure out a guess at common mode and (assumed) linear detector drifts/offset\n",
    "    # drifts/offsets are removed, which is important for mode finding.  CM is *not* removed.\n",
    "    dd, pred2, cm = minkasi.fit_cm_plus_poly(dat[\"dat_calib\"], cm_ord=3, full_out=True)\n",
    "    dat[\"dat_calib\"] = dd\n",
    "    dat[\"pred2\"] = pred2\n",
    "    dat[\"cm\"] = cm\n",
    "\n",
    "    # Make pixelized RA/Dec TODs\n",
    "    idx, idy = tod_to_index(dat[\"dx\"], dat[\"dy\"], x0, y0, r_map, dr, coord_conv)\n",
    "    idu, id_inv = np.unique(\n",
    "        np.vstack((idx.ravel(), idy.ravel())), axis=1, return_inverse=True\n",
    "    )\n",
    "    dat[\"idx\"] = idu[0]\n",
    "    dat[\"idy\"] = idu[1]\n",
    "    dat[\"id_inv\"] = id_inv\n",
    "    dat[\"model_idx\"] = idx\n",
    "    dat[\"model_idy\"] = idy\n",
    "\n",
    "    tod = minkasi.Tod(dat)\n",
    "    todvec.add_tod(tod)"
   ]
  },
  {
   "cell_type": "code",
   "execution_count": 7,
   "id": "b59fe3b3-d93e-4a10-8cd4-e4ed8aabfebd",
   "metadata": {},
   "outputs": [],
   "source": [
    "lims = todvec.lims()\n",
    "pixsize = 2.0 / 3600 * np.pi / 180\n",
    "skymap = minkasi.SkyMap(lims, pixsize)\n",
    "\n",
    "Te = eval(str(cfg[\"cluster\"][\"Te\"]))\n",
    "freq = eval(str(cfg[\"cluster\"][\"freq\"]))\n",
    "beam = beam_double_gauss(\n",
    "    dr,\n",
    "    eval(str(cfg[\"beam\"][\"fwhm1\"])),\n",
    "    eval(str(cfg[\"beam\"][\"amp1\"])),\n",
    "    eval(str(cfg[\"beam\"][\"fwhm2\"])),\n",
    "    eval(str(cfg[\"beam\"][\"amp2\"])),\n",
    ")\n",
    "\n",
    "funs = []\n",
    "npars = []\n",
    "labels = []\n",
    "params = []\n",
    "to_fit = []\n",
    "priors = []\n",
    "prior_vals = []\n",
    "re_eval = []\n",
    "par_idx = {}\n",
    "for cur_model in cfg[\"models\"].values():\n",
    "    npars.append(len(cur_model[\"parameters\"]))\n",
    "    for name, par in cur_model[\"parameters\"].items():\n",
    "        labels.append(name)\n",
    "        par_idx[name] = len(params)\n",
    "        params.append(eval(str(par[\"value\"])))\n",
    "        to_fit.append(eval(str(par[\"to_fit\"])))\n",
    "        if \"priors\" in par:\n",
    "            priors.append(par[\"priors\"][\"type\"])\n",
    "            prior_vals.append(eval(str(par[\"priors\"][\"value\"])))\n",
    "        else:\n",
    "            priors.append(None)\n",
    "            prior_vals.append(None)\n",
    "        if \"re_eval\" in par and par[\"re_eval\"]:\n",
    "            re_eval.append(str(par[\"value\"]))\n",
    "        else:\n",
    "            re_eval.append(False)\n",
    "        2.627 * da, funs.append(eval(str(cur_model[\"func\"])))\n",
    "\n",
    "npars = np.array(npars)\n",
    "labels = np.array(labels)\n",
    "params = np.array(params)\n",
    "to_fit = np.array(to_fit, dtype=bool)\n",
    "priors = np.array(priors)\n",
    "\n",
    "noise_class = eval(str(cfg[\"minkasi\"][\"noise\"][\"class\"]))\n",
    "noise_args = eval(str(cfg[\"minkasi\"][\"noise\"][\"args\"]))\n",
    "noise_kwargs = eval(str(cfg[\"minkasi\"][\"noise\"][\"kwargs\"]))"
   ]
  },
  {
   "cell_type": "code",
   "execution_count": 8,
   "id": "a9fba052-2b0e-4d9b-9caa-71cc9299c47a",
   "metadata": {},
   "outputs": [],
   "source": [
    "#TODO: Implement tsBowl here \n",
    "if \"bowling\" in cfg:\n",
    "    sub_poly = cfg[\"bowling\"][\"sub_poly\"]\n",
    "\n",
    "sim = False #This script is for simming, the option to turn off is here only for debugging\n",
    "from minkasi_jax.core import model\n",
    "#TODO: Write this to use minkasi_jax.core.model\n",
    "for i, tod in enumerate(todvec.tods):\n",
    "    \n",
    "    temp_tod = tod.copy()\n",
    "    if sim:\n",
    "        pred = model(\n",
    "            xyz,\n",
    "            1,\n",
    "            0,\n",
    "            0,\n",
    "            0,\n",
    "            0,\n",
    "            0,\n",
    "            0,\n",
    "            float(y2K_RJ(freq, Te)*dr*XMpc/me),\n",
    "            beam,\n",
    "            tod.info[\"idx\"],\n",
    "            tod.info[\"idy\"],\n",
    "            params\n",
    "        )  \n",
    "\n",
    "    if (sim) and (\"id_inv\" in tod.info):\n",
    "        id_inv = tod.info[\"id_inv\"]\n",
    "        shape = tod.info[\"dx\"].shape\n",
    "        pred = pred[id_inv].reshape(shape)\n",
    "        \n",
    "    ipix = skymap.get_pix(tod)\n",
    "    tod.info[\"ipix\"] = ipix\n",
    "\n",
    "    if sim:\n",
    "        #Flip alternate TODs and add simulated profile on top\n",
    "        if (i % 2) == 0:\n",
    "            tod.info['dat_calib'] = -1*tod.info['dat_calib']\n",
    "        else:\n",
    "            tod.info['dat_calib'] = tod.info['dat_calib']\n",
    "\n",
    "        tod.info['dat_calib'] = tod.info['dat_calib'] + np.array(pred)"
   ]
  },
  {
   "cell_type": "code",
   "execution_count": 9,
   "id": "86636a26-78b2-4a32-bb8f-d5af9bdd0f00",
   "metadata": {},
   "outputs": [
    {
     "name": "stdout",
     "output_type": "stream",
     "text": [
      "Outputs can be found in /scratch/r/rbond/jorlo/Reductions/MS0735/double_isobeta_shock_bubbles-gauss/r1=r3/amp_1-amp_2-shock_val-b_ne_sup-b_sw_sup-sigma-amp\n"
     ]
    }
   ],
   "source": [
    "# Figure out output\n",
    "outdir = os.path.join(\n",
    "    cfg[\"paths\"][\"outroot\"],\n",
    "    cfg[\"cluster\"][\"name\"],\n",
    "    \"-\".join(mn for mn in cfg[\"models\"].keys()),\n",
    ")\n",
    "if \"subdir\" in cfg[\"paths\"]:\n",
    "    outdir = os.path.join(outdir, cfg[\"paths\"][\"subdir\"])\n",
    "if fit:\n",
    "    outdir = os.path.join(outdir, \"-\".join(l for l in labels[to_fit]))\n",
    "else:\n",
    "    outdir = os.path.join(outdir, \"not_fit\")\n",
    "if sub_poly:\n",
    "    outdir += \"-\" + method + \"_\" + str(degree)\n",
    "if sim:\n",
    "    outdir += \"-\" + \"sim\"\n",
    "print_once(\"Outputs can be found in\", outdir)"
   ]
  },
  {
   "cell_type": "code",
   "execution_count": 16,
   "id": "4c2879db-5673-4004-a17b-741a8d4103f7",
   "metadata": {},
   "outputs": [],
   "source": [
    "ids_inv = np.array([])\n",
    "idxs = np.array([])\n",
    "idys = np.array([])\n",
    "\n",
    "for tod in todvec.tods:\n",
    "    ids_inv = np.append(ids_inv, tod.info[\"id_inv\"])\n",
    "    idxs = np.append(idxs, tod.info[\"idx\"])\n",
    "    idys = np.append(idys, tod.info[\"idy\"])\n",
    "    \n",
    "ids_inv = np.unique(ids_inv)\n",
    "\n",
    "\n",
    "def sample(ids_inv):\n",
    "    pred = pred = model(\n",
    "            xyz,\n",
    "            1,\n",
    "            0,\n",
    "            0,\n",
    "            0,\n",
    "            0,\n",
    "            0,\n",
    "            0,\n",
    "            float(y2K_RJ(freq, Te)*dr*XMpc/me),\n",
    "            beam,\n",
    "            idxs,\n",
    "            idys,\n",
    "            params\n",
    "        )  \n",
    "\n"
   ]
  },
  {
   "cell_type": "code",
   "execution_count": null,
   "id": "973bb3ac-6c07-4ece-898d-13a65302d1d9",
   "metadata": {},
   "outputs": [],
   "source": [
    "def get_chis(dat, pred):\n",
    "    resid = dat - pred\n",
    "    pred[:,0]=0.5*pred[:,0]\n",
    "    pred[:,-1]=0.5*pred[:,-1]\n",
    "    pred_rot = np.dot(self.v,pred)\n",
    "    predft = mkfftw.fft_r2r(pred_rot)\n",
    "    nn=predft.shape[1]\n",
    "    chisq = np.sum(self.mywt[:,:nn]*predft**2)"
   ]
  },
  {
   "cell_type": "code",
   "execution_count": 18,
   "id": "9c3f9735-2361-4bfc-b82b-119a532270bb",
   "metadata": {
    "scrolled": true
   },
   "outputs": [],
   "source": [
    "new_pars = jnp.array([0.0,0.0,0.0,.341,.249,.341,np.deg2rad(97),0.98,1e-5,\n",
    "                      0.0,0.0,0.0,.167,.122,.167,np.deg2rad(97),8.93,1e-5])    \n",
    "    "
   ]
  },
  {
   "cell_type": "code",
   "execution_count": 19,
   "id": "6f9cac68-ecab-445a-a9f2-24c4d105c721",
   "metadata": {},
   "outputs": [
    {
     "name": "stderr",
     "output_type": "stream",
     "text": [
      "2023-08-15 09:29:13.543326: W external/org_tensorflow/tensorflow/core/common_runtime/bfc_allocator.cc:461] Allocator (GPU_0_bfc) ran out of memory trying to allocate 2.76GiB (rounded to 2965299968)requested by op \n",
      "2023-08-15 09:29:13.543478: W external/org_tensorflow/tensorflow/core/common_runtime/bfc_allocator.cc:472] ************************************________________________________________________________________\n",
      "2023-08-15 09:29:13.543508: E external/org_tensorflow/tensorflow/compiler/xla/pjrt/pjrt_stream_executor_client.cc:2085] Execution of replica 0 failed: RESOURCE_EXHAUSTED: Out of memory while trying to allocate 2965299856 bytes.\n"
     ]
    },
    {
     "ename": "RuntimeError",
     "evalue": "RESOURCE_EXHAUSTED: Out of memory while trying to allocate 2965299856 bytes.",
     "output_type": "error",
     "traceback": [
      "\u001b[0;31m---------------------------------------------------------------------------\u001b[0m",
      "\u001b[0;31mRuntimeError\u001b[0m                              Traceback (most recent call last)",
      "Cell \u001b[0;32mIn[19], line 3\u001b[0m\n\u001b[1;32m      1\u001b[0m temp_tod \u001b[38;5;241m=\u001b[39m tod\u001b[38;5;241m.\u001b[39minfo[\u001b[38;5;124m\"\u001b[39m\u001b[38;5;124mdat_calib\u001b[39m\u001b[38;5;124m\"\u001b[39m]\n\u001b[0;32m----> 3\u001b[0m pred \u001b[38;5;241m=\u001b[39m \u001b[43mmodel\u001b[49m\u001b[43m(\u001b[49m\u001b[43mxyz\u001b[49m\u001b[43m,\u001b[49m\u001b[43m \u001b[49m\u001b[38;5;241;43m1\u001b[39;49m\u001b[43m,\u001b[49m\u001b[43m \u001b[49m\u001b[38;5;241;43m0\u001b[39;49m\u001b[43m,\u001b[49m\u001b[43m \u001b[49m\u001b[38;5;241;43m0\u001b[39;49m\u001b[43m,\u001b[49m\u001b[43m \u001b[49m\u001b[38;5;241;43m0\u001b[39;49m\u001b[43m,\u001b[49m\u001b[43m \u001b[49m\u001b[38;5;241;43m0\u001b[39;49m\u001b[43m,\u001b[49m\u001b[43m \u001b[49m\u001b[38;5;241;43m0\u001b[39;49m\u001b[43m,\u001b[49m\u001b[43m \u001b[49m\u001b[38;5;241;43m0\u001b[39;49m\u001b[43m,\u001b[49m\u001b[43m \u001b[49m\u001b[38;5;28;43mfloat\u001b[39;49m\u001b[43m(\u001b[49m\u001b[43my2K_RJ\u001b[49m\u001b[43m(\u001b[49m\u001b[43mfreq\u001b[49m\u001b[43m,\u001b[49m\u001b[43m \u001b[49m\u001b[43mTe\u001b[49m\u001b[43m)\u001b[49m\u001b[38;5;241;43m*\u001b[39;49m\u001b[43mdr\u001b[49m\u001b[38;5;241;43m*\u001b[39;49m\u001b[43mXMpc\u001b[49m\u001b[38;5;241;43m/\u001b[39;49m\u001b[43mme\u001b[49m\u001b[43m)\u001b[49m\u001b[43m,\u001b[49m\u001b[43m \u001b[49m\u001b[43mbeam\u001b[49m\u001b[43m,\u001b[49m\u001b[43m \u001b[49m\u001b[43midx\u001b[49m\u001b[43m,\u001b[49m\u001b[43m \u001b[49m\u001b[43midy\u001b[49m\u001b[43m,\u001b[49m\u001b[43m \u001b[49m\u001b[43mnew_pars\u001b[49m\u001b[43m)\u001b[49m\n\u001b[1;32m      6\u001b[0m \u001b[38;5;28;01mdef\u001b[39;00m \u001b[38;5;21mjust_fft\u001b[39m(tod):\n\u001b[1;32m      7\u001b[0m     resid \u001b[38;5;241m=\u001b[39m dat \u001b[38;5;241m-\u001b[39m pred\n",
      "    \u001b[0;31m[... skipping hidden 7 frame]\u001b[0m\n",
      "File \u001b[0;32m~/.conda/envs/jax/lib/python3.8/site-packages/jax/interpreters/xla.py:960\u001b[0m, in \u001b[0;36m_execute_compiled\u001b[0;34m(compiled, avals, handlers, kept_var_idx, *args)\u001b[0m\n\u001b[1;32m    954\u001b[0m device, \u001b[38;5;241m=\u001b[39m compiled\u001b[38;5;241m.\u001b[39mlocal_devices()\n\u001b[1;32m    955\u001b[0m input_bufs \u001b[38;5;241m=\u001b[39m \u001b[38;5;28mlist\u001b[39m(\n\u001b[1;32m    956\u001b[0m     it\u001b[38;5;241m.\u001b[39mchain\u001b[38;5;241m.\u001b[39mfrom_iterable(\n\u001b[1;32m    957\u001b[0m         device_put(x, device)\n\u001b[1;32m    958\u001b[0m         \u001b[38;5;28;01mfor\u001b[39;00m i, x \u001b[38;5;129;01min\u001b[39;00m \u001b[38;5;28menumerate\u001b[39m(args)\n\u001b[1;32m    959\u001b[0m         \u001b[38;5;28;01mif\u001b[39;00m x \u001b[38;5;129;01mis\u001b[39;00m \u001b[38;5;129;01mnot\u001b[39;00m token \u001b[38;5;129;01mand\u001b[39;00m i \u001b[38;5;129;01min\u001b[39;00m kept_var_idx))\n\u001b[0;32m--> 960\u001b[0m out_bufs \u001b[38;5;241m=\u001b[39m \u001b[43mcompiled\u001b[49m\u001b[38;5;241;43m.\u001b[39;49m\u001b[43mexecute\u001b[49m\u001b[43m(\u001b[49m\u001b[43minput_bufs\u001b[49m\u001b[43m)\u001b[49m\n\u001b[1;32m    961\u001b[0m check_special(xla_call_p\u001b[38;5;241m.\u001b[39mname, out_bufs)\n\u001b[1;32m    962\u001b[0m \u001b[38;5;28;01mreturn\u001b[39;00m [handler(\u001b[38;5;241m*\u001b[39mbs) \u001b[38;5;28;01mfor\u001b[39;00m handler, bs \u001b[38;5;129;01min\u001b[39;00m \u001b[38;5;28mzip\u001b[39m(handlers, _partition_outputs(avals, out_bufs))]\n",
      "\u001b[0;31mRuntimeError\u001b[0m: RESOURCE_EXHAUSTED: Out of memory while trying to allocate 2965299856 bytes."
     ]
    }
   ],
   "source": [
    "temp_tod = np.array(tod.info[\"dat_calib\"])\n",
    "idx, idy = tod.info[\"model_idx\"], tod.info[\"model_idy\"]\n",
    "pred = model(xyz, 2, 0, 0, 0, 0, 0, 0, float(y2K_RJ(freq, Te)*dr*XMpc/me), beam, idx, idy, new_pars)\n",
    "jfft = jax.jit(jnp.fft.rfft)\n",
    " \n",
    "def just_fft(tod, pred):\n",
    "    resid = tod - pred\n",
    "    _ = jfft(resid).block_until_ready()\n",
    "vfft = jax.vmap(just_fft)"
   ]
  },
  {
   "cell_type": "code",
   "execution_count": null,
   "id": "87a10af5-40ea-4a97-b67a-f209c973185d",
   "metadata": {},
   "outputs": [],
   "source": [
    "vfft(temp_tod)"
   ]
  },
  {
   "cell_type": "code",
   "execution_count": null,
   "id": "d8ba3a72-7252-4896-b89b-8e3f03d7ce25",
   "metadata": {},
   "outputs": [],
   "source": []
  },
  {
   "cell_type": "code",
   "execution_count": 18,
   "id": "cd8641c3-a415-453f-943f-90afdb951b0d",
   "metadata": {},
   "outputs": [
    {
     "name": "stdout",
     "output_type": "stream",
     "text": [
      "(43145659,)\n"
     ]
    }
   ],
   "source": [
    "\n",
    "                      #0.0,0.0,0.0,.320,.320,.320,np.deg2rad(97),0.26])\n",
    "\n",
    "idx, idy = np.array([]), np.array([])\n",
    "\n",
    "for tod in todvec.tods:\n",
    "    idx = np.append(idx, tod.info['model_idx'])\n",
    "    idy = np.append(idy, tod.info['model_idy'])\n",
    "\n",
    "print(idx.shape)"
   ]
  },
  {
   "cell_type": "code",
   "execution_count": 22,
   "id": "b6accd43-c953-4c4a-99fe-7177b42574eb",
   "metadata": {},
   "outputs": [],
   "source": [
    "id_inv = tod.info[\"id_inv\"]\n",
    "shape = tod.info[\"dx\"].shape\n",
    "#pred = pred[id_inv].reshape(shape)\n"
   ]
  },
  {
   "cell_type": "code",
   "execution_count": 20,
   "id": "3c6fc48f-6b52-4b23-8fc0-90bff58d5838",
   "metadata": {},
   "outputs": [
    {
     "name": "stdout",
     "output_type": "stream",
     "text": [
      "0.04680347442626953\n"
     ]
    }
   ],
   "source": [
    "starttime = time.time()\n",
    "model(xyz, 2, 0, 0, 0, 0, 0, 0, float(y2K_RJ(freq, Te)*dr*XMpc/me), beam, tod.info[\"model_idx\"], tod.info[\"model_idy\"], new_pars).block_until_ready()\n",
    "endtime = time.time()\n",
    "    \n",
    "print(endtime-starttime)"
   ]
  },
  {
   "cell_type": "code",
   "execution_count": 52,
   "id": "5a17232a-2a9a-40dc-96cd-7d65902cc09b",
   "metadata": {},
   "outputs": [
    {
     "name": "stdout",
     "output_type": "stream",
     "text": [
      "jax fft execution time [ms]:\t 1.3693642616271973\n"
     ]
    }
   ],
   "source": [
    "import time\n",
    "import numpy as np\n",
    "\n",
    "import jax\n",
    "from jax import numpy as jnp\n",
    "\n",
    "from minkasi import mkfftw\n",
    "\n",
    "residuals = tod.info[\"dat_calib\"] - model(xyz, 2, 0, 0, 0, 0, 0, 0, float(y2K_RJ(freq, Te)*dr*XMpc/me), beam, idx, idy, params)\n",
    "\n",
    "jfft = jax.jit(jnp.fft.rfft)\n",
    "\n",
    "R = 100\n",
    "\n",
    "ts = time.time()\n",
    "for i in range(R):\n",
    "    _ = jfft(residuals).block_until_ready()\n",
    "print('jax fft execution time [ms]:\\t', (time.time()-ts)/R * 1000)"
   ]
  },
  {
   "cell_type": "code",
   "execution_count": 40,
   "id": "0f02c53f-b73a-4146-98e8-d070ed657349",
   "metadata": {},
   "outputs": [
    {
     "name": "stdout",
     "output_type": "stream",
     "text": [
      "mkfftw fft execution time [ms]:\t 4.868004322052002\n"
     ]
    }
   ],
   "source": [
    "fftw_res = np.array(residuals)\n",
    "\n",
    "R = 100\n",
    "\n",
    "ts = time.time()\n",
    "for i in range(R):\n",
    "    _ = mkfftw.fft_r2r(fftw_res)\n",
    "print('mkfftw fft execution time [ms]:\\t', (time.time()-ts)/R * 1000)\n",
    "\n"
   ]
  },
  {
   "cell_type": "code",
   "execution_count": null,
   "id": "c967262d-da42-4d2c-8c87-1fc87a46b219",
   "metadata": {},
   "outputs": [],
   "source": []
  },
  {
   "cell_type": "code",
   "execution_count": null,
   "id": "f01a0d2c-1465-40d6-b543-1a61701105f0",
   "metadata": {},
   "outputs": [],
   "source": []
  },
  {
   "cell_type": "code",
   "execution_count": null,
   "id": "15acb5ed-40d9-467e-a811-2857a98c883b",
   "metadata": {},
   "outputs": [],
   "source": []
  },
  {
   "cell_type": "code",
   "execution_count": null,
   "id": "8246825e-06b1-43c6-b570-69a2e56b523f",
   "metadata": {},
   "outputs": [],
   "source": []
  },
  {
   "cell_type": "code",
   "execution_count": null,
   "id": "ec6782df-c10a-4d1d-8952-b60b004af46e",
   "metadata": {},
   "outputs": [],
   "source": []
  },
  {
   "cell_type": "code",
   "execution_count": null,
   "id": "36559647-a4da-4340-81c1-5922ba9375d5",
   "metadata": {},
   "outputs": [],
   "source": [
    "start = 0\n",
    "delta = 9"
   ]
  },
  {
   "cell_type": "code",
   "execution_count": null,
   "id": "1e91cdc6-97bc-42dc-a2a8-341b39187b24",
   "metadata": {},
   "outputs": [],
   "source": [
    "jnp.array(params)[start : start + delta].shape"
   ]
  },
  {
   "cell_type": "code",
   "execution_count": null,
   "id": "df84c7bf-fd6b-41fd-b737-7cb943457c2c",
   "metadata": {},
   "outputs": [],
   "source": [
    "params = jnp.array(params)\n",
    "params[start : start + delta].reshape((1, 9))"
   ]
  },
  {
   "cell_type": "code",
   "execution_count": null,
   "id": "7501e432-b247-4a06-b616-6026f45abcb2",
   "metadata": {
    "scrolled": true
   },
   "outputs": [],
   "source": [
    "partial(helper, xyz=xyz, dx=float(y2K_RJ(freq, Te)*dr*XMpc/me), beam=beam, argnums=np.where(to_fit)[0], re_eval=re_eval, par_idx=par_idx, n_isobeta=2, n_gnfw=0, n_uniform=3, n_exponential=0)"
   ]
  },
  {
   "cell_type": "code",
   "execution_count": 13,
   "id": "07da7a06-a862-40da-bf0c-6c3c062c0ad3",
   "metadata": {
    "scrolled": true
   },
   "outputs": [
    {
     "ename": "AttributeError",
     "evalue": "'float' object has no attribute 'info'",
     "output_type": "error",
     "traceback": [
      "\u001b[0;31m---------------------------------------------------------------------------\u001b[0m",
      "\u001b[0;31mAttributeError\u001b[0m                            Traceback (most recent call last)",
      "Cell \u001b[0;32mIn[13], line 1\u001b[0m\n\u001b[0;32m----> 1\u001b[0m runtime1 \u001b[38;5;241m=\u001b[39m \u001b[43mtimer\u001b[49m\u001b[43m(\u001b[49m\u001b[43mhelper\u001b[49m\u001b[43m,\u001b[49m\u001b[43m \u001b[49m\u001b[43mxyz\u001b[49m\u001b[43m,\u001b[49m\u001b[43m \u001b[49m\u001b[38;5;28;43mfloat\u001b[39;49m\u001b[43m(\u001b[49m\u001b[43my2K_RJ\u001b[49m\u001b[43m(\u001b[49m\u001b[43mfreq\u001b[49m\u001b[43m,\u001b[49m\u001b[43m \u001b[49m\u001b[43mTe\u001b[49m\u001b[43m)\u001b[49m\u001b[38;5;241;43m*\u001b[39;49m\u001b[43mdr\u001b[49m\u001b[38;5;241;43m*\u001b[39;49m\u001b[43mXMpc\u001b[49m\u001b[38;5;241;43m/\u001b[39;49m\u001b[43mme\u001b[49m\u001b[43m)\u001b[49m\u001b[43m,\u001b[49m\u001b[43m \u001b[49m\u001b[43mbeam\u001b[49m\u001b[43m,\u001b[49m\u001b[43m \u001b[49m\u001b[43mnp\u001b[49m\u001b[38;5;241;43m.\u001b[39;49m\u001b[43mwhere\u001b[49m\u001b[43m(\u001b[49m\u001b[43mto_fit\u001b[49m\u001b[43m)\u001b[49m\u001b[43m[\u001b[49m\u001b[38;5;241;43m0\u001b[39;49m\u001b[43m]\u001b[49m\u001b[43m,\u001b[49m\u001b[43m \u001b[49m\u001b[43mre_eval\u001b[49m\u001b[43m,\u001b[49m\u001b[43m \u001b[49m\u001b[43mpar_idx\u001b[49m\u001b[43m,\u001b[49m\u001b[43m \u001b[49m\u001b[38;5;241;43m2\u001b[39;49m\u001b[43m,\u001b[49m\u001b[43m \u001b[49m\u001b[38;5;241;43m0\u001b[39;49m\u001b[43m,\u001b[49m\u001b[43m \u001b[49m\u001b[38;5;241;43m3\u001b[39;49m\u001b[43m,\u001b[49m\u001b[43m \u001b[49m\u001b[38;5;241;43m0\u001b[39;49m\u001b[43m)\u001b[49m\n\u001b[1;32m      2\u001b[0m runtime2 \u001b[38;5;241m=\u001b[39m timer(helper, xyz, \u001b[38;5;28mfloat\u001b[39m(y2K_RJ(freq, Te)\u001b[38;5;241m*\u001b[39mdr\u001b[38;5;241m*\u001b[39mXMpc\u001b[38;5;241m/\u001b[39mme), beam, np\u001b[38;5;241m.\u001b[39mwhere(to_fit)[\u001b[38;5;241m0\u001b[39m], re_eval, par_idx, \u001b[38;5;241m2\u001b[39m, \u001b[38;5;241m0\u001b[39m, \u001b[38;5;241m3\u001b[39m, \u001b[38;5;241m0\u001b[39m)\n\u001b[1;32m      3\u001b[0m compiletime \u001b[38;5;241m=\u001b[39m runtime1 \u001b[38;5;241m-\u001b[39m runtime2\n",
      "Cell \u001b[0;32mIn[3], line 5\u001b[0m, in \u001b[0;36mtimer\u001b[0;34m(f, *args)\u001b[0m\n\u001b[1;32m      3\u001b[0m \u001b[38;5;28;01mdef\u001b[39;00m \u001b[38;5;21mtimer\u001b[39m(f, \u001b[38;5;241m*\u001b[39margs):\n\u001b[1;32m      4\u001b[0m     starttime \u001b[38;5;241m=\u001b[39m time\u001b[38;5;241m.\u001b[39mtime()\n\u001b[0;32m----> 5\u001b[0m     result \u001b[38;5;241m=\u001b[39m \u001b[43mf\u001b[49m\u001b[43m(\u001b[49m\u001b[38;5;241;43m*\u001b[39;49m\u001b[43margs\u001b[49m\u001b[43m)\u001b[49m\n\u001b[1;32m      6\u001b[0m     endtime \u001b[38;5;241m=\u001b[39m time\u001b[38;5;241m.\u001b[39mtime()\n\u001b[1;32m      7\u001b[0m     \u001b[38;5;28;01mreturn\u001b[39;00m endtime \u001b[38;5;241m-\u001b[39m starttime\n",
      "File \u001b[0;32m/gpfs/fs1/home/r/rbond/jorlo/dev/minkasi_jax/minkasi_jax/core.py:100\u001b[0m, in \u001b[0;36mhelper\u001b[0;34m(params, tod, xyz, dx, beam, argnums, re_eval, par_idx, n_isobeta, n_gnfw, n_gaussian, n_uniform, n_exponential, n_powerlaw, n_powerlaw_cos)\u001b[0m\n\u001b[1;32m     32\u001b[0m \u001b[38;5;28;01mdef\u001b[39;00m \u001b[38;5;21mhelper\u001b[39m(\n\u001b[1;32m     33\u001b[0m     params,\n\u001b[1;32m     34\u001b[0m     tod,\n\u001b[0;32m   (...)\u001b[0m\n\u001b[1;32m     47\u001b[0m     n_powerlaw_cos\u001b[38;5;241m=\u001b[39m\u001b[38;5;241m0\u001b[39m,\n\u001b[1;32m     48\u001b[0m ):\n\u001b[1;32m     49\u001b[0m \u001b[38;5;250m    \u001b[39m\u001b[38;5;124;03m\"\"\"\u001b[39;00m\n\u001b[1;32m     50\u001b[0m \u001b[38;5;124;03m    Helper function to be used when fitting with Minkasi.\u001b[39;00m\n\u001b[1;32m     51\u001b[0m \u001b[38;5;124;03m    Use functools.partial to set all parameters but params and tod before passing to Minkasi.\u001b[39;00m\n\u001b[0;32m   (...)\u001b[0m\n\u001b[1;32m     98\u001b[0m \u001b[38;5;124;03m        pred: The isobeta model with the specified substructure.\u001b[39;00m\n\u001b[1;32m     99\u001b[0m \u001b[38;5;124;03m    \"\"\"\u001b[39;00m\n\u001b[0;32m--> 100\u001b[0m     idx \u001b[38;5;241m=\u001b[39m \u001b[43mtod\u001b[49m\u001b[38;5;241;43m.\u001b[39;49m\u001b[43minfo\u001b[49m[\u001b[38;5;124m\"\u001b[39m\u001b[38;5;124midx\u001b[39m\u001b[38;5;124m\"\u001b[39m]\n\u001b[1;32m    101\u001b[0m     idy \u001b[38;5;241m=\u001b[39m tod\u001b[38;5;241m.\u001b[39minfo[\u001b[38;5;124m\"\u001b[39m\u001b[38;5;124midy\u001b[39m\u001b[38;5;124m\"\u001b[39m]\n\u001b[1;32m    103\u001b[0m     \u001b[38;5;28;01mfor\u001b[39;00m i, re \u001b[38;5;129;01min\u001b[39;00m \u001b[38;5;28menumerate\u001b[39m(re_eval):\n",
      "\u001b[0;31mAttributeError\u001b[0m: 'float' object has no attribute 'info'"
     ]
    }
   ],
   "source": [
    "runtime1 = timer(helper, xyz, float(y2K_RJ(freq, Te)*dr*XMpc/me), beam, np.where(to_fit)[0], re_eval, par_idx, 2, 0, 3, 0)\n",
    "runtime2 = timer(helper, xyz, float(y2K_RJ(freq, Te)*dr*XMpc/me), beam, np.where(to_fit)[0], re_eval, par_idx, 2, 0, 3, 0)\n",
    "compiletime = runtime1 - runtime2\n",
    "print(f\"runtime: {runtime2} compiletime: {compiletime}\")"
   ]
  },
  {
   "cell_type": "code",
   "execution_count": null,
   "id": "af272b5c-f1e6-423c-8f4e-933f8de0482b",
   "metadata": {},
   "outputs": [],
   "source": []
  },
  {
   "cell_type": "code",
   "execution_count": null,
   "id": "f75ca5f2-3a84-4fde-80fd-7fd07dd08e4b",
   "metadata": {},
   "outputs": [],
   "source": []
  },
  {
   "cell_type": "code",
   "execution_count": null,
   "id": "11b4b0d1-6962-449a-9933-8336c290e607",
   "metadata": {},
   "outputs": [],
   "source": []
  },
  {
   "cell_type": "code",
   "execution_count": null,
   "id": "ffddca52-a5af-4e1c-b9aa-0e0231ef2741",
   "metadata": {},
   "outputs": [],
   "source": []
  },
  {
   "cell_type": "code",
   "execution_count": 16,
   "id": "8507aeba-95a0-41d8-b75a-f441fbe74caa",
   "metadata": {},
   "outputs": [],
   "source": [
    "\n"
   ]
  },
  {
   "cell_type": "code",
   "execution_count": 17,
   "id": "c73c1cdc-8ee1-4bdf-8986-483958aae7aa",
   "metadata": {},
   "outputs": [
    {
     "name": "stderr",
     "output_type": "stream",
     "text": [
      "2023-08-14 13:25:45.026716: W external/org_tensorflow/tensorflow/core/common_runtime/bfc_allocator.cc:461] Allocator (GPU_0_bfc) ran out of memory trying to allocate 2.76GiB (rounded to 2961169920)requested by op \n",
      "2023-08-14 13:25:45.026929: W external/org_tensorflow/tensorflow/core/common_runtime/bfc_allocator.cc:472] *___________________________________________________________________________________________________\n",
      "2023-08-14 13:25:45.026989: E external/org_tensorflow/tensorflow/compiler/xla/pjrt/pjrt_stream_executor_client.cc:2085] Execution of replica 0 failed: RESOURCE_EXHAUSTED: Out of memory while trying to allocate 2961169856 bytes.\n"
     ]
    },
    {
     "ename": "RuntimeError",
     "evalue": "RESOURCE_EXHAUSTED: Out of memory while trying to allocate 2961169856 bytes.",
     "output_type": "error",
     "traceback": [
      "\u001b[0;31m---------------------------------------------------------------------------\u001b[0m",
      "\u001b[0;31mRuntimeError\u001b[0m                              Traceback (most recent call last)",
      "Cell \u001b[0;32mIn[17], line 2\u001b[0m\n\u001b[1;32m      1\u001b[0m starttime \u001b[38;5;241m=\u001b[39m time\u001b[38;5;241m.\u001b[39mtime()\n\u001b[0;32m----> 2\u001b[0m \u001b[43mmodel\u001b[49m\u001b[43m(\u001b[49m\u001b[43mxyz\u001b[49m\u001b[43m,\u001b[49m\u001b[43m \u001b[49m\u001b[38;5;241;43m2\u001b[39;49m\u001b[43m,\u001b[49m\u001b[43m \u001b[49m\u001b[38;5;241;43m0\u001b[39;49m\u001b[43m,\u001b[49m\u001b[43m \u001b[49m\u001b[38;5;241;43m0\u001b[39;49m\u001b[43m,\u001b[49m\u001b[43m \u001b[49m\u001b[38;5;241;43m1\u001b[39;49m\u001b[43m,\u001b[49m\u001b[43m \u001b[49m\u001b[38;5;241;43m0\u001b[39;49m\u001b[43m,\u001b[49m\u001b[43m \u001b[49m\u001b[38;5;241;43m0\u001b[39;49m\u001b[43m,\u001b[49m\u001b[43m \u001b[49m\u001b[38;5;241;43m0\u001b[39;49m\u001b[43m,\u001b[49m\u001b[43m \u001b[49m\u001b[38;5;28;43mfloat\u001b[39;49m\u001b[43m(\u001b[49m\u001b[43my2K_RJ\u001b[49m\u001b[43m(\u001b[49m\u001b[43mfreq\u001b[49m\u001b[43m,\u001b[49m\u001b[43m \u001b[49m\u001b[43mTe\u001b[49m\u001b[43m)\u001b[49m\u001b[38;5;241;43m*\u001b[39;49m\u001b[43mdr\u001b[49m\u001b[38;5;241;43m*\u001b[39;49m\u001b[43mXMpc\u001b[49m\u001b[38;5;241;43m/\u001b[39;49m\u001b[43mme\u001b[49m\u001b[43m)\u001b[49m\u001b[43m,\u001b[49m\u001b[43m \u001b[49m\u001b[43mbeam\u001b[49m\u001b[43m,\u001b[49m\u001b[43m \u001b[49m\u001b[43midx\u001b[49m\u001b[43m,\u001b[49m\u001b[43m \u001b[49m\u001b[43midy\u001b[49m\u001b[43m,\u001b[49m\u001b[43m \u001b[49m\u001b[43mnew_pars\u001b[49m\u001b[43m)\u001b[49m\u001b[38;5;241m.\u001b[39mblock_until_ready()\n\u001b[1;32m      3\u001b[0m endtime \u001b[38;5;241m=\u001b[39m time\u001b[38;5;241m.\u001b[39mtime()\n\u001b[1;32m      5\u001b[0m \u001b[38;5;28mprint\u001b[39m(endtime\u001b[38;5;241m-\u001b[39mstarttime)\n",
      "Cell \u001b[0;32mIn[16], line 123\u001b[0m, in \u001b[0;36mmodel\u001b[0;34m(xyz, n_isobeta, n_gnfw, n_gaussian, n_uniform, n_exponential, n_powerlaw, n_powerlaw_cos, dx, beam, idx, idy, *params)\u001b[0m\n\u001b[1;32m    118\u001b[0m     powerlaw_coses \u001b[38;5;241m=\u001b[39m params[start : start \u001b[38;5;241m+\u001b[39m delta]\u001b[38;5;241m.\u001b[39mreshape(\n\u001b[1;32m    119\u001b[0m         (n_powerlaw_cos, N_PAR_POWERLAW)\n\u001b[1;32m    120\u001b[0m     )\n\u001b[1;32m    121\u001b[0m     start \u001b[38;5;241m+\u001b[39m\u001b[38;5;241m=\u001b[39m delta\n\u001b[0;32m--> 123\u001b[0m pressure \u001b[38;5;241m=\u001b[39m \u001b[43mjnp\u001b[49m\u001b[38;5;241;43m.\u001b[39;49m\u001b[43mzeros\u001b[49m\u001b[43m(\u001b[49m\u001b[43m(\u001b[49m\u001b[43mxyz\u001b[49m\u001b[43m[\u001b[49m\u001b[38;5;241;43m0\u001b[39;49m\u001b[43m]\u001b[49m\u001b[38;5;241;43m.\u001b[39;49m\u001b[43mshape\u001b[49m\u001b[43m[\u001b[49m\u001b[38;5;241;43m1\u001b[39;49m\u001b[43m]\u001b[49m\u001b[43m,\u001b[49m\u001b[43m \u001b[49m\u001b[43mxyz\u001b[49m\u001b[43m[\u001b[49m\u001b[38;5;241;43m1\u001b[39;49m\u001b[43m]\u001b[49m\u001b[38;5;241;43m.\u001b[39;49m\u001b[43mshape\u001b[49m\u001b[43m[\u001b[49m\u001b[38;5;241;43m0\u001b[39;49m\u001b[43m]\u001b[49m\u001b[43m,\u001b[49m\u001b[43m \u001b[49m\u001b[43mxyz\u001b[49m\u001b[43m[\u001b[49m\u001b[38;5;241;43m2\u001b[39;49m\u001b[43m]\u001b[49m\u001b[38;5;241;43m.\u001b[39;49m\u001b[43mshape\u001b[49m\u001b[43m[\u001b[49m\u001b[38;5;241;43m2\u001b[39;49m\u001b[43m]\u001b[49m\u001b[43m)\u001b[49m\u001b[43m)\u001b[49m\n\u001b[1;32m    124\u001b[0m \u001b[38;5;28;01mfor\u001b[39;00m i \u001b[38;5;129;01min\u001b[39;00m \u001b[38;5;28mrange\u001b[39m(n_isobeta):\n\u001b[1;32m    125\u001b[0m     pressure \u001b[38;5;241m=\u001b[39m jnp\u001b[38;5;241m.\u001b[39madd(pressure, isobeta(\u001b[38;5;241m*\u001b[39misobetas[i], xyz))\n",
      "File \u001b[0;32m~/.conda/envs/jax/lib/python3.8/site-packages/jax/_src/numpy/lax_numpy.py:3637\u001b[0m, in \u001b[0;36mzeros\u001b[0;34m(shape, dtype)\u001b[0m\n\u001b[1;32m   3635\u001b[0m dtype \u001b[38;5;241m=\u001b[39m float_ \u001b[38;5;28;01mif\u001b[39;00m dtype \u001b[38;5;129;01mis\u001b[39;00m \u001b[38;5;28;01mNone\u001b[39;00m \u001b[38;5;28;01melse\u001b[39;00m dtype\n\u001b[1;32m   3636\u001b[0m shape \u001b[38;5;241m=\u001b[39m (shape,) \u001b[38;5;28;01mif\u001b[39;00m ndim(shape) \u001b[38;5;241m==\u001b[39m \u001b[38;5;241m0\u001b[39m \u001b[38;5;28;01melse\u001b[39;00m shape\n\u001b[0;32m-> 3637\u001b[0m \u001b[38;5;28;01mreturn\u001b[39;00m \u001b[43mlax\u001b[49m\u001b[38;5;241;43m.\u001b[39;49m\u001b[43mfull\u001b[49m\u001b[43m(\u001b[49m\u001b[43mshape\u001b[49m\u001b[43m,\u001b[49m\u001b[43m \u001b[49m\u001b[38;5;241;43m0\u001b[39;49m\u001b[43m,\u001b[49m\u001b[43m \u001b[49m\u001b[43mdtype\u001b[49m\u001b[43m)\u001b[49m\n",
      "File \u001b[0;32m~/.conda/envs/jax/lib/python3.8/site-packages/jax/_src/lax/lax.py:1606\u001b[0m, in \u001b[0;36mfull\u001b[0;34m(shape, fill_value, dtype)\u001b[0m\n\u001b[1;32m   1604\u001b[0m dtype \u001b[38;5;241m=\u001b[39m dtypes\u001b[38;5;241m.\u001b[39mcanonicalize_dtype(dtype \u001b[38;5;129;01mor\u001b[39;00m _dtype(fill_value))\n\u001b[1;32m   1605\u001b[0m fill_value \u001b[38;5;241m=\u001b[39m _convert_element_type(fill_value, dtype, weak_type)\n\u001b[0;32m-> 1606\u001b[0m \u001b[38;5;28;01mreturn\u001b[39;00m \u001b[43mbroadcast\u001b[49m\u001b[43m(\u001b[49m\u001b[43mfill_value\u001b[49m\u001b[43m,\u001b[49m\u001b[43m \u001b[49m\u001b[43mshape\u001b[49m\u001b[43m)\u001b[49m\n",
      "File \u001b[0;32m~/.conda/envs/jax/lib/python3.8/site-packages/jax/_src/lax/lax.py:725\u001b[0m, in \u001b[0;36mbroadcast\u001b[0;34m(operand, sizes)\u001b[0m\n\u001b[1;32m    711\u001b[0m \u001b[38;5;250m\u001b[39m\u001b[38;5;124;03m\"\"\"Broadcasts an array, adding new leading dimensions\u001b[39;00m\n\u001b[1;32m    712\u001b[0m \n\u001b[1;32m    713\u001b[0m \u001b[38;5;124;03mArgs:\u001b[39;00m\n\u001b[0;32m   (...)\u001b[0m\n\u001b[1;32m    722\u001b[0m \u001b[38;5;124;03m  jax.lax.broadcast_in_dim : add new dimensions at any location in the array shape.\u001b[39;00m\n\u001b[1;32m    723\u001b[0m \u001b[38;5;124;03m\"\"\"\u001b[39;00m\n\u001b[1;32m    724\u001b[0m dims \u001b[38;5;241m=\u001b[39m \u001b[38;5;28mtuple\u001b[39m(\u001b[38;5;28mrange\u001b[39m(\u001b[38;5;28mlen\u001b[39m(sizes), \u001b[38;5;28mlen\u001b[39m(sizes) \u001b[38;5;241m+\u001b[39m np\u001b[38;5;241m.\u001b[39mndim(operand)))\n\u001b[0;32m--> 725\u001b[0m \u001b[38;5;28;01mreturn\u001b[39;00m \u001b[43mbroadcast_in_dim\u001b[49m\u001b[43m(\u001b[49m\u001b[43moperand\u001b[49m\u001b[43m,\u001b[49m\u001b[43m \u001b[49m\u001b[38;5;28;43mtuple\u001b[39;49m\u001b[43m(\u001b[49m\u001b[43msizes\u001b[49m\u001b[43m)\u001b[49m\u001b[43m \u001b[49m\u001b[38;5;241;43m+\u001b[39;49m\u001b[43m \u001b[49m\u001b[43mnp\u001b[49m\u001b[38;5;241;43m.\u001b[39;49m\u001b[43mshape\u001b[49m\u001b[43m(\u001b[49m\u001b[43moperand\u001b[49m\u001b[43m)\u001b[49m\u001b[43m,\u001b[49m\u001b[43m \u001b[49m\u001b[43mdims\u001b[49m\u001b[43m)\u001b[49m\n",
      "File \u001b[0;32m~/.conda/envs/jax/lib/python3.8/site-packages/jax/_src/lax/lax.py:750\u001b[0m, in \u001b[0;36mbroadcast_in_dim\u001b[0;34m(operand, shape, broadcast_dimensions)\u001b[0m\n\u001b[1;32m    747\u001b[0m \u001b[38;5;28;01mif\u001b[39;00m (np\u001b[38;5;241m.\u001b[39mndim(operand) \u001b[38;5;241m==\u001b[39m \u001b[38;5;28mlen\u001b[39m(shape) \u001b[38;5;129;01mand\u001b[39;00m \u001b[38;5;129;01mnot\u001b[39;00m \u001b[38;5;28mlen\u001b[39m(broadcast_dimensions)\n\u001b[1;32m    748\u001b[0m     \u001b[38;5;129;01mand\u001b[39;00m \u001b[38;5;28misinstance\u001b[39m(operand, (xla\u001b[38;5;241m.\u001b[39mDeviceArray, core\u001b[38;5;241m.\u001b[39mTracer))):\n\u001b[1;32m    749\u001b[0m   \u001b[38;5;28;01mreturn\u001b[39;00m operand\n\u001b[0;32m--> 750\u001b[0m \u001b[38;5;28;01mreturn\u001b[39;00m \u001b[43mbroadcast_in_dim_p\u001b[49m\u001b[38;5;241;43m.\u001b[39;49m\u001b[43mbind\u001b[49m\u001b[43m(\u001b[49m\n\u001b[1;32m    751\u001b[0m \u001b[43m    \u001b[49m\u001b[43moperand\u001b[49m\u001b[43m,\u001b[49m\u001b[43m \u001b[49m\u001b[43mshape\u001b[49m\u001b[38;5;241;43m=\u001b[39;49m\u001b[38;5;28;43mtuple\u001b[39;49m\u001b[43m(\u001b[49m\u001b[43mshape\u001b[49m\u001b[43m)\u001b[49m\u001b[43m,\u001b[49m\n\u001b[1;32m    752\u001b[0m \u001b[43m    \u001b[49m\u001b[43mbroadcast_dimensions\u001b[49m\u001b[38;5;241;43m=\u001b[39;49m\u001b[38;5;28;43mtuple\u001b[39;49m\u001b[43m(\u001b[49m\u001b[43mbroadcast_dimensions\u001b[49m\u001b[43m)\u001b[49m\u001b[43m)\u001b[49m\n",
      "File \u001b[0;32m~/.conda/envs/jax/lib/python3.8/site-packages/jax/core.py:267\u001b[0m, in \u001b[0;36mPrimitive.bind\u001b[0;34m(self, *args, **params)\u001b[0m\n\u001b[1;32m    264\u001b[0m top_trace \u001b[38;5;241m=\u001b[39m find_top_trace(\n\u001b[1;32m    265\u001b[0m     args, used_axis_names(\u001b[38;5;28mself\u001b[39m, params) \u001b[38;5;28;01mif\u001b[39;00m \u001b[38;5;28mself\u001b[39m\u001b[38;5;241m.\u001b[39m_dispatch_on_params \u001b[38;5;28;01melse\u001b[39;00m \u001b[38;5;28;01mNone\u001b[39;00m)\n\u001b[1;32m    266\u001b[0m tracers \u001b[38;5;241m=\u001b[39m \u001b[38;5;28mmap\u001b[39m(top_trace\u001b[38;5;241m.\u001b[39mfull_raise, args)\n\u001b[0;32m--> 267\u001b[0m out \u001b[38;5;241m=\u001b[39m \u001b[43mtop_trace\u001b[49m\u001b[38;5;241;43m.\u001b[39;49m\u001b[43mprocess_primitive\u001b[49m\u001b[43m(\u001b[49m\u001b[38;5;28;43mself\u001b[39;49m\u001b[43m,\u001b[49m\u001b[43m \u001b[49m\u001b[43mtracers\u001b[49m\u001b[43m,\u001b[49m\u001b[43m \u001b[49m\u001b[43mparams\u001b[49m\u001b[43m)\u001b[49m\n\u001b[1;32m    268\u001b[0m \u001b[38;5;28;01mreturn\u001b[39;00m \u001b[38;5;28mmap\u001b[39m(full_lower, out) \u001b[38;5;28;01mif\u001b[39;00m \u001b[38;5;28mself\u001b[39m\u001b[38;5;241m.\u001b[39mmultiple_results \u001b[38;5;28;01melse\u001b[39;00m full_lower(out)\n",
      "File \u001b[0;32m~/.conda/envs/jax/lib/python3.8/site-packages/jax/core.py:612\u001b[0m, in \u001b[0;36mEvalTrace.process_primitive\u001b[0;34m(self, primitive, tracers, params)\u001b[0m\n\u001b[1;32m    611\u001b[0m \u001b[38;5;28;01mdef\u001b[39;00m \u001b[38;5;21mprocess_primitive\u001b[39m(\u001b[38;5;28mself\u001b[39m, primitive, tracers, params):\n\u001b[0;32m--> 612\u001b[0m   \u001b[38;5;28;01mreturn\u001b[39;00m \u001b[43mprimitive\u001b[49m\u001b[38;5;241;43m.\u001b[39;49m\u001b[43mimpl\u001b[49m\u001b[43m(\u001b[49m\u001b[38;5;241;43m*\u001b[39;49m\u001b[43mtracers\u001b[49m\u001b[43m,\u001b[49m\u001b[43m \u001b[49m\u001b[38;5;241;43m*\u001b[39;49m\u001b[38;5;241;43m*\u001b[39;49m\u001b[43mparams\u001b[49m\u001b[43m)\u001b[49m\n",
      "File \u001b[0;32m~/.conda/envs/jax/lib/python3.8/site-packages/jax/interpreters/xla.py:276\u001b[0m, in \u001b[0;36mapply_primitive\u001b[0;34m(prim, *args, **params)\u001b[0m\n\u001b[1;32m    274\u001b[0m \u001b[38;5;250m\u001b[39m\u001b[38;5;124;03m\"\"\"Impl rule that compiles and runs a single primitive 'prim' using XLA.\"\"\"\u001b[39;00m\n\u001b[1;32m    275\u001b[0m compiled_fun \u001b[38;5;241m=\u001b[39m xla_primitive_callable(prim, \u001b[38;5;241m*\u001b[39munsafe_map(arg_spec, args), \u001b[38;5;241m*\u001b[39m\u001b[38;5;241m*\u001b[39mparams)\n\u001b[0;32m--> 276\u001b[0m \u001b[38;5;28;01mreturn\u001b[39;00m \u001b[43mcompiled_fun\u001b[49m\u001b[43m(\u001b[49m\u001b[38;5;241;43m*\u001b[39;49m\u001b[43margs\u001b[49m\u001b[43m)\u001b[49m\n",
      "File \u001b[0;32m~/.conda/envs/jax/lib/python3.8/site-packages/jax/interpreters/xla.py:392\u001b[0m, in \u001b[0;36m_execute_compiled_primitive\u001b[0;34m(prim, compiled, result_handler, *args)\u001b[0m\n\u001b[1;32m    390\u001b[0m device, \u001b[38;5;241m=\u001b[39m compiled\u001b[38;5;241m.\u001b[39mlocal_devices()\n\u001b[1;32m    391\u001b[0m input_bufs \u001b[38;5;241m=\u001b[39m \u001b[38;5;28mlist\u001b[39m(it\u001b[38;5;241m.\u001b[39mchain\u001b[38;5;241m.\u001b[39mfrom_iterable(device_put(x, device) \u001b[38;5;28;01mfor\u001b[39;00m x \u001b[38;5;129;01min\u001b[39;00m args \u001b[38;5;28;01mif\u001b[39;00m x \u001b[38;5;129;01mis\u001b[39;00m \u001b[38;5;129;01mnot\u001b[39;00m token))\n\u001b[0;32m--> 392\u001b[0m out_bufs \u001b[38;5;241m=\u001b[39m \u001b[43mcompiled\u001b[49m\u001b[38;5;241;43m.\u001b[39;49m\u001b[43mexecute\u001b[49m\u001b[43m(\u001b[49m\u001b[43minput_bufs\u001b[49m\u001b[43m)\u001b[49m\n\u001b[1;32m    393\u001b[0m check_special(prim\u001b[38;5;241m.\u001b[39mname, out_bufs)\n\u001b[1;32m    394\u001b[0m \u001b[38;5;28;01mreturn\u001b[39;00m result_handler(\u001b[38;5;241m*\u001b[39mout_bufs)\n",
      "\u001b[0;31mRuntimeError\u001b[0m: RESOURCE_EXHAUSTED: Out of memory while trying to allocate 2961169856 bytes."
     ]
    }
   ],
   "source": [
    "starttime = time.time()\n",
    "model(xyz, 2, 0, 0, 1, 0, 0, 0, float(y2K_RJ(freq, Te)*dr*XMpc/me), beam, idx, idy, new_pars).block_until_ready()\n",
    "endtime = time.time()\n",
    "\n",
    "print(endtime-starttime)"
   ]
  },
  {
   "cell_type": "code",
   "execution_count": null,
   "id": "517b15ae-ae57-4f6d-9eb7-f5658c7d454d",
   "metadata": {},
   "outputs": [],
   "source": [
    "R = 100\n",
    "\n",
    "ts = time.time()\n",
    "for i in range(R):\n",
    "    model(xyz, 2, 0, 0, 1, 0, 0, 0, float(y2K_RJ(freq, Te)*dr*XMpc/me), beam, idx, idy, new_pars).block_until_ready()\n",
    "print('jax fft execution time [ms]:\\t', (time.time()-ts)/R * 1000)"
   ]
  },
  {
   "cell_type": "code",
   "execution_count": 15,
   "id": "81018f86-400f-4632-812a-8fb63fcc2ddb",
   "metadata": {},
   "outputs": [
    {
     "data": {
      "text/plain": [
       "(718, 718, 718)"
      ]
     },
     "execution_count": 15,
     "metadata": {},
     "output_type": "execute_result"
    }
   ],
   "source": []
  },
  {
   "cell_type": "code",
   "execution_count": 22,
   "id": "d738d2c4-5a02-4658-a1b4-9c880f167020",
   "metadata": {},
   "outputs": [
    {
     "name": "stderr",
     "output_type": "stream",
     "text": [
      "2023-08-14 13:27:14.483879: W external/org_tensorflow/tensorflow/core/common_runtime/bfc_allocator.cc:461] Allocator (GPU_0_bfc) ran out of memory trying to allocate 2.76GiB (rounded to 2961169920)requested by op \n",
      "2023-08-14 13:27:14.484083: W external/org_tensorflow/tensorflow/core/common_runtime/bfc_allocator.cc:472] **__________________________________________________________________________________________________\n",
      "2023-08-14 13:27:14.484131: E external/org_tensorflow/tensorflow/compiler/xla/pjrt/pjrt_stream_executor_client.cc:2085] Execution of replica 0 failed: RESOURCE_EXHAUSTED: Out of memory while trying to allocate 2961169856 bytes.\n"
     ]
    },
    {
     "ename": "RuntimeError",
     "evalue": "RESOURCE_EXHAUSTED: Out of memory while trying to allocate 2961169856 bytes.",
     "output_type": "error",
     "traceback": [
      "\u001b[0;31m---------------------------------------------------------------------------\u001b[0m",
      "\u001b[0;31mRuntimeError\u001b[0m                              Traceback (most recent call last)",
      "Cell \u001b[0;32mIn[22], line 1\u001b[0m\n\u001b[0;32m----> 1\u001b[0m \u001b[43mjnp\u001b[49m\u001b[38;5;241;43m.\u001b[39;49m\u001b[43mzeros\u001b[49m\u001b[43m(\u001b[49m\u001b[43m(\u001b[49m\u001b[43mxyz\u001b[49m\u001b[43m[\u001b[49m\u001b[38;5;241;43m0\u001b[39;49m\u001b[43m]\u001b[49m\u001b[38;5;241;43m.\u001b[39;49m\u001b[43mshape\u001b[49m\u001b[43m[\u001b[49m\u001b[38;5;241;43m1\u001b[39;49m\u001b[43m]\u001b[49m\u001b[43m,\u001b[49m\u001b[43m \u001b[49m\u001b[43mxyz\u001b[49m\u001b[43m[\u001b[49m\u001b[38;5;241;43m1\u001b[39;49m\u001b[43m]\u001b[49m\u001b[38;5;241;43m.\u001b[39;49m\u001b[43mshape\u001b[49m\u001b[43m[\u001b[49m\u001b[38;5;241;43m0\u001b[39;49m\u001b[43m]\u001b[49m\u001b[43m,\u001b[49m\u001b[43m \u001b[49m\u001b[43mxyz\u001b[49m\u001b[43m[\u001b[49m\u001b[38;5;241;43m2\u001b[39;49m\u001b[43m]\u001b[49m\u001b[38;5;241;43m.\u001b[39;49m\u001b[43mshape\u001b[49m\u001b[43m[\u001b[49m\u001b[38;5;241;43m2\u001b[39;49m\u001b[43m]\u001b[49m\u001b[43m)\u001b[49m\u001b[43m)\u001b[49m\n",
      "File \u001b[0;32m~/.conda/envs/jax/lib/python3.8/site-packages/jax/_src/numpy/lax_numpy.py:3637\u001b[0m, in \u001b[0;36mzeros\u001b[0;34m(shape, dtype)\u001b[0m\n\u001b[1;32m   3635\u001b[0m dtype \u001b[38;5;241m=\u001b[39m float_ \u001b[38;5;28;01mif\u001b[39;00m dtype \u001b[38;5;129;01mis\u001b[39;00m \u001b[38;5;28;01mNone\u001b[39;00m \u001b[38;5;28;01melse\u001b[39;00m dtype\n\u001b[1;32m   3636\u001b[0m shape \u001b[38;5;241m=\u001b[39m (shape,) \u001b[38;5;28;01mif\u001b[39;00m ndim(shape) \u001b[38;5;241m==\u001b[39m \u001b[38;5;241m0\u001b[39m \u001b[38;5;28;01melse\u001b[39;00m shape\n\u001b[0;32m-> 3637\u001b[0m \u001b[38;5;28;01mreturn\u001b[39;00m \u001b[43mlax\u001b[49m\u001b[38;5;241;43m.\u001b[39;49m\u001b[43mfull\u001b[49m\u001b[43m(\u001b[49m\u001b[43mshape\u001b[49m\u001b[43m,\u001b[49m\u001b[43m \u001b[49m\u001b[38;5;241;43m0\u001b[39;49m\u001b[43m,\u001b[49m\u001b[43m \u001b[49m\u001b[43mdtype\u001b[49m\u001b[43m)\u001b[49m\n",
      "File \u001b[0;32m~/.conda/envs/jax/lib/python3.8/site-packages/jax/_src/lax/lax.py:1606\u001b[0m, in \u001b[0;36mfull\u001b[0;34m(shape, fill_value, dtype)\u001b[0m\n\u001b[1;32m   1604\u001b[0m dtype \u001b[38;5;241m=\u001b[39m dtypes\u001b[38;5;241m.\u001b[39mcanonicalize_dtype(dtype \u001b[38;5;129;01mor\u001b[39;00m _dtype(fill_value))\n\u001b[1;32m   1605\u001b[0m fill_value \u001b[38;5;241m=\u001b[39m _convert_element_type(fill_value, dtype, weak_type)\n\u001b[0;32m-> 1606\u001b[0m \u001b[38;5;28;01mreturn\u001b[39;00m \u001b[43mbroadcast\u001b[49m\u001b[43m(\u001b[49m\u001b[43mfill_value\u001b[49m\u001b[43m,\u001b[49m\u001b[43m \u001b[49m\u001b[43mshape\u001b[49m\u001b[43m)\u001b[49m\n",
      "File \u001b[0;32m~/.conda/envs/jax/lib/python3.8/site-packages/jax/_src/lax/lax.py:725\u001b[0m, in \u001b[0;36mbroadcast\u001b[0;34m(operand, sizes)\u001b[0m\n\u001b[1;32m    711\u001b[0m \u001b[38;5;250m\u001b[39m\u001b[38;5;124;03m\"\"\"Broadcasts an array, adding new leading dimensions\u001b[39;00m\n\u001b[1;32m    712\u001b[0m \n\u001b[1;32m    713\u001b[0m \u001b[38;5;124;03mArgs:\u001b[39;00m\n\u001b[0;32m   (...)\u001b[0m\n\u001b[1;32m    722\u001b[0m \u001b[38;5;124;03m  jax.lax.broadcast_in_dim : add new dimensions at any location in the array shape.\u001b[39;00m\n\u001b[1;32m    723\u001b[0m \u001b[38;5;124;03m\"\"\"\u001b[39;00m\n\u001b[1;32m    724\u001b[0m dims \u001b[38;5;241m=\u001b[39m \u001b[38;5;28mtuple\u001b[39m(\u001b[38;5;28mrange\u001b[39m(\u001b[38;5;28mlen\u001b[39m(sizes), \u001b[38;5;28mlen\u001b[39m(sizes) \u001b[38;5;241m+\u001b[39m np\u001b[38;5;241m.\u001b[39mndim(operand)))\n\u001b[0;32m--> 725\u001b[0m \u001b[38;5;28;01mreturn\u001b[39;00m \u001b[43mbroadcast_in_dim\u001b[49m\u001b[43m(\u001b[49m\u001b[43moperand\u001b[49m\u001b[43m,\u001b[49m\u001b[43m \u001b[49m\u001b[38;5;28;43mtuple\u001b[39;49m\u001b[43m(\u001b[49m\u001b[43msizes\u001b[49m\u001b[43m)\u001b[49m\u001b[43m \u001b[49m\u001b[38;5;241;43m+\u001b[39;49m\u001b[43m \u001b[49m\u001b[43mnp\u001b[49m\u001b[38;5;241;43m.\u001b[39;49m\u001b[43mshape\u001b[49m\u001b[43m(\u001b[49m\u001b[43moperand\u001b[49m\u001b[43m)\u001b[49m\u001b[43m,\u001b[49m\u001b[43m \u001b[49m\u001b[43mdims\u001b[49m\u001b[43m)\u001b[49m\n",
      "File \u001b[0;32m~/.conda/envs/jax/lib/python3.8/site-packages/jax/_src/lax/lax.py:750\u001b[0m, in \u001b[0;36mbroadcast_in_dim\u001b[0;34m(operand, shape, broadcast_dimensions)\u001b[0m\n\u001b[1;32m    747\u001b[0m \u001b[38;5;28;01mif\u001b[39;00m (np\u001b[38;5;241m.\u001b[39mndim(operand) \u001b[38;5;241m==\u001b[39m \u001b[38;5;28mlen\u001b[39m(shape) \u001b[38;5;129;01mand\u001b[39;00m \u001b[38;5;129;01mnot\u001b[39;00m \u001b[38;5;28mlen\u001b[39m(broadcast_dimensions)\n\u001b[1;32m    748\u001b[0m     \u001b[38;5;129;01mand\u001b[39;00m \u001b[38;5;28misinstance\u001b[39m(operand, (xla\u001b[38;5;241m.\u001b[39mDeviceArray, core\u001b[38;5;241m.\u001b[39mTracer))):\n\u001b[1;32m    749\u001b[0m   \u001b[38;5;28;01mreturn\u001b[39;00m operand\n\u001b[0;32m--> 750\u001b[0m \u001b[38;5;28;01mreturn\u001b[39;00m \u001b[43mbroadcast_in_dim_p\u001b[49m\u001b[38;5;241;43m.\u001b[39;49m\u001b[43mbind\u001b[49m\u001b[43m(\u001b[49m\n\u001b[1;32m    751\u001b[0m \u001b[43m    \u001b[49m\u001b[43moperand\u001b[49m\u001b[43m,\u001b[49m\u001b[43m \u001b[49m\u001b[43mshape\u001b[49m\u001b[38;5;241;43m=\u001b[39;49m\u001b[38;5;28;43mtuple\u001b[39;49m\u001b[43m(\u001b[49m\u001b[43mshape\u001b[49m\u001b[43m)\u001b[49m\u001b[43m,\u001b[49m\n\u001b[1;32m    752\u001b[0m \u001b[43m    \u001b[49m\u001b[43mbroadcast_dimensions\u001b[49m\u001b[38;5;241;43m=\u001b[39;49m\u001b[38;5;28;43mtuple\u001b[39;49m\u001b[43m(\u001b[49m\u001b[43mbroadcast_dimensions\u001b[49m\u001b[43m)\u001b[49m\u001b[43m)\u001b[49m\n",
      "File \u001b[0;32m~/.conda/envs/jax/lib/python3.8/site-packages/jax/core.py:267\u001b[0m, in \u001b[0;36mPrimitive.bind\u001b[0;34m(self, *args, **params)\u001b[0m\n\u001b[1;32m    264\u001b[0m top_trace \u001b[38;5;241m=\u001b[39m find_top_trace(\n\u001b[1;32m    265\u001b[0m     args, used_axis_names(\u001b[38;5;28mself\u001b[39m, params) \u001b[38;5;28;01mif\u001b[39;00m \u001b[38;5;28mself\u001b[39m\u001b[38;5;241m.\u001b[39m_dispatch_on_params \u001b[38;5;28;01melse\u001b[39;00m \u001b[38;5;28;01mNone\u001b[39;00m)\n\u001b[1;32m    266\u001b[0m tracers \u001b[38;5;241m=\u001b[39m \u001b[38;5;28mmap\u001b[39m(top_trace\u001b[38;5;241m.\u001b[39mfull_raise, args)\n\u001b[0;32m--> 267\u001b[0m out \u001b[38;5;241m=\u001b[39m \u001b[43mtop_trace\u001b[49m\u001b[38;5;241;43m.\u001b[39;49m\u001b[43mprocess_primitive\u001b[49m\u001b[43m(\u001b[49m\u001b[38;5;28;43mself\u001b[39;49m\u001b[43m,\u001b[49m\u001b[43m \u001b[49m\u001b[43mtracers\u001b[49m\u001b[43m,\u001b[49m\u001b[43m \u001b[49m\u001b[43mparams\u001b[49m\u001b[43m)\u001b[49m\n\u001b[1;32m    268\u001b[0m \u001b[38;5;28;01mreturn\u001b[39;00m \u001b[38;5;28mmap\u001b[39m(full_lower, out) \u001b[38;5;28;01mif\u001b[39;00m \u001b[38;5;28mself\u001b[39m\u001b[38;5;241m.\u001b[39mmultiple_results \u001b[38;5;28;01melse\u001b[39;00m full_lower(out)\n",
      "File \u001b[0;32m~/.conda/envs/jax/lib/python3.8/site-packages/jax/core.py:612\u001b[0m, in \u001b[0;36mEvalTrace.process_primitive\u001b[0;34m(self, primitive, tracers, params)\u001b[0m\n\u001b[1;32m    611\u001b[0m \u001b[38;5;28;01mdef\u001b[39;00m \u001b[38;5;21mprocess_primitive\u001b[39m(\u001b[38;5;28mself\u001b[39m, primitive, tracers, params):\n\u001b[0;32m--> 612\u001b[0m   \u001b[38;5;28;01mreturn\u001b[39;00m \u001b[43mprimitive\u001b[49m\u001b[38;5;241;43m.\u001b[39;49m\u001b[43mimpl\u001b[49m\u001b[43m(\u001b[49m\u001b[38;5;241;43m*\u001b[39;49m\u001b[43mtracers\u001b[49m\u001b[43m,\u001b[49m\u001b[43m \u001b[49m\u001b[38;5;241;43m*\u001b[39;49m\u001b[38;5;241;43m*\u001b[39;49m\u001b[43mparams\u001b[49m\u001b[43m)\u001b[49m\n",
      "File \u001b[0;32m~/.conda/envs/jax/lib/python3.8/site-packages/jax/interpreters/xla.py:276\u001b[0m, in \u001b[0;36mapply_primitive\u001b[0;34m(prim, *args, **params)\u001b[0m\n\u001b[1;32m    274\u001b[0m \u001b[38;5;250m\u001b[39m\u001b[38;5;124;03m\"\"\"Impl rule that compiles and runs a single primitive 'prim' using XLA.\"\"\"\u001b[39;00m\n\u001b[1;32m    275\u001b[0m compiled_fun \u001b[38;5;241m=\u001b[39m xla_primitive_callable(prim, \u001b[38;5;241m*\u001b[39munsafe_map(arg_spec, args), \u001b[38;5;241m*\u001b[39m\u001b[38;5;241m*\u001b[39mparams)\n\u001b[0;32m--> 276\u001b[0m \u001b[38;5;28;01mreturn\u001b[39;00m \u001b[43mcompiled_fun\u001b[49m\u001b[43m(\u001b[49m\u001b[38;5;241;43m*\u001b[39;49m\u001b[43margs\u001b[49m\u001b[43m)\u001b[49m\n",
      "File \u001b[0;32m~/.conda/envs/jax/lib/python3.8/site-packages/jax/interpreters/xla.py:392\u001b[0m, in \u001b[0;36m_execute_compiled_primitive\u001b[0;34m(prim, compiled, result_handler, *args)\u001b[0m\n\u001b[1;32m    390\u001b[0m device, \u001b[38;5;241m=\u001b[39m compiled\u001b[38;5;241m.\u001b[39mlocal_devices()\n\u001b[1;32m    391\u001b[0m input_bufs \u001b[38;5;241m=\u001b[39m \u001b[38;5;28mlist\u001b[39m(it\u001b[38;5;241m.\u001b[39mchain\u001b[38;5;241m.\u001b[39mfrom_iterable(device_put(x, device) \u001b[38;5;28;01mfor\u001b[39;00m x \u001b[38;5;129;01min\u001b[39;00m args \u001b[38;5;28;01mif\u001b[39;00m x \u001b[38;5;129;01mis\u001b[39;00m \u001b[38;5;129;01mnot\u001b[39;00m token))\n\u001b[0;32m--> 392\u001b[0m out_bufs \u001b[38;5;241m=\u001b[39m \u001b[43mcompiled\u001b[49m\u001b[38;5;241;43m.\u001b[39;49m\u001b[43mexecute\u001b[49m\u001b[43m(\u001b[49m\u001b[43minput_bufs\u001b[49m\u001b[43m)\u001b[49m\n\u001b[1;32m    393\u001b[0m check_special(prim\u001b[38;5;241m.\u001b[39mname, out_bufs)\n\u001b[1;32m    394\u001b[0m \u001b[38;5;28;01mreturn\u001b[39;00m result_handler(\u001b[38;5;241m*\u001b[39mout_bufs)\n",
      "\u001b[0;31mRuntimeError\u001b[0m: RESOURCE_EXHAUSTED: Out of memory while trying to allocate 2961169856 bytes."
     ]
    }
   ],
   "source": [
    "jnp.zeros((xyz[0].shape[1], xyz[1].shape[0], xyz[2].shape[2]))"
   ]
  },
  {
   "cell_type": "code",
   "execution_count": 13,
   "id": "ae37bd7f-3f02-48a6-903c-d22cbd308650",
   "metadata": {},
   "outputs": [
    {
     "data": {
      "text/plain": [
       "(164, 24697)"
      ]
     },
     "execution_count": 13,
     "metadata": {},
     "output_type": "execute_result"
    }
   ],
   "source": [
    "idx.shape"
   ]
  },
  {
   "cell_type": "code",
   "execution_count": 12,
   "id": "66d50038-3a49-426f-8a6a-b68489daa857",
   "metadata": {},
   "outputs": [],
   "source": [
    "tods = []\n",
    "ids_inv = np.array([])\n",
    "for tod in todvec.tods:\n",
    "    tods.append([tod.info[\"model_idx\"], tod.info[\"model_idy\"], tod.info[\"dat_calib\"]])\n",
    "    "
   ]
  },
  {
   "cell_type": "code",
   "execution_count": 21,
   "id": "62f409e3-b06a-48b3-be39-7d925868f8c8",
   "metadata": {},
   "outputs": [],
   "source": [
    "def sample(tods):\n",
    "    pred = model(xyz, 2, 0, 0, 0, 0, 0, 0, float(y2K_RJ(freq, Te)*dr*XMpc/me), beam, idx, idy, new_pars)\n",
    "    for tod in tods:\n",
    "        idx, idy, dat = tod[0], tod[1], tod[2]\n",
    "        \n",
    "        resid = dat - pred\n",
    "        _ = jfft(resid).block_until_ready() \n",
    "\n",
    "\n",
    "vsample = jax.vmap(sample)"
   ]
  },
  {
   "cell_type": "code",
   "execution_count": 22,
   "id": "a4cbc90e-6319-406b-ba44-2cd32d57a4e5",
   "metadata": {},
   "outputs": [
    {
     "ename": "ValueError",
     "evalue": "vmap got inconsistent sizes for array axes to be mapped:\nthe tree of axis sizes is:\n([[182, 182, 182], [179, 179, 179], [184, 184, 184], [180, 180, 180], [177, 177, 177], [180, 180, 180], [161, 161, 161], [164, 164, 164], [176, 176, 176], [164, 164, 164]],)",
     "output_type": "error",
     "traceback": [
      "\u001b[0;31m---------------------------------------------------------------------------\u001b[0m",
      "\u001b[0;31mValueError\u001b[0m                                Traceback (most recent call last)",
      "Cell \u001b[0;32mIn[22], line 9\u001b[0m\n\u001b[1;32m      7\u001b[0m ts \u001b[38;5;241m=\u001b[39m time\u001b[38;5;241m.\u001b[39mtime()\n\u001b[1;32m      8\u001b[0m \u001b[38;5;28;01mfor\u001b[39;00m i \u001b[38;5;129;01min\u001b[39;00m \u001b[38;5;28mrange\u001b[39m(R):\n\u001b[0;32m----> 9\u001b[0m     \u001b[43mvsample\u001b[49m\u001b[43m(\u001b[49m\u001b[43mtods\u001b[49m\u001b[43m)\u001b[49m\n\u001b[1;32m     10\u001b[0m \u001b[38;5;28mprint\u001b[39m(\u001b[38;5;124m'\u001b[39m\u001b[38;5;124mjax fft execution time [ms]:\u001b[39m\u001b[38;5;130;01m\\t\u001b[39;00m\u001b[38;5;124m'\u001b[39m, (time\u001b[38;5;241m.\u001b[39mtime()\u001b[38;5;241m-\u001b[39mts)\u001b[38;5;241m/\u001b[39mR \u001b[38;5;241m*\u001b[39m \u001b[38;5;241m1000\u001b[39m)\n",
      "    \u001b[0;31m[... skipping hidden 2 frame]\u001b[0m\n",
      "File \u001b[0;32m~/.conda/envs/jax/lib/python3.8/site-packages/jax/_src/api.py:1344\u001b[0m, in \u001b[0;36m_mapped_axis_size\u001b[0;34m(tree, vals, dims, name, kws)\u001b[0m\n\u001b[1;32m   1342\u001b[0m sizes \u001b[38;5;241m=\u001b[39m [x\u001b[38;5;241m.\u001b[39mshape[d] \u001b[38;5;28;01mif\u001b[39;00m d \u001b[38;5;129;01mis\u001b[39;00m \u001b[38;5;129;01mnot\u001b[39;00m \u001b[38;5;28;01mNone\u001b[39;00m \u001b[38;5;28;01melse\u001b[39;00m \u001b[38;5;28;01mNone\u001b[39;00m \u001b[38;5;28;01mfor\u001b[39;00m x, d \u001b[38;5;129;01min\u001b[39;00m \u001b[38;5;28mzip\u001b[39m(vals, dims)]\n\u001b[1;32m   1343\u001b[0m sizes \u001b[38;5;241m=\u001b[39m tree_unflatten(tree, sizes)\n\u001b[0;32m-> 1344\u001b[0m \u001b[38;5;28;01mraise\u001b[39;00m \u001b[38;5;167;01mValueError\u001b[39;00m(msg\u001b[38;5;241m.\u001b[39mformat(\u001b[38;5;124mf\u001b[39m\u001b[38;5;124m\"\u001b[39m\u001b[38;5;124mthe tree of axis sizes is:\u001b[39m\u001b[38;5;130;01m\\n\u001b[39;00m\u001b[38;5;132;01m{\u001b[39;00msizes\u001b[38;5;132;01m}\u001b[39;00m\u001b[38;5;124m\"\u001b[39m)) \u001b[38;5;28;01mfrom\u001b[39;00m \u001b[38;5;28;01mNone\u001b[39;00m\n",
      "\u001b[0;31mValueError\u001b[0m: vmap got inconsistent sizes for array axes to be mapped:\nthe tree of axis sizes is:\n([[182, 182, 182], [179, 179, 179], [184, 184, 184], [180, 180, 180], [177, 177, 177], [180, 180, 180], [161, 161, 161], [164, 164, 164], [176, 176, 176], [164, 164, 164]],)"
     ]
    }
   ],
   "source": [
    "jfft = jax.jit(jnp.fft.rfft)\n",
    "new_pars = jnp.array([0.0,0.0,0.0,.341,.249,.341,np.deg2rad(97),0.98,1e-5,\n",
    "                      0.0,0.0,0.0,.167,.122,.167,np.deg2rad(97),8.93,1e-5])\n",
    "                      #0.0,0.0,0.0,.320,.320,.320,np.deg2rad(97),0.26])\n",
    "R = 100\n",
    "\n",
    "id_inv = tod.info[\"id_inv\"]\n",
    "shape = tod.info[\"dx\"].shape\n",
    "pred = pred[id_inv].reshape(shape)\n",
    "\n",
    "ts = time.time()\n",
    "for i in range(R):\n",
    "    vsample(tods)\n",
    "print('jax fft execution time [ms]:\\t', (time.time()-ts)/R * 1000)"
   ]
  },
  {
   "cell_type": "code",
   "execution_count": 26,
   "id": "664ba209-9c91-4aa4-adb8-1e1cd03b43c1",
   "metadata": {},
   "outputs": [
    {
     "data": {
      "text/plain": [
       "[array([[ 502,  502,  502, ...,   -2,   -3,   -4],\n",
       "        [ 529,  528,  528, ...,   21,   21,   20],\n",
       "        [ 559,  559,  559, ...,   54,   54,   53],\n",
       "        ...,\n",
       "        [ 411,  411,  411, ...,  -99,  -99, -100],\n",
       "        [ 496,  496,  496, ...,  -15,  -15,  -16],\n",
       "        [ 470,  470,  470, ...,  -39,  -39,  -40]]),\n",
       " array([[921, 922, 923, ..., 576, 575, 575],\n",
       "        [871, 871, 872, ..., 524, 523, 523],\n",
       "        [919, 919, 920, ..., 570, 570, 569],\n",
       "        ...,\n",
       "        [810, 811, 812, ..., 470, 469, 468],\n",
       "        [790, 790, 791, ..., 445, 444, 443],\n",
       "        [840, 841, 842, ..., 497, 496, 495]]),\n",
       " array([[ 0.72333378,  0.71857547,  0.7030193 , ..., -1.16568549,\n",
       "         -1.16030384, -1.15937239],\n",
       "        [ 0.66077794,  0.65884039,  0.65510284, ..., -1.03088957,\n",
       "         -1.06317214, -1.07669928],\n",
       "        [ 0.73743407,  0.74065586,  0.73807716, ..., -1.14617984,\n",
       "         -1.16268876, -1.16181935],\n",
       "        ...,\n",
       "        [ 0.72745254,  0.73138371,  0.72921792, ..., -1.17590974,\n",
       "         -1.14685621, -1.19896049],\n",
       "        [ 0.74097732,  0.73782885,  0.73777857, ..., -1.19378943,\n",
       "         -1.20658259, -1.1914176 ],\n",
       "        [ 0.76151351,  0.76046359,  0.7411583 , ..., -1.23934651,\n",
       "         -1.24112671, -1.23356604]])]"
      ]
     },
     "execution_count": 26,
     "metadata": {},
     "output_type": "execute_result"
    }
   ],
   "source": [
    "tods[0]"
   ]
  },
  {
   "cell_type": "code",
   "execution_count": 28,
   "id": "30340729-fa3d-4e22-8b99-6844f58f1ed1",
   "metadata": {},
   "outputs": [
    {
     "data": {
      "text/plain": [
       "(899454,)"
      ]
     },
     "execution_count": 28,
     "metadata": {},
     "output_type": "execute_result"
    }
   ],
   "source": [
    "tod.info[\"idx\"].shape"
   ]
  },
  {
   "cell_type": "code",
   "execution_count": 29,
   "id": "dd95d6fb-a997-4def-92b8-7c459d27d6be",
   "metadata": {},
   "outputs": [
    {
     "data": {
      "text/plain": [
       "362467097"
      ]
     },
     "execution_count": 29,
     "metadata": {},
     "output_type": "execute_result"
    }
   ],
   "source": []
  },
  {
   "cell_type": "code",
   "execution_count": null,
   "id": "fa01d5c4-3f05-4ebd-8cf7-6d21abe4fec6",
   "metadata": {},
   "outputs": [],
   "source": [
    "pars_fit = params\n",
    "if fit:\n",
    "    t1 = time.time()\n",
    "    print_once(\"Started actual fitting\")\n",
    "    pars_fit, chisq, curve, errs = minkasi.fit_timestreams_with_derivs_manyfun(\n",
    "        funs,\n",
    "        params,\n",
    "        npars,\n",
    "        todvec,\n",
    "        to_fit,\n",
    "        maxiter=cfg[\"minkasi\"][\"maxiter\"],\n",
    "        priors=priors,\n",
    "        prior_vals=prior_vals,\n",
    "    )\n",
    "    minkasi.comm.barrier()\n",
    "    t2 = time.time()\n",
    "    print_once(\"Took\", t2 - t1, \"seconds to fit\")\n",
    "\n",
    "    for i, re in enumerate(re_eval):\n",
    "        if not re:\n",
    "            continue\n",
    "        pars_fit[i] = eval(re)\n",
    "\n",
    "    print_once(\"Fit parameters:\")\n",
    "    for l, pf, err in zip(labels, pars_fit, errs):\n",
    "        print_once(\"\\t\", l, \"=\", pf, \"+/-\", err)\n",
    "    print_once(\"chisq =\", chisq)\n",
    "\n",
    "    if minkasi.myrank == 0:\n",
    "        res_path = os.path.join(outdir, \"results\")\n",
    "        print_once(\"Saving results to\", res_path + \".npz\")\n",
    "        np.savez_compressed(\n",
    "            res_path, pars_fit=pars_fit, chisq=chisq, errs=errs, curve=curve\n",
    "        )"
   ]
  }
 ],
 "metadata": {
  "kernelspec": {
   "display_name": "gpu-jax",
   "language": "python",
   "name": "gpu-jax"
  },
  "language_info": {
   "codemirror_mode": {
    "name": "ipython",
    "version": 3
   },
   "file_extension": ".py",
   "mimetype": "text/x-python",
   "name": "python",
   "nbconvert_exporter": "python",
   "pygments_lexer": "ipython3",
   "version": "3.8.17"
  }
 },
 "nbformat": 4,
 "nbformat_minor": 5
}
