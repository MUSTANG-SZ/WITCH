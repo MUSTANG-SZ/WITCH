{
 "cells": [
  {
   "cell_type": "code",
   "execution_count": 1,
   "id": "e17c906c",
   "metadata": {},
   "outputs": [
    {
     "name": "stdout",
     "output_type": "stream",
     "text": [
      "importing mpi4py\n"
     ]
    }
   ],
   "source": [
    "import os\n",
    "import sys\n",
    "import time\n",
    "import glob\n",
    "import shutil\n",
    "import argparse as argp\n",
    "from functools import partial\n",
    "import yaml\n",
    "import numpy as np\n",
    "import minkasi\n",
    "#from jack_minkasi import minkasi\n",
    "from astropy.coordinates import Angle\n",
    "from astropy import units as u\n",
    "import minkasi_jax.presets_by_source as pbs\n",
    "from minkasi_jax.utils import *\n",
    "from minkasi_jax import helper\n",
    "from minkasi_jax.core import model\n",
    "\n",
    "%load_ext autoreload\n",
    "%autoreload 2"
   ]
  },
  {
   "cell_type": "code",
   "execution_count": 2,
   "id": "f117e7f5-8784-4bc8-9d16-194032ca0e3d",
   "metadata": {},
   "outputs": [],
   "source": [
    "def print_once(*args):\n",
    "    \"\"\"\n",
    "    Helper function to print only once when running with MPI.\n",
    "    Only the rank 0 process will print.\n",
    "\n",
    "    Arguments:\n",
    "\n",
    "        *args: Arguments to pass to print.\n",
    "    \"\"\"\n",
    "    if minkasi.myrank == 0:\n",
    "        print(*args)\n",
    "        sys.stdout.flush()\n"
   ]
  },
  {
   "cell_type": "code",
   "execution_count": 3,
   "id": "b0db7d24-6193-4f4d-a996-546c36a7a057",
   "metadata": {},
   "outputs": [],
   "source": [
    "import time\n",
    "\n",
    "def timer(f, *args):\n",
    "    starttime = time.time()\n",
    "    result = f(*args)\n",
    "    endtime = time.time()\n",
    "    return endtime - starttime"
   ]
  },
  {
   "cell_type": "code",
   "execution_count": 4,
   "id": "ea0bc172",
   "metadata": {},
   "outputs": [
    {
     "name": "stdout",
     "output_type": "stream",
     "text": [
      "tod #:  285\n"
     ]
    }
   ],
   "source": [
    "with open('/home/r/rbond/jorlo/dev/minkasi_jax/configs/ms0735_noSub.yaml', \"r\") as file:\n",
    "    cfg = yaml.safe_load(file)\n",
    "fit = True\n",
    "\n",
    "# Setup coordindate stuff\n",
    "z = eval(str(cfg[\"coords\"][\"z\"]))\n",
    "da = get_da(z)\n",
    "r_map = eval(str(cfg[\"coords\"][\"r_map\"]))\n",
    "dr = eval(str(cfg[\"coords\"][\"dr\"]))\n",
    "xyz = make_grid(r_map, dr)\n",
    "coord_conv = eval(str(cfg[\"coords\"][\"conv_factor\"]))\n",
    "x0 = eval(str(cfg[\"coords\"][\"x0\"]))\n",
    "y0 = eval(str(cfg[\"coords\"][\"y0\"]))\n",
    "\n",
    "# Load TODs\n",
    "tod_names = glob.glob(os.path.join(cfg[\"paths\"][\"tods\"], cfg[\"paths\"][\"glob\"]))\n",
    "bad_tod, addtag = pbs.get_bad_tods(\n",
    "    cfg[\"cluster\"][\"name\"], ndo=cfg[\"paths\"][\"ndo\"], odo=cfg[\"paths\"][\"odo\"]\n",
    ")\n",
    "tod_names = minkasi.cut_blacklist(tod_names, bad_tod)\n",
    "tod_names.sort()\n",
    "tod_names = tod_names[minkasi.myrank :: minkasi.nproc]\n",
    "print('tod #: ', len(tod_names))\n",
    "minkasi.barrier()  # Is this needed?\n",
    "\n",
    "#idx = np.random.randint(-307, 1058, (899454,))\n",
    "#idy = np.random.randint(-307, 1058, (899454,))"
   ]
  },
  {
   "cell_type": "code",
   "execution_count": 5,
   "id": "2dbb6a99-86fd-4826-a1ff-22b3c16cc4ee",
   "metadata": {},
   "outputs": [
    {
     "name": "stdout",
     "output_type": "stream",
     "text": [
      "WARNING - calinfo information not found in fits file header - to track JytoK etc you may need to reprocess the fits files using mustangidl > revision 932\n",
      "nsamp and ndet are  182 24707.0 4496674  on  /scratch/r/rbond/jorlo/MS0735/TS_EaCMS0f0_51_5_Oct_2021/Signal_TOD-AGBT19A_092_01-s12.fits with lims  115.13548797090777 115.79331715025005 74.15935947949289 74.334082548651\n",
      "truncating from  24707  to  24697\n",
      "WARNING - calinfo information not found in fits file header - to track JytoK etc you may need to reprocess the fits files using mustangidl > revision 932\n",
      "nsamp and ndet are  179 24708.0 4422732  on  /scratch/r/rbond/jorlo/MS0735/TS_EaCMS0f0_51_5_Oct_2021/Signal_TOD-AGBT19A_092_01-s13.fits with lims  115.13373944248026 115.79094024441889 74.15967366819471 74.33531881289076\n",
      "truncating from  24708  to  24697\n",
      "WARNING - calinfo information not found in fits file header - to track JytoK etc you may need to reprocess the fits files using mustangidl > revision 932\n",
      "nsamp and ndet are  184 24708.0 4546272  on  /scratch/r/rbond/jorlo/MS0735/TS_EaCMS0f0_51_5_Oct_2021/Signal_TOD-AGBT19A_092_01-s14.fits with lims  115.1330017820499 115.7887955650195 74.15989906443733 74.33552371856587\n",
      "truncating from  24708  to  24697\n",
      "WARNING - calinfo information not found in fits file header - to track JytoK etc you may need to reprocess the fits files using mustangidl > revision 932\n",
      "nsamp and ndet are  180 24708.0 4447440  on  /scratch/r/rbond/jorlo/MS0735/TS_EaCMS0f0_51_5_Oct_2021/Signal_TOD-AGBT19A_092_01-s15.fits with lims  115.13408095193876 115.79137737652576 74.15940046062792 74.3356056808359\n",
      "truncating from  24708  to  24697\n",
      "WARNING - calinfo information not found in fits file header - to track JytoK etc you may need to reprocess the fits files using mustangidl > revision 932\n",
      "nsamp and ndet are  177 24708.0 4373316  on  /scratch/r/rbond/jorlo/MS0735/TS_EaCMS0f0_51_5_Oct_2021/Signal_TOD-AGBT19A_092_01-s17.fits with lims  115.13873914095271 115.78339971557519 74.15887453606183 74.33706051112911\n",
      "truncating from  24708  to  24697\n",
      "WARNING - calinfo information not found in fits file header - to track JytoK etc you may need to reprocess the fits files using mustangidl > revision 932\n",
      "nsamp and ndet are  180 24709.0 4447620  on  /scratch/r/rbond/jorlo/MS0735/TS_EaCMS0f0_51_5_Oct_2021/Signal_TOD-AGBT19A_092_01-s18.fits with lims  115.13685400874178 115.79201941430775 74.15823932846901 74.33725858661505\n",
      "truncating from  24709  to  24697\n",
      "WARNING - calinfo information not found in fits file header - to track JytoK etc you may need to reprocess the fits files using mustangidl > revision 932\n",
      "nsamp and ndet are  161 24709.0 3978149  on  /scratch/r/rbond/jorlo/MS0735/TS_EaCMS0f0_51_5_Oct_2021/Signal_TOD-AGBT19A_092_01-s19.fits with lims  115.13499619728753 115.77442484700579 74.15782951711881 74.3377025489111\n",
      "truncating from  24709  to  24697\n",
      "WARNING - calinfo information not found in fits file header - to track JytoK etc you may need to reprocess the fits files using mustangidl > revision 932\n",
      "nsamp and ndet are  164 24709.0 4052276  on  /scratch/r/rbond/jorlo/MS0735/TS_EaCMS0f0_51_5_Oct_2021/Signal_TOD-AGBT19A_092_01-s20.fits with lims  115.13141717816245 115.78635035729664 74.15830763036071 74.33723126585836\n",
      "truncating from  24709  to  24697\n",
      "WARNING - calinfo information not found in fits file header - to track JytoK etc you may need to reprocess the fits files using mustangidl > revision 932\n",
      "nsamp and ndet are  176 24708.0 4348608  on  /scratch/r/rbond/jorlo/MS0735/TS_EaCMS0f0_51_5_Oct_2021/Signal_TOD-AGBT19A_092_01-s22.fits with lims  115.12936812141145 115.79035284815026 74.15816419638814 74.33699903942659\n",
      "truncating from  24708  to  24697\n",
      "WARNING - calinfo information not found in fits file header - to track JytoK etc you may need to reprocess the fits files using mustangidl > revision 932\n",
      "nsamp and ndet are  164 24708.0 4052112  on  /scratch/r/rbond/jorlo/MS0735/TS_EaCMS0f0_51_5_Oct_2021/Signal_TOD-AGBT19A_092_01-s23.fits with lims  115.13154012156751 115.7921423577128 74.15820517752316 74.33675315261647\n",
      "truncating from  24708  to  24697\n"
     ]
    }
   ],
   "source": [
    "todvec = minkasi.TodVec()\n",
    "n_tod = 10\n",
    "for i, fname in enumerate(tod_names):\n",
    "    if i >= n_tod: break\n",
    "    dat = minkasi.read_tod_from_fits(fname)\n",
    "    minkasi.truncate_tod(dat)\n",
    "\n",
    "    # figure out a guess at common mode and (assumed) linear detector drifts/offset\n",
    "    # drifts/offsets are removed, which is important for mode finding.  CM is *not* removed.\n",
    "    dd, pred2, cm = minkasi.fit_cm_plus_poly(dat[\"dat_calib\"], cm_ord=3, full_out=True)\n",
    "    dat[\"dat_calib\"] = dd\n",
    "    dat[\"pred2\"] = pred2\n",
    "    dat[\"cm\"] = cm\n",
    "\n",
    "    # Make pixelized RA/Dec TODs\n",
    "    idx, idy = tod_to_index(dat[\"dx\"], dat[\"dy\"], x0, y0, r_map, dr, coord_conv)\n",
    "    idu, id_inv = np.unique(\n",
    "        np.vstack((idx.ravel(), idy.ravel())), axis=1, return_inverse=True\n",
    "    )\n",
    "    dat[\"idx\"] = idu[0]\n",
    "    dat[\"idy\"] = idu[1]\n",
    "    dat[\"id_inv\"] = id_inv\n",
    "\n",
    "    tod = minkasi.Tod(dat)\n",
    "    todvec.add_tod(tod)"
   ]
  },
  {
   "cell_type": "code",
   "execution_count": 6,
   "id": "b59fe3b3-d93e-4a10-8cd4-e4ed8aabfebd",
   "metadata": {},
   "outputs": [],
   "source": [
    "lims = todvec.lims()\n",
    "pixsize = 2.0 / 3600 * np.pi / 180\n",
    "skymap = minkasi.SkyMap(lims, pixsize)\n",
    "\n",
    "Te = eval(str(cfg[\"cluster\"][\"Te\"]))\n",
    "freq = eval(str(cfg[\"cluster\"][\"freq\"]))\n",
    "beam = beam_double_gauss(\n",
    "    dr,\n",
    "    eval(str(cfg[\"beam\"][\"fwhm1\"])),\n",
    "    eval(str(cfg[\"beam\"][\"amp1\"])),\n",
    "    eval(str(cfg[\"beam\"][\"fwhm2\"])),\n",
    "    eval(str(cfg[\"beam\"][\"amp2\"])),\n",
    ")\n",
    "\n",
    "funs = []\n",
    "npars = []\n",
    "labels = []\n",
    "params = []\n",
    "to_fit = []\n",
    "priors = []\n",
    "prior_vals = []\n",
    "re_eval = []\n",
    "par_idx = {}\n",
    "for cur_model in cfg[\"models\"].values():\n",
    "    npars.append(len(cur_model[\"parameters\"]))\n",
    "    for name, par in cur_model[\"parameters\"].items():\n",
    "        labels.append(name)\n",
    "        par_idx[name] = len(params)\n",
    "        params.append(eval(str(par[\"value\"])))\n",
    "        to_fit.append(eval(str(par[\"to_fit\"])))\n",
    "        if \"priors\" in par:\n",
    "            priors.append(par[\"priors\"][\"type\"])\n",
    "            prior_vals.append(eval(str(par[\"priors\"][\"value\"])))\n",
    "        else:\n",
    "            priors.append(None)\n",
    "            prior_vals.append(None)\n",
    "        if \"re_eval\" in par and par[\"re_eval\"]:\n",
    "            re_eval.append(str(par[\"value\"]))\n",
    "        else:\n",
    "            re_eval.append(False)\n",
    "        2.627 * da, funs.append(eval(str(cur_model[\"func\"])))\n",
    "\n",
    "npars = np.array(npars)\n",
    "labels = np.array(labels)\n",
    "params = np.array(params)\n",
    "to_fit = np.array(to_fit, dtype=bool)\n",
    "priors = np.array(priors)\n",
    "\n",
    "noise_class = eval(str(cfg[\"minkasi\"][\"noise\"][\"class\"]))\n",
    "noise_args = eval(str(cfg[\"minkasi\"][\"noise\"][\"args\"]))\n",
    "noise_kwargs = eval(str(cfg[\"minkasi\"][\"noise\"][\"kwargs\"]))"
   ]
  },
  {
   "cell_type": "code",
   "execution_count": 7,
   "id": "a9fba052-2b0e-4d9b-9caa-71cc9299c47a",
   "metadata": {},
   "outputs": [],
   "source": [
    "#TODO: Implement tsBowl here \n",
    "if \"bowling\" in cfg:\n",
    "    sub_poly = cfg[\"bowling\"][\"sub_poly\"]\n",
    "\n",
    "sim = False #This script is for simming, the option to turn off is here only for debugging\n",
    "from minkasi_jax.core import model\n",
    "#TODO: Write this to use minkasi_jax.core.model\n",
    "for i, tod in enumerate(todvec.tods):\n",
    "    \n",
    "    temp_tod = tod.copy()\n",
    "    if sim:\n",
    "        pred = model(\n",
    "            xyz,\n",
    "            1,\n",
    "            0,\n",
    "            0,\n",
    "            0,\n",
    "            0,\n",
    "            0,\n",
    "            0,\n",
    "            float(y2K_RJ(freq, Te)*dr*XMpc/me),\n",
    "            beam,\n",
    "            tod.info[\"idx\"],\n",
    "            tod.info[\"idy\"],\n",
    "            params\n",
    "        )  \n",
    "\n",
    "    if (sim) and (\"id_inv\" in tod.info):\n",
    "        id_inv = tod.info[\"id_inv\"]\n",
    "        shape = tod.info[\"dx\"].shape\n",
    "        pred = pred[id_inv].reshape(shape)\n",
    "        \n",
    "    ipix = skymap.get_pix(tod)\n",
    "    tod.info[\"ipix\"] = ipix\n",
    "\n",
    "    if sim:\n",
    "        #Flip alternate TODs and add simulated profile on top\n",
    "        if (i % 2) == 0:\n",
    "            tod.info['dat_calib'] = -1*tod.info['dat_calib']\n",
    "        else:\n",
    "            tod.info['dat_calib'] = tod.info['dat_calib']\n",
    "\n",
    "        tod.info['dat_calib'] = tod.info['dat_calib'] + np.array(pred)"
   ]
  },
  {
   "cell_type": "code",
   "execution_count": 8,
   "id": "86636a26-78b2-4a32-bb8f-d5af9bdd0f00",
   "metadata": {},
   "outputs": [
    {
     "name": "stdout",
     "output_type": "stream",
     "text": [
      "Outputs can be found in /scratch/r/rbond/jorlo/Reductions/MS0735/double_isobeta_shock_bubbles-gauss/r1=r3/amp_1-amp_2-shock_val-b_ne_sup-b_sw_sup-sigma-amp\n"
     ]
    }
   ],
   "source": [
    "# Figure out output\n",
    "outdir = os.path.join(\n",
    "    cfg[\"paths\"][\"outroot\"],\n",
    "    cfg[\"cluster\"][\"name\"],\n",
    "    \"-\".join(mn for mn in cfg[\"models\"].keys()),\n",
    ")\n",
    "if \"subdir\" in cfg[\"paths\"]:\n",
    "    outdir = os.path.join(outdir, cfg[\"paths\"][\"subdir\"])\n",
    "if fit:\n",
    "    outdir = os.path.join(outdir, \"-\".join(l for l in labels[to_fit]))\n",
    "else:\n",
    "    outdir = os.path.join(outdir, \"not_fit\")\n",
    "if sub_poly:\n",
    "    outdir += \"-\" + method + \"_\" + str(degree)\n",
    "if sim:\n",
    "    outdir += \"-\" + \"sim\"\n",
    "print_once(\"Outputs can be found in\", outdir)"
   ]
  },
  {
   "cell_type": "code",
   "execution_count": 10,
   "id": "4c2879db-5673-4004-a17b-741a8d4103f7",
   "metadata": {},
   "outputs": [
    {
     "name": "stdout",
     "output_type": "stream",
     "text": [
      "Started actual fitting\n"
     ]
    },
    {
     "ename": "ValueError",
     "evalue": "at least one array or dtype is required",
     "output_type": "error",
     "traceback": [
      "\u001b[0;31m---------------------------------------------------------------------------\u001b[0m",
      "\u001b[0;31mValueError\u001b[0m                                Traceback (most recent call last)",
      "Cell \u001b[0;32mIn[10], line 5\u001b[0m\n\u001b[1;32m      3\u001b[0m t1 \u001b[38;5;241m=\u001b[39m time\u001b[38;5;241m.\u001b[39mtime()\n\u001b[1;32m      4\u001b[0m print_once(\u001b[38;5;124m\"\u001b[39m\u001b[38;5;124mStarted actual fitting\u001b[39m\u001b[38;5;124m\"\u001b[39m)\n\u001b[0;32m----> 5\u001b[0m pars_fit, chisq, curve, errs \u001b[38;5;241m=\u001b[39m \u001b[43mminkasi\u001b[49m\u001b[38;5;241;43m.\u001b[39;49m\u001b[43mfit_timestreams_with_derivs_manyfun\u001b[49m\u001b[43m(\u001b[49m\n\u001b[1;32m      6\u001b[0m \u001b[43m    \u001b[49m\u001b[43mfuns\u001b[49m\u001b[43m,\u001b[49m\n\u001b[1;32m      7\u001b[0m \u001b[43m    \u001b[49m\u001b[43mparams\u001b[49m\u001b[43m,\u001b[49m\n\u001b[1;32m      8\u001b[0m \u001b[43m    \u001b[49m\u001b[43mnpars\u001b[49m\u001b[43m,\u001b[49m\n\u001b[1;32m      9\u001b[0m \u001b[43m    \u001b[49m\u001b[43mtodvec\u001b[49m\u001b[43m,\u001b[49m\n\u001b[1;32m     10\u001b[0m \u001b[43m    \u001b[49m\u001b[43mto_fit\u001b[49m\u001b[43m,\u001b[49m\n\u001b[1;32m     11\u001b[0m \u001b[43m    \u001b[49m\u001b[43mmaxiter\u001b[49m\u001b[38;5;241;43m=\u001b[39;49m\u001b[43mcfg\u001b[49m\u001b[43m[\u001b[49m\u001b[38;5;124;43m\"\u001b[39;49m\u001b[38;5;124;43mminkasi\u001b[39;49m\u001b[38;5;124;43m\"\u001b[39;49m\u001b[43m]\u001b[49m\u001b[43m[\u001b[49m\u001b[38;5;124;43m\"\u001b[39;49m\u001b[38;5;124;43mmaxiter\u001b[39;49m\u001b[38;5;124;43m\"\u001b[39;49m\u001b[43m]\u001b[49m\u001b[43m,\u001b[49m\n\u001b[1;32m     12\u001b[0m \u001b[43m    \u001b[49m\u001b[43mpriors\u001b[49m\u001b[38;5;241;43m=\u001b[39;49m\u001b[43mpriors\u001b[49m\u001b[43m,\u001b[49m\n\u001b[1;32m     13\u001b[0m \u001b[43m    \u001b[49m\u001b[43mprior_vals\u001b[49m\u001b[38;5;241;43m=\u001b[39;49m\u001b[43mprior_vals\u001b[49m\u001b[43m,\u001b[49m\n\u001b[1;32m     14\u001b[0m \u001b[43m\u001b[49m\u001b[43m)\u001b[49m\n\u001b[1;32m     15\u001b[0m minkasi\u001b[38;5;241m.\u001b[39mcomm\u001b[38;5;241m.\u001b[39mbarrier()\n\u001b[1;32m     16\u001b[0m t2 \u001b[38;5;241m=\u001b[39m time\u001b[38;5;241m.\u001b[39mtime()\n",
      "File \u001b[0;32m~/dev/minkasi/minkasi/minkasi.py:5076\u001b[0m, in \u001b[0;36mfit_timestreams_with_derivs_manyfun\u001b[0;34m(funcs, pars, npar_fun, tods, to_fit, to_scale, tol, chitol, maxiter, scale_facs, driver, priors, prior_vals)\u001b[0m\n\u001b[1;32m   5074\u001b[0m lamda\u001b[38;5;241m=\u001b[39m\u001b[38;5;241m0\u001b[39m\n\u001b[1;32m   5075\u001b[0m t1\u001b[38;5;241m=\u001b[39mtime\u001b[38;5;241m.\u001b[39mtime()\n\u001b[0;32m-> 5076\u001b[0m chisq,grad,curve\u001b[38;5;241m=\u001b[39m\u001b[43mget_ts_curve_derivs_many_funcs\u001b[49m\u001b[43m(\u001b[49m\u001b[43mtods\u001b[49m\u001b[43m,\u001b[49m\u001b[43mpars\u001b[49m\u001b[43m,\u001b[49m\u001b[43mnpar_fun\u001b[49m\u001b[43m,\u001b[49m\u001b[43mfuncs\u001b[49m\u001b[43m,\u001b[49m\u001b[43mdriver\u001b[49m\u001b[38;5;241;43m=\u001b[39;49m\u001b[43mdriver\u001b[49m\u001b[43m)\u001b[49m\n\u001b[1;32m   5077\u001b[0m t2\u001b[38;5;241m=\u001b[39mtime\u001b[38;5;241m.\u001b[39mtime()\n\u001b[1;32m   5078\u001b[0m \u001b[38;5;28;01mif\u001b[39;00m myrank\u001b[38;5;241m==\u001b[39m\u001b[38;5;241m0\u001b[39m:\n",
      "File \u001b[0;32m~/dev/minkasi/minkasi/minkasi.py:4995\u001b[0m, in \u001b[0;36mget_ts_curve_derivs_many_funcs\u001b[0;34m(todvec, pars, npar_fun, funcs, driver, *args, **kwargs)\u001b[0m\n\u001b[1;32m   4993\u001b[0m chisq\u001b[38;5;241m=\u001b[39m\u001b[38;5;241m0\u001b[39m\n\u001b[1;32m   4994\u001b[0m \u001b[38;5;28;01mfor\u001b[39;00m tod \u001b[38;5;129;01min\u001b[39;00m todvec\u001b[38;5;241m.\u001b[39mtods:\n\u001b[0;32m-> 4995\u001b[0m     derivs,pred\u001b[38;5;241m=\u001b[39m\u001b[43mdriver\u001b[49m\u001b[43m(\u001b[49m\u001b[43mtod\u001b[49m\u001b[43m,\u001b[49m\u001b[43mpars\u001b[49m\u001b[43m,\u001b[49m\u001b[43mnpar_fun\u001b[49m\u001b[43m,\u001b[49m\u001b[43mfuncs\u001b[49m\u001b[43m,\u001b[49m\u001b[38;5;241;43m*\u001b[39;49m\u001b[43margs\u001b[49m\u001b[43m,\u001b[49m\u001b[38;5;241;43m*\u001b[39;49m\u001b[38;5;241;43m*\u001b[39;49m\u001b[43mkwargs\u001b[49m\u001b[43m)\u001b[49m\n\u001b[1;32m   4996\u001b[0m     npar\u001b[38;5;241m=\u001b[39mderivs\u001b[38;5;241m.\u001b[39mshape[\u001b[38;5;241m0\u001b[39m]\n\u001b[1;32m   4997\u001b[0m     ndet\u001b[38;5;241m=\u001b[39mderivs\u001b[38;5;241m.\u001b[39mshape[\u001b[38;5;241m1\u001b[39m]\n",
      "File \u001b[0;32m~/dev/minkasi/minkasi/minkasi.py:4984\u001b[0m, in \u001b[0;36mget_ts_derivs_many_funcs\u001b[0;34m(tod, pars, npar_fun, funcs, func_args, *args, **kwargs)\u001b[0m\n\u001b[1;32m   4982\u001b[0m \u001b[38;5;28;01mfor\u001b[39;00m i \u001b[38;5;129;01min\u001b[39;00m \u001b[38;5;28mrange\u001b[39m(\u001b[38;5;28mlen\u001b[39m(funcs)):\n\u001b[1;32m   4983\u001b[0m     tmp\u001b[38;5;241m=\u001b[39mpars[icur:icur\u001b[38;5;241m+\u001b[39mnpar_fun[i]]\u001b[38;5;241m.\u001b[39mcopy()\n\u001b[0;32m-> 4984\u001b[0m     myderivs,mypred\u001b[38;5;241m=\u001b[39m\u001b[43mfuncs\u001b[49m\u001b[43m[\u001b[49m\u001b[43mi\u001b[49m\u001b[43m]\u001b[49m\u001b[43m(\u001b[49m\u001b[43mtmp\u001b[49m\u001b[43m,\u001b[49m\u001b[43mtod\u001b[49m\u001b[43m,\u001b[49m\u001b[38;5;241;43m*\u001b[39;49m\u001b[43margs\u001b[49m\u001b[43m,\u001b[49m\u001b[38;5;241;43m*\u001b[39;49m\u001b[38;5;241;43m*\u001b[39;49m\u001b[43mkwargs\u001b[49m\u001b[43m)\u001b[49m\n\u001b[1;32m   4985\u001b[0m     pred\u001b[38;5;241m=\u001b[39mpred\u001b[38;5;241m+\u001b[39mmypred\n\u001b[1;32m   4986\u001b[0m     derivs[icur:icur\u001b[38;5;241m+\u001b[39mnpar_fun[i],:,:]\u001b[38;5;241m=\u001b[39mmyderivs\n",
      "File \u001b[0;32m/gpfs/fs1/home/r/rbond/jorlo/dev/minkasi_jax/minkasi_jax/core.py:108\u001b[0m, in \u001b[0;36mhelper\u001b[0;34m(params, tod, xyz, dx, beam, argnums, re_eval, par_idx, n_isobeta, n_gnfw, n_gaussian, n_uniform, n_exponential, n_powerlaw, n_powerlaw_cos)\u001b[0m\n\u001b[1;32m    105\u001b[0m         \u001b[38;5;28;01mcontinue\u001b[39;00m\n\u001b[1;32m    106\u001b[0m     params[i] \u001b[38;5;241m=\u001b[39m \u001b[38;5;28meval\u001b[39m(re)\n\u001b[0;32m--> 108\u001b[0m pred, grad \u001b[38;5;241m=\u001b[39m \u001b[43mmodel_grad\u001b[49m\u001b[43m(\u001b[49m\n\u001b[1;32m    109\u001b[0m \u001b[43m    \u001b[49m\u001b[43mxyz\u001b[49m\u001b[43m,\u001b[49m\n\u001b[1;32m    110\u001b[0m \u001b[43m    \u001b[49m\u001b[43mn_isobeta\u001b[49m\u001b[43m,\u001b[49m\n\u001b[1;32m    111\u001b[0m \u001b[43m    \u001b[49m\u001b[43mn_gnfw\u001b[49m\u001b[43m,\u001b[49m\n\u001b[1;32m    112\u001b[0m \u001b[43m    \u001b[49m\u001b[43mn_gaussian\u001b[49m\u001b[43m,\u001b[49m\n\u001b[1;32m    113\u001b[0m \u001b[43m    \u001b[49m\u001b[43mn_uniform\u001b[49m\u001b[43m,\u001b[49m\n\u001b[1;32m    114\u001b[0m \u001b[43m    \u001b[49m\u001b[43mn_exponential\u001b[49m\u001b[43m,\u001b[49m\n\u001b[1;32m    115\u001b[0m \u001b[43m    \u001b[49m\u001b[43mn_powerlaw\u001b[49m\u001b[43m,\u001b[49m\n\u001b[1;32m    116\u001b[0m \u001b[43m    \u001b[49m\u001b[43mn_powerlaw_cos\u001b[49m\u001b[43m,\u001b[49m\n\u001b[1;32m    117\u001b[0m \u001b[43m    \u001b[49m\u001b[43mdx\u001b[49m\u001b[43m,\u001b[49m\n\u001b[1;32m    118\u001b[0m \u001b[43m    \u001b[49m\u001b[43mbeam\u001b[49m\u001b[43m,\u001b[49m\n\u001b[1;32m    119\u001b[0m \u001b[43m    \u001b[49m\u001b[43midx\u001b[49m\u001b[43m,\u001b[49m\n\u001b[1;32m    120\u001b[0m \u001b[43m    \u001b[49m\u001b[43midy\u001b[49m\u001b[43m,\u001b[49m\n\u001b[1;32m    121\u001b[0m \u001b[43m    \u001b[49m\u001b[38;5;28;43mtuple\u001b[39;49m\u001b[43m(\u001b[49m\u001b[43margnums\u001b[49m\u001b[43m \u001b[49m\u001b[38;5;241;43m+\u001b[39;49m\u001b[43m \u001b[49m\u001b[43mARGNUM_SHIFT\u001b[49m\u001b[43m)\u001b[49m\u001b[43m,\u001b[49m\n\u001b[1;32m    122\u001b[0m \u001b[43m    \u001b[49m\u001b[38;5;241;43m*\u001b[39;49m\u001b[43mparams\u001b[49m\n\u001b[1;32m    123\u001b[0m \u001b[43m\u001b[49m\u001b[43m)\u001b[49m\n\u001b[1;32m    125\u001b[0m \u001b[38;5;28;01mif\u001b[39;00m \u001b[38;5;124m\"\u001b[39m\u001b[38;5;124mid_inv\u001b[39m\u001b[38;5;124m\"\u001b[39m \u001b[38;5;129;01min\u001b[39;00m tod\u001b[38;5;241m.\u001b[39minfo:\n\u001b[1;32m    126\u001b[0m     id_inv \u001b[38;5;241m=\u001b[39m tod\u001b[38;5;241m.\u001b[39minfo[\u001b[38;5;124m\"\u001b[39m\u001b[38;5;124mid_inv\u001b[39m\u001b[38;5;124m\"\u001b[39m]\n",
      "    \u001b[0;31m[... skipping hidden 13 frame]\u001b[0m\n",
      "File \u001b[0;32m/gpfs/fs1/home/r/rbond/jorlo/dev/minkasi_jax/minkasi_jax/core.py:353\u001b[0m, in \u001b[0;36mmodel_grad\u001b[0;34m(xyz, n_isobeta, n_gnfw, n_gaussian, n_uniform, n_exponential, n_powerlaw, n_powerlaw_cos, dx, beam, idx, idy, argnums, *params)\u001b[0m\n\u001b[1;32m    295\u001b[0m \u001b[38;5;250m\u001b[39m\u001b[38;5;124;03m\"\"\"\u001b[39;00m\n\u001b[1;32m    296\u001b[0m \u001b[38;5;124;03mGenerically create models with substructure and get their gradients.\u001b[39;00m\n\u001b[1;32m    297\u001b[0m \n\u001b[0;32m   (...)\u001b[0m\n\u001b[1;32m    335\u001b[0m \u001b[38;5;124;03m    grad: The gradient of the model with respect to the model parameters.\u001b[39;00m\n\u001b[1;32m    336\u001b[0m \u001b[38;5;124;03m\"\"\"\u001b[39;00m\n\u001b[1;32m    337\u001b[0m pred \u001b[38;5;241m=\u001b[39m model(\n\u001b[1;32m    338\u001b[0m     xyz,\n\u001b[1;32m    339\u001b[0m     n_isobeta,\n\u001b[0;32m   (...)\u001b[0m\n\u001b[1;32m    350\u001b[0m     \u001b[38;5;241m*\u001b[39mparams\n\u001b[1;32m    351\u001b[0m )\n\u001b[0;32m--> 353\u001b[0m grad \u001b[38;5;241m=\u001b[39m \u001b[43mjax\u001b[49m\u001b[38;5;241;43m.\u001b[39;49m\u001b[43mjacfwd\u001b[49m\u001b[43m(\u001b[49m\u001b[43mmodel\u001b[49m\u001b[43m,\u001b[49m\u001b[43m \u001b[49m\u001b[43margnums\u001b[49m\u001b[38;5;241;43m=\u001b[39;49m\u001b[43margnums\u001b[49m\u001b[43m)\u001b[49m\u001b[43m(\u001b[49m\n\u001b[1;32m    354\u001b[0m \u001b[43m    \u001b[49m\u001b[43mxyz\u001b[49m\u001b[43m,\u001b[49m\n\u001b[1;32m    355\u001b[0m \u001b[43m    \u001b[49m\u001b[43mn_isobeta\u001b[49m\u001b[43m,\u001b[49m\n\u001b[1;32m    356\u001b[0m \u001b[43m    \u001b[49m\u001b[43mn_gnfw\u001b[49m\u001b[43m,\u001b[49m\n\u001b[1;32m    357\u001b[0m \u001b[43m    \u001b[49m\u001b[43mn_gaussian\u001b[49m\u001b[43m,\u001b[49m\n\u001b[1;32m    358\u001b[0m \u001b[43m    \u001b[49m\u001b[43mn_uniform\u001b[49m\u001b[43m,\u001b[49m\n\u001b[1;32m    359\u001b[0m \u001b[43m    \u001b[49m\u001b[43mn_exponential\u001b[49m\u001b[43m,\u001b[49m\n\u001b[1;32m    360\u001b[0m \u001b[43m    \u001b[49m\u001b[43mn_powerlaw\u001b[49m\u001b[43m,\u001b[49m\n\u001b[1;32m    361\u001b[0m \u001b[43m    \u001b[49m\u001b[43mn_powerlaw_cos\u001b[49m\u001b[43m,\u001b[49m\n\u001b[1;32m    362\u001b[0m \u001b[43m    \u001b[49m\u001b[43mdx\u001b[49m\u001b[43m,\u001b[49m\n\u001b[1;32m    363\u001b[0m \u001b[43m    \u001b[49m\u001b[43mbeam\u001b[49m\u001b[43m,\u001b[49m\n\u001b[1;32m    364\u001b[0m \u001b[43m    \u001b[49m\u001b[43midx\u001b[49m\u001b[43m,\u001b[49m\n\u001b[1;32m    365\u001b[0m \u001b[43m    \u001b[49m\u001b[43midy\u001b[49m\u001b[43m,\u001b[49m\n\u001b[1;32m    366\u001b[0m \u001b[43m    \u001b[49m\u001b[38;5;241;43m*\u001b[39;49m\u001b[43mparams\u001b[49m\n\u001b[1;32m    367\u001b[0m \u001b[43m\u001b[49m\u001b[43m)\u001b[49m\n\u001b[1;32m    368\u001b[0m grad_padded \u001b[38;5;241m=\u001b[39m jnp\u001b[38;5;241m.\u001b[39mzeros((\u001b[38;5;28mlen\u001b[39m(params),) \u001b[38;5;241m+\u001b[39m idx\u001b[38;5;241m.\u001b[39mshape)\n\u001b[1;32m    369\u001b[0m grad_padded \u001b[38;5;241m=\u001b[39m grad_padded\u001b[38;5;241m.\u001b[39mat[jnp\u001b[38;5;241m.\u001b[39marray(argnums) \u001b[38;5;241m-\u001b[39m ARGNUM_SHIFT]\u001b[38;5;241m.\u001b[39mset(jnp\u001b[38;5;241m.\u001b[39marray(grad))\n",
      "    \u001b[0;31m[... skipping hidden 2 frame]\u001b[0m\n",
      "File \u001b[0;32m~/.conda/envs/jax/lib/python3.8/site-packages/jax/_src/dtypes.py:368\u001b[0m, in \u001b[0;36mresult_type\u001b[0;34m(*args)\u001b[0m\n\u001b[1;32m    366\u001b[0m \u001b[38;5;250m\u001b[39m\u001b[38;5;124;03m\"\"\"Convenience function to apply JAX argument dtype promotion.\"\"\"\u001b[39;00m\n\u001b[1;32m    367\u001b[0m \u001b[38;5;28;01mif\u001b[39;00m \u001b[38;5;28mlen\u001b[39m(args) \u001b[38;5;241m==\u001b[39m \u001b[38;5;241m0\u001b[39m:\n\u001b[0;32m--> 368\u001b[0m   \u001b[38;5;28;01mraise\u001b[39;00m \u001b[38;5;167;01mValueError\u001b[39;00m(\u001b[38;5;124m\"\u001b[39m\u001b[38;5;124mat least one array or dtype is required\u001b[39m\u001b[38;5;124m\"\u001b[39m)\n\u001b[1;32m    369\u001b[0m \u001b[38;5;28;01mreturn\u001b[39;00m canonicalize_dtype(_lattice_result_type(\u001b[38;5;241m*\u001b[39margs)[\u001b[38;5;241m0\u001b[39m])\n",
      "\u001b[0;31mValueError\u001b[0m: at least one array or dtype is required"
     ]
    }
   ],
   "source": [
    "pars_fit = params\n",
    "if fit:\n",
    "    t1 = time.time()\n",
    "    print_once(\"Started actual fitting\")\n",
    "    pars_fit, chisq, curve, errs = minkasi.fit_timestreams_with_derivs_manyfun(\n",
    "        funs,\n",
    "        params,\n",
    "        npars,\n",
    "        todvec,\n",
    "        to_fit,\n",
    "        maxiter=cfg[\"minkasi\"][\"maxiter\"],\n",
    "        priors=priors,\n",
    "        prior_vals=prior_vals,\n",
    "    )\n",
    "    minkasi.comm.barrier()\n",
    "    t2 = time.time()\n",
    "    print_once(\"Took\", t2 - t1, \"seconds to fit\")\n",
    "\n",
    "    for i, re in enumerate(re_eval):\n",
    "        if not re:\n",
    "            continue\n",
    "        pars_fit[i] = eval(re)\n",
    "\n",
    "    print_once(\"Fit parameters:\")\n",
    "    for l, pf, err in zip(labels, pars_fit, errs):\n",
    "        print_once(\"\\t\", l, \"=\", pf, \"+/-\", err)\n",
    "    print_once(\"chisq =\", chisq)\n",
    "\n",
    "    if minkasi.myrank == 0:\n",
    "        res_path = os.path.join(outdir, \"results\")\n",
    "        print_once(\"Saving results to\", res_path + \".npz\")\n",
    "        np.savez_compressed(\n",
    "            res_path, pars_fit=pars_fit, chisq=chisq, errs=errs, curve=curve\n",
    "        )"
   ]
  },
  {
   "cell_type": "code",
   "execution_count": null,
   "id": "9c3f9735-2361-4bfc-b82b-119a532270bb",
   "metadata": {},
   "outputs": [],
   "source": [
    "#params_extended = [0.0, 0.0, 0.0\n",
    "model(\n",
    "    xyz,\n",
    "    1,\n",
    "    0,\n",
    "    0,\n",
    "    1,\n",
    "    0,\n",
    "    0,\n",
    "    0,\n",
    "    float(y2K_RJ(freq, Te)*dr*XMpc/me),\n",
    "    beam,\n",
    "    idx,\n",
    "    idy,\n",
    "    params\n",
    ")"
   ]
  },
  {
   "cell_type": "code",
   "execution_count": null,
   "id": "cd8641c3-a415-453f-943f-90afdb951b0d",
   "metadata": {},
   "outputs": [],
   "source": [
    "runtime1 = timer(model, xyz, 1, 0, 0, 0, 0, 0, 0, float(y2K_RJ(freq, Te)*dr*XMpc/me), beam, idx, idy, params) \n",
    "runtime2 = timer(model, xyz, 1, 0, 0, 0, 0, 0, 0, float(y2K_RJ(freq, Te)*dr*XMpc/me), beam, idx, idy, params) \n",
    "compiletime = runtime1 - runtime2\n",
    "print(f\"runtime: {runtime2} compiletime: {compiletime}\")"
   ]
  },
  {
   "cell_type": "code",
   "execution_count": null,
   "id": "36559647-a4da-4340-81c1-5922ba9375d5",
   "metadata": {},
   "outputs": [],
   "source": [
    "start = 0\n",
    "delta = 9"
   ]
  },
  {
   "cell_type": "code",
   "execution_count": null,
   "id": "1e91cdc6-97bc-42dc-a2a8-341b39187b24",
   "metadata": {},
   "outputs": [],
   "source": [
    "jnp.array(params)[start : start + delta].shape"
   ]
  },
  {
   "cell_type": "code",
   "execution_count": null,
   "id": "df84c7bf-fd6b-41fd-b737-7cb943457c2c",
   "metadata": {},
   "outputs": [],
   "source": [
    "params = jnp.array(params)\n",
    "params[start : start + delta].reshape((1, 9))"
   ]
  },
  {
   "cell_type": "code",
   "execution_count": null,
   "id": "7501e432-b247-4a06-b616-6026f45abcb2",
   "metadata": {
    "scrolled": true
   },
   "outputs": [],
   "source": [
    "partial(helper, xyz=xyz, dx=float(y2K_RJ(freq, Te)*dr*XMpc/me), beam=beam, argnums=np.where(to_fit)[0], re_eval=re_eval, par_idx=par_idx, n_isobeta=2, n_gnfw=0, n_uniform=3, n_exponential=0)"
   ]
  },
  {
   "cell_type": "code",
   "execution_count": null,
   "id": "07da7a06-a862-40da-bf0c-6c3c062c0ad3",
   "metadata": {},
   "outputs": [],
   "source": [
    "runtime1 = timer(helper, xyz, float(y2K_RJ(freq, Te)*dr*XMpc/me), beam, np.where(to_fit)[0], re_eval, par_idx, 2, 0, 3, 0)\n",
    "runtime2 = timer(helper, xyz, float(y2K_RJ(freq, Te)*dr*XMpc/me), beam, np.where(to_fit)[0], re_eval, par_idx, 2, 0, 3, 0)\n",
    "compiletime = runtime1 - runtime2\n",
    "print(f\"runtime: {runtime2} compiletime: {compiletime}\")"
   ]
  },
  {
   "cell_type": "code",
   "execution_count": null,
   "id": "af272b5c-f1e6-423c-8f4e-933f8de0482b",
   "metadata": {},
   "outputs": [],
   "source": []
  },
  {
   "cell_type": "code",
   "execution_count": null,
   "id": "f75ca5f2-3a84-4fde-80fd-7fd07dd08e4b",
   "metadata": {},
   "outputs": [],
   "source": []
  }
 ],
 "metadata": {
  "kernelspec": {
   "display_name": "gpu-jax",
   "language": "python",
   "name": "gpu-jax"
  },
  "language_info": {
   "codemirror_mode": {
    "name": "ipython",
    "version": 3
   },
   "file_extension": ".py",
   "mimetype": "text/x-python",
   "name": "python",
   "nbconvert_exporter": "python",
   "pygments_lexer": "ipython3",
   "version": "3.8.17"
  }
 },
 "nbformat": 4,
 "nbformat_minor": 5
}
