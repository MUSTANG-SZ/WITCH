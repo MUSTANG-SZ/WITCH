{
 "cells": [
  {
   "cell_type": "code",
   "execution_count": 1,
   "metadata": {},
   "outputs": [
    {
     "name": "stdout",
     "output_type": "stream",
     "text": [
      "mpi4py imported\n",
      "nproc:,  1\n"
     ]
    },
    {
     "name": "stderr",
     "output_type": "stream",
     "text": [
      "WARNING: All log messages before absl::InitializeLog() is called are written to STDERR\n",
      "I0000 00:00:1702528536.406801  278047 tfrt_cpu_pjrt_client.cc:349] TfrtCpuClient created.\n",
      "No GPU/TPU found, falling back to CPU. (Set TF_CPP_MIN_LOG_LEVEL=0 and rerun for more info.)\n"
     ]
    }
   ],
   "source": [
    "import argparse as argp\n",
    "import glob\n",
    "import os\n",
    "import shutil\n",
    "import sys\n",
    "import time\n",
    "from functools import partial\n",
    "\n",
    "import jax\n",
    "import minkasi.minkasi_all as minkasi\n",
    "import numpy as np\n",
    "import yaml\n",
    "from astropy import units as u\n",
    "from astropy.coordinates import Angle\n",
    "\n",
    "import minkasi_jax.presets_by_source as pbs\n",
    "from minkasi_jax import helper\n",
    "from minkasi_jax.utils import *\n",
    "\n",
    "%load_ext autoreload\n",
    "%autoreload 2"
   ]
  },
  {
   "cell_type": "code",
   "execution_count": 2,
   "metadata": {},
   "outputs": [],
   "source": [
    "with open(\"/home/r/rbond/jorlo/dev/minkasi_jax/configs/MOOJ2354/MOOJ2354_a10.yaml\", \"r\") as file:\n",
    "    cfg = yaml.safe_load(file)\n",
    "if \"models\" not in cfg:\n",
    "    cfg[\"models\"] = {}\n",
    "fit = True\n"
   ]
  },
  {
   "cell_type": "code",
   "execution_count": 3,
   "metadata": {},
   "outputs": [],
   "source": [
    "dev_id = cfg.get(\"jax_device\", 0)\n",
    "device = jax.devices()[dev_id]\n",
    "\n",
    "# Setup coordindate stuff\n",
    "z = eval(str(cfg[\"coords\"][\"z\"]))\n",
    "da = get_da(z)\n",
    "r_map = eval(str(cfg[\"coords\"][\"r_map\"]))\n",
    "dr = eval(str(cfg[\"coords\"][\"dr\"]))\n",
    "dr = (lambda x: x if type(x) is tuple else (x,))(dr)\n",
    "coord_conv = eval(str(cfg[\"coords\"][\"conv_factor\"]))\n",
    "x0 = eval(str(cfg[\"coords\"][\"x0\"]))\n",
    "y0 = eval(str(cfg[\"coords\"][\"y0\"]))\n",
    "\n",
    "xyz = make_grid(r_map, *dr)\n",
    "xyz = jax.device_put(xyz, device)\n",
    "xyz[0].block_until_ready()\n",
    "xyz[1].block_until_ready()\n",
    "xyz[2].block_until_ready()\n",
    "dr = eval(str(cfg[\"coords\"][\"dr\"]))\n",
    "# Load TODs\n",
    "tod_names = glob.glob(os.path.join(cfg[\"paths\"][\"tods\"], cfg[\"paths\"][\"glob\"]))\n",
    "bad_tod, addtag = pbs.get_bad_tods(\n",
    "    cfg[\"cluster\"][\"name\"], ndo=cfg[\"paths\"][\"ndo\"], odo=cfg[\"paths\"][\"odo\"]\n",
    ")\n",
    "if \"cut\" in cfg[\"paths\"]:\n",
    "    bad_tod += cfg[\"paths\"][\"cut\"]\n",
    "#tod_names = minkasi.cut_blacklist(tod_names, bad_tod)\n",
    "tod_names.sort()\n",
    "ntods = cfg[\"minkasi\"].get(\"ntods\", None)\n",
    "tod_names = tod_names[:ntods]\n",
    "tod_names = tod_names[minkasi.myrank :: minkasi.nproc]\n"
   ]
  },
  {
   "cell_type": "code",
   "execution_count": 4,
   "metadata": {},
   "outputs": [
    {
     "name": "stdout",
     "output_type": "stream",
     "text": [
      "WARNING - calinfo information not found in fits file header - to track JytoK etc you may need to reprocess the fits files using mustangidl > revision 932\n",
      "ndata and ndet are  178 24709 178  on  /scratch/r/rbond/jorlo/M2-TODs/MOOJ2354/Signal_TOD-AGBT23B_120_02-s10.fits with lims  358.5725551228934 358.79084796876697 34.999484156316534 35.185227735700444\n",
      "truncating from  24709  to  24697\n",
      "WARNING - calinfo information not found in fits file header - to track JytoK etc you may need to reprocess the fits files using mustangidl > revision 932\n",
      "ndata and ndet are  170 24708 170  on  /scratch/r/rbond/jorlo/M2-TODs/MOOJ2354/Signal_TOD-AGBT23B_120_02-s14.fits with lims  358.59484886034426 358.8188790651207 35.02578721481025 35.20651743534338\n",
      "truncating from  24708  to  24697\n",
      "WARNING - calinfo information not found in fits file header - to track JytoK etc you may need to reprocess the fits files using mustangidl > revision 932\n",
      "ndata and ndet are  176 24708 176  on  /scratch/r/rbond/jorlo/M2-TODs/MOOJ2354/Signal_TOD-AGBT23B_120_02-s15.fits with lims  358.5338416106777 358.7560140039999 35.02494710154234 35.2057148881159\n",
      "truncating from  24708  to  24697\n"
     ]
    }
   ],
   "source": [
    "todvec = minkasi.TodVec()\n",
    "ntods = 2\n",
    "for i, fname in enumerate(tod_names):\n",
    "    if i > ntods: break\n",
    "    dat = minkasi.read_tod_from_fits(fname)\n",
    "    minkasi.truncate_tod(dat)\n",
    "\n",
    "    # figure out a guess at common mode and (assumed) linear detector drifts/offset\n",
    "    # drifts/offsets are removed, which is important for mode finding.  CM is *not* removed.\n",
    "    dd, pred2, cm = minkasi.fit_cm_plus_poly(dat[\"dat_calib\"], cm_ord=3, full_out=True)\n",
    "    dat[\"dat_calib\"] = dd\n",
    "    dat[\"pred2\"] = pred2\n",
    "    dat[\"cm\"] = cm\n",
    "\n",
    "    # Make pixelized RA/Dec TODs\n",
    "    idx, idy = tod_to_index(dat[\"dx\"], dat[\"dy\"], x0, y0, r_map, dr, coord_conv)\n",
    "    idu, id_inv = np.unique(\n",
    "        np.vstack((idx.ravel(), idy.ravel())), axis=1, return_inverse=True\n",
    "    )\n",
    "    dat[\"idx\"] = jax.device_put(idu[0], device)\n",
    "    dat[\"idy\"] = jax.device_put(idu[1], device)\n",
    "    dat[\"id_inv\"] = id_inv\n",
    "    dat[\"model_idx\"] = idx\n",
    "    dat[\"model_idy\"] = idy\n",
    "\n",
    "    tod = minkasi.Tod(dat)\n",
    "    todvec.add_tod(tod)\n"
   ]
  },
  {
   "cell_type": "code",
   "execution_count": 5,
   "metadata": {},
   "outputs": [
    {
     "data": {
      "text/plain": [
       "array([[-163.48661388, -163.38825916, -163.19154971, ...,  134.13478109,\n",
       "         134.33149054,  134.42984526],\n",
       "       [-169.6829615 , -169.48625205, -169.19118788, ...,  113.87370793,\n",
       "         114.07041738,  114.16877211],\n",
       "       [-187.78023072, -187.58352127, -187.48516655, ...,   94.39947257,\n",
       "          94.69453674,   94.79289147],\n",
       "       ...,\n",
       "       [-134.86538918, -134.66867974, -134.47197029, ...,  147.60937828,\n",
       "         147.80608773,  147.90444245],\n",
       "       [-115.2927991 , -115.09608965, -114.99773493, ...,  172.00134985,\n",
       "         172.19805929,  172.29641402],\n",
       "       [-152.96265841, -152.76594896, -152.66759424, ...,  128.23349764,\n",
       "         128.52856182,  128.52856182]])"
      ]
     },
     "execution_count": 5,
     "metadata": {},
     "output_type": "execute_result"
    }
   ],
   "source": [
    "from pixell import utils\n",
    "dat[\"dx\"]/utils.arcsec-x0/utils.arcsec"
   ]
  },
  {
   "cell_type": "code",
   "execution_count": 6,
   "metadata": {},
   "outputs": [],
   "source": [
    "\n",
    "# make a template map with desired pixel size an limits that cover the data\n",
    "# todvec.lims() is MPI-aware and will return global limits, not just\n",
    "# the ones from private TODs\n",
    "lims = todvec.lims()\n",
    "pixsize = 2.0 / 3600 * np.pi / 180\n",
    "skymap = minkasi.SkyMap(lims, pixsize)\n",
    "\n",
    "Te = eval(str(cfg[\"cluster\"][\"Te\"]))\n",
    "freq = eval(str(cfg[\"cluster\"][\"freq\"]))\n",
    "beam = beam_double_gauss(\n",
    "    dr,\n",
    "    eval(str(cfg[\"beam\"][\"fwhm1\"])),\n",
    "    eval(str(cfg[\"beam\"][\"amp1\"])),\n",
    "    eval(str(cfg[\"beam\"][\"fwhm2\"])),\n",
    "    eval(str(cfg[\"beam\"][\"amp2\"])),\n",
    ")\n",
    "beam = jax.device_put(beam, device)\n",
    "# Setup fit parameters\n",
    "funs = []\n",
    "npars = []\n",
    "labels = []\n",
    "params = []\n",
    "to_fit = []\n",
    "priors = []\n",
    "prior_vals = []\n",
    "re_eval = []\n",
    "par_idx = {}\n",
    "subtract = []\n",
    "for mname, model in cfg[\"models\"].items():\n",
    "    npars.append(len(model[\"parameters\"]))\n",
    "    _to_fit = []\n",
    "    _re_eval = []\n",
    "    _par_idx = {}\n",
    "    for name, par in model[\"parameters\"].items():\n",
    "        labels.append(name)\n",
    "        par_idx[mname + \"-\" + name] = len(params)\n",
    "        _par_idx[mname + \"-\" + name] = len(_to_fit)\n",
    "        params.append(eval(str(par[\"value\"])))\n",
    "        _to_fit.append(eval(str(par[\"to_fit\"])))\n",
    "        if \"priors\" in par:\n",
    "            priors.append(par[\"priors\"][\"type\"])\n",
    "            prior_vals.append(eval(str(par[\"priors\"][\"value\"])))\n",
    "        else:\n",
    "            priors.append(None)\n",
    "            prior_vals.append(None)\n",
    "        if \"re_eval\" in par and par[\"re_eval\"]:\n",
    "            _re_eval.append(str(par[\"value\"]))\n",
    "        else:\n",
    "            _re_eval.append(False)\n",
    "    to_fit = to_fit + _to_fit\n",
    "    re_eval = re_eval + _re_eval\n",
    "    # Special case where function is helper\n",
    "    if model[\"func\"][:15] == \"partial(helper,\":\n",
    "        func_str = model[\"func\"][:-1]\n",
    "        if \"xyz\" not in func_str:\n",
    "            func_str += \", xyz=xyz\"\n",
    "        if \"beam\" not in func_str:\n",
    "            func_str += \", beam=beam\"\n",
    "        if \"argnums\" not in func_str:\n",
    "            func_str += \", argnums=np.where(_to_fit)[0]\"\n",
    "        if \"re_eval\" not in func_str:\n",
    "            func_str += \", re_eval=_re_eval\"\n",
    "        if \"par_idx\" not in func_str:\n",
    "            func_str += \", par_idx=_par_idx\"\n",
    "        func_str += \")\"\n",
    "        model[\"func\"] = func_str\n",
    "\n",
    "    funs.append(eval(str(model[\"func\"])))\n",
    "    if \"sub\" in model:\n",
    "        subtract.append(model[\"sub\"])\n",
    "    else:\n",
    "        subtract.append(True)\n"
   ]
  },
  {
   "cell_type": "code",
   "execution_count": 7,
   "metadata": {},
   "outputs": [],
   "source": [
    "npars = np.array(npars)\n",
    "labels = np.array(labels)\n",
    "params = np.array(params)\n",
    "to_fit = np.array(to_fit, dtype=bool)\n",
    "priors = np.array(priors)\n",
    "\n",
    "noise_class = eval(str(cfg[\"minkasi\"][\"noise\"][\"class\"]))\n",
    "noise_args = eval(str(cfg[\"minkasi\"][\"noise\"][\"args\"]))\n",
    "noise_kwargs = eval(str(cfg[\"minkasi\"][\"noise\"][\"kwargs\"]))\n",
    "\n",
    "sub_poly = False\n",
    "if \"bowling\" in cfg:\n",
    "    sub_poly = cfg[\"bowling\"][\"sub_poly\"]\n",
    "if sub_poly:\n",
    "    method = cfg[\"bowling\"][\"method\"]\n",
    "    degree = cfg[\"bowling\"][\"degree\"]\n",
    "sim = False\n",
    "if \"sim\" in cfg:\n",
    "    sim = cfg[\"sim\"]\n"
   ]
  },
  {
   "cell_type": "code",
   "execution_count": 8,
   "metadata": {},
   "outputs": [
    {
     "name": "stdout",
     "output_type": "stream",
     "text": [
      "got svd\n",
      "got svd\n",
      "got svd\n"
     ]
    }
   ],
   "source": [
    "if \"bowling\" in cfg:\n",
    "    sub_poly = cfg[\"bowling\"][\"sub_poly\"]\n",
    "if sub_poly:\n",
    "    method = cfg[\"bowling\"][\"method\"]\n",
    "    degree = cfg[\"bowling\"][\"degree\"]\n",
    "sim = False\n",
    "if \"sim\" in cfg:\n",
    "    sim = cfg[\"sim\"]\n",
    "for i, tod in enumerate(todvec.tods):\n",
    "    ipix = skymap.get_pix(tod)\n",
    "    tod.info[\"ipix\"] = ipix\n",
    "\n",
    "    if sub_poly:\n",
    "        tod.set_apix()\n",
    "        for j in range(tod.info[\"dat_calib\"].shape[0]):\n",
    "            x, y = tod.info[\"apix\"][j], tod.info[\"dat_calib\"][j] - tod.info[method][j]\n",
    "            res = np.polynomial.polynomial.polyfit(x, y, cfg[\"bowling\"][\"degree\"])\n",
    "            tod.info[\"dat_calib\"][j] -= np.polynomial.polynomial.polyval(x, res)\n",
    "\n",
    "    if sim:\n",
    "        tod.info[\"dat_calib\"] *= (-1) ** ((minkasi.myrank + minkasi.nproc * i) % 2)\n",
    "        start = 0\n",
    "        model = 0\n",
    "        for n, fun in zip(npars, funs):\n",
    "            model += fun(params[start : (start + n)], tod)[1]\n",
    "            start += n\n",
    "        tod.info[\"dat_calib\"] += np.array(model)\n",
    "\n",
    "    tod.set_noise(noise_class, *noise_args, **noise_kwargs)\n"
   ]
  },
  {
   "cell_type": "code",
   "execution_count": 9,
   "metadata": {},
   "outputs": [],
   "source": [
    "# Figure out output\n",
    "models = [\n",
    "    mn + (\"_ns\" * (not ns)) for mn, ns in zip(list(cfg[\"models\"].keys()), subtract)\n",
    "]\n",
    "outdir = os.path.join(\n",
    "    cfg[\"paths\"][\"outroot\"],\n",
    "    cfg[\"cluster\"][\"name\"],\n",
    "    \"-\".join(mn for mn in models),\n",
    ")\n",
    "if \"subdir\" in cfg[\"paths\"]:\n",
    "    outdir = os.path.join(outdir, cfg[\"paths\"][\"subdir\"])\n",
    "if fit:\n",
    "    outdir = os.path.join(outdir, \"-\".join(l for l in labels[to_fit]))\n",
    "else:\n",
    "    outdir = os.path.join(outdir, \"not_fit\")\n",
    "if sub_poly:\n",
    "    outdir += \"-\" + method + \"_\" + str(degree)\n",
    "if sim:\n",
    "    outdir += \"-sim\"\n",
    "if minkasi.myrank == 0:\n",
    "    os.makedirs(outdir, exist_ok=True)\n",
    "\n"
   ]
  },
  {
   "cell_type": "code",
   "execution_count": 10,
   "metadata": {},
   "outputs": [],
   "source": [
    "fit = False\n",
    "if fit:\n",
    "    t1 = time.time()\n",
    "    pars_fit, chisq, curve, errs = minkasi.fit_timestreams_with_derivs_manyfun(\n",
    "        funs,\n",
    "        params,\n",
    "        npars,\n",
    "        todvec,\n",
    "        to_fit,\n",
    "        maxiter=cfg[\"minkasi\"][\"maxiter\"],\n",
    "        priors=priors,\n",
    "        prior_vals=prior_vals,\n",
    "    )\n",
    "    minkasi.comm.barrier()\n",
    "    t2 = time.time()\n",
    "    print_once(\"Took\", t2 - t1, \"seconds to fit\")\n",
    "\n",
    "    params = pars_fit\n",
    "    for i, re in enumerate(re_eval):\n",
    "        if not re:\n",
    "            continue\n",
    "        pars_fit[i] = eval(re)\n",
    "\n",
    "    print_once(\"Fit parameters:\")\n",
    "    for l, pf, err in zip(labels, pars_fit, errs):\n",
    "        print_once(\"\\t\", l, \"=\", pf, \"+/-\", err)\n",
    "    print_once(\"chisq =\", chisq)\n",
    "\n",
    "    if minkasi.myrank == 0:\n",
    "        res_path = os.path.join(outdir, \"results\")\n",
    "        print_once(\"Saving results to\", res_path + \".npz\")\n",
    "        np.savez_compressed(\n",
    "            res_path, pars_fit=pars_fit, chisq=chisq, errs=errs, curve=curve\n",
    "        )\n"
   ]
  },
  {
   "cell_type": "code",
   "execution_count": null,
   "metadata": {},
   "outputs": [],
   "source": []
  },
  {
   "cell_type": "code",
   "execution_count": null,
   "metadata": {},
   "outputs": [],
   "source": []
  },
  {
   "cell_type": "code",
   "execution_count": 11,
   "metadata": {},
   "outputs": [],
   "source": [
    "idxs = np.array([])\n",
    "idys = np.array([])\n",
    "\n",
    "dxs = np.array([])\n",
    "dys = np.array([])\n",
    "\n",
    "lens = np.array([])\n",
    "\n",
    "for tod in todvec.tods:\n",
    "    idxs = np.append(idxs, tod.info[\"idx\"])\n",
    "    idys = np.append(idys, tod.info[\"idy\"])\n",
    "    lens = np.append(lens, len(tod.info[\"dx\"].ravel()))\n",
    "    dxs = np.append(dxs, tod.info[\"model_idx\"])\n",
    "    dys = np.append(dys, tod.info[\"model_idy\"])\n",
    "\n",
    "lens = np.array(lens, dtype=int)"
   ]
  },
  {
   "cell_type": "code",
   "execution_count": 12,
   "metadata": {},
   "outputs": [],
   "source": [
    "idx_min, idx_max = np.min(idxs), np.max(idxs)\n",
    "idy_min, idy_max = np.min(idys), np.max(idys)\n",
    "x = np.arange(idx_min, idx_max, dtype = int)\n",
    "y = np.arange(idy_min, idy_max, dtype = int)\n",
    "\n",
    "X, Y = np.meshgrid(x, y)\n"
   ]
  },
  {
   "cell_type": "code",
   "execution_count": 13,
   "metadata": {},
   "outputs": [
    {
     "name": "stdout",
     "output_type": "stream",
     "text": [
      "0.4969999272618113\n",
      "[[[-180.        ]\n",
      "  [-179.49930459]\n",
      "  [-178.99860918]\n",
      "  ...\n",
      "  [ 178.99860918]\n",
      "  [ 179.49930459]\n",
      "  [ 180.        ]]\n",
      "\n",
      " [[-180.        ]\n",
      "  [-179.49930459]\n",
      "  [-178.99860918]\n",
      "  ...\n",
      "  [ 178.99860918]\n",
      "  [ 179.49930459]\n",
      "  [ 180.        ]]\n",
      "\n",
      " [[-180.        ]\n",
      "  [-179.49930459]\n",
      "  [-178.99860918]\n",
      "  ...\n",
      "  [ 178.99860918]\n",
      "  [ 179.49930459]\n",
      "  [ 180.        ]]\n",
      "\n",
      " ...\n",
      "\n",
      " [[-180.        ]\n",
      "  [-179.49930459]\n",
      "  [-178.99860918]\n",
      "  ...\n",
      "  [ 178.99860918]\n",
      "  [ 179.49930459]\n",
      "  [ 180.        ]]\n",
      "\n",
      " [[-180.        ]\n",
      "  [-179.49930459]\n",
      "  [-178.99860918]\n",
      "  ...\n",
      "  [ 178.99860918]\n",
      "  [ 179.49930459]\n",
      "  [ 180.        ]]\n",
      "\n",
      " [[-180.        ]\n",
      "  [-179.49930459]\n",
      "  [-178.99860918]\n",
      "  ...\n",
      "  [ 178.99860918]\n",
      "  [ 179.49930459]\n",
      "  [ 180.        ]]]\n"
     ]
    },
    {
     "data": {
      "text/plain": [
       "<matplotlib.colorbar.Colorbar at 0x7f370c1d4280>"
      ]
     },
     "execution_count": 13,
     "metadata": {},
     "output_type": "execute_result"
    },
    {
     "data": {
      "image/png": "[encoded data removed]",
      "text/plain": [
       "<Figure size 640x480 with 2 Axes>"
      ]
     },
     "metadata": {},
     "output_type": "display_data"
    }
   ],
   "source": [
    "from minkasi_jax.core import model\n",
    "import matplotlib.pyplot as plt\n",
    "vis_model = model(xyz, 0, 0, 1, 0, 0, 0, 0, 0, float(y2K_RJ(freq, Te)*dr*XMpc/me), beam, X, Y, params)\n",
    "\n",
    "plt.imshow(vis_model, extent = [np.min(X), np.max(X), np.min(Y), np.max(Y)], origin = 'lower')\n",
    "plt.colorbar()"
   ]
  },
  {
   "cell_type": "code",
   "execution_count": null,
   "metadata": {},
   "outputs": [],
   "source": []
  },
  {
   "cell_type": "code",
   "execution_count": null,
   "metadata": {},
   "outputs": [],
   "source": []
  },
  {
   "cell_type": "code",
   "execution_count": 14,
   "metadata": {},
   "outputs": [
    {
     "data": {
      "text/plain": [
       "array([0.0000e+00, 0.0000e+00, 0.0000e+00, 0.0000e+00, 8.4030e+00,\n",
       "       1.1770e+00, 1.0000e+14, 3.0810e-01, 1.0510e+00, 5.4905e+00,\n",
       "       9.7000e-01])"
      ]
     },
     "execution_count": 14,
     "metadata": {},
     "output_type": "execute_result"
    }
   ],
   "source": [
    "params"
   ]
  },
  {
   "cell_type": "code",
   "execution_count": 15,
   "metadata": {},
   "outputs": [
    {
     "data": {
      "text/plain": [
       "array(['dx_1', 'dy_1', 'dz_1', 'theta', 'P0', 'c500', 'm500', 'gamma',\n",
       "       'alpha', 'beta', 'z'], dtype='<U5')"
      ]
     },
     "execution_count": 15,
     "metadata": {},
     "output_type": "execute_result"
    }
   ],
   "source": [
    "labels"
   ]
  },
  {
   "cell_type": "code",
   "execution_count": 16,
   "metadata": {},
   "outputs": [],
   "source": [
    "def gnfw(dx, dy, dz, r_1, r_2, r_3, theta, P0, c500, m500, gamma, alpha, beta, z, xyz, fix_r500=False):\n",
    "    nz = get_nz(z)\n",
    "    hz = get_hz(z)\n",
    "    if fix_r500:\n",
    "        da = get_da(z) #Maybe pass this since it's computed anyway?\n",
    "\n",
    "    x, y, z = transform_grid(dx, dy, dz, r_1, r_2, r_3, theta, xyz)\n",
    "\n",
    "    r500 = (m500 / (4.00 * jnp.pi / 3.00) / 5.00e02 / nz) ** (1.00 / 3.00)\n",
    "\n",
    "    if fix_r500:\n",
    "        r_1, r_2, r_3 = r500 /da, r500 / da, r500 / da\n",
    "        print(r500, r_1)\n",
    "    r = c500 * jnp.sqrt(x**2 + y**2 + z**2) / r500\n",
    "    denominator = (r**gamma) * (1 + r**alpha) ** ((beta - gamma) / alpha)\n",
    "\n",
    "    P500 = (\n",
    "        1.65e-03\n",
    "        * (m500 / (3.00e14 / h70)) ** (2.00 / 3.00 + ap)\n",
    "        * hz ** (8.00 / 3.00)\n",
    "        * h70**2\n",
    "    )\n",
    "\n",
    "    return P500 * P0 / denominator\n"
   ]
  },
  {
   "cell_type": "code",
   "execution_count": 17,
   "metadata": {},
   "outputs": [
    {
     "ename": "TypeError",
     "evalue": "gnfw() missing 2 required positional arguments: 'z' and 'xyz'",
     "output_type": "error",
     "traceback": [
      "\u001b[0;31m---------------------------------------------------------------------------\u001b[0m",
      "\u001b[0;31mTypeError\u001b[0m                                 Traceback (most recent call last)",
      "Cell \u001b[0;32mIn[17], line 1\u001b[0m\n\u001b[0;32m----> 1\u001b[0m \u001b[43mgnfw\u001b[49m\u001b[43m(\u001b[49m\u001b[38;5;241;43m*\u001b[39;49m\u001b[43mparams\u001b[49m\u001b[43m,\u001b[49m\u001b[43m \u001b[49m\u001b[43mxyz\u001b[49m\u001b[43m,\u001b[49m\u001b[43m \u001b[49m\u001b[38;5;28;43;01mTrue\u001b[39;49;00m\u001b[43m)\u001b[49m\n",
      "\u001b[0;31mTypeError\u001b[0m: gnfw() missing 2 required positional arguments: 'z' and 'xyz'"
     ]
    }
   ],
   "source": [
    "gnfw(*params, xyz, True)"
   ]
  },
  {
   "cell_type": "code",
   "execution_count": null,
   "metadata": {},
   "outputs": [],
   "source": [
    "xyz"
   ]
  },
  {
   "cell_type": "code",
   "execution_count": null,
   "metadata": {},
   "outputs": [],
   "source": [
    "nz"
   ]
  },
  {
   "cell_type": "code",
   "execution_count": null,
   "metadata": {},
   "outputs": [],
   "source": []
  },
  {
   "cell_type": "code",
   "execution_count": null,
   "metadata": {},
   "outputs": [],
   "source": []
  },
  {
   "cell_type": "code",
   "execution_count": null,
   "metadata": {},
   "outputs": [],
   "source": []
  },
  {
   "cell_type": "code",
   "execution_count": null,
   "metadata": {},
   "outputs": [],
   "source": []
  },
  {
   "cell_type": "code",
   "execution_count": null,
   "metadata": {},
   "outputs": [],
   "source": []
  },
  {
   "cell_type": "code",
   "execution_count": null,
   "metadata": {},
   "outputs": [],
   "source": []
  },
  {
   "cell_type": "code",
   "execution_count": null,
   "metadata": {},
   "outputs": [],
   "source": []
  }
 ],
 "metadata": {
  "kernelspec": {
   "display_name": "general",
   "language": "python",
   "name": "general"
  },
  "language_info": {
   "codemirror_mode": {
    "name": "ipython",
    "version": 3
   },
   "file_extension": ".py",
   "mimetype": "text/x-python",
   "name": "python",
   "nbconvert_exporter": "python",
   "pygments_lexer": "ipython3",
   "version": "3.9.8"
  }
 },
 "nbformat": 4,
 "nbformat_minor": 4
}
