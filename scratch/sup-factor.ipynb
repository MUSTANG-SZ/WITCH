{
 "cells": [
  {
   "cell_type": "code",
   "execution_count": 1,
   "metadata": {},
   "outputs": [],
   "source": [
    "import numpy as np\n",
    "from matplotlib import pyplot as plt\n",
    "import scipy.integrate as integrate\n",
    "import astropy.constants as c\n",
    "import astropy.units as u\n",
    "import scipy as sp\n",
    "from astropy.modeling import models\n",
    "from astropy.cosmology import Planck15 as cosmo"
   ]
  },
  {
   "cell_type": "code",
   "execution_count": 2,
   "metadata": {},
   "outputs": [],
   "source": [
    "global meKeV; meKeV = 5.109989461e+02\n",
    "\n",
    "\n",
    "# Radiative transfer integrals\n",
    "# ------------------------------------------------------------------------\n",
    "# Standard non-relativistic, thermal relative flux density SZ scaling factor\n",
    "def gSZ(x):\n",
    "    factor  = -4.+x*(np.exp(x)+1.)/(np.exp(x)-1.)\n",
    "    factor *= (x**4.)*np.exp(x)/((np.exp(x)-1.)**2.0)\n",
    "    return factor\n",
    "\n",
    "# Generalised form of the relative flux density SZ scaling factor\n",
    "def gSZtilde(xnu,Te=0.0,p1=1.,p2=1.e3,alpha=2.,etype='thermal'):\n",
    "    if (Te==0.0):\n",
    "        factor = gSZ(xnu)\n",
    "    else:\n",
    "        if (etype in ['thermal','Thermal']):\n",
    "            factor  = integrate.dblquad(jszThermal,0.0,np.inf,lambda x: 0.0,lambda x: np.inf,args=(xnu,Te))[0]\n",
    "            factor -= planckSpectrum(xnu)\n",
    "            factor *= meKeV/Te\n",
    "        elif (etype in ['powerlaw','power_law','powerLaw','PowerLaw']):\n",
    "            factor  = integrate.dblquad(jszPowerLaw,0.0,np.inf,lambda x: 0.0,lambda x: np.inf,args=(xnu,p1,p2,alpha))[0]\n",
    "            factor -= planckSpectrum(xnu)\n",
    "            factor *= meKeV/Te\n",
    "        elif (etype in ['ultrarelativistic','ultra-relativistic','ultrarel','ultraRel']):\n",
    "            factor  = planckSpectrum(xnu)*meKeV/Te\n",
    "    return factor\n",
    "\n",
    "# Thermal electron momentum distribution\n",
    "def jszThermal(p,t,x,Te):\n",
    "    electronThermal = ((meKeV/Te)/sp.special.kn(2,(meKeV/Te)))*p*p*np.exp(-(meKeV/Te)*np.sqrt(1.+p*p))\n",
    "    return redistrFunction(t,p)*planckSpectrum(x/t)*electronThermal\n",
    "\n",
    "# Non-thermal electron momentum distribution (power-law)\n",
    "def jszPowerLaw(p,t,x,p1,p2,alpha):\n",
    "  # Ultra-relativisitc : p1=1, p2=1e3, alpha=2\n",
    "  # Relativistic       : p1=3, p2=1e3, alpha=2\n",
    "    electronPowerLaw = (alpha-1.)*(p**(-alpha))/((p1**(1.-alpha))-(p2**(1.-alpha)))\n",
    "    factor = redistrFunction(t,p)*planckSpectrum(x/t)*electronPowerLaw\n",
    "\n",
    "    return np.where((p1<p<p2),0.00,factor)\n",
    "\n",
    "# Planck spectrum\n",
    "def planckSpectrum(x):\n",
    "    return (x**3.)/(np.exp(x)-1.)\n",
    "\n",
    "# Photon redistribution function\n",
    "def redistrFunction(t,p):\n",
    "    if (np.abs(np.log(t))>2.*np.arcsinh(p)):\n",
    "        factor = 0.0\n",
    "    else:\n",
    "            factor  = (3.+(3.+p*p)*p*p)/np.sqrt(1.+p*p)\n",
    "            factor -= (2.*np.arcsinh(p)-np.abs(np.log(t)))*(1.5+p*p)/p\n",
    "            factor *= 3.*(1.+t)/(8.*(p**5.))\n",
    "            factor -= (1.+((10.+(8.+4.*p*p)*p*p)+t)*t)*3.*np.abs(1.-t)/(32.*t*(p**6.))\n",
    "    return factor\n",
    "\n",
    "#def kT_cr(p1,p2,alpha):\n",
    "#    factor = integrate.quad(lambda p: f_cr(p, alpha, p1, p2)*1/3*p*p**2/np.sqrt(1+p**2)*meKeV, p1*0.5, 1.5*p2)\n",
    "#    return factor[0]\n",
    "    #\n",
    "    \n",
    "def kT_cr(p1, p2, alpha):\n",
    "    beta = sp.special.beta((alpha-2)/2, (3-alpha)/2)\n",
    "    factor = meKeV*(alpha-1)/(6*(p1**(1-alpha)-p2**(1-alpha)))*\\\n",
    "    (sp.special.betainc((alpha-2)/2, (3-alpha)/2, (1/(1+p1**2)))*beta  \\\n",
    "     -sp.special.betainc((alpha-2)/2, (3-alpha)/2, (1/(1+p2**2)))*beta)\n",
    "    return factor"
   ]
  },
  {
   "cell_type": "code",
   "execution_count": 3,
   "metadata": {},
   "outputs": [],
   "source": [
    "#In the below functions, t is the photon frequency shift factor and T is the temperature\n",
    "#def K(t,p):\n",
    "#    return -3*np.abs(1-t)/(32*p**6*t)*(1+(10+8*p**2 + 4*p**4)*t+t**2) + \\\n",
    "#(3*(1+t))/(8*p**5)*((3+3*p**2+p**4)/np.sqrt(1+p**2) - (3+2*p**2)/(2*p)*(2*np.arcsinh(p) -np.abs(np.log(t))))\n",
    "\n",
    "def K(t,p):\n",
    "    factor = -3*np.abs(1-t)/(32*p**6*t)*(1+(10+8*p**2 + 4*p**4)*t+t**2) + \\\n",
    "             (3*(1+t))/(8*p**5)*((3+3*p**2+p**4)/np.sqrt(1+p**2) - (3+2*p**2)/(2*p)*(2*np.arcsinh(p) -np.abs(np.log(t))))\n",
    "    return np.where(np.abs(np.log(t))>2.*np.arcsinh(p),0.00,factor)\n",
    "\n",
    "def K_s(s, p):\n",
    "    es = np.exp(s)\n",
    "    return(K(es, p)*es)\n",
    "\n",
    "def K_int(t, f, **kwargs):\n",
    "    return integrate.quad(lambda p: f(p, **kwargs)*K(t,p), 0, np.inf)[0]\n",
    "\n",
    "def _K_1_s(s, f, **kwargs):\n",
    "    if 'p1' in kwargs.keys():\n",
    "        p1 = kwargs['p1']\n",
    "        return integrate.quad(lambda p: f(p, **kwargs)*K_s(s,p), p1, 250*p1, limit = 100000)[0]\n",
    "    else:\n",
    "        return integrate.quad(lambda p: f(p, **kwargs)*K_s(s,p), 0, np.inf, limit = 100000)[0]\n",
    "\n",
    "K_1_s = np.vectorize(_K_1_s, excluded = ['f'], otypes = [np.float])\n",
    "\n",
    "def _f_cr(p, alpha, p1, p2):\n",
    "    if p1 < p < p2:\n",
    "        return (alpha -1)*p**(-1*alpha)/(p1**(1-alpha)-p2**(1-alpha))\n",
    "    else:\n",
    "        return 0\n",
    "    \n",
    "f_cr = np.vectorize(_f_cr, excluded=['alpha','p1', 'p2'], otypes = [np.float]) \n",
    "\n",
    "def f_th(p,T):\n",
    "    #'T' should be in units of eV\n",
    "    try:\n",
    "        T = T.to(u.keV)\n",
    "    except:\n",
    "        print('Error: T cannot be converted to eV')\n",
    "        return\n",
    "    beta_th = (meKeV/T.value)\n",
    "    return beta_th/sp.special.kn(2,beta_th)*p**2*np.exp(-1*beta_th*np.sqrt(1+p**2))\n",
    "\n",
    " \n",
    "def planckSpectrum(x):\n",
    "    return (x**3.)/(np.exp(x)-1.)    \n",
    "    \n",
    "#def j(x, f, **kwargs):\n",
    "#    return integrate.quad(lambda t: i(x/t).value*K_int(t, f, **kwargs), 0, np.inf)\n",
    "\n",
    "def j(x,f, **kwargs):\n",
    "    return integrate.dblquad(lambda t, p: planckSpectrum(x/t)*f(p, **kwargs)*K(t,p), 0, np.inf, lambda p: 0, lambda p: np.inf)[0]\n",
    "\n",
    "def _gTilde(x,f, **kwargs):\n",
    "    return j(x,f,**kwargs) - planckSpectrum(x)\n",
    "\n",
    "gTilde = np.vectorize(_gTilde, excluded = ['f'], otypes = [np.float])\n"
   ]
  },
  {
   "cell_type": "markdown",
   "metadata": {},
   "source": [
    "# Replicating fig 2 in Enslin 2000"
   ]
  },
  {
   "cell_type": "code",
   "execution_count": 81,
   "metadata": {},
   "outputs": [
    {
     "data": {
      "image/png": "[encoded data removed]",
      "text/plain": [
       "<Figure size 432x288 with 1 Axes>"
      ]
     },
     "metadata": {
      "needs_background": "light"
     },
     "output_type": "display_data"
    }
   ],
   "source": [
    "#This replicates the photon scattering probability function, called K(t,P) here and in zubair's paper and P in Enslin 2000\n",
    "#The plot is of the log freq shift version but also validates K\n",
    "\n",
    "s_space = np.linspace(-3.6,3.6,10000)\n",
    "ps = [0.1, 0.3, 1, 3]\n",
    "s_max_p = [0.2, 0.6, 1.8, 3.6]\n",
    "\n",
    "for i, p in enumerate(ps):\n",
    "    x = s_space/s_max_p[i]\n",
    "    y = K_s(s_space, p)*s_max_p[i]\n",
    "    plt.plot(x,y, label = str(p))\n",
    "    \n",
    "plt.xlim(-1,1)\n",
    "plt.ylim(0, 2)\n",
    "plt.legend()\n",
    "plt.show()"
   ]
  },
  {
   "cell_type": "markdown",
   "metadata": {},
   "source": [
    "# Replicating Fig 3 in Colafrancesco"
   ]
  },
  {
   "cell_type": "code",
   "execution_count": 197,
   "metadata": {},
   "outputs": [
    {
     "name": "stderr",
     "output_type": "stream",
     "text": [
      "<ipython-input-195-327143dc5fb1>:21: IntegrationWarning: The integral is probably divergent, or slowly convergent.\n",
      "  return integrate.quad(lambda p: f(p, **kwargs)*K_s(s,p), p1, 500*p1, limit = 100000)[0]\n",
      "<ipython-input-195-327143dc5fb1>:21: IntegrationWarning: The integral is probably divergent, or slowly convergent.\n",
      "  return integrate.quad(lambda p: f(p, **kwargs)*K_s(s,p), p1, 500*p1, limit = 100000)[0]\n",
      "<ipython-input-195-327143dc5fb1>:21: IntegrationWarning: The integral is probably divergent, or slowly convergent.\n",
      "  return integrate.quad(lambda p: f(p, **kwargs)*K_s(s,p), p1, 500*p1, limit = 100000)[0]\n",
      "<ipython-input-195-327143dc5fb1>:21: IntegrationWarning: The integral is probably divergent, or slowly convergent.\n",
      "  return integrate.quad(lambda p: f(p, **kwargs)*K_s(s,p), p1, 500*p1, limit = 100000)[0]\n",
      "<ipython-input-195-327143dc5fb1>:21: IntegrationWarning: The occurrence of roundoff error is detected, which prevents \n",
      "  the requested tolerance from being achieved.  The error may be \n",
      "  underestimated.\n",
      "  return integrate.quad(lambda p: f(p, **kwargs)*K_s(s,p), p1, 500*p1, limit = 100000)[0]\n"
     ]
    },
    {
     "data": {
      "image/png": "[encoded data removed]",
      "text/plain": [
       "<Figure size 432x288 with 1 Axes>"
      ]
     },
     "metadata": {
      "needs_background": "light"
     },
     "output_type": "display_data"
    }
   ],
   "source": [
    "s_space = np.linspace(-5, 25,1000)\n",
    "ps = [0.5, 1, 10, 100, 1000]\n",
    "\n",
    "for i, p in enumerate(ps):\n",
    "    x = s_space\n",
    "    y = K_1_s(s_space, f_cr, alpha = 2.5, p1=p, p2 = 1e8)\n",
    "    plt.plot(x,y, label = str(p))\n",
    "    \n",
    "plt.ylim(0, 0.6)\n",
    "plt.xlim(-5,25)\n",
    "plt.xlabel('s')\n",
    "plt.legend()\n",
    "plt.show()"
   ]
  },
  {
   "cell_type": "markdown",
   "metadata": {},
   "source": [
    "# Replicating Fig.4 is Esslin"
   ]
  },
  {
   "cell_type": "code",
   "execution_count": 200,
   "metadata": {},
   "outputs": [
    {
     "data": {
      "image/png": "[encoded data removed]",
      "text/plain": [
       "<Figure size 432x288 with 1 Axes>"
      ]
     },
     "metadata": {
      "needs_background": "light"
     },
     "output_type": "display_data"
    }
   ],
   "source": [
    "alphas = [2.0, 2.5, 3.0]\n",
    "s_space = np.linspace(-6,6,1000)\n",
    "for i, alpha in enumerate(alphas):\n",
    "    x = s_space\n",
    "    y = K_1_s(s_space, f_cr, alpha = alpha, p1=0.1, p2 = 10)\n",
    "    plt.plot(x,y, label = str(alpha))\n",
    "    \n",
    "#plt.xlim(-6,6)\n",
    "#plt.ylim(-14, 0.5)\n",
    "plt.yscale('log')\n",
    "plt.legend()\n",
    "plt.show()\n",
    "    "
   ]
  },
  {
   "cell_type": "markdown",
   "metadata": {},
   "source": [
    "# Electron momentum spectrum, non-thermal"
   ]
  },
  {
   "cell_type": "code",
   "execution_count": 7,
   "metadata": {},
   "outputs": [
    {
     "data": {
      "image/png": "[encoded data removed]",
      "text/plain": [
       "<Figure size 432x288 with 1 Axes>"
      ]
     },
     "metadata": {
      "needs_background": "light"
     },
     "output_type": "display_data"
    }
   ],
   "source": [
    "x = np.linspace(0,2e5, 100)\n",
    "y = f_cr(x, alpha = 2.5, p1 = 1, p2 = 1e8)\n",
    "\n",
    "plt.plot(x,y)\n",
    "plt.yscale('log')\n",
    "plt.show()\n"
   ]
  },
  {
   "cell_type": "markdown",
   "metadata": {},
   "source": [
    "# Electron momentum spectrum, thermal"
   ]
  },
  {
   "cell_type": "code",
   "execution_count": 8,
   "metadata": {},
   "outputs": [
    {
     "data": {
      "image/png": "[encoded data removed]",
      "text/plain": [
       "<Figure size 432x288 with 1 Axes>"
      ]
     },
     "metadata": {
      "needs_background": "light"
     },
     "output_type": "display_data"
    }
   ],
   "source": [
    "x = np.linspace(0,1e3)\n",
    "y = f_th(x, 10000*u.eV)\n",
    "\n",
    "plt.plot(x,y)\n",
    "plt.yscale('log')\n",
    "plt.show()"
   ]
  },
  {
   "cell_type": "markdown",
   "metadata": {},
   "source": [
    "# Plankian dist"
   ]
  },
  {
   "cell_type": "code",
   "execution_count": 18,
   "metadata": {},
   "outputs": [
    {
     "data": {
      "image/png": "[encoded data removed]",
      "text/plain": [
       "<Figure size 432x288 with 1 Axes>"
      ]
     },
     "metadata": {
      "needs_background": "light"
     },
     "output_type": "display_data"
    },
    {
     "data": {
      "text/latex": [
       "$3.7735168 \\times 10^{-15} \\; \\mathrm{\\frac{erg}{Hz\\,s\\,sr\\,cm^{2}}}$"
      ],
      "text/plain": [
       "<Quantity 3.77351683e-15 erg / (cm2 Hz s sr)>"
      ]
     },
     "execution_count": 18,
     "metadata": {},
     "output_type": "execute_result"
    }
   ],
   "source": [
    "x = np.linspace(0.00001,10, 100000)\n",
    "y =  planckSpectrum(x)\n",
    "\n",
    "plt.plot(x,y)\n",
    "plt.show()\n",
    "planckSpectrum(2.5)"
   ]
  },
  {
   "cell_type": "markdown",
   "metadata": {},
   "source": [
    "# gSZ thermal"
   ]
  },
  {
   "cell_type": "code",
   "execution_count": 12,
   "metadata": {
    "scrolled": true
   },
   "outputs": [
    {
     "name": "stderr",
     "output_type": "stream",
     "text": [
      "<ipython-input-3-4090ffb2c66c>:47: RuntimeWarning: overflow encountered in exp\n",
      "  return (x**3.)/(np.exp(x)-1.)\n",
      "/local/jupyter2021/lib/python3.8/site-packages/scipy/integrate/quadpack.py:880: IntegrationWarning: The maximum number of subdivisions (50) has been achieved.\n",
      "  If increasing the limit yields no improvement it is advised to analyze \n",
      "  the integrand in order to determine the difficulties.  If the position of a \n",
      "  local difficulty can be determined (singularity, discontinuity) one will \n",
      "  probably gain from splitting up the interval and calling the integrator \n",
      "  on the subranges.  Perhaps a special-purpose integrator should be used.\n",
      "  quad_r = quad(f, low, high, args=args, full_output=self.full_output,\n"
     ]
    },
    {
     "data": {
      "image/png": "[encoded data removed]",
      "text/plain": [
       "<Figure size 432x288 with 1 Axes>"
      ]
     },
     "metadata": {
      "needs_background": "light"
     },
     "output_type": "display_data"
    }
   ],
   "source": [
    "x = np.linspace(0.00001,10, 100)\n",
    "\n",
    "y = gSZtilde(x,Te=0.0,p1=1.,p2=1.e3,alpha=2.,etype='thermal')\n",
    "y2 = np.zeros(len(x))\n",
    "for i, ix in enumerate(x):\n",
    "    y2[i] = gSZtilde(ix,Te=100,p1=1.,p2=1.e3,alpha=2.,etype='thermal')\n",
    "\n",
    "plt.plot(x,y, label = 'g')\n",
    "plt.plot(x,y2, label = 'g_th')\n",
    "plt.legend()\n",
    "plt.show()"
   ]
  },
  {
   "cell_type": "code",
   "execution_count": 7,
   "metadata": {},
   "outputs": [],
   "source": [
    "y = gSZtilde(x,Te=0.0,p1=1.,p2=1.e3,alpha=2.,etype='thermal')\n"
   ]
  },
  {
   "cell_type": "markdown",
   "metadata": {},
   "source": [
    "# TolTEC Estimates"
   ]
  },
  {
   "cell_type": "code",
   "execution_count": 66,
   "metadata": {},
   "outputs": [
    {
     "name": "stderr",
     "output_type": "stream",
     "text": [
      "<ipython-input-3-4090ffb2c66c>:47: RuntimeWarning: overflow encountered in exp\n",
      "  return (x**3.)/(np.exp(x)-1.)\n"
     ]
    }
   ],
   "source": [
    "x = 150*1e9*u.Hz * c.h /(c.k_B*2.7*u.K)\n",
    "y_no_bub = gSZtilde(x, Te=0.0, p1 = 1., p2 =1.e3, alpha=2, etype='thermal')\n",
    "y_therm = gSZtilde(x, Te=50, p1 = 1., p2 =1.e3, alpha=2, etype='thermal')\n",
    "\n",
    "kT_cr_temp = kT_cr(p1=1, p2=1e3, alpha =2.5)\n",
    "\n",
    "#Powerlaw \n",
    "y_cr = gTilde(x.value,f_cr, p1 = 1, p2 = 1e3, alpha = 2)*meKeV/kT_cr_temp\n",
    "\n",
    "#ultrarel\n",
    "y_ucr = gSZtilde(x.value,kT_cr_temp, p1 = 3, p2 = 1e3, alpha = 2, etype = 'ultrarelativistic')\n",
    "\n"
   ]
  },
  {
   "cell_type": "code",
   "execution_count": 67,
   "metadata": {},
   "outputs": [
    {
     "name": "stdout",
     "output_type": "stream",
     "text": [
      "Thermal Ratio, 150 0.777418933420474\n",
      "Powerlaw Ratio, 150 0.3035347761462656\n",
      "Ultra Ratio, 150 -0.4166594679111023\n"
     ]
    }
   ],
   "source": [
    "print('Thermal Ratio, 150', y_therm/y_no_bub)\n",
    "print('Powerlaw Ratio, 150', y_cr/y_no_bub)\n",
    "print('Ultra Ratio, 150', y_ucr/y_no_bub)"
   ]
  },
  {
   "cell_type": "code",
   "execution_count": 68,
   "metadata": {},
   "outputs": [
    {
     "name": "stderr",
     "output_type": "stream",
     "text": [
      "<ipython-input-3-4090ffb2c66c>:47: RuntimeWarning: overflow encountered in exp\n",
      "  return (x**3.)/(np.exp(x)-1.)\n"
     ]
    }
   ],
   "source": [
    "x = 220*1e9*u.Hz * c.h /(c.k_B*2.7*u.K)\n",
    "y_no_bub = gSZtilde(x, Te=0.0, p1 = 1., p2 =1.e3, alpha=2, etype='thermal')\n",
    "y_therm = gSZtilde(x, Te=50, p1 = 1., p2 =1.e3, alpha=2, etype='thermal')\n",
    "\n",
    "kT_cr_temp = kT_cr(p1=1, p2=1e3, alpha =2.5)\n",
    "\n",
    "#Powerlaw \n",
    "y_cr = gTilde(x.value,f_cr, p1 = 1, p2 = 1e3, alpha = 2)*meKeV/kT_cr_temp\n",
    "\n",
    "#ultrarel\n",
    "y_ucr = gSZtilde(x.value,kT_cr_temp, p1 = 3, p2 = 1e3, alpha = 2, etype = 'ultrarelativistic')"
   ]
  },
  {
   "cell_type": "code",
   "execution_count": 69,
   "metadata": {},
   "outputs": [
    {
     "name": "stdout",
     "output_type": "stream",
     "text": [
      "Thermal Ratio, 220 -2.190030720477631\n",
      "Powerlaw Ratio, 220 -2.3796422081918016\n",
      "Ultra Ratio, 220 3.9778158162158213\n"
     ]
    }
   ],
   "source": [
    "print('Thermal Ratio, 220', y_therm/y_no_bub)\n",
    "print('Powerlaw Ratio, 220', y_cr/y_no_bub)\n",
    "print('Ultra Ratio, 220', y_ucr/y_no_bub)"
   ]
  },
  {
   "cell_type": "code",
   "execution_count": 71,
   "metadata": {},
   "outputs": [
    {
     "name": "stderr",
     "output_type": "stream",
     "text": [
      "<ipython-input-3-4090ffb2c66c>:47: RuntimeWarning: overflow encountered in exp\n",
      "  return (x**3.)/(np.exp(x)-1.)\n"
     ]
    }
   ],
   "source": [
    "x = 270*1e9*u.Hz * c.h /(c.k_B*2.7*u.K)\n",
    "y_no_bub = gSZtilde(x, Te=0.0, p1 = 1., p2 =1.e3, alpha=2, etype='thermal')\n",
    "y_therm = gSZtilde(x, Te=50, p1 = 1., p2 =1.e3, alpha=2, etype='thermal')\n",
    "\n",
    "kT_cr_temp = kT_cr(p1=1, p2=1e3, alpha =2.5)\n",
    "\n",
    "#Powerlaw \n",
    "y_cr = gTilde(x.value,f_cr, p1 = 1, p2 = 1e3, alpha = 2)*meKeV/kT_cr_temp\n",
    "\n",
    "#ultrarel\n",
    "y_ucr = gSZtilde(x.value,kT_cr_temp, p1 = 3, p2 = 1e3, alpha = 2, etype = 'ultrarelativistic')"
   ]
  },
  {
   "cell_type": "code",
   "execution_count": 72,
   "metadata": {},
   "outputs": [
    {
     "name": "stdout",
     "output_type": "stream",
     "text": [
      "Thermal Ratio, 220 0.31991673968483336\n",
      "Powerlaw Ratio, 220 -0.10865712610197076\n",
      "Ultra Ratio, 220 0.2625622680181104\n"
     ]
    }
   ],
   "source": [
    "print('Thermal Ratio, 270', y_therm/y_no_bub)\n",
    "print('Powerlaw Ratio, 270', y_cr/y_no_bub)\n",
    "print('Ultra Ratio, 270', y_ucr/y_no_bub)"
   ]
  },
  {
   "cell_type": "markdown",
   "metadata": {},
   "source": [
    "# f plot"
   ]
  },
  {
   "cell_type": "markdown",
   "metadata": {},
   "source": [
    "## 90 GHz"
   ]
  },
  {
   "cell_type": "code",
   "execution_count": 4,
   "metadata": {},
   "outputs": [
    {
     "name": "stderr",
     "output_type": "stream",
     "text": [
      "/local/jupyter2021/lib/python3.8/site-packages/scipy/integrate/quadpack.py:880: IntegrationWarning: The integral is probably divergent, or slowly convergent.\n",
      "  quad_r = quad(f, low, high, args=args, full_output=self.full_output,\n",
      "<ipython-input-3-4090ffb2c66c>:47: RuntimeWarning: overflow encountered in exp\n",
      "  return (x**3.)/(np.exp(x)-1.)\n",
      "/local/jupyter2021/lib/python3.8/site-packages/scipy/integrate/quadpack.py:880: IntegrationWarning: The maximum number of subdivisions (50) has been achieved.\n",
      "  If increasing the limit yields no improvement it is advised to analyze \n",
      "  the integrand in order to determine the difficulties.  If the position of a \n",
      "  local difficulty can be determined (singularity, discontinuity) one will \n",
      "  probably gain from splitting up the interval and calling the integrator \n",
      "  on the subranges.  Perhaps a special-purpose integrator should be used.\n",
      "  quad_r = quad(f, low, high, args=args, full_output=self.full_output,\n",
      "/local/jupyter2021/lib/python3.8/site-packages/scipy/integrate/quadpack.py:880: IntegrationWarning: The occurrence of roundoff error is detected, which prevents \n",
      "  the requested tolerance from being achieved.  The error may be \n",
      "  underestimated.\n",
      "  quad_r = quad(f, low, high, args=args, full_output=self.full_output,\n",
      "/local/jupyter2021/lib/python3.8/site-packages/scipy/integrate/quadpack.py:880: IntegrationWarning: The algorithm does not converge.  Roundoff error is detected\n",
      "  in the extrapolation table.  It is assumed that the requested tolerance\n",
      "  cannot be achieved, and that the returned result (if full_output = 1) is \n",
      "  the best which can be obtained.\n",
      "  quad_r = quad(f, low, high, args=args, full_output=self.full_output,\n"
     ]
    }
   ],
   "source": [
    "x = 0.5284*90/30\n",
    "\n",
    "n = 100\n",
    "\n",
    "Ts = np.logspace(0,3, n)\n",
    "ps = np.logspace(-1,2, n)\n",
    "f_th_arr_mustang = np.zeros(len(Ts))\n",
    "f_cr_arr_mustang = np.zeros(len(Ts))\n",
    "g = gSZtilde(x,Te=0.0,p1=1.,p2=1.e3,alpha=2.,etype='thermal')\n",
    "for i, T in enumerate(Ts):\n",
    "    #kT_cr_temp = kT_cr(p1=ps[i], p2=1e5, alpha =2.5)\n",
    "    f_th_arr_mustang[i] = gSZtilde(x,Te=T,p1=1.,p2=1.e3,alpha=2.,etype='thermal')/g\n",
    "    #f_cr_arr_mustang[i] = gTilde(x,f_cr, p1 = ps[i], p2 = 1e10, alpha = 6)*meKeV/kT_cr(p1=ps[i], p2=1e10, alpha =2.5)/g\n",
    "    \n",
    "\n"
   ]
  },
  {
   "cell_type": "code",
   "execution_count": 10,
   "metadata": {},
   "outputs": [
    {
     "data": {
      "image/png": "[encoded data removed]",
      "text/plain": [
       "<Figure size 432x288 with 1 Axes>"
      ]
     },
     "metadata": {
      "needs_background": "light"
     },
     "output_type": "display_data"
    }
   ],
   "source": [
    "interp_vals = np.logspace(0,3, 100000)\n",
    "\n",
    "#non_thermal_interp = np.interp(interp_vals, Ts, 1-f_cr_arr_mustang)\n",
    "def conv(x):\n",
    "    #string = r'${:.0e}$'.format(int(x/1e1))\n",
    "    num = int(np.log10(x/10))\n",
    "    string = r'$10^{'+str(num)+'}$'\n",
    "    return string\n",
    "\n",
    "import matplotlib\n",
    "matplotlib.rc('font',**{'family':'serif','sans-serif':['Times'],'size':11})\n",
    "plt.rc('font',family='serif',size=11)\n",
    "fullpage = False\n",
    "\n",
    "\n",
    "dpi = 72.27*390.00/504.00\n",
    "\n",
    "factory = 0.50\n",
    "factorx = 1.00 if fullpage else 0.50\n",
    "figsize = (factorx*504.00/dpi,factory*504.00/dpi)\n",
    "\n",
    "fig, ax = plt.subplots()\n",
    "plt.plot(Ts, 1-f_th_arr_mustang, \"k\", lw=1, label=\"Thermal\")\n",
    "#plt.plot(interp_vals, non_thermal_interp, '--k', lw=1, label='Non-thermal')\n",
    "\n",
    "ax.legend()\n",
    "ax.tick_params(direction='in')\n",
    "ax.set_xlabel(r\"$kT_e$ (keV)\"), ax.set_ylabel(r\"$f$\")\n",
    "ax.set_xlim(1,1e3), ax.set_ylim(0, 1), ax.set_xscale('log')\n",
    "\n",
    "ax.spines['right'].set_visible(True)\n",
    "#ax.spines['top'].set_visible(True)\n",
    "props = dict(boxstyle='round',  alpha=0.2)\n",
    "\n",
    "\n",
    "#ax2 = ax.twiny()\n",
    "#ax2.set_xscale('log')\n",
    "#ax2.set_xticks( ax.get_xticks() )\n",
    "#ax2.set_xbound(ax.get_xbound())\n",
    "#ax2.set_xticklabels([conv(x) for x in ax.get_xticks()])\n",
    "#ax2.set_xlabel(r'$p1 (p2 = 10^5, s = 6)$')\n",
    "\n",
    "\n",
    "xs = np.logspace(-2,4,10000)\n",
    "ax.plot(xs, np.ones(len(xs))*0.38)\n",
    "ax.fill_between(xs, 0.31,0.45, alpha = 0.4)\n",
    "\n",
    "ax.plot(xs, np.ones(len(xs))*0.88)\n",
    "ax.fill_between(xs, 0.79,0.97, alpha = 0.4)\n",
    "\n",
    "ax.plot(xs, np.ones(len(xs))*0.78, color='black', linestyle='--')\n",
    "#ax.fill_between(xs, 0.78,1, alpha = 0.4)\n",
    "\n",
    "plt.savefig('f_plot_2.pdf')\n",
    "#plt.savefig('./plots/herschel/v0_fixed_greybody_for_paper.png', dpi = 300)\n",
    "plt.show()"
   ]
  },
  {
   "cell_type": "code",
   "execution_count": 58,
   "metadata": {},
   "outputs": [
    {
     "name": "stderr",
     "output_type": "stream",
     "text": [
      "<ipython-input-53-85887fc90c5a>:45: RuntimeWarning: overflow encountered in exp\n",
      "  return (x**3.)/(np.exp(x)-1.)\n"
     ]
    }
   ],
   "source": [
    "x = 0.5284*30/30\n",
    "\n",
    "n = 20\n",
    "\n",
    "Ts = np.logspace(0,3, n)\n",
    "ps = np.logspace(-1,2, n)\n",
    "f_th_arr_carma = np.zeros(len(Ts))\n",
    "f_cr_arr_carma = np.zeros(len(Ts))\n",
    "g = gSZtilde(x,Te=0.0,p1=1.,p2=1.e3,alpha=2.,etype='thermal')\n",
    "for i, T in enumerate(Ts):\n",
    "    #kT_cr_temp = kT_cr(p1=ps[i], p2=1e5, alpha =2.5)\n",
    "    f_th_arr_carma[i] = gSZtilde(x,Te=T,p1=1.,p2=1.e3,alpha=2.,etype='thermal')/g\n",
    "    f_cr_arr_carma[i] = gTilde(x,f_cr, p1 = ps[i], p2 = 1e10, alpha = 2.5)*meKeV/kT_cr(p1=ps[i], p2=1e10, alpha =2.5)/g\n",
    "    \n",
    "\n"
   ]
  },
  {
   "cell_type": "code",
   "execution_count": 8,
   "metadata": {},
   "outputs": [
    {
     "data": {
      "image/png": "[encoded data removed]",
      "text/plain": [
       "<Figure size 432x288 with 1 Axes>"
      ]
     },
     "metadata": {
      "needs_background": "light"
     },
     "output_type": "display_data"
    }
   ],
   "source": [
    "adjust_factor = 1\n",
    "\n",
    "plt.plot(Ts, 1-f_th_arr_mustang, label = 'M2 Thermal')\n",
    "plt.plot(Ts, 1-(f_cr_arr_mustang)/adjust_factor, label = 'M2 Non-Thermal')\n",
    "\n",
    "#plt.plot(Ts, 1-f_th_arr_carma, label = 'CA Thermal')\n",
    "#plt.plot(Ts, 1-(f_cr_arr_carma)/adjust_factor, label = 'CA Non-Thermal')\n",
    "\n",
    "plt.legend()\n",
    "plt.xscale('log')\n",
    "plt.ylim(0,1)\n",
    "plt.show()"
   ]
  },
  {
   "cell_type": "markdown",
   "metadata": {},
   "source": [
    "## f150"
   ]
  },
  {
   "cell_type": "code",
   "execution_count": 48,
   "metadata": {},
   "outputs": [
    {
     "name": "stderr",
     "output_type": "stream",
     "text": [
      "<ipython-input-3-4090ffb2c66c>:47: RuntimeWarning: overflow encountered in exp\n",
      "  return (x**3.)/(np.exp(x)-1.)\n"
     ]
    }
   ],
   "source": [
    "x = 0.5284*90/30\n",
    "\n",
    "n = 100\n",
    "\n",
    "Ts = np.logspace(0,3, n)\n",
    "ps = np.logspace(-1,2, n)\n",
    "f_th_arr_mustang = np.zeros(len(Ts))\n",
    "f_cr_arr_mustang = np.zeros(len(Ts))\n",
    "g = gSZtilde(x,Te=0.0,p1=1.,p2=1.e3,alpha=2.,etype='thermal')\n",
    "for i, T in enumerate(Ts):\n",
    "    #kT_cr_temp = kT_cr(p1=ps[i], p2=1e5, alpha =2.5)\n",
    "    f_th_arr_mustang[i] = gSZtilde(x,Te=T,p1=1.,p2=1.e3,alpha=2.,etype='thermal')/g\n",
    "    f_cr_arr_mustang[i] = gTilde(x,f_cr, p1 = ps[i], p2 = 1e10, alpha = 6)*meKeV/kT_cr(p1=ps[i], p2=1e10, alpha =2.5)/g\n",
    "    \n"
   ]
  },
  {
   "cell_type": "code",
   "execution_count": 49,
   "metadata": {},
   "outputs": [
    {
     "data": {
      "image/png": "[encoded data removed]",
      "text/plain": [
       "<Figure size 432x288 with 2 Axes>"
      ]
     },
     "metadata": {
      "needs_background": "light"
     },
     "output_type": "display_data"
    }
   ],
   "source": [
    "interp_vals = np.logspace(0,3, 100000)\n",
    "\n",
    "non_thermal_interp = np.interp(interp_vals, Ts, 1-f_cr_arr_mustang)\n",
    "def conv(x):\n",
    "    #string = r'${:.0e}$'.format(int(x/1e1))\n",
    "    num = int(np.log10(x/10))\n",
    "    string = r'$10^{'+str(num)+'}$'\n",
    "    return string\n",
    "\n",
    "import matplotlib\n",
    "matplotlib.rc('font',**{'family':'serif','sans-serif':['Times'],'size':11})\n",
    "plt.rc('font',family='serif',size=11)\n",
    "fullpage = False\n",
    "\n",
    "\n",
    "dpi = 72.27*390.00/504.00\n",
    "\n",
    "factory = 0.50\n",
    "factorx = 1.00 if fullpage else 0.50\n",
    "figsize = (factorx*504.00/dpi,factory*504.00/dpi)\n",
    "\n",
    "fig, ax = plt.subplots()\n",
    "plt.plot(Ts, 1-f_th_arr_mustang, \"k\", lw=1, label=\"Thermal\")\n",
    "plt.plot(interp_vals, non_thermal_interp, '--k', lw=1, label='Non-thermal')\n",
    "\n",
    "ax.legend()\n",
    "ax.tick_params(direction='in')\n",
    "ax.set_xlabel(r\"$kT_e$ (keV)\"), ax.set_ylabel(r\"$f$\")\n",
    "ax.set_xlim(1,1e3), ax.set_ylim(0, 1), ax.set_xscale('log')\n",
    "\n",
    "ax.spines['right'].set_visible(True)\n",
    "ax.spines['top'].set_visible(True)\n",
    "props = dict(boxstyle='round',  alpha=0.2)\n",
    "\n",
    "\n",
    "ax2 = ax.twiny()\n",
    "ax2.set_xscale('log')\n",
    "ax2.set_xticks( ax.get_xticks() )\n",
    "ax2.set_xbound(ax.get_xbound())\n",
    "ax2.set_xticklabels([conv(x) for x in ax.get_xticks()])\n",
    "ax2.set_xlabel(r'$p1 (p2 = 10^5, \\alpha = 2.48)$')\n",
    "\n",
    "\n",
    "xs = np.logspace(-2,4,10000)\n",
    "ax.plot(xs, np.ones(len(xs))*0.38)\n",
    "ax.fill_between(xs, 0.31,0.45, alpha = 0.4)\n",
    "\n",
    "plt.savefig('f_280_plot.pdf')\n",
    "#plt.savefig('./plots/herschel/v0_fixed_greybody_for_paper.png', dpi = 300)\n",
    "plt.show()"
   ]
  },
  {
   "cell_type": "markdown",
   "metadata": {},
   "source": [
    "# f_cr j(x)"
   ]
  },
  {
   "cell_type": "code",
   "execution_count": 232,
   "metadata": {},
   "outputs": [],
   "source": [
    "#Analytic expression for KT\n",
    "kT_cr_temp = np.zeros(len(ps))\n",
    "for i, p1 in enumerate(ps):\n",
    "    kT_cr_temp[i] = kT_cr(p1=ps[i], p2=1e5, alpha =2.5)"
   ]
  },
  {
   "cell_type": "code",
   "execution_count": 233,
   "metadata": {},
   "outputs": [
    {
     "data": {
      "text/plain": [
       "[<matplotlib.lines.Line2D at 0x7f365f912d30>]"
      ]
     },
     "execution_count": 233,
     "metadata": {},
     "output_type": "execute_result"
    },
    {
     "data": {
      "image/png": "[encoded data removed]",
      "text/plain": [
       "<Figure size 432x288 with 1 Axes>"
      ]
     },
     "metadata": {
      "needs_background": "light"
     },
     "output_type": "display_data"
    }
   ],
   "source": [
    "plt.plot(ps, kT_cr_temp)"
   ]
  },
  {
   "cell_type": "code",
   "execution_count": 54,
   "metadata": {},
   "outputs": [
    {
     "name": "stderr",
     "output_type": "stream",
     "text": [
      "<ipython-input-53-85887fc90c5a>:45: RuntimeWarning: overflow encountered in exp\n",
      "  return (x**3.)/(np.exp(x)-1.)\n",
      "/local/jupyter2021/lib/python3.8/site-packages/scipy/integrate/quadpack.py:880: IntegrationWarning: The occurrence of roundoff error is detected, which prevents \n",
      "  the requested tolerance from being achieved.  The error may be \n",
      "  underestimated.\n",
      "  quad_r = quad(f, low, high, args=args, full_output=self.full_output,\n"
     ]
    }
   ],
   "source": [
    "#Replicating fig 7 in Colafrancesco2003\n",
    "xs = np.linspace(0.01,20,100)\n",
    "y = np.zeros(len(xs))\n",
    "for i, x in enumerate(xs):\n",
    "    y[i] = gTilde(x,f_cr, p1 = 4, p2 = 1e5, alpha = 2.5)*meKeV/kT_cr(p1=4, p2=1e5, alpha =2.5)\n"
   ]
  },
  {
   "cell_type": "code",
   "execution_count": 56,
   "metadata": {},
   "outputs": [
    {
     "data": {
      "text/plain": [
       "[<matplotlib.lines.Line2D at 0x7f3c0273e310>]"
      ]
     },
     "execution_count": 56,
     "metadata": {},
     "output_type": "execute_result"
    },
    {
     "data": {
      "image/png": "[encoded data removed]",
      "text/plain": [
       "<Figure size 432x288 with 1 Axes>"
      ]
     },
     "metadata": {
      "needs_background": "light"
     },
     "output_type": "display_data"
    }
   ],
   "source": [
    "y2 = gSZtilde(xs,Te=0.0,p1=1.,p2=1.e3,alpha=2.,etype='thermal')\n",
    "xs = np.linspace(0.01,20,100)\n",
    "\n",
    "plt.ylim(-0.4,0.1)\n",
    "plt.plot(xs, y, label = 'g_cr')\n",
    "\n",
    "#plt.plot(xs, y2, label = 'g')"
   ]
  },
  {
   "cell_type": "markdown",
   "metadata": {},
   "source": [
    "# Fig 8 in Colafrancesco2003"
   ]
  },
  {
   "cell_type": "code",
   "execution_count": 51,
   "metadata": {},
   "outputs": [
    {
     "ename": "NameError",
     "evalue": "name 's' is not defined",
     "output_type": "error",
     "traceback": [
      "\u001b[0;31m---------------------------------------------------------------------------\u001b[0m",
      "\u001b[0;31mNameError\u001b[0m                                 Traceback (most recent call last)",
      "\u001b[0;32m<ipython-input-51-6f07ec515573>\u001b[0m in \u001b[0;36m<module>\u001b[0;34m\u001b[0m\n\u001b[1;32m      6\u001b[0m \u001b[0my_10\u001b[0m \u001b[0;34m=\u001b[0m \u001b[0mnp\u001b[0m\u001b[0;34m.\u001b[0m\u001b[0mzeros\u001b[0m\u001b[0;34m(\u001b[0m\u001b[0mlen\u001b[0m\u001b[0;34m(\u001b[0m\u001b[0mxs\u001b[0m\u001b[0;34m)\u001b[0m\u001b[0;34m)\u001b[0m\u001b[0;34m\u001b[0m\u001b[0;34m\u001b[0m\u001b[0m\n\u001b[1;32m      7\u001b[0m \u001b[0;34m\u001b[0m\u001b[0m\n\u001b[0;32m----> 8\u001b[0;31m \u001b[0mkT_05\u001b[0m \u001b[0;34m=\u001b[0m \u001b[0mkT_cr\u001b[0m\u001b[0;34m(\u001b[0m\u001b[0mp1\u001b[0m\u001b[0;34m=\u001b[0m\u001b[0;36m0.5\u001b[0m\u001b[0;34m,\u001b[0m \u001b[0mp2\u001b[0m\u001b[0;34m=\u001b[0m\u001b[0;36m1e10\u001b[0m\u001b[0;34m,\u001b[0m \u001b[0malpha\u001b[0m \u001b[0;34m=\u001b[0m\u001b[0;36m2.5\u001b[0m\u001b[0;34m)\u001b[0m\u001b[0;34m\u001b[0m\u001b[0;34m\u001b[0m\u001b[0m\n\u001b[0m\u001b[1;32m      9\u001b[0m \u001b[0mkT_1\u001b[0m \u001b[0;34m=\u001b[0m \u001b[0mkT_cr\u001b[0m\u001b[0;34m(\u001b[0m\u001b[0mp1\u001b[0m\u001b[0;34m=\u001b[0m\u001b[0;36m1\u001b[0m\u001b[0;34m,\u001b[0m \u001b[0mp2\u001b[0m\u001b[0;34m=\u001b[0m\u001b[0;36m1e10\u001b[0m\u001b[0;34m,\u001b[0m \u001b[0malpha\u001b[0m \u001b[0;34m=\u001b[0m\u001b[0;36m2.5\u001b[0m\u001b[0;34m)\u001b[0m\u001b[0;34m\u001b[0m\u001b[0;34m\u001b[0m\u001b[0m\n\u001b[1;32m     10\u001b[0m \u001b[0mkT_10\u001b[0m \u001b[0;34m=\u001b[0m \u001b[0mkT_cr\u001b[0m\u001b[0;34m(\u001b[0m\u001b[0mp1\u001b[0m\u001b[0;34m=\u001b[0m\u001b[0;36m10\u001b[0m\u001b[0;34m,\u001b[0m \u001b[0mp2\u001b[0m\u001b[0;34m=\u001b[0m\u001b[0;36m1e10\u001b[0m\u001b[0;34m,\u001b[0m \u001b[0malpha\u001b[0m \u001b[0;34m=\u001b[0m\u001b[0;36m2.5\u001b[0m\u001b[0;34m)\u001b[0m\u001b[0;34m\u001b[0m\u001b[0;34m\u001b[0m\u001b[0m\n",
      "\u001b[0;32m<ipython-input-49-166f3e661c0e>\u001b[0m in \u001b[0;36mkT_cr\u001b[0;34m(p1, p2, alpha)\u001b[0m\n\u001b[1;32m     62\u001b[0m \u001b[0;34m\u001b[0m\u001b[0m\n\u001b[1;32m     63\u001b[0m \u001b[0;32mdef\u001b[0m \u001b[0mkT_cr\u001b[0m\u001b[0;34m(\u001b[0m\u001b[0mp1\u001b[0m\u001b[0;34m,\u001b[0m \u001b[0mp2\u001b[0m\u001b[0;34m,\u001b[0m \u001b[0malpha\u001b[0m\u001b[0;34m)\u001b[0m\u001b[0;34m:\u001b[0m\u001b[0;34m\u001b[0m\u001b[0;34m\u001b[0m\u001b[0m\n\u001b[0;32m---> 64\u001b[0;31m     \u001b[0mbeta\u001b[0m \u001b[0;34m=\u001b[0m \u001b[0msp\u001b[0m\u001b[0;34m.\u001b[0m\u001b[0mspecial\u001b[0m\u001b[0;34m.\u001b[0m\u001b[0mbeta\u001b[0m\u001b[0;34m(\u001b[0m\u001b[0;34m(\u001b[0m\u001b[0malpha\u001b[0m\u001b[0;34m-\u001b[0m\u001b[0;36m2\u001b[0m\u001b[0;34m)\u001b[0m\u001b[0;34m/\u001b[0m\u001b[0ms\u001b[0m\u001b[0;34m,\u001b[0m \u001b[0;34m(\u001b[0m\u001b[0;36m3\u001b[0m\u001b[0;34m-\u001b[0m\u001b[0malpha\u001b[0m\u001b[0;34m)\u001b[0m\u001b[0;34m/\u001b[0m\u001b[0;36m2\u001b[0m\u001b[0;34m)\u001b[0m\u001b[0;34m\u001b[0m\u001b[0;34m\u001b[0m\u001b[0m\n\u001b[0m\u001b[1;32m     65\u001b[0m     \u001b[0mfactor\u001b[0m \u001b[0;34m=\u001b[0m \u001b[0mmeKeV\u001b[0m\u001b[0;34m*\u001b[0m\u001b[0;34m(\u001b[0m\u001b[0malpha\u001b[0m\u001b[0;34m-\u001b[0m\u001b[0;36m1\u001b[0m\u001b[0;34m)\u001b[0m\u001b[0;34m/\u001b[0m\u001b[0;34m(\u001b[0m\u001b[0;36m6\u001b[0m\u001b[0;34m*\u001b[0m\u001b[0;34m(\u001b[0m\u001b[0mp1\u001b[0m\u001b[0;34m**\u001b[0m\u001b[0;34m(\u001b[0m\u001b[0;36m1\u001b[0m\u001b[0;34m-\u001b[0m\u001b[0malpha\u001b[0m\u001b[0;34m)\u001b[0m\u001b[0;34m-\u001b[0m\u001b[0mp2\u001b[0m\u001b[0;34m**\u001b[0m\u001b[0;34m(\u001b[0m\u001b[0;36m1\u001b[0m\u001b[0;34m-\u001b[0m\u001b[0malpha\u001b[0m\u001b[0;34m)\u001b[0m\u001b[0;34m)\u001b[0m\u001b[0;34m)\u001b[0m\u001b[0;34m*\u001b[0m\u001b[0;31m\\\u001b[0m\u001b[0;34m\u001b[0m\u001b[0;34m\u001b[0m\u001b[0m\n\u001b[1;32m     66\u001b[0m     (sp.special.betainc((alpha-2)/2, (3-alpha)/2, (1/(1+p1**2)))*beta  \\\n",
      "\u001b[0;31mNameError\u001b[0m: name 's' is not defined"
     ]
    }
   ],
   "source": [
    "p1s = [0.5, 1, 10]\n",
    "xs = np.linspace(0.01, 20, 50)\n",
    "\n",
    "y_05 = np.zeros(len(xs))\n",
    "y_1 = np.zeros(len(xs))\n",
    "y_10 = np.zeros(len(xs))\n",
    "\n",
    "kT_05 = kT_cr(p1=0.5, p2=1e10, alpha =2.5)\n",
    "kT_1 = kT_cr(p1=1, p2=1e10, alpha =2.5)\n",
    "kT_10 = kT_cr(p1=10, p2=1e10, alpha =2.5)\n",
    "\n",
    "for i, x in enumerate(xs):\n",
    "    y_05[i] = gTilde(x,f_cr, p1 = 0.5, p2 = 1e10, alpha = 2.5)*meKeV/kT_05\n",
    "    y_1[i] = gTilde(x,f_cr, p1 = 1, p2 = 1e10, alpha = 2.5)*meKeV/kT_1\n",
    "    y_10[i] = gTilde(x,f_cr, p1 = 10, p2 = 1e10, alpha = 2.5)*meKeV/kT_10"
   ]
  },
  {
   "cell_type": "code",
   "execution_count": 52,
   "metadata": {},
   "outputs": [
    {
     "data": {
      "image/png": "[encoded data removed]",
      "text/plain": [
       "<Figure size 432x288 with 1 Axes>"
      ]
     },
     "metadata": {
      "needs_background": "light"
     },
     "output_type": "display_data"
    }
   ],
   "source": [
    "adjust_factor = 1\n",
    "xs = np.linspace(0.01, 20, 50)\n",
    "\n",
    "plt.plot(xs, y_05/adjust_factor, label = '0.5')\n",
    "plt.plot(xs, y_1/adjust_factor, label = '1')\n",
    "plt.plot(xs, y_10/adjust_factor, label = '10')\n",
    "plt.legend()\n",
    "plt.show()"
   ]
  },
  {
   "cell_type": "code",
   "execution_count": 270,
   "metadata": {},
   "outputs": [
    {
     "data": {
      "text/plain": [
       "30.367770936964405"
      ]
     },
     "execution_count": 270,
     "metadata": {},
     "output_type": "execute_result"
    }
   ],
   "source": [
    "kT_05\n"
   ]
  },
  {
   "cell_type": "code",
   "execution_count": 287,
   "metadata": {},
   "outputs": [
    {
     "name": "stdout",
     "output_type": "stream",
     "text": [
      "-0.26271661929978735\n",
      "-0.9692893433593011\n"
     ]
    }
   ],
   "source": [
    "print(gTilde(0.6,f_cr, p1 = ps[i], p2 = 1e10, alpha = 2.5))\n",
    "print(gTilde(1.5,f_cr, p1 = ps[i], p2 = 1e10, alpha = 2.5))"
   ]
  },
  {
   "cell_type": "code",
   "execution_count": 288,
   "metadata": {},
   "outputs": [
    {
     "name": "stdout",
     "output_type": "stream",
     "text": [
      "-0.677944527932168\n",
      "-3.0664315688029404\n"
     ]
    }
   ],
   "source": [
    "print(gSZtilde(0.6,Te=0.0,p1=1.,p2=1.e3,alpha=2.,etype='thermal'))\n",
    "print(gSZtilde(1.5,Te=0.0,p1=1.,p2=1.e3,alpha=2.,etype='thermal'))"
   ]
  },
  {
   "cell_type": "code",
   "execution_count": 5,
   "metadata": {},
   "outputs": [
    {
     "name": "stderr",
     "output_type": "stream",
     "text": [
      "/local/jupyter2021/lib/python3.8/site-packages/scipy/integrate/quadpack.py:880: IntegrationWarning: The algorithm does not converge.  Roundoff error is detected\n",
      "  in the extrapolation table.  It is assumed that the requested tolerance\n",
      "  cannot be achieved, and that the returned result (if full_output = 1) is \n",
      "  the best which can be obtained.\n",
      "  quad_r = quad(f, low, high, args=args, full_output=self.full_output,\n",
      "<ipython-input-3-4090ffb2c66c>:47: RuntimeWarning: overflow encountered in exp\n",
      "  return (x**3.)/(np.exp(x)-1.)\n",
      "/local/jupyter2021/lib/python3.8/site-packages/scipy/integrate/quadpack.py:880: IntegrationWarning: The maximum number of subdivisions (50) has been achieved.\n",
      "  If increasing the limit yields no improvement it is advised to analyze \n",
      "  the integrand in order to determine the difficulties.  If the position of a \n",
      "  local difficulty can be determined (singularity, discontinuity) one will \n",
      "  probably gain from splitting up the interval and calling the integrator \n",
      "  on the subranges.  Perhaps a special-purpose integrator should be used.\n",
      "  quad_r = quad(f, low, high, args=args, full_output=self.full_output,\n"
     ]
    },
    {
     "name": "stdout",
     "output_type": "stream",
     "text": [
      "-3.1737974988188817\n",
      "-2.519341073939031\n"
     ]
    }
   ],
   "source": [
    "x = 0.5284*90/30\n",
    "\n",
    "print(gSZtilde(x,Te=5.0,p1=1.,p2=1.e3,alpha=2.,etype='thermal'))\n",
    "print(gSZtilde(x,Te=50.0,p1=1.,p2=1.e3,alpha=2.,etype='thermal'))"
   ]
  },
  {
   "cell_type": "code",
   "execution_count": 289,
   "metadata": {},
   "outputs": [
    {
     "name": "stdout",
     "output_type": "stream",
     "text": [
      "0.38751934483653444\n",
      "0.3160968446909408\n"
     ]
    }
   ],
   "source": [
    "print(gTilde(0.6,f_cr, p1 = ps[i], p2 = 1e10, alpha = 2.5)/gSZtilde(0.6,Te=0.0,p1=1.,p2=1.e3,alpha=2.,etype='thermal'))\n",
    "print(gTilde(1.5,f_cr, p1 = ps[i], p2 = 1e10, alpha = 2.5)/gSZtilde(1.5,Te=0.0,p1=1.,p2=1.e3,alpha=2.,etype='thermal'))"
   ]
  },
  {
   "cell_type": "code",
   "execution_count": 92,
   "metadata": {},
   "outputs": [
    {
     "name": "stderr",
     "output_type": "stream",
     "text": [
      "<ipython-input-80-4090ffb2c66c>:47: RuntimeWarning: overflow encountered in exp\n",
      "  return (x**3.)/(np.exp(x)-1.)\n"
     ]
    }
   ],
   "source": [
    "x = 0.5284*90/30\n",
    "\n",
    "g = gSZtilde(x,Te=0.0,p1=1.,p2=1.e3,alpha=2.,etype='thermal')\n",
    "#f_cr_arr_mustang = gTilde(x,f_cr, p1 = 0.01, p2 = 1e10, alpha = 2.5)*meKeV/kT_cr(p1=0.01, p2=1e10, alpha =2.5)/g\n",
    "f_th_arr_mustang = gSZtilde(x,Te=750,p1=1.,p2=1.e3,alpha=2.,etype='thermal')/g"
   ]
  },
  {
   "cell_type": "code",
   "execution_count": 75,
   "metadata": {},
   "outputs": [
    {
     "name": "stderr",
     "output_type": "stream",
     "text": [
      "<ipython-input-4-4090ffb2c66c>:47: RuntimeWarning: overflow encountered in exp\n",
      "  return (x**3.)/(np.exp(x)-1.)\n"
     ]
    },
    {
     "name": "stdout",
     "output_type": "stream",
     "text": [
      "100 0.3687697199312636\n",
      "125 0.4203474655213335\n",
      "150 0.4639624174148287\n",
      "175 0.5014148097815807\n",
      "200 0.5339754845772331\n",
      "225 0.5625735208893268\n",
      "250 0.5879078711200603\n",
      "275 0.6105165016818908\n",
      "300 0.6308221954511548\n",
      "325 0.6491624253676938\n",
      "350 0.6658105112741771\n",
      "375 0.6809905015544264\n",
      "400 0.6948880435760381\n",
      "425 0.7076584437475255\n",
      "450 0.7194326822294759\n",
      "475 0.7303221222004035\n",
      "500 0.7404220397529295\n",
      "525 0.7498144351730245\n",
      "550 0.7585703608763442\n",
      "575 0.7667516684805451\n",
      "600 0.7744124403298236\n",
      "625 0.7816002635853954\n",
      "650 0.7883570381261626\n",
      "675 0.7947199021094191\n",
      "700 0.8007218672315934\n",
      "725 0.8063923707437677\n",
      "750 0.811757760556722\n",
      "775 0.8168416740214679\n",
      "800 0.8216653836770671\n",
      "825 0.8262480919230659\n",
      "850 0.8306071579278873\n",
      "875 0.8347583471557982\n",
      "900 0.8387159664668566\n",
      "925 0.8424930594211256\n",
      "950 0.8461015277111457\n",
      "975 0.849552261697134\n"
     ]
    }
   ],
   "source": [
    "for Te in range(100, 1000, 25):\n",
    "    f_th_arr_mustang = gSZtilde(x,Te=Te,p1=1.,p2=1.e3,alpha=2.,etype='thermal')/g\n",
    "\n",
    "    print(Te, 1-f_th_arr_mustang)"
   ]
  },
  {
   "cell_type": "code",
   "execution_count": 93,
   "metadata": {},
   "outputs": [
    {
     "name": "stderr",
     "output_type": "stream",
     "text": [
      "<ipython-input-80-4090ffb2c66c>:47: RuntimeWarning: overflow encountered in exp\n",
      "  return (x**3.)/(np.exp(x)-1.)\n"
     ]
    },
    {
     "name": "stdout",
     "output_type": "stream",
     "text": [
      "5 0.02945484252412578\n",
      "10 0.05718094260255324\n",
      "15 0.08327841194769081\n",
      "20 0.1078605337541495\n",
      "25 0.13104233195371384\n",
      "30 0.15293530158870372\n",
      "35 0.17364401371525806\n",
      "40 0.19326505271457117\n",
      "45 0.21188624135955836\n",
      "50 0.2295871805773545\n",
      "55 0.24643963911225242\n",
      "60 0.2625082830588913\n",
      "65 0.27785134818237167\n",
      "70 0.29252128596448257\n",
      "75 0.30656553708648937\n",
      "80 0.32002686065168984\n",
      "85 0.3329443198998542\n",
      "90 0.3453529859469959\n",
      "95 0.35728500826765996\n",
      "100 0.3687697199312636\n",
      "105 0.37983390855486987\n",
      "110 0.3905020965278835\n",
      "115 0.40079685850528135\n",
      "120 0.41073893592189825\n",
      "125 0.4203474655213335\n",
      "130 0.429640231209774\n",
      "135 0.43863335378585544\n",
      "140 0.44734224353072605\n",
      "145 0.4557808868848474\n"
     ]
    }
   ],
   "source": [
    "for Te in range(5, 150, 5):\n",
    "    f_th_arr_mustang = gSZtilde(x,Te=Te,p1=1.,p2=1.e3,alpha=2.,etype='thermal')/g\n",
    "\n",
    "    print(Te, 1-f_th_arr_mustang)"
   ]
  },
  {
   "cell_type": "markdown",
   "metadata": {},
   "source": [
    "# F-Test"
   ]
  },
  {
   "cell_type": "code",
   "execution_count": 49,
   "metadata": {},
   "outputs": [
    {
     "name": "stdout",
     "output_type": "stream",
     "text": [
      "8.424076543089827\n"
     ]
    }
   ],
   "source": [
    "#Following is all for r1 r3 no pred, fixed beta\n",
    "\n",
    "chi_sq_iso_only = 1131092765.3367472-6677813.358072758\n",
    "chi_sq_bubb = 1130761031.8036547 -6346203.750791311-11.091\n",
    "\n",
    "n_samp = 1181988681\n",
    "\n",
    "f_stat = ((chi_sq_iso_only-chi_sq_bubb)/(2-0))/(chi_sq_bubb/n_samp)\n",
    "\n",
    "print(np.sqrt(f_stat))"
   ]
  },
  {
   "cell_type": "code",
   "execution_count": 50,
   "metadata": {},
   "outputs": [
    {
     "name": "stdout",
     "output_type": "stream",
     "text": [
      "8.0375150536842\n"
     ]
    }
   ],
   "source": [
    "#Following is all for r2 r3 no pred, fixed beta\n",
    "\n",
    "chi_sq_iso_only = 1128758473.312426-4343487.761574745\n",
    "chi_sq_bubb = 1128562361.0090246 -4147488.1220293045-10.24604082107544\n",
    "\n",
    "\n",
    "n_samp = 1181988681\n",
    "\n",
    "\n",
    "f_stat = ((chi_sq_iso_only-chi_sq_bubb)/(2-0))/(chi_sq_bubb/n_samp)\n",
    "\n",
    "print(np.sqrt(f_stat))"
   ]
  },
  {
   "cell_type": "code",
   "execution_count": 51,
   "metadata": {},
   "outputs": [
    {
     "name": "stdout",
     "output_type": "stream",
     "text": [
      "6.886303213348964\n"
     ]
    }
   ],
   "source": [
    "#Following is all for r1 r3 pred, fixed beta\n",
    "\n",
    "chi_sq_iso_only = 1131270619.2507377-6835836.720794916\n",
    "chi_sq_bubb = 1130926830.337863 -6492130.553176403-7.478976488113403\n",
    "\n",
    "n_samp = 1181988681\n",
    "\n",
    "f_stat = ((chi_sq_iso_only-chi_sq_bubb)/(2-0))/(chi_sq_bubb/n_samp)\n",
    "\n",
    "print(np.sqrt(f_stat))"
   ]
  },
  {
   "cell_type": "code",
   "execution_count": 53,
   "metadata": {},
   "outputs": [
    {
     "data": {
      "text/plain": [
       "0.9513075478234466"
      ]
     },
     "execution_count": 53,
     "metadata": {},
     "output_type": "execute_result"
    }
   ],
   "source": [
    "chi_sq_bubb/n_samp"
   ]
  },
  {
   "cell_type": "code",
   "execution_count": 52,
   "metadata": {},
   "outputs": [
    {
     "name": "stdout",
     "output_type": "stream",
     "text": [
      "6.471687235460311\n"
     ]
    }
   ],
   "source": [
    "#Following is all for r2 r3 pred, fixed beta\n",
    "\n",
    "chi_sq_iso_only = 1128865911.657925-4431078.294019699\n",
    "chi_sq_bubb = 1128661221.2821429 -4226464.179534912-3.4254279136657715\n",
    "\n",
    "n_samp = (1181988681)\n",
    "\n",
    "f_stat = ((chi_sq_iso_only-chi_sq_bubb)/(2-0))/(chi_sq_bubb/n_samp)\n",
    "\n",
    "print(np.sqrt(f_stat))"
   ]
  },
  {
   "cell_type": "code",
   "execution_count": 3,
   "metadata": {},
   "outputs": [
    {
     "name": "stdout",
     "output_type": "stream",
     "text": [
      "8.540562485034565\n"
     ]
    }
   ],
   "source": [
    "#Following is all for r1 r3 pred, fit beta\n",
    "\n",
    "chi_sq_iso_only = 1129308420.5603561 - 4873736.043519974 -5.7 - 3.0-.8-.9-.3-.3-.3\n",
    "chi_sq_bubb = 1128953328.0242002 -4518740.682882786-50.403496742248535 -2.5\n",
    "\n",
    "n_samp = 1181988681\n",
    "\n",
    "f_stat = ((chi_sq_iso_only-chi_sq_bubb)/(2-0))/(chi_sq_bubb/n_samp)\n",
    "\n",
    "print(np.sqrt(f_stat))"
   ]
  },
  {
   "cell_type": "code",
   "execution_count": 5,
   "metadata": {},
   "outputs": [
    {
     "name": "stdout",
     "output_type": "stream",
     "text": [
      "8.938165759792744\n"
     ]
    }
   ],
   "source": [
    "#Following is all for r1 r3 no pred, fit beta\n",
    "\n",
    "chi_sq_iso_only = 1129178750.469703 - 4763745.488110304   -63.068015336990356 - 3.3131392002105713 -0.7 -0.2\n",
    "chi_sq_bubb = 1128833532.917975 -4418695.678370476-33.583003520965576 -16.95491933822632  - 1\n",
    "\n",
    "n_samp = 1181988681\n",
    "\n",
    "f_stat = ((chi_sq_iso_only-chi_sq_bubb)/(2-0))/(chi_sq_bubb/n_samp)\n",
    "\n",
    "print(np.sqrt(f_stat))"
   ]
  },
  {
   "cell_type": "code",
   "execution_count": 4,
   "metadata": {},
   "outputs": [
    {
     "name": "stdout",
     "output_type": "stream",
     "text": [
      "8.602884100454704\n"
     ]
    }
   ],
   "source": [
    "#Following is all for r2 r3 pred, fit beta\n",
    "\n",
    "chi_sq_iso_only = 1127182802.824991 -2748099.3436656 -17.610564947128296  - 2.901209831237793 -1-1-.4-.3-.2-.2\n",
    "chi_sq_bubb = 1126959081.1383693 -2524480.4604451656-58.62015724182129 -3\n",
    "\n",
    "n_samp = 1181988681\n",
    "\n",
    "f_stat = ((chi_sq_iso_only-chi_sq_bubb)/(2-0))/(chi_sq_bubb/n_samp)\n",
    "\n",
    "print(np.sqrt(f_stat))"
   ]
  },
  {
   "cell_type": "code",
   "execution_count": 6,
   "metadata": {},
   "outputs": [
    {
     "name": "stdout",
     "output_type": "stream",
     "text": [
      "8.991420667795522\n",
      "The history saving thread hit an unexpected error (OperationalError('unable to open database file')).History will not be written to the database.\n"
     ]
    }
   ],
   "source": [
    "#Following is all for r2 r3 no pred, fit beta\n",
    "\n",
    "chi_sq_iso_only = 1127107078.4216986 - 2692088.9746305943 -14.327225685119629  - 25.99054741859436-1.3\n",
    "chi_sq_bubb = 1126890161.5221534 -2475344.702363491 -18.372250080108643 -3.633660316467285 -0.8\n",
    "\n",
    "n_samp = 1181988681\n",
    "\n",
    "f_stat = ((chi_sq_iso_only-chi_sq_bubb)/(2-0))/(chi_sq_bubb/n_samp)\n",
    "\n",
    "print(np.sqrt(f_stat))"
   ]
  },
  {
   "cell_type": "code",
   "execution_count": 24,
   "metadata": {},
   "outputs": [
    {
     "name": "stdout",
     "output_type": "stream",
     "text": [
      "13.226902729650877\n"
     ]
    }
   ],
   "source": [
    "#Following is all for r1 r3 pred, fit beta vs fixed beta\n",
    "\n",
    "chi_sq_fixed_beta = 1130926830.337863 -6492130.553176403-7.478976488113403\n",
    "chi_sq_fit_beta = 1128919000.8838043 -4484416.091416359-56.418808937072754 -2.5\n",
    "\n",
    "n_samp = 1181988681\n",
    "\n",
    "f_stat = ((chi_sq_fixed_beta-chi_sq_fit_beta)/(1-0))/(chi_sq_fit_beta/n_samp)\n",
    "\n",
    "print(np.sqrt(f_stat))"
   ]
  },
  {
   "cell_type": "code",
   "execution_count": 25,
   "metadata": {},
   "outputs": [
    {
     "name": "stdout",
     "output_type": "stream",
     "text": [
      "6.680864844649381\n"
     ]
    }
   ],
   "source": [
    "#Following is all for r1 r3 no pred, fit beta vs fixed beta\n",
    "\n",
    "chi_sq_fixed_beta = 1130761031.8036547 -6346203.750791311-11.091\n",
    "chi_sq_fit_beta = 1128799923.8946788 -4385098.660462618-36.489582538604736 -13.642634391784668  - 0.6\n",
    "\n",
    "n_samp = 1181988681\n",
    "\n",
    "f_stat = ((chi_sq_fixed_beta-chi_sq_fit_beta)/(1-0))/(chi_sq_fit_beta/n_samp)\n",
    "\n",
    "print(np.sqrt(f_stat))"
   ]
  },
  {
   "cell_type": "code",
   "execution_count": 26,
   "metadata": {},
   "outputs": [
    {
     "name": "stdout",
     "output_type": "stream",
     "text": [
      "15.269680593362072\n"
     ]
    }
   ],
   "source": [
    "#Following is all for r2 r3 pred, fit beta vs fixed beta\n",
    "\n",
    "chi_sq_fixed_beta = 1128661221.2821429 -4226464.179534912-3.4254279136657715\n",
    "chi_sq_fit_beta = 1126935942.8775017 -2501344.8784291744-64.13170886039734 -2\n",
    "\n",
    "n_samp = 1181988681\n",
    "\n",
    "f_stat = ((chi_sq_fixed_beta-chi_sq_fit_beta)/(1-0))/(chi_sq_fit_beta/n_samp)\n",
    "\n",
    "print(np.sqrt(f_stat))"
   ]
  },
  {
   "cell_type": "code",
   "execution_count": 7,
   "metadata": {},
   "outputs": [
    {
     "name": "stdout",
     "output_type": "stream",
     "text": [
      "8.493586765642277\n"
     ]
    }
   ],
   "source": [
    "#Following is all for r2 r3 no pred, fit beta vs fixed beta\n",
    "\n",
    "chi_sq_fixed_beta = 1128562361.0090246 -4147488.1220293045-10.24604082107544\n",
    "chi_sq_fit_beta = 1126890161.5221534 -2475344.702363491 -18.372250080108643 -3.633660316467285 -0.8\n",
    "\n",
    "n_samp = 1181988681\n",
    "\n",
    "f_stat = ((chi_sq_fixed_beta-chi_sq_fit_beta)/(1-0))/(chi_sq_fit_beta/n_samp)\n",
    "\n",
    "print(np.sqrt(f_stat))"
   ]
  },
  {
   "cell_type": "code",
   "execution_count": 9,
   "metadata": {},
   "outputs": [
    {
     "name": "stdout",
     "output_type": "stream",
     "text": [
      "12.914183420950867\n"
     ]
    }
   ],
   "source": [
    "#Following is all for r2 r3 pred, fixed beta, shock v no shock\n",
    "\n",
    "chi_sq_no_shock = 1128661221.2821429 -4226464.179534912-3.4254279136657715\n",
    "chi_sq_shock = 1124466942.8687546 -32210.71926522255-119.12240242958069-17.815516233444214-0.18976283073425293 \n",
    "\n",
    "n_samp = 1181988681\n",
    "\n",
    "f_stat = ((chi_sq_no_shock-chi_sq_shock)/(1-0))/(chi_sq_shock/n_samp)\n",
    "\n",
    "print(np.sqrt(f_stat))"
   ]
  },
  {
   "cell_type": "markdown",
   "metadata": {},
   "source": [
    "## shock+bub vs isobeta only"
   ]
  },
  {
   "cell_type": "code",
   "execution_count": 3,
   "metadata": {},
   "outputs": [
    {
     "name": "stdout",
     "output_type": "stream",
     "text": [
      "6.976615547872769\n"
     ]
    }
   ],
   "source": [
    "#Following is all for r1 r3 no pred, fixed beta\n",
    "\n",
    "chi_sq_iso_only = 1131092765.3367472-6677813.358072758\n",
    "chi_sq_bubb_shock = 1124469575.3562646 -54671.09308171272 -89.49309229850769-1.1983990669250488-0.5\n",
    "\n",
    "n_samp = 1181988681\n",
    "\n",
    "f_stat = ((chi_sq_iso_only-chi_sq_bubb_shock)/(3-0))/(chi_sq_bubb_shock/n_samp)\n",
    "\n",
    "print(np.sqrt(f_stat))"
   ]
  },
  {
   "cell_type": "code",
   "execution_count": 4,
   "metadata": {},
   "outputs": [
    {
     "name": "stdout",
     "output_type": "stream",
     "text": [
      "7.1029686191162575\n"
     ]
    }
   ],
   "source": [
    "#Following is all for r2 r3 no pred, fixed beta\n",
    "\n",
    "chi_sq_iso_only = 1128758473.312426-4343487.761574745\n",
    "chi_sq_bubb_shock = 1124443439.4435515 -28568.51579284668-27.860928535461426-1.5\n",
    "\n",
    "\n",
    "n_samp = 1181988681\n",
    "\n",
    "\n",
    "f_stat = ((chi_sq_iso_only-chi_sq_bubb_shock)/(3-0))/(chi_sq_bubb_shock/n_samp)\n",
    "\n",
    "print(np.sqrt(f_stat))"
   ]
  },
  {
   "cell_type": "code",
   "execution_count": 5,
   "metadata": {},
   "outputs": [
    {
     "name": "stdout",
     "output_type": "stream",
     "text": [
      "8.219634423706124\n"
     ]
    }
   ],
   "source": [
    "#Following is all for r1 r3 pred, fixed beta\n",
    "\n",
    "chi_sq_iso_only = 1131270619.2507377-6835836.720794916\n",
    "chi_sq_bubb_shock = 1124494701.89577 -60016.632252693176-82.95947289466858-11.59190845489502  -1\n",
    "\n",
    "n_samp = 1181988681\n",
    "\n",
    "f_stat = ((chi_sq_iso_only-chi_sq_bubb_shock)/(3-0))/(chi_sq_bubb_shock/n_samp)\n",
    "\n",
    "print(np.sqrt(f_stat))"
   ]
  },
  {
   "cell_type": "code",
   "execution_count": 6,
   "metadata": {},
   "outputs": [
    {
     "name": "stdout",
     "output_type": "stream",
     "text": [
      "9.154112479555977\n"
     ]
    }
   ],
   "source": [
    "#Following is all for r2 r3 pred, fixed beta\n",
    "\n",
    "chi_sq_iso_only = 1128865911.657925-4431078.294019699\n",
    "chi_sq_bubb_shock = 1124466942.8687546-32210.71926522255-119.12240242958069-17.815516233444214-1\n",
    "\n",
    "n_samp = 1181988681\n",
    "\n",
    "f_stat = ((chi_sq_iso_only-chi_sq_bubb_shock)/(3-0))/(chi_sq_bubb_shock/n_samp)\n",
    "\n",
    "print(np.sqrt(f_stat))"
   ]
  },
  {
   "cell_type": "markdown",
   "metadata": {},
   "source": [
    "## Shock vs. no shock, both with bub"
   ]
  },
  {
   "cell_type": "code",
   "execution_count": 7,
   "metadata": {},
   "outputs": [
    {
     "name": "stdout",
     "output_type": "stream",
     "text": [
      "12.914183420950867\n"
     ]
    }
   ],
   "source": [
    "#Following is all for r2 r3 pred, fixed beta, shock v no shock\n",
    "\n",
    "chi_sq_no_shock = 1128661221.2821429 -4226464.179534912-3.4254279136657715\n",
    "chi_sq_shock = 1124466942.8687546 -32210.71926522255-119.12240242958069-17.815516233444214-0.18976283073425293 \n",
    "\n",
    "n_samp = 1181988681\n",
    "\n",
    "f_stat = ((chi_sq_no_shock-chi_sq_shock)/(1-0))/(chi_sq_shock/n_samp)\n",
    "\n",
    "print(np.sqrt(f_stat))"
   ]
  },
  {
   "cell_type": "code",
   "execution_count": 8,
   "metadata": {},
   "outputs": [
    {
     "name": "stdout",
     "output_type": "stream",
     "text": [
      "4.706717615757639\n"
     ]
    }
   ],
   "source": [
    "#Following is all for r2 r3 no pred, fixed beta, shock v no shock\n",
    "\n",
    "chi_sq_no_shock = 1128562361.0090246 -4147488.1220293045-10.24604082107544\n",
    "chi_sq_shock  = 1124443439.4435515 -28568.51579284668-27.860928535461426-1.5\n",
    "\n",
    "\n",
    "n_samp = 1181988681\n",
    "\n",
    "f_stat = ((chi_sq_no_shock-chi_sq_shock)/(1-0))/(chi_sq_shock/n_samp)\n",
    "\n",
    "print(np.sqrt(f_stat))"
   ]
  },
  {
   "cell_type": "code",
   "execution_count": 10,
   "metadata": {},
   "outputs": [
    {
     "name": "stdout",
     "output_type": "stream",
     "text": [
      "10.384835946337065\n"
     ]
    }
   ],
   "source": [
    "#Following is all for r1 r3 pred, fit beta vs fixed beta, shock v no shock\n",
    "\n",
    "chi_sq_no_shock = 1130926830.337863 -6492130.553176403-7.478976488113403\n",
    "chi_sq_shock = 1124494701.89577-60016.632252693176 -82.95947289466858 -11.59190845489502 -1\n",
    "\n",
    "n_samp = 1181988681\n",
    "\n",
    "f_stat = ((chi_sq_no_shock-chi_sq_shock)/(1-0))/(chi_sq_shock/n_samp)\n",
    "\n",
    "print(np.sqrt(f_stat))"
   ]
  },
  {
   "cell_type": "code",
   "execution_count": 11,
   "metadata": {},
   "outputs": [
    {
     "name": "stdout",
     "output_type": "stream",
     "text": [
      "2.022217053075111\n"
     ]
    }
   ],
   "source": [
    "#Following is all for r1 r3 no pred, fit beta vs fixed beta, shock v no shock\n",
    "\n",
    "chi_sq_no_shock = 1130761031.8036547 -6346203.750791311-11.091\n",
    "chi_sq_shock = 1124469575.3562646 -54671.09308171272-89.49309229850769 -1.1983990669250488 -0.5\n",
    "\n",
    "n_samp = 1181988681\n",
    "\n",
    "f_stat = ((chi_sq_no_shock-chi_sq_shock)/(1-0))/(chi_sq_shock/n_samp)\n",
    "\n",
    "print(np.sqrt(f_stat))"
   ]
  },
  {
   "cell_type": "code",
   "execution_count": 34,
   "metadata": {},
   "outputs": [
    {
     "name": "stdout",
     "output_type": "stream",
     "text": [
      "36081.16639653379\n"
     ]
    }
   ],
   "source": []
  },
  {
   "cell_type": "code",
   "execution_count": 31,
   "metadata": {},
   "outputs": [
    {
     "data": {
      "text/plain": [
       "nan"
      ]
     },
     "execution_count": 31,
     "metadata": {},
     "output_type": "execute_result"
    }
   ],
   "source": [
    "factor"
   ]
  },
  {
   "cell_type": "code",
   "execution_count": null,
   "metadata": {},
   "outputs": [],
   "source": []
  }
 ],
 "metadata": {
  "kernelspec": {
   "display_name": "Python 3",
   "language": "python",
   "name": "python3"
  },
  "language_info": {
   "codemirror_mode": {
    "name": "ipython",
    "version": 3
   },
   "file_extension": ".py",
   "mimetype": "text/x-python",
   "name": "python",
   "nbconvert_exporter": "python",
   "pygments_lexer": "ipython3",
   "version": "3.8.5"
  }
 },
 "nbformat": 4,
 "nbformat_minor": 4
}
